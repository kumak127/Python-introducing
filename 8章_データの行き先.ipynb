{
 "cells": [
  {
   "cell_type": "markdown",
   "metadata": {},
   "source": [
    "## 8.1.1  writeによるテキストファイルへの書き込み"
   ]
  },
  {
   "cell_type": "code",
   "execution_count": 1,
   "metadata": {},
   "outputs": [],
   "source": [
    "poem = \"\"\"There was a young lady named Bright,\n",
    "Whose speed was far faster than light;\n",
    "She started one day\n",
    "In a relative way,\n",
    "And returned on the previous night.\"\"\""
   ]
  },
  {
   "cell_type": "code",
   "execution_count": 2,
   "metadata": {},
   "outputs": [],
   "source": [
    "with open(r\".\\pydata\\relativity.txt\",\"w\") as f:\n",
    "    f.write(poem)"
   ]
  },
  {
   "cell_type": "code",
   "execution_count": 3,
   "metadata": {},
   "outputs": [],
   "source": [
    "with open(r\".\\pydata\\relativity.txt\",\"w\") as f:\n",
    "    print(poem, file=f)"
   ]
  },
  {
   "cell_type": "markdown",
   "metadata": {},
   "source": [
    "テキストファイルへの書き込みは、ファイルオブジェクトにwriteメソッドを使う方法だけでなく、  \n",
    "print関数にキーワード引数のfileにファイルオブジェクトを使うことでもできる"
   ]
  },
  {
   "cell_type": "code",
   "execution_count": 4,
   "metadata": {},
   "outputs": [],
   "source": [
    "with open(r\".\\pydata\\relativity.txt\",\"w\") as f:\n",
    "    size = len(poem)\n",
    "    offset = 0\n",
    "    chunk = 100\n",
    "    while True:\n",
    "        if offset > size:\n",
    "            break\n",
    "        f.write(poem[offset:chunk + offset])\n",
    "        offset += chunk"
   ]
  },
  {
   "cell_type": "markdown",
   "metadata": {},
   "source": [
    "書き込みたいテキストの内容が多い場合は上のようにすればチャンクごとに分けながら文章を書き込んでくれる"
   ]
  },
  {
   "cell_type": "markdown",
   "metadata": {},
   "source": [
    "## 8.1.2  read,readline,readlinesによるテキストファイルの読み出し"
   ]
  },
  {
   "cell_type": "code",
   "execution_count": 5,
   "metadata": {},
   "outputs": [],
   "source": [
    "with open(r\".\\pydata\\relativity.txt\",\"r\") as f:\n",
    "    poem = f.read()"
   ]
  },
  {
   "cell_type": "code",
   "execution_count": 6,
   "metadata": {},
   "outputs": [
    {
     "name": "stdout",
     "output_type": "stream",
     "text": [
      "There was a young lady named Bright,\n",
      "Whose speed was far faster than light;\n",
      "She started one day\n",
      "In a relative way,\n",
      "And returned on the previous night.\n"
     ]
    }
   ],
   "source": [
    "print(poem)"
   ]
  },
  {
   "cell_type": "code",
   "execution_count": 7,
   "metadata": {},
   "outputs": [],
   "source": [
    "poem = \"\"\n",
    "with open(r\".\\pydata\\relativity.txt\",\"r\") as f:\n",
    "    chunk = 100\n",
    "    while True:\n",
    "        fragment = f.read(chunk)\n",
    "        if not fragment: # fragmentが空文字列の場合\n",
    "            break\n",
    "        poem += fragment"
   ]
  },
  {
   "cell_type": "code",
   "execution_count": 8,
   "metadata": {},
   "outputs": [
    {
     "name": "stdout",
     "output_type": "stream",
     "text": [
      "There was a young lady named Bright,\n",
      "Whose speed was far faster than light;\n",
      "She started one day\n",
      "In a relative way,\n",
      "And returned on the previous night.\n"
     ]
    }
   ],
   "source": [
    "print(poem)"
   ]
  },
  {
   "cell_type": "markdown",
   "metadata": {},
   "source": [
    "上のようにすれば大きなデータを小さく分けながらテキストを追加していくことができる"
   ]
  },
  {
   "cell_type": "code",
   "execution_count": 9,
   "metadata": {},
   "outputs": [
    {
     "name": "stdout",
     "output_type": "stream",
     "text": [
      "There was a young lady named Bright,\n",
      "Whose speed was far faster than light;\n",
      "She started one day\n",
      "In a relative way,\n",
      "And returned on the previous night."
     ]
    }
   ],
   "source": [
    "with open(r\".\\pydata\\relativity.txt\",\"r\") as f:\n",
    "    for i in range(5):\n",
    "        print(f.readline(),end=\"\")"
   ]
  },
  {
   "cell_type": "code",
   "execution_count": 10,
   "metadata": {},
   "outputs": [
    {
     "name": "stdout",
     "output_type": "stream",
     "text": [
      "There was a young lady named Bright,\n",
      "Whose speed was far faster than light;\n",
      "She started one day\n",
      "In a relative way,\n",
      "And returned on the previous night."
     ]
    }
   ],
   "source": [
    "with open(r\".\\pydata\\relativity.txt\",\"r\") as f:\n",
    "    for line in f.readlines():\n",
    "        print(line, end=\"\")"
   ]
  },
  {
   "cell_type": "markdown",
   "metadata": {},
   "source": [
    "## 8.1.3  writeによるバイナリファイルの書き込み"
   ]
  },
  {
   "cell_type": "code",
   "execution_count": 11,
   "metadata": {},
   "outputs": [],
   "source": [
    "bdata = bytes(range(256))"
   ]
  },
  {
   "cell_type": "code",
   "execution_count": 12,
   "metadata": {},
   "outputs": [
    {
     "data": {
      "text/plain": [
       "b'\\x00\\x01\\x02\\x03\\x04\\x05\\x06\\x07\\x08\\t\\n\\x0b\\x0c\\r\\x0e\\x0f\\x10\\x11\\x12\\x13\\x14\\x15\\x16\\x17\\x18\\x19\\x1a\\x1b\\x1c\\x1d\\x1e\\x1f !\"#$%&\\'()*+,-./0123456789:;<=>?@ABCDEFGHIJKLMNOPQRSTUVWXYZ[\\\\]^_`abcdefghijklmnopqrstuvwxyz{|}~\\x7f\\x80\\x81\\x82\\x83\\x84\\x85\\x86\\x87\\x88\\x89\\x8a\\x8b\\x8c\\x8d\\x8e\\x8f\\x90\\x91\\x92\\x93\\x94\\x95\\x96\\x97\\x98\\x99\\x9a\\x9b\\x9c\\x9d\\x9e\\x9f\\xa0\\xa1\\xa2\\xa3\\xa4\\xa5\\xa6\\xa7\\xa8\\xa9\\xaa\\xab\\xac\\xad\\xae\\xaf\\xb0\\xb1\\xb2\\xb3\\xb4\\xb5\\xb6\\xb7\\xb8\\xb9\\xba\\xbb\\xbc\\xbd\\xbe\\xbf\\xc0\\xc1\\xc2\\xc3\\xc4\\xc5\\xc6\\xc7\\xc8\\xc9\\xca\\xcb\\xcc\\xcd\\xce\\xcf\\xd0\\xd1\\xd2\\xd3\\xd4\\xd5\\xd6\\xd7\\xd8\\xd9\\xda\\xdb\\xdc\\xdd\\xde\\xdf\\xe0\\xe1\\xe2\\xe3\\xe4\\xe5\\xe6\\xe7\\xe8\\xe9\\xea\\xeb\\xec\\xed\\xee\\xef\\xf0\\xf1\\xf2\\xf3\\xf4\\xf5\\xf6\\xf7\\xf8\\xf9\\xfa\\xfb\\xfc\\xfd\\xfe\\xff'"
      ]
     },
     "execution_count": 12,
     "metadata": {},
     "output_type": "execute_result"
    }
   ],
   "source": [
    "bdata"
   ]
  },
  {
   "cell_type": "code",
   "execution_count": 13,
   "metadata": {},
   "outputs": [],
   "source": [
    "with open(r\".\\pydata\\bfile.txt\",\"wb\") as f:\n",
    "    f.write(bdata)"
   ]
  },
  {
   "cell_type": "code",
   "execution_count": 14,
   "metadata": {},
   "outputs": [],
   "source": [
    "with open(r\".\\pydata\\bfile2.txt\",\"wb\") as f:\n",
    "    size = len(bdata)\n",
    "    offset = 0\n",
    "    chunk = 100\n",
    "    while True:\n",
    "        if offset > size:\n",
    "            break\n",
    "        f.write(bdata[offset:chunk + offset])\n",
    "        offset += chunk"
   ]
  },
  {
   "cell_type": "markdown",
   "metadata": {},
   "source": [
    "上のようにすればチャンク単位で書き込むことができる"
   ]
  },
  {
   "cell_type": "markdown",
   "metadata": {},
   "source": [
    "## 8.1.4  readによるバイナリファイルの読み出し"
   ]
  },
  {
   "cell_type": "code",
   "execution_count": 15,
   "metadata": {},
   "outputs": [],
   "source": [
    "with open(r\".\\pydata\\bfile.txt\",\"rb\") as f:\n",
    "    bdata = f.read()"
   ]
  },
  {
   "cell_type": "code",
   "execution_count": 16,
   "metadata": {},
   "outputs": [
    {
     "data": {
      "text/plain": [
       "b'\\x00\\x01\\x02\\x03\\x04\\x05\\x06\\x07\\x08\\t\\n\\x0b\\x0c\\r\\x0e\\x0f\\x10\\x11\\x12\\x13\\x14\\x15\\x16\\x17\\x18\\x19\\x1a\\x1b\\x1c\\x1d\\x1e\\x1f !\"#$%&\\'()*+,-./0123456789:;<=>?@ABCDEFGHIJKLMNOPQRSTUVWXYZ[\\\\]^_`abcdefghijklmnopqrstuvwxyz{|}~\\x7f\\x80\\x81\\x82\\x83\\x84\\x85\\x86\\x87\\x88\\x89\\x8a\\x8b\\x8c\\x8d\\x8e\\x8f\\x90\\x91\\x92\\x93\\x94\\x95\\x96\\x97\\x98\\x99\\x9a\\x9b\\x9c\\x9d\\x9e\\x9f\\xa0\\xa1\\xa2\\xa3\\xa4\\xa5\\xa6\\xa7\\xa8\\xa9\\xaa\\xab\\xac\\xad\\xae\\xaf\\xb0\\xb1\\xb2\\xb3\\xb4\\xb5\\xb6\\xb7\\xb8\\xb9\\xba\\xbb\\xbc\\xbd\\xbe\\xbf\\xc0\\xc1\\xc2\\xc3\\xc4\\xc5\\xc6\\xc7\\xc8\\xc9\\xca\\xcb\\xcc\\xcd\\xce\\xcf\\xd0\\xd1\\xd2\\xd3\\xd4\\xd5\\xd6\\xd7\\xd8\\xd9\\xda\\xdb\\xdc\\xdd\\xde\\xdf\\xe0\\xe1\\xe2\\xe3\\xe4\\xe5\\xe6\\xe7\\xe8\\xe9\\xea\\xeb\\xec\\xed\\xee\\xef\\xf0\\xf1\\xf2\\xf3\\xf4\\xf5\\xf6\\xf7\\xf8\\xf9\\xfa\\xfb\\xfc\\xfd\\xfe\\xff'"
      ]
     },
     "execution_count": 16,
     "metadata": {},
     "output_type": "execute_result"
    }
   ],
   "source": [
    "bdata"
   ]
  },
  {
   "cell_type": "markdown",
   "metadata": {},
   "source": [
    "## 8.1.6   seekによる位置の変更"
   ]
  },
  {
   "cell_type": "code",
   "execution_count": 17,
   "metadata": {},
   "outputs": [],
   "source": [
    "f = open(r\".\\pydata\\bfile.txt\",\"rb\")"
   ]
  },
  {
   "cell_type": "code",
   "execution_count": 18,
   "metadata": {},
   "outputs": [
    {
     "data": {
      "text/plain": [
       "0"
      ]
     },
     "execution_count": 18,
     "metadata": {},
     "output_type": "execute_result"
    }
   ],
   "source": [
    "f.tell()"
   ]
  },
  {
   "cell_type": "code",
   "execution_count": 19,
   "metadata": {},
   "outputs": [
    {
     "data": {
      "text/plain": [
       "255"
      ]
     },
     "execution_count": 19,
     "metadata": {},
     "output_type": "execute_result"
    }
   ],
   "source": [
    "f.seek(255)"
   ]
  },
  {
   "cell_type": "code",
   "execution_count": 20,
   "metadata": {},
   "outputs": [
    {
     "data": {
      "text/plain": [
       "255"
      ]
     },
     "execution_count": 20,
     "metadata": {},
     "output_type": "execute_result"
    }
   ],
   "source": [
    "f.tell()"
   ]
  },
  {
   "cell_type": "code",
   "execution_count": 21,
   "metadata": {},
   "outputs": [],
   "source": [
    "bdata = f.read()"
   ]
  },
  {
   "cell_type": "code",
   "execution_count": 22,
   "metadata": {},
   "outputs": [
    {
     "data": {
      "text/plain": [
       "b'\\xff'"
      ]
     },
     "execution_count": 22,
     "metadata": {},
     "output_type": "execute_result"
    }
   ],
   "source": [
    "bdata"
   ]
  },
  {
   "cell_type": "code",
   "execution_count": 23,
   "metadata": {},
   "outputs": [],
   "source": [
    "f.close()"
   ]
  },
  {
   "cell_type": "markdown",
   "metadata": {},
   "source": [
    "ファイルオブジェクトの tell 関数は現在のオフセット(先頭からの位置)をバイト単位で返す  \n",
    "ファイルオブジェクトの seek 関数は渡した整数の位置のオフセットに移動することができる"
   ]
  },
  {
   "cell_type": "code",
   "execution_count": 24,
   "metadata": {},
   "outputs": [],
   "source": [
    "f = open(r\".\\pydata\\bfile.txt\",\"rb\")"
   ]
  },
  {
   "cell_type": "code",
   "execution_count": 25,
   "metadata": {},
   "outputs": [
    {
     "data": {
      "text/plain": [
       "0"
      ]
     },
     "execution_count": 25,
     "metadata": {},
     "output_type": "execute_result"
    }
   ],
   "source": [
    "f.tell()"
   ]
  },
  {
   "cell_type": "code",
   "execution_count": 26,
   "metadata": {},
   "outputs": [
    {
     "data": {
      "text/plain": [
       "150"
      ]
     },
     "execution_count": 26,
     "metadata": {},
     "output_type": "execute_result"
    }
   ],
   "source": [
    "f.seek(150,0)"
   ]
  },
  {
   "cell_type": "code",
   "execution_count": 27,
   "metadata": {},
   "outputs": [
    {
     "data": {
      "text/plain": [
       "170"
      ]
     },
     "execution_count": 27,
     "metadata": {},
     "output_type": "execute_result"
    }
   ],
   "source": [
    "f.seek(20,1)"
   ]
  },
  {
   "cell_type": "code",
   "execution_count": 28,
   "metadata": {},
   "outputs": [
    {
     "data": {
      "text/plain": [
       "255"
      ]
     },
     "execution_count": 28,
     "metadata": {},
     "output_type": "execute_result"
    }
   ],
   "source": [
    "f.seek(-1,2)"
   ]
  },
  {
   "cell_type": "code",
   "execution_count": 29,
   "metadata": {},
   "outputs": [
    {
     "name": "stdout",
     "output_type": "stream",
     "text": [
      "0 1 2\n"
     ]
    }
   ],
   "source": [
    "import os\n",
    "print(os.SEEK_SET, os.SEEK_CUR, os.SEEK_END)"
   ]
  },
  {
   "cell_type": "markdown",
   "metadata": {},
   "source": [
    "seek 関数には第二引数として0～2の数字を渡すこともでき、  \n",
    "0はデフォルトで先頭からの指定したオフセット位置に移動  \n",
    "1は現在のオフセット位置から指定した数字分移動  \n",
    "2は末尾から指定したオフセットの位置に移動  \n",
    "0～2の値はosモジュールのSEEK_SET,SEEK_CUR,SEEK_ENDで定義されている"
   ]
  },
  {
   "cell_type": "markdown",
   "metadata": {},
   "source": [
    "## 8.2.1  CSV"
   ]
  },
  {
   "cell_type": "code",
   "execution_count": 30,
   "metadata": {},
   "outputs": [],
   "source": [
    "import csv"
   ]
  },
  {
   "cell_type": "code",
   "execution_count": 31,
   "metadata": {},
   "outputs": [],
   "source": [
    "villains = [\n",
    "    [\"Doctor\",\"NO\"],\n",
    "    [\"Rosa\",\"Klebb\"],\n",
    "    [\"Mister\",\"Big\"],\n",
    "    [\"Auric\",\"Goldfinger\"],\n",
    "    [\"Ernst\",\"Blofeld\"],\n",
    "    ]\n",
    "with open(r\".\\pydata\\villains.csv\",\"w\",newline=\"\") as f:\n",
    "    csv_writer = csv.writer(f)\n",
    "    for row in villains:\n",
    "        csv_writer.writerow(row)"
   ]
  },
  {
   "cell_type": "code",
   "execution_count": 32,
   "metadata": {},
   "outputs": [],
   "source": [
    "with open(r\".\\pydata\\villains.csv\",\"r\") as f:\n",
    "    csv_reader = csv.reader(f)\n",
    "    villains = [row for row in csv_reader] # 単純にlist関数にcsv_readerオブジェクトを渡したほうが楽かもしれない"
   ]
  },
  {
   "cell_type": "code",
   "execution_count": 33,
   "metadata": {},
   "outputs": [
    {
     "name": "stdout",
     "output_type": "stream",
     "text": [
      "[['Doctor', 'NO'], ['Rosa', 'Klebb'], ['Mister', 'Big'], ['Auric', 'Goldfinger'], ['Ernst', 'Blofeld']]\n"
     ]
    }
   ],
   "source": [
    "print(villains)"
   ]
  },
  {
   "cell_type": "markdown",
   "metadata": {},
   "source": [
    "csvファイルへの書き込みは csv モジュールの writer 関数に書き込み専用のファイルオブジェクトを渡して作る csv_writerオブジェクト を使う  \n",
    "そのcsv_writerオブジェクトの writerow メソッドに書き込みたい行の文字列を追加することでできる  \n",
    "新しい行を追加するたびに2重改行されてしまうのでnewlineを改行なしにする必要がある\n",
    "\n",
    "csvファイルへの読み込みは csv モジュールの reader 関数に読み込み専用のファイルオブジェクトを渡して作る csv_readerオブジェクト を使う  \n",
    "そのcsv_readerオブジェクトをイテレータとしてfor文に使うことで行単位で内容を取り出すことができる\n",
    "\n",
    "csvは列はカンマ、行は改行で区切られる"
   ]
  },
  {
   "cell_type": "code",
   "execution_count": 34,
   "metadata": {},
   "outputs": [],
   "source": [
    "with open(r\".\\pydata\\villains.csv\",\"r\") as f:\n",
    "    csv_reader = csv.DictReader(f,fieldnames=[\"first\",\"last\"])\n",
    "    villians = [row for row in csv_reader]"
   ]
  },
  {
   "cell_type": "code",
   "execution_count": 35,
   "metadata": {},
   "outputs": [
    {
     "data": {
      "text/plain": [
       "[OrderedDict([('first', 'Doctor'), ('last', 'NO')]),\n",
       " OrderedDict([('first', 'Rosa'), ('last', 'Klebb')]),\n",
       " OrderedDict([('first', 'Mister'), ('last', 'Big')]),\n",
       " OrderedDict([('first', 'Auric'), ('last', 'Goldfinger')]),\n",
       " OrderedDict([('first', 'Ernst'), ('last', 'Blofeld')])]"
      ]
     },
     "execution_count": 35,
     "metadata": {},
     "output_type": "execute_result"
    }
   ],
   "source": [
    "villians"
   ]
  },
  {
   "cell_type": "markdown",
   "metadata": {},
   "source": [
    "csvの DictReader 関数にファイルオブジェクトと、キーワード引数(もしくは第二引数)のfieldnamesに付けたいヘッダーの名前をリストにして渡して、csv_readerオブジェクトを作って読み込むことで、仮のヘッダーをつけた辞書のようなものを返してくれる"
   ]
  },
  {
   "cell_type": "code",
   "execution_count": 36,
   "metadata": {},
   "outputs": [],
   "source": [
    "villains = [\n",
    "    {\"first\":\"Doctor\",\"last\":\"No\"},\n",
    "    {\"first\":\"Rosa\",\"last\":\"Klebb\"},\n",
    "    {\"first\":\"Mister\",\"last\":\"Big\"},\n",
    "    {\"first\":\"Auric\",\"last\":\"Goldfinger\"},\n",
    "    {\"first\":\"Ernst\",\"last\":\"Blofeld\"}\n",
    "]"
   ]
  },
  {
   "cell_type": "code",
   "execution_count": 37,
   "metadata": {},
   "outputs": [],
   "source": [
    "with open(r\".\\pydata\\villains2.csv\",\"w\",newline=\"\") as f:\n",
    "    csv_writer = csv.DictWriter(f,[\"first\",\"last\"])\n",
    "    csv_writer.writeheader()\n",
    "    for row in villains:\n",
    "        csv_writer.writerow(row)"
   ]
  },
  {
   "cell_type": "markdown",
   "metadata": {},
   "source": [
    "csvファイルへの書き込みで、辞書のキーをヘッダーとして行を書き込んでいきたいときは、csvの DictWriter メソッドにファイルオブジェクトと第二引数(もしくはfieldnames)にヘッダーにしたい値のリストを渡すことでできるcsv_writerオブジェクトを使うことでできる  \n",
    "このままだとヘッダーは追加されないので、csv_writerオブジェクトの writerheader メソッドを呼び出すことでヘッダーを記入できる"
   ]
  },
  {
   "cell_type": "code",
   "execution_count": 38,
   "metadata": {},
   "outputs": [],
   "source": [
    "with open(r\".\\pydata\\villains2.csv\",\"r\") as f:\n",
    "    csv_reader = csv.DictReader(f)\n",
    "    villains = list(csv_reader)"
   ]
  },
  {
   "cell_type": "code",
   "execution_count": 39,
   "metadata": {},
   "outputs": [
    {
     "data": {
      "text/plain": [
       "[OrderedDict([('first', 'Doctor'), ('last', 'No')]),\n",
       " OrderedDict([('first', 'Rosa'), ('last', 'Klebb')]),\n",
       " OrderedDict([('first', 'Mister'), ('last', 'Big')]),\n",
       " OrderedDict([('first', 'Auric'), ('last', 'Goldfinger')]),\n",
       " OrderedDict([('first', 'Ernst'), ('last', 'Blofeld')])]"
      ]
     },
     "execution_count": 39,
     "metadata": {},
     "output_type": "execute_result"
    }
   ],
   "source": [
    "villains"
   ]
  },
  {
   "cell_type": "markdown",
   "metadata": {},
   "source": [
    "csv_readerオブジェクトを作成するときにDictReader関数の第二引数(firldnames)を省略すると、1列目の行をヘッダーとした辞書のようなものを返してくれる"
   ]
  },
  {
   "cell_type": "markdown",
   "metadata": {},
   "source": [
    "## 8.2.2  XML"
   ]
  },
  {
   "cell_type": "markdown",
   "metadata": {},
   "source": [
    "XMLはHTMLのような構造をしていて、以下のような特徴がある\n",
    "\n",
    "- タグは<文字から始まる\n",
    "- 空白は無視される\n",
    "- 通常<menu\\>のような開始タグの後ろにはほかのコンテンツが続き、</menu\\>のような終了タグで締めくくる\n",
    "- タグはほかのタグの中で何段階にでもネスト(入れ子構造に)できる\n",
    "- 開始タグにはオプションの属性を組み込める <タグ 属性>\n",
    "- タグは値を持つことができる <タグ>値</タグ>\n",
    "- タグが値も子も持たない場合、開始タグと終了タグを使わなくてもタグを閉じる>の前にスラッシュをいれれば1つのタグになる <タグ/>\n",
    "- データをどこに入れるかに特別な規則はない <タグ 属性=データ/>でも<タグ>データ<タグ/>でもよい"
   ]
  },
  {
   "cell_type": "code",
   "execution_count": 40,
   "metadata": {},
   "outputs": [],
   "source": [
    "import xml.etree.ElementTree as et"
   ]
  },
  {
   "cell_type": "code",
   "execution_count": 41,
   "metadata": {},
   "outputs": [],
   "source": [
    "tree = et.ElementTree(file=r\".\\pydata\\menu.xml\")"
   ]
  },
  {
   "cell_type": "code",
   "execution_count": 42,
   "metadata": {},
   "outputs": [],
   "source": [
    "root = tree.getroot()"
   ]
  },
  {
   "cell_type": "code",
   "execution_count": 43,
   "metadata": {},
   "outputs": [
    {
     "data": {
      "text/plain": [
       "'menu'"
      ]
     },
     "execution_count": 43,
     "metadata": {},
     "output_type": "execute_result"
    }
   ],
   "source": [
    "root.tag"
   ]
  },
  {
   "cell_type": "code",
   "execution_count": 44,
   "metadata": {},
   "outputs": [
    {
     "name": "stdout",
     "output_type": "stream",
     "text": [
      "tag: breakfast , attributes: {'hour': '7-11'}\n",
      "\ttag: item , attributes: {'price': '$6.00'}\n",
      "\ttag: item , attributes: {'price': '$4.00'}\n",
      "tag: lunch , attributes: {'hour': '11-3'}\n",
      "\ttag: item , attributes: {'price': '$5.00'}\n",
      "tag: dinner , attributes: {'hour': '3-10'}\n",
      "\ttag: item , attributes: {'price': '$8.00'}\n"
     ]
    }
   ],
   "source": [
    "for child in root:\n",
    "    print(f\"tag: {child.tag} , attributes: {child.attrib}\")\n",
    "    for grandchild in child:\n",
    "        print(f\"\\ttag: {grandchild.tag} , attributes: {grandchild.attrib}\")"
   ]
  },
  {
   "cell_type": "markdown",
   "metadata": {},
   "source": [
    "PythonでXMLを簡単に扱うには ElementTree モジュールを使うといい(xml.etreeの中にある)  \n",
    "XMLの構文を解析してタグや属性を表示するにはElementTreeモジュールの ElementTree 関数にキーワード引数にxmlファイルを指定することでできる  \n",
    "ElementTreeオブジェクトを使う  \n",
    "ElementTreeオブジェクトの getroot メソッドを呼ぶことで、全体を形成している最初のタグをElementオブジェクトをして取得する  \n",
    "Elementオブジェクトの tag アトリビュートを呼ぶとタグ名、attrib アトリビュートを呼ぶと属性名を返してくれる  "
   ]
  },
  {
   "cell_type": "code",
   "execution_count": 45,
   "metadata": {},
   "outputs": [
    {
     "data": {
      "text/plain": [
       "<Element 'breakfast' at 0x000002195D4919A8>"
      ]
     },
     "execution_count": 45,
     "metadata": {},
     "output_type": "execute_result"
    }
   ],
   "source": [
    "root[0]"
   ]
  },
  {
   "cell_type": "code",
   "execution_count": 46,
   "metadata": {},
   "outputs": [
    {
     "data": {
      "text/plain": [
       "<Element 'lunch' at 0x000002195D491AE8>"
      ]
     },
     "execution_count": 46,
     "metadata": {},
     "output_type": "execute_result"
    }
   ],
   "source": [
    "root[1]"
   ]
  },
  {
   "cell_type": "code",
   "execution_count": 47,
   "metadata": {},
   "outputs": [
    {
     "data": {
      "text/plain": [
       "<Element 'item' at 0x000002195D491A98>"
      ]
     },
     "execution_count": 47,
     "metadata": {},
     "output_type": "execute_result"
    }
   ],
   "source": [
    "root[0][1]"
   ]
  },
  {
   "cell_type": "markdown",
   "metadata": {},
   "source": [
    "Elementオブジェクトの中には、入れ子状態のタグのElementも含まれていて、for文のイテレータとして使うことで深層のタグのElementオブジェクトを取得することができる"
   ]
  },
  {
   "cell_type": "markdown",
   "metadata": {},
   "source": [
    "## 8.2.4  JSON"
   ]
  },
  {
   "cell_type": "code",
   "execution_count": 48,
   "metadata": {},
   "outputs": [],
   "source": [
    "menu = \\\n",
    "{\n",
    "\"breakfast\":{\n",
    "    \"hours\":\"7-11\",\n",
    "    \"items\":{\n",
    "        \"breakfast burritos\":\"$6.00\",\n",
    "        \"pancakes\":\"$4.00\"\n",
    "        }\n",
    "    },\n",
    "\"lunch\":{\n",
    "    \"hours\":\"11-3\",\n",
    "    \"items\":{\n",
    "        \"hamburger\":\"$5.00\"\n",
    "        }\n",
    "    },\n",
    "\"dinner\":{\n",
    "    \"hours\":\"3-10\",\n",
    "    \"items\":{\n",
    "        \"spaghetti\":\"$8.00\"\n",
    "        }\n",
    "    }\n",
    "}"
   ]
  },
  {
   "cell_type": "code",
   "execution_count": 49,
   "metadata": {},
   "outputs": [
    {
     "data": {
      "text/plain": [
       "{'breakfast': {'hours': '7-11',\n",
       "  'items': {'breakfast burritos': '$6.00', 'pancakes': '$4.00'}},\n",
       " 'lunch': {'hours': '11-3', 'items': {'hamburger': '$5.00'}},\n",
       " 'dinner': {'hours': '3-10', 'items': {'spaghetti': '$8.00'}}}"
      ]
     },
     "execution_count": 49,
     "metadata": {},
     "output_type": "execute_result"
    }
   ],
   "source": [
    "menu"
   ]
  },
  {
   "cell_type": "code",
   "execution_count": 50,
   "metadata": {},
   "outputs": [],
   "source": [
    "import json"
   ]
  },
  {
   "cell_type": "code",
   "execution_count": 51,
   "metadata": {},
   "outputs": [
    {
     "data": {
      "text/plain": [
       "'{\"breakfast\": {\"hours\": \"7-11\", \"items\": {\"breakfast burritos\": \"$6.00\", \"pancakes\": \"$4.00\"}}, \"lunch\": {\"hours\": \"11-3\", \"items\": {\"hamburger\": \"$5.00\"}}, \"dinner\": {\"hours\": \"3-10\", \"items\": {\"spaghetti\": \"$8.00\"}}}'"
      ]
     },
     "execution_count": 51,
     "metadata": {},
     "output_type": "execute_result"
    }
   ],
   "source": [
    "menu_json = json.dumps(menu)\n",
    "menu_json"
   ]
  },
  {
   "cell_type": "code",
   "execution_count": 52,
   "metadata": {},
   "outputs": [
    {
     "data": {
      "text/plain": [
       "{'breakfast': {'hours': '7-11',\n",
       "  'items': {'breakfast burritos': '$6.00', 'pancakes': '$4.00'}},\n",
       " 'lunch': {'hours': '11-3', 'items': {'hamburger': '$5.00'}},\n",
       " 'dinner': {'hours': '3-10', 'items': {'spaghetti': '$8.00'}}}"
      ]
     },
     "execution_count": 52,
     "metadata": {},
     "output_type": "execute_result"
    }
   ],
   "source": [
    "menu2 = json.loads(menu_json)\n",
    "menu2"
   ]
  },
  {
   "cell_type": "markdown",
   "metadata": {},
   "source": [
    "JSONはJavaScriptという枠を越えて広く使われているデータ交換形式で、変換できればプログラム間でのデータを移動することができるようになる  \n",
    "PythonのデータをJSON文字列に変換するには、json モジュールの dumps 関数にPythonのデータを渡すことでできる  \n",
    "逆にJSON文字列をPythonのデータに変換するには json モジュールの loads 関数にJSON文字列を渡すことでできる"
   ]
  },
  {
   "cell_type": "code",
   "execution_count": 53,
   "metadata": {},
   "outputs": [
    {
     "data": {
      "text/plain": [
       "datetime.datetime(2020, 9, 29, 0, 8, 16, 439021)"
      ]
     },
     "execution_count": 53,
     "metadata": {},
     "output_type": "execute_result"
    }
   ],
   "source": [
    "import datetime\n",
    "now = datetime.datetime.now()\n",
    "now"
   ]
  },
  {
   "cell_type": "code",
   "execution_count": 54,
   "metadata": {},
   "outputs": [
    {
     "ename": "TypeError",
     "evalue": "Object of type datetime is not JSON serializable",
     "output_type": "error",
     "traceback": [
      "\u001b[1;31m---------------------------------------------------------------------------\u001b[0m",
      "\u001b[1;31mTypeError\u001b[0m                                 Traceback (most recent call last)",
      "\u001b[1;32m<ipython-input-54-f164a08299e1>\u001b[0m in \u001b[0;36m<module>\u001b[1;34m\u001b[0m\n\u001b[1;32m----> 1\u001b[1;33m \u001b[0mjson\u001b[0m\u001b[1;33m.\u001b[0m\u001b[0mdumps\u001b[0m\u001b[1;33m(\u001b[0m\u001b[0mnow\u001b[0m\u001b[1;33m)\u001b[0m\u001b[1;33m\u001b[0m\u001b[1;33m\u001b[0m\u001b[0m\n\u001b[0m",
      "\u001b[1;32m~\\anaconda3\\lib\\json\\__init__.py\u001b[0m in \u001b[0;36mdumps\u001b[1;34m(obj, skipkeys, ensure_ascii, check_circular, allow_nan, cls, indent, separators, default, sort_keys, **kw)\u001b[0m\n\u001b[0;32m    229\u001b[0m         \u001b[0mcls\u001b[0m \u001b[1;32mis\u001b[0m \u001b[1;32mNone\u001b[0m \u001b[1;32mand\u001b[0m \u001b[0mindent\u001b[0m \u001b[1;32mis\u001b[0m \u001b[1;32mNone\u001b[0m \u001b[1;32mand\u001b[0m \u001b[0mseparators\u001b[0m \u001b[1;32mis\u001b[0m \u001b[1;32mNone\u001b[0m \u001b[1;32mand\u001b[0m\u001b[1;33m\u001b[0m\u001b[1;33m\u001b[0m\u001b[0m\n\u001b[0;32m    230\u001b[0m         default is None and not sort_keys and not kw):\n\u001b[1;32m--> 231\u001b[1;33m         \u001b[1;32mreturn\u001b[0m \u001b[0m_default_encoder\u001b[0m\u001b[1;33m.\u001b[0m\u001b[0mencode\u001b[0m\u001b[1;33m(\u001b[0m\u001b[0mobj\u001b[0m\u001b[1;33m)\u001b[0m\u001b[1;33m\u001b[0m\u001b[1;33m\u001b[0m\u001b[0m\n\u001b[0m\u001b[0;32m    232\u001b[0m     \u001b[1;32mif\u001b[0m \u001b[0mcls\u001b[0m \u001b[1;32mis\u001b[0m \u001b[1;32mNone\u001b[0m\u001b[1;33m:\u001b[0m\u001b[1;33m\u001b[0m\u001b[1;33m\u001b[0m\u001b[0m\n\u001b[0;32m    233\u001b[0m         \u001b[0mcls\u001b[0m \u001b[1;33m=\u001b[0m \u001b[0mJSONEncoder\u001b[0m\u001b[1;33m\u001b[0m\u001b[1;33m\u001b[0m\u001b[0m\n",
      "\u001b[1;32m~\\anaconda3\\lib\\json\\encoder.py\u001b[0m in \u001b[0;36mencode\u001b[1;34m(self, o)\u001b[0m\n\u001b[0;32m    197\u001b[0m         \u001b[1;31m# exceptions aren't as detailed.  The list call should be roughly\u001b[0m\u001b[1;33m\u001b[0m\u001b[1;33m\u001b[0m\u001b[1;33m\u001b[0m\u001b[0m\n\u001b[0;32m    198\u001b[0m         \u001b[1;31m# equivalent to the PySequence_Fast that ''.join() would do.\u001b[0m\u001b[1;33m\u001b[0m\u001b[1;33m\u001b[0m\u001b[1;33m\u001b[0m\u001b[0m\n\u001b[1;32m--> 199\u001b[1;33m         \u001b[0mchunks\u001b[0m \u001b[1;33m=\u001b[0m \u001b[0mself\u001b[0m\u001b[1;33m.\u001b[0m\u001b[0miterencode\u001b[0m\u001b[1;33m(\u001b[0m\u001b[0mo\u001b[0m\u001b[1;33m,\u001b[0m \u001b[0m_one_shot\u001b[0m\u001b[1;33m=\u001b[0m\u001b[1;32mTrue\u001b[0m\u001b[1;33m)\u001b[0m\u001b[1;33m\u001b[0m\u001b[1;33m\u001b[0m\u001b[0m\n\u001b[0m\u001b[0;32m    200\u001b[0m         \u001b[1;32mif\u001b[0m \u001b[1;32mnot\u001b[0m \u001b[0misinstance\u001b[0m\u001b[1;33m(\u001b[0m\u001b[0mchunks\u001b[0m\u001b[1;33m,\u001b[0m \u001b[1;33m(\u001b[0m\u001b[0mlist\u001b[0m\u001b[1;33m,\u001b[0m \u001b[0mtuple\u001b[0m\u001b[1;33m)\u001b[0m\u001b[1;33m)\u001b[0m\u001b[1;33m:\u001b[0m\u001b[1;33m\u001b[0m\u001b[1;33m\u001b[0m\u001b[0m\n\u001b[0;32m    201\u001b[0m             \u001b[0mchunks\u001b[0m \u001b[1;33m=\u001b[0m \u001b[0mlist\u001b[0m\u001b[1;33m(\u001b[0m\u001b[0mchunks\u001b[0m\u001b[1;33m)\u001b[0m\u001b[1;33m\u001b[0m\u001b[1;33m\u001b[0m\u001b[0m\n",
      "\u001b[1;32m~\\anaconda3\\lib\\json\\encoder.py\u001b[0m in \u001b[0;36miterencode\u001b[1;34m(self, o, _one_shot)\u001b[0m\n\u001b[0;32m    255\u001b[0m                 \u001b[0mself\u001b[0m\u001b[1;33m.\u001b[0m\u001b[0mkey_separator\u001b[0m\u001b[1;33m,\u001b[0m \u001b[0mself\u001b[0m\u001b[1;33m.\u001b[0m\u001b[0mitem_separator\u001b[0m\u001b[1;33m,\u001b[0m \u001b[0mself\u001b[0m\u001b[1;33m.\u001b[0m\u001b[0msort_keys\u001b[0m\u001b[1;33m,\u001b[0m\u001b[1;33m\u001b[0m\u001b[1;33m\u001b[0m\u001b[0m\n\u001b[0;32m    256\u001b[0m                 self.skipkeys, _one_shot)\n\u001b[1;32m--> 257\u001b[1;33m         \u001b[1;32mreturn\u001b[0m \u001b[0m_iterencode\u001b[0m\u001b[1;33m(\u001b[0m\u001b[0mo\u001b[0m\u001b[1;33m,\u001b[0m \u001b[1;36m0\u001b[0m\u001b[1;33m)\u001b[0m\u001b[1;33m\u001b[0m\u001b[1;33m\u001b[0m\u001b[0m\n\u001b[0m\u001b[0;32m    258\u001b[0m \u001b[1;33m\u001b[0m\u001b[0m\n\u001b[0;32m    259\u001b[0m def _make_iterencode(markers, _default, _encoder, _indent, _floatstr,\n",
      "\u001b[1;32m~\\anaconda3\\lib\\json\\encoder.py\u001b[0m in \u001b[0;36mdefault\u001b[1;34m(self, o)\u001b[0m\n\u001b[0;32m    177\u001b[0m \u001b[1;33m\u001b[0m\u001b[0m\n\u001b[0;32m    178\u001b[0m         \"\"\"\n\u001b[1;32m--> 179\u001b[1;33m         raise TypeError(f'Object of type {o.__class__.__name__} '\n\u001b[0m\u001b[0;32m    180\u001b[0m                         f'is not JSON serializable')\n\u001b[0;32m    181\u001b[0m \u001b[1;33m\u001b[0m\u001b[0m\n",
      "\u001b[1;31mTypeError\u001b[0m: Object of type datetime is not JSON serializable"
     ]
    }
   ],
   "source": [
    "json.dumps(now)"
   ]
  },
  {
   "cell_type": "code",
   "execution_count": 59,
   "metadata": {},
   "outputs": [],
   "source": [
    "now_str = str(now)"
   ]
  },
  {
   "cell_type": "code",
   "execution_count": 60,
   "metadata": {},
   "outputs": [
    {
     "data": {
      "text/plain": [
       "'\"2020-09-29 00:08:16.439021\"'"
      ]
     },
     "execution_count": 60,
     "metadata": {},
     "output_type": "execute_result"
    }
   ],
   "source": [
    "json.dumps(now_str)"
   ]
  },
  {
   "cell_type": "markdown",
   "metadata": {},
   "source": [
    "JOSN形式にないデータ型は変換できないので、変換する前に変更可能なデータに変更する必要がある"
   ]
  },
  {
   "cell_type": "code",
   "execution_count": 61,
   "metadata": {},
   "outputs": [],
   "source": [
    "class DTEncoder(json.JSONEncoder):\n",
    "    def default(self,obj):\n",
    "        # isinstanceでオブジェクトの型をチェックする\n",
    "        if isinstance(obj, datetime.datetime):\n",
    "            from time import mktime\n",
    "            return int(mktime(obj.timetuple()))\n",
    "        # datetime型でなければ\n",
    "        return json.JSONEncoder.default(self, obj)"
   ]
  },
  {
   "cell_type": "code",
   "execution_count": 62,
   "metadata": {},
   "outputs": [
    {
     "data": {
      "text/plain": [
       "'1601305696'"
      ]
     },
     "execution_count": 62,
     "metadata": {},
     "output_type": "execute_result"
    }
   ],
   "source": [
    "json.dumps(now, cls=DTEncoder)"
   ]
  },
  {
   "cell_type": "code",
   "execution_count": 63,
   "metadata": {},
   "outputs": [],
   "source": [
    "time_tuple = now.timetuple() # datetime型を時間のデータをタプル形式にする"
   ]
  },
  {
   "cell_type": "code",
   "execution_count": 64,
   "metadata": {},
   "outputs": [
    {
     "data": {
      "text/plain": [
       "1601305696.0"
      ]
     },
     "execution_count": 64,
     "metadata": {},
     "output_type": "execute_result"
    }
   ],
   "source": [
    "from time import mktime\n",
    "mktime(time_tuple) # mktimeに時間のデータが入ったタプルを渡すことでエポック時間を返してくれる"
   ]
  },
  {
   "cell_type": "markdown",
   "metadata": {},
   "source": [
    "Pythonの特定のデータをJSON文字列に変換する際に自分の好きな形でを変換してもらうこともできる  \n",
    "json.JSONEncoder という変換する際にデフォルトで使用されるクラスを親クラスとした子クラスを作成し、  \n",
    "その中の default 関数を変更したうえで、jsonのdumps関数を使う際にキーワード引数の cls に作成した子クラスの名前を入れることでできる  \n",
    "上ではdumpsに渡されたオブジェクトの型がdatetime型だった場合にエポック秒のint(整数)としてJSON文字列に変換するようにしている"
   ]
  },
  {
   "cell_type": "markdown",
   "metadata": {},
   "source": [
    "## 8.2.5  YMAL"
   ]
  },
  {
   "cell_type": "code",
   "execution_count": 65,
   "metadata": {},
   "outputs": [],
   "source": [
    "import yaml"
   ]
  },
  {
   "cell_type": "code",
   "execution_count": 69,
   "metadata": {},
   "outputs": [],
   "source": [
    "with open(r\".\\pydata\\mcintyre.yaml\",\"r\") as f:\n",
    "    text = f.read()"
   ]
  },
  {
   "cell_type": "code",
   "execution_count": 70,
   "metadata": {},
   "outputs": [
    {
     "data": {
      "text/plain": [
       "\"name:\\n  first: James\\n  last: McIntyre\\ndates:\\n  birth: 1828-05-25\\n  death: 1906-03-31\\ndetails:\\n  bearded: true\\n  themes: [cheese, Canada]\\nbooks:\\n  url: http://www.gutenberg.org/files/36068/36068-h/36068-h.htm\\npoem:\\n  - title: 'Motto'\\n    text: |\\n      Politeness, perseverance and pluck,\\n      To their possessor will bring good luck.\\n  - title: 'Canadian Charms'\\n    text: |\\n      Here industry is not in vain,\\n      For we have bounteous crops of grain,\\n      And you behold on every field\\n      Of grass and roots abundant yield,\\n      But after all the greatest charm\\n      Is the snug home upon the farm,\\n      And stone walls now keep cattle warm.\""
      ]
     },
     "execution_count": 70,
     "metadata": {},
     "output_type": "execute_result"
    }
   ],
   "source": [
    "text"
   ]
  },
  {
   "cell_type": "code",
   "execution_count": 71,
   "metadata": {},
   "outputs": [
    {
     "name": "stderr",
     "output_type": "stream",
     "text": [
      "C:\\Users\\kumak\\anaconda3\\lib\\site-packages\\ipykernel_launcher.py:1: YAMLLoadWarning: calling yaml.load() without Loader=... is deprecated, as the default Loader is unsafe. Please read https://msg.pyyaml.org/load for full details.\n",
      "  \"\"\"Entry point for launching an IPython kernel.\n"
     ]
    }
   ],
   "source": [
    "data = yaml.load(text)"
   ]
  },
  {
   "cell_type": "code",
   "execution_count": 72,
   "metadata": {},
   "outputs": [
    {
     "data": {
      "text/plain": [
       "{'name': {'first': 'James', 'last': 'McIntyre'},\n",
       " 'dates': {'birth': datetime.date(1828, 5, 25),\n",
       "  'death': datetime.date(1906, 3, 31)},\n",
       " 'details': {'bearded': True, 'themes': ['cheese', 'Canada']},\n",
       " 'books': {'url': 'http://www.gutenberg.org/files/36068/36068-h/36068-h.htm'},\n",
       " 'poem': [{'title': 'Motto',\n",
       "   'text': 'Politeness, perseverance and pluck,\\nTo their possessor will bring good luck.\\n'},\n",
       "  {'title': 'Canadian Charms',\n",
       "   'text': 'Here industry is not in vain,\\nFor we have bounteous crops of grain,\\nAnd you behold on every field\\nOf grass and roots abundant yield,\\nBut after all the greatest charm\\nIs the snug home upon the farm,\\nAnd stone walls now keep cattle warm.'}]}"
      ]
     },
     "execution_count": 72,
     "metadata": {},
     "output_type": "execute_result"
    }
   ],
   "source": [
    "data"
   ]
  },
  {
   "cell_type": "code",
   "execution_count": 73,
   "metadata": {},
   "outputs": [
    {
     "data": {
      "text/plain": [
       "{'bearded': True, 'themes': ['cheese', 'Canada']}"
      ]
     },
     "execution_count": 73,
     "metadata": {},
     "output_type": "execute_result"
    }
   ],
   "source": [
    "data[\"details\"]"
   ]
  },
  {
   "cell_type": "code",
   "execution_count": 74,
   "metadata": {},
   "outputs": [
    {
     "data": {
      "text/plain": [
       "'Canadian Charms'"
      ]
     },
     "execution_count": 74,
     "metadata": {},
     "output_type": "execute_result"
    }
   ],
   "source": [
    "data[\"poem\"][1][\"title\"]"
   ]
  },
  {
   "cell_type": "code",
   "execution_count": 75,
   "metadata": {},
   "outputs": [
    {
     "data": {
      "text/plain": [
       "\"books:\\n  url: http://www.gutenberg.org/files/36068/36068-h/36068-h.htm\\ndates:\\n  birth: 1828-05-25\\n  death: 1906-03-31\\ndetails:\\n  bearded: true\\n  themes:\\n  - cheese\\n  - Canada\\nname:\\n  first: James\\n  last: McIntyre\\npoem:\\n- text: 'Politeness, perseverance and pluck,\\n\\n    To their possessor will bring good luck.\\n\\n    '\\n  title: Motto\\n- text: 'Here industry is not in vain,\\n\\n    For we have bounteous crops of grain,\\n\\n    And you behold on every field\\n\\n    Of grass and roots abundant yield,\\n\\n    But after all the greatest charm\\n\\n    Is the snug home upon the farm,\\n\\n    And stone walls now keep cattle warm.'\\n  title: Canadian Charms\\n\""
      ]
     },
     "execution_count": 75,
     "metadata": {},
     "output_type": "execute_result"
    }
   ],
   "source": [
    "yaml.dump(data)"
   ]
  },
  {
   "cell_type": "markdown",
   "metadata": {},
   "source": [
    "YAMLはJSONと同様にキーと値を持つがJSONよりも多くのデータ型を処理する  \n",
    "YAMLをPythonデータに変換するにはサードパーティの yaml モジュールの load 関数にPythonデータを渡すことでできる  \n",
    "逆にYAMLに変換したい場合は dump 関数を使う"
   ]
  },
  {
   "cell_type": "markdown",
   "metadata": {},
   "source": [
    "## 8.2.7  設定ファイル"
   ]
  },
  {
   "cell_type": "code",
   "execution_count": 76,
   "metadata": {},
   "outputs": [],
   "source": [
    "import configparser"
   ]
  },
  {
   "cell_type": "code",
   "execution_count": 83,
   "metadata": {},
   "outputs": [],
   "source": [
    "cfg = configparser.ConfigParser()"
   ]
  },
  {
   "cell_type": "code",
   "execution_count": 84,
   "metadata": {},
   "outputs": [
    {
     "data": {
      "text/plain": [
       "<configparser.ConfigParser at 0x2195d627448>"
      ]
     },
     "execution_count": 84,
     "metadata": {},
     "output_type": "execute_result"
    }
   ],
   "source": [
    "cfg"
   ]
  },
  {
   "cell_type": "code",
   "execution_count": 85,
   "metadata": {},
   "outputs": [
    {
     "data": {
      "text/plain": [
       "['.\\\\pydata\\\\settings.cfg']"
      ]
     },
     "execution_count": 85,
     "metadata": {},
     "output_type": "execute_result"
    }
   ],
   "source": [
    "cfg.read(r\".\\pydata\\settings.cfg\")"
   ]
  },
  {
   "cell_type": "code",
   "execution_count": 86,
   "metadata": {},
   "outputs": [
    {
     "data": {
      "text/plain": [
       "<Section: french>"
      ]
     },
     "execution_count": 86,
     "metadata": {},
     "output_type": "execute_result"
    }
   ],
   "source": [
    "cfg[\"french\"]"
   ]
  },
  {
   "cell_type": "code",
   "execution_count": 87,
   "metadata": {},
   "outputs": [
    {
     "data": {
      "text/plain": [
       "'Bonjour'"
      ]
     },
     "execution_count": 87,
     "metadata": {},
     "output_type": "execute_result"
    }
   ],
   "source": [
    "cfg[\"french\"][\"greeting\"]"
   ]
  },
  {
   "cell_type": "code",
   "execution_count": 88,
   "metadata": {},
   "outputs": [
    {
     "data": {
      "text/plain": [
       "'/user/kumak/bin'"
      ]
     },
     "execution_count": 88,
     "metadata": {},
     "output_type": "execute_result"
    }
   ],
   "source": [
    "cfg[\"files\"][\"bin\"]"
   ]
  },
  {
   "cell_type": "markdown",
   "metadata": {},
   "source": [
    "長い間使い続けるようなプログラムは設定をどこかに保存しておく必要があり、設定ファイルに保存しておくことで多くのプログラムは様々なオプションや設定を提供している\n",
    "configparser モジュールは設定ファイルとしてよく使われるWindowsスタイルの.iniや.cfgファイルを処理することができる  \n",
    "このようなファイルは *key* = *value*　形式の定義セクションを持つ  \n",
    "設定ファイル内のデータをPythonデータに変換して取り出すには、configparserモジュールの ConfigParser 関数を使って作る Configparser オブジェクトを使う  \n",
    "ConfigParserオブジェクトの read メソッドに設定ファイルを渡してオブジェクト自体に読み込み、ConfigParserオブジェクトのキーを指定することで読み出すことができる"
   ]
  },
  {
   "cell_type": "markdown",
   "metadata": {},
   "source": [
    "## 8.2.9  pickleによるシリアライズ"
   ]
  },
  {
   "cell_type": "code",
   "execution_count": 89,
   "metadata": {},
   "outputs": [],
   "source": [
    "import pickle\n",
    "import datetime"
   ]
  },
  {
   "cell_type": "code",
   "execution_count": 90,
   "metadata": {},
   "outputs": [],
   "source": [
    "now1 = datetime.datetime.now()\n",
    "pickled = pickle.dumps(now1)"
   ]
  },
  {
   "cell_type": "code",
   "execution_count": 91,
   "metadata": {},
   "outputs": [],
   "source": [
    "now2 = pickle.loads(pickled)"
   ]
  },
  {
   "cell_type": "code",
   "execution_count": 92,
   "metadata": {},
   "outputs": [
    {
     "data": {
      "text/plain": [
       "datetime.datetime(2020, 9, 29, 0, 11, 30, 75507)"
      ]
     },
     "execution_count": 92,
     "metadata": {},
     "output_type": "execute_result"
    }
   ],
   "source": [
    "now1"
   ]
  },
  {
   "cell_type": "code",
   "execution_count": 93,
   "metadata": {},
   "outputs": [
    {
     "data": {
      "text/plain": [
       "datetime.datetime(2020, 9, 29, 0, 11, 30, 75507)"
      ]
     },
     "execution_count": 93,
     "metadata": {},
     "output_type": "execute_result"
    }
   ],
   "source": [
    "now2"
   ]
  },
  {
   "cell_type": "code",
   "execution_count": 94,
   "metadata": {},
   "outputs": [
    {
     "data": {
      "text/plain": [
       "b'\\x80\\x03cdatetime\\ndatetime\\nq\\x00C\\n\\x07\\xe4\\t\\x1d\\x00\\x0b\\x1e\\x01&\\xf3q\\x01\\x85q\\x02Rq\\x03.'"
      ]
     },
     "execution_count": 94,
     "metadata": {},
     "output_type": "execute_result"
    }
   ],
   "source": [
    "pickled"
   ]
  },
  {
   "cell_type": "markdown",
   "metadata": {},
   "source": [
    "ファイルにデータ構造を保存することをシリアライズ(直列化)といい、Pythonでは特別なバイナリ形式でオブジェクトを保存できる pickle モジュールがある  \n",
    "pickleの dumps 関数にオブジェクトを渡すことでオブジェクトをpickleオブジェクトとして保存、pickleの loads 関数にpickleオブジェクトを渡すことで復元できる"
   ]
  },
  {
   "cell_type": "code",
   "execution_count": 95,
   "metadata": {},
   "outputs": [],
   "source": [
    "with open(r\".\\pydata\\pickle_data\",\"wb\") as f:\n",
    "    pickle.dump(now1,f)"
   ]
  },
  {
   "cell_type": "code",
   "execution_count": 96,
   "metadata": {},
   "outputs": [],
   "source": [
    "with open(r\".\\pydata\\pickle_data\",\"rb\") as f:\n",
    "    now2 = pickle.load(f)"
   ]
  },
  {
   "cell_type": "code",
   "execution_count": 97,
   "metadata": {},
   "outputs": [
    {
     "data": {
      "text/plain": [
       "datetime.datetime(2020, 9, 29, 0, 11, 30, 75507)"
      ]
     },
     "execution_count": 97,
     "metadata": {},
     "output_type": "execute_result"
    }
   ],
   "source": [
    "now2"
   ]
  },
  {
   "cell_type": "markdown",
   "metadata": {},
   "source": [
    "ファイルにデータを保存したい場合はpickleの dump 関数に保存したいオブジェクトとバイナリモードの書き込み専用ファイルオブジェクトを渡すことで、ファイルオブジェクトのファイルパスに保存される  \n",
    "ファイルに保存したデータを読み込むにはpickleの load 関数にバイナリモードの読み込み専用ファイルオブジェクトを渡すことでできる"
   ]
  },
  {
   "cell_type": "code",
   "execution_count": 98,
   "metadata": {},
   "outputs": [],
   "source": [
    "class Tiny:\n",
    "    def __str__(self):\n",
    "        return \"TINY\""
   ]
  },
  {
   "cell_type": "code",
   "execution_count": 99,
   "metadata": {},
   "outputs": [
    {
     "data": {
      "text/plain": [
       "<__main__.Tiny at 0x2195d63a188>"
      ]
     },
     "execution_count": 99,
     "metadata": {},
     "output_type": "execute_result"
    }
   ],
   "source": [
    "obj1 = Tiny()\n",
    "obj1"
   ]
  },
  {
   "cell_type": "code",
   "execution_count": 100,
   "metadata": {},
   "outputs": [
    {
     "data": {
      "text/plain": [
       "'TINY'"
      ]
     },
     "execution_count": 100,
     "metadata": {},
     "output_type": "execute_result"
    }
   ],
   "source": [
    "str(obj1)"
   ]
  },
  {
   "cell_type": "code",
   "execution_count": 101,
   "metadata": {},
   "outputs": [
    {
     "data": {
      "text/plain": [
       "b'\\x80\\x03c__main__\\nTiny\\nq\\x00)\\x81q\\x01.'"
      ]
     },
     "execution_count": 101,
     "metadata": {},
     "output_type": "execute_result"
    }
   ],
   "source": [
    "pickled = pickle.dumps(obj1)\n",
    "pickled"
   ]
  },
  {
   "cell_type": "code",
   "execution_count": 102,
   "metadata": {},
   "outputs": [
    {
     "data": {
      "text/plain": [
       "'TINY'"
      ]
     },
     "execution_count": 102,
     "metadata": {},
     "output_type": "execute_result"
    }
   ],
   "source": [
    "obj2 = pickle.loads(pickled)\n",
    "str(obj2)"
   ]
  },
  {
   "cell_type": "markdown",
   "metadata": {},
   "source": [
    "pickleはプログラム内で定義された独自のクラスやオブジェクトも処理できる"
   ]
  },
  {
   "cell_type": "markdown",
   "metadata": {},
   "source": [
    "# 8.4  リレーショナルデータベース"
   ]
  },
  {
   "cell_type": "markdown",
   "metadata": {},
   "source": [
    "リレーショナルデータベースとは主に属性を列、行を組としてデータを格納していく方式のデータベース構造のことを指す"
   ]
  },
  {
   "cell_type": "markdown",
   "metadata": {},
   "source": [
    "## 8.4.1  SQL"
   ]
  },
  {
   "cell_type": "markdown",
   "metadata": {},
   "source": [
    "SQLはリレーショナルデータベースの管理や操作を行うための人工言語のひとつ  \n",
    "SQL文には大きく分けて2つのカテゴリに分類される  \n",
    "- DDL(データ定義言語) : テーブルやデータベースの作成、削除、制約、許可などの処理  \n",
    "- DML(データ操作言語) : データの挿入、選択、更新、削除などの処理\n",
    "\n",
    "SQL DDLの基本コマンド\n",
    "\n",
    "|操作|SQLのコマンドパターン|SQLのコマンド例|\n",
    "|:-|:-|:-|\n",
    "|データベースの作成|CREATE DATABASE *dbname*|CREATE DATABASE d|\n",
    "|現在のデータベースの選択|USE *dbname*|USE d|\n",
    "|データベースとテーブルの削除|DROP DATABASE dbname|DROP DATABASE d|\n",
    "|テーブルの作成|CREATE TABLE tbname(coldefs)|CREATE TABLE T (id INT, count INT)|\n",
    "|テーブルの削除|DROP TABLE tbname|DROP TABLE t|\n",
    "|テーブルのすべての行の削除|TRUNCATE TABLE tbname|TRUNCATE TABLE t|\n",
    "\n",
    "SQL DMLの基本コマンド\n",
    "\n",
    "|操作|SQLのコマンドパターン|SQLのコマンド例|\n",
    "|:-|:-|:-|\n",
    "|行の追加|INSERT INTO *tbname* VALUES( ... )|INSERT INTO t VALUES(7, 40)|\n",
    "|すべての行と列を選択|SELECT \\* FROM *tbname*|SELECT \\* FROM t|\n",
    "|すべての行の特定の列を選択|SELECT *cols* FROM *tbname*|SELECT id, count FROM t|\n",
    "|一部の行の一部の列を選択|SELECT *cols* FROM *tbname* WHERE *condition*|SELECT id, count FROM t WHERE count > 5 AND id = 9|\n",
    "|一部の行の列を変更|UPDATE *tbname* SET *col* = *value* WHERE *condition*|UPDATE t SET count=3 WHERE id=5|\n",
    "|一部の行を削除|DELETE FROM *tbname* WHERE *condition*|DELETE FROM t WHERE count <= 10 OR id = 16|\n",
    "\n",
    "主要なDMLの操作はCRUDという頭文字で知られている  \n",
    "- C(Create) : INSERT文を使った作成  \n",
    "- R(Read) : SELECT文を使った読み出し  \n",
    "- U(Update) : UPDATE文を使った更新  \n",
    "- D(Delete) : DELETE文を使った削除"
   ]
  },
  {
   "cell_type": "markdown",
   "metadata": {},
   "source": [
    "## 8.4.2  DB-API"
   ]
  },
  {
   "cell_type": "markdown",
   "metadata": {},
   "source": [
    "APIとはあるコンピュータプログラムの機能や管理するデータなどを、ほかのプログラムから呼び出して利用するための手順やデータ形式などを定めた規約のことで、DB-APIはリレーショナルデータベースにアクセスするためのPython標準のAPIである  \n",
    "DB-APIを使えばひとつのプログラムで複数のリレーショナルデータベースを操作することができる  \n",
    "DB-APIの主要な関数  \n",
    "- connect( ) : データベースへの接続を開設する。ユーザー名、パスワード、サーバーアドレス、その他の引数を指定できる\n",
    "- cursor( ) : クエリー(質問、照会、問い合わせ、尋ねる、疑問などの意味)を管理するカーソルオブジェクトを作る\n",
    "- execute( )とexecutemany( ) : データベースに対してひとつまたは複数のSQLコマンドを実行する\n",
    "- fetchone( ),fetchmany( ),fetchall( ) : executeの結果を取得する"
   ]
  },
  {
   "cell_type": "markdown",
   "metadata": {},
   "source": [
    "## 8.4.3  SQLite"
   ]
  },
  {
   "cell_type": "markdown",
   "metadata": {},
   "source": [
    "SQLiteは軽くて優れたオープンソースのリレーショナルデータベースで、Pythonの標準ライブラリと実装され、通常のファイルにデータベースを格納する  \n",
    "格納したファイルはマシン、OSの違いを超えて使うことができるため、単純なリレーショナルデータベースのアプリケーションを作りたいときに役立つ  \n",
    "データベースを使ったり作ったりするときは、まずローカルなSQLiteデータベースにconnect( )する。  \n",
    "特殊文字列の:memory:を指定するとメモリのみにデータベースを作り、高速でテストには役立つがプログラムを終了するとデータが失われてしまう"
   ]
  },
  {
   "cell_type": "code",
   "execution_count": 103,
   "metadata": {},
   "outputs": [],
   "source": [
    "import sqlite3"
   ]
  },
  {
   "cell_type": "code",
   "execution_count": 104,
   "metadata": {},
   "outputs": [],
   "source": [
    "conn = sqlite3.connect(r\".\\pydata\\enterprice.db\")"
   ]
  },
  {
   "cell_type": "code",
   "execution_count": 105,
   "metadata": {},
   "outputs": [],
   "source": [
    "curs = conn.cursor()"
   ]
  },
  {
   "cell_type": "code",
   "execution_count": 106,
   "metadata": {},
   "outputs": [
    {
     "data": {
      "text/plain": [
       "<sqlite3.Cursor at 0x2195d620c00>"
      ]
     },
     "execution_count": 106,
     "metadata": {},
     "output_type": "execute_result"
    }
   ],
   "source": [
    "curs.execute(\"\"\"CREATE TABLE zoo (critter VARCHAR(20)\n",
    "PRIMARY KEY, count INT, damages FLOAT)\"\"\")"
   ]
  },
  {
   "cell_type": "markdown",
   "metadata": {},
   "source": [
    "上では列の見出しは  \n",
    "- critter : 動物の名前。主キー(可変長文字列)\n",
    "- count : その動物の現在の個体数(整数)\n",
    "- damages : 動物との触れ合いによる現在の損失額(整数)  \n",
    "としてデータを扱っている\n",
    "\n",
    "主キー(PRIMARY KEY)とは、テーブルに登録するレコード(データ行)の全体のうち、ひとつのデータに特定することをデータベースが保証する列のこと\n",
    "\n",
    "まず、SQLite3 モジュールの connect 関数を使ってデータベースファイルに接続して、connect オブジェクトを取得  \n",
    "connectオブジェクトの cursor メソッドを呼び出してクエリーを管理するカーソルオブジェクトを作成(cursorオブジェクト)  \n",
    "cursorオブジェクトの execute メソッドを使ってSQLコマンドを実行、zooというテーブルを作成し、列として20バイトまで文字列(VARCHAR(20))を格納できる主キー(PRIMARY KEY)のcritter、整数型のcount、浮動小数点型のdamages、の3つを追加している"
   ]
  },
  {
   "cell_type": "code",
   "execution_count": 107,
   "metadata": {},
   "outputs": [
    {
     "data": {
      "text/plain": [
       "<sqlite3.Cursor at 0x2195d620c00>"
      ]
     },
     "execution_count": 107,
     "metadata": {},
     "output_type": "execute_result"
    }
   ],
   "source": [
    "curs.execute(\"INSERT INTO zoo VALUES('duck', 5, 0.0)\")"
   ]
  },
  {
   "cell_type": "code",
   "execution_count": 108,
   "metadata": {},
   "outputs": [
    {
     "data": {
      "text/plain": [
       "<sqlite3.Cursor at 0x2195d620c00>"
      ]
     },
     "execution_count": 108,
     "metadata": {},
     "output_type": "execute_result"
    }
   ],
   "source": [
    "curs.execute(\"INSERT INTO zoo VALUES('bear', 2, 1000.0)\")"
   ]
  },
  {
   "cell_type": "markdown",
   "metadata": {},
   "source": [
    "cursorオブジェクトのexecuteメソッドに行を追加するSQLコマンドのINSERT文を入れて、critter,count,damagesのそれぞれのデータを追加している"
   ]
  },
  {
   "cell_type": "code",
   "execution_count": 109,
   "metadata": {},
   "outputs": [],
   "source": [
    "ins = \"INSERT INTO zoo (critter, count, damages) VALUES(?, ?, ?)\""
   ]
  },
  {
   "cell_type": "code",
   "execution_count": 110,
   "metadata": {},
   "outputs": [
    {
     "data": {
      "text/plain": [
       "<sqlite3.Cursor at 0x2195d620c00>"
      ]
     },
     "execution_count": 110,
     "metadata": {},
     "output_type": "execute_result"
    }
   ],
   "source": [
    "curs.execute(ins,(\"weasel\", 1, 2000.0))"
   ]
  },
  {
   "cell_type": "markdown",
   "metadata": {},
   "source": [
    "データの挿入にはプレースホルダーという方法を使ったより安全な方法があり、この方法を使えば繰り返しデータを挿入する際に簡略できることに加え、SQLインジェクション(システムに悪意のあるSQLコマンドを送り込む外部からの攻撃)からシステムを守ってくれる  \n",
    "やり方は、まず挿入するデータの値を？にしたSQLコマンドを変数に代入する  \n",
    "その変数を実際にSQLコマンドを渡すところに第一引数として渡し、第二引数として？の数に合うようにデータを入れたタプルを渡すことでできる"
   ]
  },
  {
   "cell_type": "code",
   "execution_count": 111,
   "metadata": {},
   "outputs": [
    {
     "data": {
      "text/plain": [
       "<sqlite3.Cursor at 0x2195d620c00>"
      ]
     },
     "execution_count": 111,
     "metadata": {},
     "output_type": "execute_result"
    }
   ],
   "source": [
    "curs.execute(\"SELECT * FROM zoo\")"
   ]
  },
  {
   "cell_type": "code",
   "execution_count": 112,
   "metadata": {},
   "outputs": [
    {
     "name": "stdout",
     "output_type": "stream",
     "text": [
      "[('duck', 5, 0.0), ('bear', 2, 1000.0), ('weasel', 1, 2000.0)]\n"
     ]
    }
   ],
   "source": [
    "rows = curs.fetchall()\n",
    "print(rows)"
   ]
  },
  {
   "cell_type": "markdown",
   "metadata": {},
   "source": [
    "上ではすべてのデータを取り出してみるために、まずSQLコマンドのSELECT文を使ってzooテーブルのすべての行と列を選択している  \n",
    "そのあとcursorオブジェクトの fetchall メソッドを使ってデータをすべて変数に代入している"
   ]
  },
  {
   "cell_type": "code",
   "execution_count": 113,
   "metadata": {},
   "outputs": [
    {
     "data": {
      "text/plain": [
       "<sqlite3.Cursor at 0x2195d620c00>"
      ]
     },
     "execution_count": 113,
     "metadata": {},
     "output_type": "execute_result"
    }
   ],
   "source": [
    "curs.execute(\"SELECT * FROM zoo ORDER BY count\")"
   ]
  },
  {
   "cell_type": "code",
   "execution_count": 114,
   "metadata": {},
   "outputs": [
    {
     "data": {
      "text/plain": [
       "[('weasel', 1, 2000.0), ('bear', 2, 1000.0), ('duck', 5, 0.0)]"
      ]
     },
     "execution_count": 114,
     "metadata": {},
     "output_type": "execute_result"
    }
   ],
   "source": [
    "curs.fetchall()"
   ]
  },
  {
   "cell_type": "code",
   "execution_count": 115,
   "metadata": {},
   "outputs": [
    {
     "data": {
      "text/plain": [
       "<sqlite3.Cursor at 0x2195d620c00>"
      ]
     },
     "execution_count": 115,
     "metadata": {},
     "output_type": "execute_result"
    }
   ],
   "source": [
    "curs.execute(\"SELECT * FROM zoo ORDER BY count DESC\")"
   ]
  },
  {
   "cell_type": "code",
   "execution_count": 116,
   "metadata": {},
   "outputs": [
    {
     "data": {
      "text/plain": [
       "[('duck', 5, 0.0), ('bear', 2, 1000.0), ('weasel', 1, 2000.0)]"
      ]
     },
     "execution_count": 116,
     "metadata": {},
     "output_type": "execute_result"
    }
   ],
   "source": [
    "curs.fetchall()"
   ]
  },
  {
   "cell_type": "markdown",
   "metadata": {},
   "source": [
    "上では個体順(count順)に行(レコード)を並び替え(ソート)している  \n",
    "SELECT文で行と列の全体を選択してORDER BYの後に並び替えの基準にする列名を渡すことで並び替えできる  \n",
    "デフォルトでは昇順(ASC)になっているため、降順にするにいはDESCを列名の後の最後のところに渡すことでできる"
   ]
  },
  {
   "cell_type": "code",
   "execution_count": 117,
   "metadata": {},
   "outputs": [
    {
     "data": {
      "text/plain": [
       "<sqlite3.Cursor at 0x2195d620c00>"
      ]
     },
     "execution_count": 117,
     "metadata": {},
     "output_type": "execute_result"
    }
   ],
   "source": [
    "curs.execute(\"\"\"SELECT * FROM zoo WHERE damages = (SELECT MAX(damages) FROM zoo)\"\"\")"
   ]
  },
  {
   "cell_type": "code",
   "execution_count": 118,
   "metadata": {},
   "outputs": [
    {
     "data": {
      "text/plain": [
       "[('weasel', 1, 2000.0)]"
      ]
     },
     "execution_count": 118,
     "metadata": {},
     "output_type": "execute_result"
    }
   ],
   "source": [
    "curs.fetchall()"
   ]
  },
  {
   "cell_type": "markdown",
   "metadata": {},
   "source": [
    "上ではdamagesの値が一番大きい行のデータを取得している  \n",
    "右のSELECT文の中でdamagesが最大(MAX)のものの値を探し、左のSELECT文の中でdamagesが右のSELECT文で見つけた値と同じものを選択している"
   ]
  },
  {
   "cell_type": "code",
   "execution_count": 119,
   "metadata": {},
   "outputs": [],
   "source": [
    "curs.close()\n",
    "conn.close()"
   ]
  },
  {
   "cell_type": "markdown",
   "metadata": {},
   "source": [
    "SQLiteを使い終わった後は接続とカーソルをcloseで終了する必要がある"
   ]
  },
  {
   "cell_type": "markdown",
   "metadata": {},
   "source": [
    "## 8.4.6  SQLAlchemy"
   ]
  },
  {
   "cell_type": "markdown",
   "metadata": {},
   "source": [
    "個々のデータベースは機能や哲学を反映した別々のSQLを使用している  \n",
    "DB-APIでカバーできるのは共通のAPIまででありほかのレベルは扱えない  \n",
    "そのようなクロスデータベースを扱えるのが SQLAlchemy になる  \n",
    "SQLAlchemyは複数のレベルが扱える  \n",
    "- 最も低いレベルでは、データベース接続のプール、SQLコマンドの実行、結果の処理をリターンを処理する(DB-APIに近い)\n",
    "- 次のレベルは、SQLの文をPythonの式として表現するSQL表現言語である\n",
    "- もっとも高いレベルは、ORM(Object Relational Mapping)レイヤである。このレイヤはSQL表現言語を使ってアプリケーションコードとリレーショナルデータ構造を結びつける\n",
    "\n",
    "SQLAlchemyは最初に渡す接続文字列によってどのドライバが必要なのかを判断するのでドライバをインストールする必要がない  \n",
    "接続文字列は次のようになっている  \n",
    "*dialect* + *driver* :// *user* : *password@host* : *port* / *dbname*  \n",
    "- *dialect* : データベースのタイプ\n",
    "- *driver* : そのデータベースに対して使いたいと思っているドライバ\n",
    "- *user*と*password* : データベースの認証文字列\n",
    "- *host*と*port* : データベースサーバーの位置(: *port*は、デフォルトのポートなら不要)\n",
    "- *dbname* : 最初に接続するサーバー上のデータベース  \n",
    "SQLAlchemyの接続先\n",
    "\n",
    "|方言|ドライバ|\n",
    "|:-|:-|\n",
    "|sqlite|pysqlite(または省略)|\n",
    "|mysql|mysqlconnector|\n",
    "|mysql|pymysql|\n",
    "|mysql|oursql|\n",
    "|postgresql|psycopg2|\n",
    "|postgresql|pypostgresql|"
   ]
  },
  {
   "cell_type": "markdown",
   "metadata": {},
   "source": [
    "### 8.4.6.1  エンジンレイヤ"
   ]
  },
  {
   "cell_type": "markdown",
   "metadata": {},
   "source": [
    "まずSQLAlchemyの最も低いレベルを試してみる(これはDB-APIとあまり変わらない)  \n",
    "SQLiteのための接続文字列は*host*,*port*,*user*,*password*は不要で、*dbname*にはどのファイルにデータベースを格納するのかをSQLiteに知らせる"
   ]
  },
  {
   "cell_type": "code",
   "execution_count": 120,
   "metadata": {},
   "outputs": [],
   "source": [
    "import sqlalchemy as sa"
   ]
  },
  {
   "cell_type": "code",
   "execution_count": 121,
   "metadata": {},
   "outputs": [],
   "source": [
    "conn = sa.create_engine(\"sqlite://\")"
   ]
  },
  {
   "cell_type": "code",
   "execution_count": 122,
   "metadata": {},
   "outputs": [
    {
     "data": {
      "text/plain": [
       "<sqlalchemy.engine.result.ResultProxy at 0x2195d44f148>"
      ]
     },
     "execution_count": 122,
     "metadata": {},
     "output_type": "execute_result"
    }
   ],
   "source": [
    "conn.execute(\"\"\"CREATE TABLE zoo\n",
    "(critter VARCHAR(20) PRIMARY KEY,\n",
    "count INT,\n",
    "damages FLOAT)\"\"\")"
   ]
  },
  {
   "cell_type": "markdown",
   "metadata": {},
   "source": [
    "sqlalchemyの create_engine 関数に上のようにデータベースのタイプをaqliteに指定して(ドライバを省略することでsqliteに指定)メモリ内にストレージを作り、engine オブジェクト(connectオブジェクトやcorsorオブジェクトのようなもの)を変数に代入している  \n",
    "次にengineオブジェクトのexecuteメソッドを呼び出して前と同じようにzooというテーブルを作り、critter、count、damagesの列を作っている  \n",
    "executeメソッドを使うとResultProxyオブジェクトが返って来る(使い方は後程)"
   ]
  },
  {
   "cell_type": "code",
   "execution_count": 123,
   "metadata": {},
   "outputs": [],
   "source": [
    "ins = \"INSERT INTO zoo (critter, count, damages) VALUES (?, ?, ?)\""
   ]
  },
  {
   "cell_type": "code",
   "execution_count": 124,
   "metadata": {},
   "outputs": [
    {
     "data": {
      "text/plain": [
       "<sqlalchemy.engine.result.ResultProxy at 0x2195da6ae88>"
      ]
     },
     "execution_count": 124,
     "metadata": {},
     "output_type": "execute_result"
    }
   ],
   "source": [
    "conn.execute(ins, (\"duck\", 10, 0.0))\n",
    "conn.execute(ins, (\"bear\", 2, 1000.0))\n",
    "conn.execute(ins, (\"weasel\", 1, 2000.0))"
   ]
  },
  {
   "cell_type": "markdown",
   "metadata": {},
   "source": [
    "ここも前回と同じようにプレースホルダーという方法を使ったデータの挿入をしている"
   ]
  },
  {
   "cell_type": "code",
   "execution_count": 125,
   "metadata": {},
   "outputs": [],
   "source": [
    "rows = conn.execute(\"SELECT * FROM zoo\")"
   ]
  },
  {
   "cell_type": "code",
   "execution_count": 126,
   "metadata": {},
   "outputs": [
    {
     "name": "stdout",
     "output_type": "stream",
     "text": [
      "<sqlalchemy.engine.result.ResultProxy object at 0x000002195DA63988>\n"
     ]
    }
   ],
   "source": [
    "print(rows)"
   ]
  },
  {
   "cell_type": "code",
   "execution_count": 127,
   "metadata": {},
   "outputs": [
    {
     "name": "stdout",
     "output_type": "stream",
     "text": [
      "('duck', 10, 0.0)\n",
      "('bear', 2, 1000.0)\n",
      "('weasel', 1, 2000.0)\n"
     ]
    }
   ],
   "source": [
    "for row in rows:\n",
    "    print(row)"
   ]
  },
  {
   "cell_type": "markdown",
   "metadata": {},
   "source": [
    "今回は前回のように選択した範囲のデータをそのまま出力しようとしたがオブジェクト名が返されただけでデータの内容を出力できなかった  \n",
    "しかし、イテレータとしてfor文に渡してあげることで出力できる"
   ]
  },
  {
   "cell_type": "markdown",
   "metadata": {},
   "source": [
    "### 8.4.6.2  SQL表現言語"
   ]
  },
  {
   "cell_type": "markdown",
   "metadata": {},
   "source": [
    "次のレベルはSQLAlchemyのSQL表現言語で、さまざまな操作のためのSQLを作る関数が入っている  \n",
    "表現言語は多くのSQLの種類の違いに対処する仕事をしているため、リレーショナルデータベースアプリケーションに値する中間的なアプローチとして便利に使える"
   ]
  },
  {
   "cell_type": "code",
   "execution_count": 128,
   "metadata": {},
   "outputs": [],
   "source": [
    "import sqlalchemy as sa\n",
    "conn = sa.create_engine(\"sqlite://\")"
   ]
  },
  {
   "cell_type": "markdown",
   "metadata": {},
   "source": [
    "接続はさっきと同じようにする"
   ]
  },
  {
   "cell_type": "code",
   "execution_count": 129,
   "metadata": {},
   "outputs": [],
   "source": [
    "meta = sa.MetaData()"
   ]
  },
  {
   "cell_type": "code",
   "execution_count": 130,
   "metadata": {},
   "outputs": [],
   "source": [
    "zoo = sa.Table(\"zoo\", meta,\n",
    "              sa.Column(\"critter\", sa.String, primary_key=True),\n",
    "              sa.Column(\"count\", sa.Integer),\n",
    "              sa.Column(\"damages\", sa.Float)\n",
    "              )"
   ]
  },
  {
   "cell_type": "code",
   "execution_count": 131,
   "metadata": {},
   "outputs": [],
   "source": [
    "meta.create_all(conn)"
   ]
  },
  {
   "cell_type": "markdown",
   "metadata": {},
   "source": [
    "zooテーブルの定義にSQLではなく、表現言語を使うと上のようになる  \n",
    "まずSQLAlchemyの MetaData 関数を呼び出して metadata オブジェクトを作る  \n",
    "そしてSQLAlchemyの Table 関数にテーブル名、作成したmetadataオブジェクト、columnオブジェクトを渡すことで table オブジェクトを作成し変数に代入している  \n",
    "column オブジェクトはSQLAlchemyの Column 関数に列の名前、SQLAlchemyのアトリビュートのデータ型、(critterはprimary_ley(主キー)をTrueにしている)を渡すことでできる\n",
    "\n",
    "そして、metadataオブジェクトの create_all 関数にengineオブジェクト(connectオブジェクトのようなもの)を渡すことでテーブルを作成する"
   ]
  },
  {
   "cell_type": "code",
   "execution_count": 132,
   "metadata": {},
   "outputs": [
    {
     "data": {
      "text/plain": [
       "<sqlalchemy.engine.result.ResultProxy at 0x2195da63408>"
      ]
     },
     "execution_count": 132,
     "metadata": {},
     "output_type": "execute_result"
    }
   ],
   "source": [
    "conn.execute(zoo.insert((\"bear\", 2, 1000.0)))\n",
    "conn.execute(zoo.insert((\"weasel\", 1, 2000.0)))\n",
    "conn.execute(zoo.insert((\"duck\", 10, 0.0)))"
   ]
  },
  {
   "cell_type": "markdown",
   "metadata": {},
   "source": [
    "表現言語のデータの挿入は、engineオブジェクトのexecuteメソッドに insert オブジェクトを渡すことでできる  \n",
    "insertオブジェクトは、tableオブジェクトの insert メソッドに列の数のデータが入ったタプルを渡すことでできる"
   ]
  },
  {
   "cell_type": "code",
   "execution_count": 133,
   "metadata": {},
   "outputs": [],
   "source": [
    "result = conn.execute(zoo.select())"
   ]
  },
  {
   "cell_type": "code",
   "execution_count": 134,
   "metadata": {},
   "outputs": [],
   "source": [
    "rows = result.fetchall()"
   ]
  },
  {
   "cell_type": "code",
   "execution_count": 135,
   "metadata": {},
   "outputs": [
    {
     "name": "stdout",
     "output_type": "stream",
     "text": [
      "[('bear', 2, 1000.0), ('weasel', 1, 2000.0), ('duck', 10, 0.0)]\n"
     ]
    }
   ],
   "source": [
    "print(rows)"
   ]
  },
  {
   "cell_type": "markdown",
   "metadata": {},
   "source": [
    "表現言語でデータを出力するには、engineオブジェクトのexecuteメソッドにtableオブジェクトの select メソッド(SELECT \\* FROM zooと同じような意味)を渡すことでできる result オブジェクトを使う  \n",
    "resultオブジェクトのfetchallメソッドを使うことですべての行のデータを取得できる"
   ]
  },
  {
   "cell_type": "markdown",
   "metadata": {},
   "source": [
    "### 8.4.6.3  ORM"
   ]
  },
  {
   "cell_type": "markdown",
   "metadata": {},
   "source": [
    "ORM(オブジェクト関係マッピング)はSQL表現言語を使うが、実際のデータベースのメカニズムはユーザーには見えない  \n",
    "クラスを定義するとORMがデータベースとのやりとりをすべてしてくれるからだ  \n",
    "オブジェクト関係マッピングの基本的な考え方は、リレーショナルデータベースを使いつつ、コード内でオブジェクトを参照し、Python的なやり方でコードを書き続けられるということだ  \n",
    "zooクラスを定義してそれをORMに結びつけて、SQLiteにzoo.dbファイルを使わせてORMが機能しているかを確かめていく"
   ]
  },
  {
   "cell_type": "code",
   "execution_count": 136,
   "metadata": {},
   "outputs": [],
   "source": [
    "import sqlalchemy as sa\n",
    "from sqlalchemy.ext.declarative import declarative_base"
   ]
  },
  {
   "cell_type": "code",
   "execution_count": 137,
   "metadata": {},
   "outputs": [],
   "source": [
    "conn = sa.create_engine(\"sqlite:///{}\".format(r\".\\pydata\\zoo.db\"))"
   ]
  },
  {
   "cell_type": "markdown",
   "metadata": {},
   "source": [
    "接続は今までと同じようにしているが、ひとつ追加でsqlalchemy.ext.declarativeのdeclarative_baseをインポートしている  \n",
    "また、ファイルに保存するようにzoo.dbファイルを作成している"
   ]
  },
  {
   "cell_type": "code",
   "execution_count": 138,
   "metadata": {},
   "outputs": [],
   "source": [
    "Base = declarative_base()"
   ]
  },
  {
   "cell_type": "code",
   "execution_count": 139,
   "metadata": {},
   "outputs": [],
   "source": [
    "class Zoo(Base):\n",
    "    __tablename__ = \"zoo\"\n",
    "    critter = sa.Column(\"critter\", sa.String, primary_key=True)\n",
    "    count = sa.Column(\"count\", sa.Integer)\n",
    "    damages = sa.Column(\"damages\", sa.Float)\n",
    "    def __init__(self, critter, count, damages):\n",
    "        self.critter = critter\n",
    "        self.count = count\n",
    "        self.damages = damages\n",
    "    def __repr__(self):\n",
    "        return \"<zoo({}, {}, {})>\".format(self.critter, self.count, self.damages)"
   ]
  },
  {
   "cell_type": "code",
   "execution_count": 140,
   "metadata": {},
   "outputs": [],
   "source": [
    "Base.metadata.create_all(conn)"
   ]
  },
  {
   "cell_type": "markdown",
   "metadata": {},
   "source": [
    "ここからORMの作業に入っていく  \n",
    "まず、インポートした declarative 関数を呼び、Base オブジェクトを作成する  \n",
    "class文でZooクラスを作り作成したBaseオブジェクトを継承先にする  \n",
    "\\_\\_table\\_\\_にテーブル名を代入する  \n",
    "それぞれのcolumnオブジェクトを作成し変数に代入する  \n",
    "初期化メソッドの引数に入れたい列のcolumnオブジェクトを入れるようにして作る  \n",
    "\\_\\_repr\\_\\_メソッドでクラスオブジェクトが呼ばれたときにどのように表示するかを定義する\n",
    "\n",
    "クラスの定義が終わったら、Baseオブジェクトのmetadata.create_allメソッドにengineオブジェクトを渡してデータベースとテーブルをまとめて作成する"
   ]
  },
  {
   "cell_type": "code",
   "execution_count": 141,
   "metadata": {},
   "outputs": [],
   "source": [
    "first = Zoo(\"duck\", 10, 0.0)\n",
    "second = Zoo(\"bear\", 2, 1000.0)\n",
    "third = Zoo(\"weasel\", 1, 2000.0)"
   ]
  },
  {
   "cell_type": "code",
   "execution_count": 142,
   "metadata": {},
   "outputs": [
    {
     "data": {
      "text/plain": [
       "<zoo(duck, 10, 0.0)>"
      ]
     },
     "execution_count": 142,
     "metadata": {},
     "output_type": "execute_result"
    }
   ],
   "source": [
    "first"
   ]
  },
  {
   "cell_type": "markdown",
   "metadata": {},
   "source": [
    "データを挿入する準備として先ほど定義したクラスオブジェクトを作成する"
   ]
  },
  {
   "cell_type": "code",
   "execution_count": 143,
   "metadata": {},
   "outputs": [],
   "source": [
    "from sqlalchemy.orm import sessionmaker"
   ]
  },
  {
   "cell_type": "code",
   "execution_count": 144,
   "metadata": {},
   "outputs": [],
   "source": [
    "Session = sessionmaker(bind=conn)"
   ]
  },
  {
   "cell_type": "code",
   "execution_count": 145,
   "metadata": {},
   "outputs": [],
   "source": [
    "session = Session()"
   ]
  },
  {
   "cell_type": "markdown",
   "metadata": {},
   "source": [
    "次の準備として session オブジェクトを作る  \n",
    "そのためにsqlalchemy.ormからsessionmaker関数をインポートして、sessionmaker のキーワード引数 bind にengineオブジェクトを指定してsessionmaker オブジェクトを作成する  \n",
    "sessionmakerオブジェクトにかっこをつけてそのまま呼ぶことで sessionオブジェクトを作成する"
   ]
  },
  {
   "cell_type": "code",
   "execution_count": 146,
   "metadata": {},
   "outputs": [],
   "source": [
    "session.add(first)"
   ]
  },
  {
   "cell_type": "code",
   "execution_count": 147,
   "metadata": {},
   "outputs": [],
   "source": [
    "session.add_all([second, third])"
   ]
  },
  {
   "cell_type": "markdown",
   "metadata": {},
   "source": [
    "用意したsessionオブジェクトの add メソッドにデータの入ったクラスオブジェクトを渡すことでデータを挿入できる  \n",
    "sessionオブジェクトの add_all メソッドにデータの入ったクラスオブジェクトのリストを渡すことでまとめてデータを挿入することもできる"
   ]
  },
  {
   "cell_type": "code",
   "execution_count": 148,
   "metadata": {},
   "outputs": [],
   "source": [
    "session.commit()"
   ]
  },
  {
   "cell_type": "markdown",
   "metadata": {},
   "source": [
    "sessionオブジェクトの commit メソッドを呼び出すことで内容をセーブし強制的に処理を完了させる"
   ]
  },
  {
   "cell_type": "markdown",
   "metadata": {},
   "source": [
    "$ C:\\Users\\kumak\\pydata>*sqlite3 zoo.db*  \n",
    "SQLite version 3.31.1 2020-01-27 19:55:54  \n",
    "Enter \".help\" for usage hints.  \n",
    "sqlite> *.tables*  \n",
    "zoo  \n",
    "sqlite> *select * from zoo;*  \n",
    "duck|10|0.0  \n",
    "bear|2|1000.0  \n",
    "weasel|1|2000.0  \n",
    "sqlite>  "
   ]
  },
  {
   "cell_type": "markdown",
   "metadata": {},
   "source": [
    "上のようにコマンドプロンプトで入力することで実際にdbファイルにデータが入っていることがわかる"
   ]
  },
  {
   "cell_type": "markdown",
   "metadata": {},
   "source": [
    "# 8.5  NoSQLデータストア"
   ]
  },
  {
   "cell_type": "markdown",
   "metadata": {},
   "source": [
    "一部のデータベースはリレーショナルではなく、SQLとは違う形でデータベースを管理している  \n",
    "これらは、非常に大きなデータセットの処理、柔軟なデータ定義、カスタムデータ処理のサポートなどを目的として作られていてNoSQLと呼ばれている"
   ]
  },
  {
   "cell_type": "markdown",
   "metadata": {},
   "source": [
    "## 8.5.1  dbmファミリ"
   ]
  },
  {
   "cell_type": "markdown",
   "metadata": {},
   "source": [
    "dbm形式はキーバリューの組で作られ、ウェブブラウザなどのアプリケーションで様々な設定を維持・管理するために組み込まれることが多い  \n",
    "dbmデータストアは次のような性質を持っていて、Pythonの辞書に似ている  \n",
    "- キーに値を代入でき、代入された値は自動的にディスク上のデータベースに保存される  \n",
    "- キーを値から取得できる"
   ]
  },
  {
   "cell_type": "code",
   "execution_count": 149,
   "metadata": {},
   "outputs": [],
   "source": [
    "import dbm"
   ]
  },
  {
   "cell_type": "code",
   "execution_count": 150,
   "metadata": {},
   "outputs": [],
   "source": [
    "db = dbm.open(r\".\\pydata\\definitions\",\"c\")"
   ]
  },
  {
   "cell_type": "markdown",
   "metadata": {},
   "source": [
    "まず dbm をインポートして、関数の open にファイル名と書き込みと読み込み両方ができる cモード で開いている  \n",
    "そして返されるdbmの database オブジェクトを変数に代入している"
   ]
  },
  {
   "cell_type": "code",
   "execution_count": 151,
   "metadata": {},
   "outputs": [],
   "source": [
    "db[\"mustard\"] = \"yellow\"\n",
    "db[\"ketchup\"] = \"red\"\n",
    "db[\"pesto\"] = \"green\""
   ]
  },
  {
   "cell_type": "code",
   "execution_count": 152,
   "metadata": {},
   "outputs": [
    {
     "data": {
      "text/plain": [
       "3"
      ]
     },
     "execution_count": 152,
     "metadata": {},
     "output_type": "execute_result"
    }
   ],
   "source": [
    "len(db)"
   ]
  },
  {
   "cell_type": "code",
   "execution_count": 153,
   "metadata": {},
   "outputs": [
    {
     "data": {
      "text/plain": [
       "b'green'"
      ]
     },
     "execution_count": 153,
     "metadata": {},
     "output_type": "execute_result"
    }
   ],
   "source": [
    "db[\"pesto\"]"
   ]
  },
  {
   "cell_type": "markdown",
   "metadata": {},
   "source": [
    "ファイルにデータを保存するにはdatabaseオブジェクトに入れたいキーを指定して、値を代入するだけでできる  \n",
    "lenを使えばデータ数、databaseオブジェクトに存在するキーを指定すれば値をバイト型で返してくれる"
   ]
  },
  {
   "cell_type": "code",
   "execution_count": 154,
   "metadata": {},
   "outputs": [],
   "source": [
    "db.close()"
   ]
  },
  {
   "cell_type": "markdown",
   "metadata": {},
   "source": [
    "databaseオブジェクトの close メソッドを呼べば処理を終了、保存できる(ファイルが3つ作られる)"
   ]
  },
  {
   "cell_type": "code",
   "execution_count": 155,
   "metadata": {},
   "outputs": [],
   "source": [
    "db = dbm.open(r\".\\pydata\\definitions\",\"r\")"
   ]
  },
  {
   "cell_type": "code",
   "execution_count": 156,
   "metadata": {},
   "outputs": [],
   "source": [
    "data = db[\"mustard\"]"
   ]
  },
  {
   "cell_type": "code",
   "execution_count": 157,
   "metadata": {},
   "outputs": [
    {
     "data": {
      "text/plain": [
       "'yellow'"
      ]
     },
     "execution_count": 157,
     "metadata": {},
     "output_type": "execute_result"
    }
   ],
   "source": [
    "data.decode(\"utf-8\")"
   ]
  },
  {
   "cell_type": "markdown",
   "metadata": {},
   "source": [
    "今度は読み込み専用でdatabaseオブジェクトを作り、キーを与えてみるとしっかり値が返ってくることから、ファイルに保存されていることがわかる"
   ]
  },
  {
   "cell_type": "markdown",
   "metadata": {},
   "source": [
    "## 8.5.2  memcached"
   ]
  },
  {
   "cell_type": "markdown",
   "metadata": {},
   "source": [
    "memcachedはキーと値のための高速なインメモリのキャッシュサーバーで、データベースの前処理や、ウェブサーバーのセッションデータの格納に使われたりすることが多い  \n",
    "http://bit.ly/memcache-win でダウンロードできる  \n",
    "実際に使うにはmemcachedサーバーとPythonドライバが必要である  \n",
    "Pythonドライバとしては python3-memcached がありサードパーティとしてpipを使ってダウンロードする必要がある"
   ]
  },
  {
   "cell_type": "markdown",
   "metadata": {},
   "source": [
    "memcachedを使うには、memcachedサーバーに接続する必要があり、接続後は次のようなことができる\n",
    "- キーを指定した値の取得・設定\n",
    "- 値のインクリメント、デクリメント\n",
    "- キーの削除"
   ]
  },
  {
   "cell_type": "markdown",
   "metadata": {},
   "source": [
    "memcachedのデータは永続的ではなく、早い段階から書き込んだデータから消える場合がある  \n",
    "これは本質的な特徴で、だからこそキャッシュサーバーなのである  \n",
    "次のサンプルコードでは、同じコンピュータ上のひとつのmemcachedサーバーとだけやり取りするようにしている"
   ]
  },
  {
   "cell_type": "markdown",
   "metadata": {},
   "source": [
    "`import memcache\n",
    " db = memcache.Client([\"127.0.0.1:11211\"])\n",
    " db.set(\"marco\",\"polo\")`  \n",
    "True  \n",
    "`db.get(\"marco\")`  \n",
    "'polo'  \n",
    "`db.set(\"dicks\", 0)`  \n",
    "True  \n",
    "`db.get(\"ducks\")`  \n",
    "0  \n",
    "`db.incr(\"ducks\", 2)`  \n",
    "2  \n",
    "`db.get(\"ducks\")`  \n",
    "2"
   ]
  },
  {
   "cell_type": "markdown",
   "metadata": {},
   "source": [
    "memcache をインポートし、関数のClientにローカルなIPアドレスを渡して memcached サーバーと接続、databaseオブジェクトを変数に代入している  \n",
    "databaseオブジェクトの set メソッドにキーとバリューを引数として渡してデータを保存  \n",
    "databaseオブジェクトの get メソッドに取得したい値のキーを渡して値を取得  \n",
    "databaseオブジェクトの incr メソッドで変更したい値のキーと値を入れることで値を変更"
   ]
  },
  {
   "cell_type": "markdown",
   "metadata": {},
   "source": [
    "## 8.5.3  Redis"
   ]
  },
  {
   "cell_type": "markdown",
   "metadata": {},
   "source": [
    "Redisはmemcacheと同じデータ構造サーバーだが、memcacheと異なり次のことを実行できる  \n",
    "- ディスクにデータを保存できるので信頼性が高く、再起動ができる\n",
    "- 古いデータを消さずに残しておける\n",
    "- 単純な文字列以外のデータ構造もある  \n",
    "\n",
    "Redisのデータ型はPythonのデータ型に非常に近く、Redisサーバーはひとつあるいは複数のPythonアプリケーションがデータを共有するための便利な中間媒体になり得る  \n",
    "Pythonドライバのredis-pyはGitHubにソースコードとテストを置いており、オンラインドキュメントもある  \n",
    "pipを使えばredisをダウンロードできる"
   ]
  },
  {
   "cell_type": "markdown",
   "metadata": {},
   "source": [
    "windowsだとサポートされてないので https://github.com/MicrosoftArchive/redis/releases からzipファイルをインストールして、redis-server.exe ファイルを起動して許可を出す必要がある"
   ]
  },
  {
   "cell_type": "markdown",
   "metadata": {},
   "source": [
    "### 8.5.3.1  文字列"
   ]
  },
  {
   "cell_type": "code",
   "execution_count": 161,
   "metadata": {},
   "outputs": [],
   "source": [
    "import redis"
   ]
  },
  {
   "cell_type": "code",
   "execution_count": 162,
   "metadata": {},
   "outputs": [],
   "source": [
    "conn = redis.Redis()"
   ]
  },
  {
   "cell_type": "markdown",
   "metadata": {},
   "source": [
    "まず redis をインポートする  \n",
    "次にredisの Redis 関数を使ってRedisサーバーに接続して、redisオブジェクトを作成する  \n",
    "Redis関数の引数はなんらかのホストとなんらかのポートで、デフォルトはlocalhostと6379であり、空欄だとRedis(localhost, 6379)と同じになる  "
   ]
  },
  {
   "cell_type": "code",
   "execution_count": 163,
   "metadata": {},
   "outputs": [
    {
     "data": {
      "text/plain": [
       "[b'logins',\n",
       " b'2013-02-26',\n",
       " b'sdiff_animal',\n",
       " b'carats',\n",
       " b'2013-02-27',\n",
       " b'fever',\n",
       " b'zoo',\n",
       " b'song',\n",
       " b'cordial',\n",
       " b'animal',\n",
       " b'sunion_animal',\n",
       " b'test',\n",
       " b'pie',\n",
       " b'2013-02-25',\n",
       " b'secret',\n",
       " b'another_animal',\n",
       " b'sinter_animal']"
      ]
     },
     "execution_count": 163,
     "metadata": {},
     "output_type": "execute_result"
    }
   ],
   "source": [
    "conn.keys(\"*\")"
   ]
  },
  {
   "cell_type": "markdown",
   "metadata": {},
   "source": [
    "全てのキーのリストを表示するには上のようにすることで得られる"
   ]
  },
  {
   "cell_type": "code",
   "execution_count": 164,
   "metadata": {},
   "outputs": [
    {
     "data": {
      "text/plain": [
       "True"
      ]
     },
     "execution_count": 164,
     "metadata": {},
     "output_type": "execute_result"
    }
   ],
   "source": [
    "conn.set(\"secret\",\"ni!\")"
   ]
  },
  {
   "cell_type": "code",
   "execution_count": 165,
   "metadata": {},
   "outputs": [
    {
     "data": {
      "text/plain": [
       "True"
      ]
     },
     "execution_count": 165,
     "metadata": {},
     "output_type": "execute_result"
    }
   ],
   "source": [
    "conn.set(\"carats\",24)"
   ]
  },
  {
   "cell_type": "code",
   "execution_count": 166,
   "metadata": {},
   "outputs": [
    {
     "data": {
      "text/plain": [
       "True"
      ]
     },
     "execution_count": 166,
     "metadata": {},
     "output_type": "execute_result"
    }
   ],
   "source": [
    "conn.set(\"fever\",\"101.5\")"
   ]
  },
  {
   "cell_type": "markdown",
   "metadata": {},
   "source": [
    "redisオブジェクトの set メソッドに書き込みたいキーと値を渡すことででき、成功するとTrueが返ってくる"
   ]
  },
  {
   "cell_type": "code",
   "execution_count": 167,
   "metadata": {},
   "outputs": [
    {
     "data": {
      "text/plain": [
       "b'ni!'"
      ]
     },
     "execution_count": 167,
     "metadata": {},
     "output_type": "execute_result"
    }
   ],
   "source": [
    "conn.get(\"secret\")"
   ]
  },
  {
   "cell_type": "code",
   "execution_count": 168,
   "metadata": {},
   "outputs": [
    {
     "data": {
      "text/plain": [
       "b'24'"
      ]
     },
     "execution_count": 168,
     "metadata": {},
     "output_type": "execute_result"
    }
   ],
   "source": [
    "conn.get(\"carats\")"
   ]
  },
  {
   "cell_type": "code",
   "execution_count": 169,
   "metadata": {},
   "outputs": [
    {
     "data": {
      "text/plain": [
       "b'101.5'"
      ]
     },
     "execution_count": 169,
     "metadata": {},
     "output_type": "execute_result"
    }
   ],
   "source": [
    "conn.get(\"fever\")"
   ]
  },
  {
   "cell_type": "markdown",
   "metadata": {},
   "source": [
    "redisオブジェクトの get メソッドに読み出したいキーを渡すことで値を取り出すことができる(バイト文字列)"
   ]
  },
  {
   "cell_type": "code",
   "execution_count": 170,
   "metadata": {},
   "outputs": [
    {
     "data": {
      "text/plain": [
       "False"
      ]
     },
     "execution_count": 170,
     "metadata": {},
     "output_type": "execute_result"
    }
   ],
   "source": [
    "conn.setnx(\"secret\",\"icky\")"
   ]
  },
  {
   "cell_type": "code",
   "execution_count": 171,
   "metadata": {},
   "outputs": [
    {
     "data": {
      "text/plain": [
       "True"
      ]
     },
     "execution_count": 171,
     "metadata": {},
     "output_type": "execute_result"
    }
   ],
   "source": [
    "conn.setnx(\"natto\",\"icky\")"
   ]
  },
  {
   "cell_type": "markdown",
   "metadata": {},
   "source": [
    "redisオブジェクトの setnx メソッドは、渡したキーが存在する場合は値を書き込まずにFalseを返し、渡したキーが存在しない場合は第二引数に渡した値を書き込みTrueを返す"
   ]
  },
  {
   "cell_type": "code",
   "execution_count": 172,
   "metadata": {},
   "outputs": [
    {
     "data": {
      "text/plain": [
       "b'icky'"
      ]
     },
     "execution_count": 172,
     "metadata": {},
     "output_type": "execute_result"
    }
   ],
   "source": [
    "conn.getset(\"natto\",\"icky-icky\")"
   ]
  },
  {
   "cell_type": "code",
   "execution_count": 173,
   "metadata": {},
   "outputs": [
    {
     "data": {
      "text/plain": [
       "b'icky-icky'"
      ]
     },
     "execution_count": 173,
     "metadata": {},
     "output_type": "execute_result"
    }
   ],
   "source": [
    "conn.get(\"natto\")"
   ]
  },
  {
   "cell_type": "markdown",
   "metadata": {},
   "source": [
    "redisオブジェクトの getset メソッドは、渡したキーを取り出した後に第二引数に渡した値を新しい値として書き込む"
   ]
  },
  {
   "cell_type": "code",
   "execution_count": 174,
   "metadata": {},
   "outputs": [
    {
     "data": {
      "text/plain": [
       "b'icky'"
      ]
     },
     "execution_count": 174,
     "metadata": {},
     "output_type": "execute_result"
    }
   ],
   "source": [
    "conn.getrange(\"natto\",-4,-1)"
   ]
  },
  {
   "cell_type": "markdown",
   "metadata": {},
   "source": [
    "redisオブジェクトの getrange メソッドは、渡したキーの値の範囲を指定して表示できる"
   ]
  },
  {
   "cell_type": "code",
   "execution_count": 175,
   "metadata": {},
   "outputs": [
    {
     "data": {
      "text/plain": [
       "9"
      ]
     },
     "execution_count": 175,
     "metadata": {},
     "output_type": "execute_result"
    }
   ],
   "source": [
    "conn.setrange(\"natto\",0,\"ICKY\")"
   ]
  },
  {
   "cell_type": "code",
   "execution_count": 176,
   "metadata": {},
   "outputs": [
    {
     "data": {
      "text/plain": [
       "b'ICKY-icky'"
      ]
     },
     "execution_count": 176,
     "metadata": {},
     "output_type": "execute_result"
    }
   ],
   "source": [
    "conn.get(\"natto\")"
   ]
  },
  {
   "cell_type": "markdown",
   "metadata": {},
   "source": [
    "redisオブジェクトの setrange メソッドは、渡したキーの値のインデックス値の文字列を新しい文字列に書き換えることができる"
   ]
  },
  {
   "cell_type": "code",
   "execution_count": 177,
   "metadata": {},
   "outputs": [
    {
     "data": {
      "text/plain": [
       "True"
      ]
     },
     "execution_count": 177,
     "metadata": {},
     "output_type": "execute_result"
    }
   ],
   "source": [
    "conn.mset({\"pie\":\"cherry\",\"cordial\":\"sherry\"})"
   ]
  },
  {
   "cell_type": "code",
   "execution_count": 178,
   "metadata": {},
   "outputs": [
    {
     "data": {
      "text/plain": [
       "[b'cherry', b'sherry']"
      ]
     },
     "execution_count": 178,
     "metadata": {},
     "output_type": "execute_result"
    }
   ],
   "source": [
    "conn.mget([\"pie\",\"cordial\"])"
   ]
  },
  {
   "cell_type": "markdown",
   "metadata": {},
   "source": [
    "redisオブジェクトの mset メソッドに辞書を渡すことで複数のキーと値を同時に書き込むことができる  \n",
    "redisオブジェクトの mget メソッドにキーのリストを渡すことで複数の値を読み込むことができる"
   ]
  },
  {
   "cell_type": "code",
   "execution_count": 179,
   "metadata": {},
   "outputs": [
    {
     "data": {
      "text/plain": [
       "1"
      ]
     },
     "execution_count": 179,
     "metadata": {},
     "output_type": "execute_result"
    }
   ],
   "source": [
    "conn.delete(\"natto\")"
   ]
  },
  {
   "cell_type": "code",
   "execution_count": 180,
   "metadata": {},
   "outputs": [],
   "source": [
    "conn.get(\"natto\")"
   ]
  },
  {
   "cell_type": "markdown",
   "metadata": {},
   "source": [
    "redisオブジェクトの delete メソッドにキーを渡すことでキーと値を削除することができる"
   ]
  },
  {
   "cell_type": "code",
   "execution_count": 181,
   "metadata": {},
   "outputs": [
    {
     "data": {
      "text/plain": [
       "b'24'"
      ]
     },
     "execution_count": 181,
     "metadata": {},
     "output_type": "execute_result"
    }
   ],
   "source": [
    "conn.get(\"carats\")"
   ]
  },
  {
   "cell_type": "code",
   "execution_count": 182,
   "metadata": {},
   "outputs": [
    {
     "data": {
      "text/plain": [
       "25"
      ]
     },
     "execution_count": 182,
     "metadata": {},
     "output_type": "execute_result"
    }
   ],
   "source": [
    "conn.incr(\"carats\")"
   ]
  },
  {
   "cell_type": "code",
   "execution_count": 183,
   "metadata": {},
   "outputs": [
    {
     "data": {
      "text/plain": [
       "35"
      ]
     },
     "execution_count": 183,
     "metadata": {},
     "output_type": "execute_result"
    }
   ],
   "source": [
    "conn.incr(\"carats\",10)"
   ]
  },
  {
   "cell_type": "code",
   "execution_count": 184,
   "metadata": {},
   "outputs": [
    {
     "data": {
      "text/plain": [
       "34"
      ]
     },
     "execution_count": 184,
     "metadata": {},
     "output_type": "execute_result"
    }
   ],
   "source": [
    "conn.decr(\"carats\")"
   ]
  },
  {
   "cell_type": "code",
   "execution_count": 185,
   "metadata": {},
   "outputs": [
    {
     "data": {
      "text/plain": [
       "19"
      ]
     },
     "execution_count": 185,
     "metadata": {},
     "output_type": "execute_result"
    }
   ],
   "source": [
    "conn.decr(\"carats\",15)"
   ]
  },
  {
   "cell_type": "code",
   "execution_count": 186,
   "metadata": {},
   "outputs": [
    {
     "data": {
      "text/plain": [
       "b'19'"
      ]
     },
     "execution_count": 186,
     "metadata": {},
     "output_type": "execute_result"
    }
   ],
   "source": [
    "conn.get(\"carats\")"
   ]
  },
  {
   "cell_type": "markdown",
   "metadata": {},
   "source": [
    "redisオブジェクトの incr メソッドにキーと数字を渡すことで値の数値を増やすことができる、第二引数の数字を省略すると1だけ足すことができる  \n",
    "redisオブジェクトの decr メソッドにキーと数字を渡すことで値の数値を減らすことができる、第二引数の数字を省略すると1だけ減らすことができる"
   ]
  },
  {
   "cell_type": "code",
   "execution_count": 187,
   "metadata": {},
   "outputs": [
    {
     "data": {
      "text/plain": [
       "102.5"
      ]
     },
     "execution_count": 187,
     "metadata": {},
     "output_type": "execute_result"
    }
   ],
   "source": [
    "conn.incrbyfloat(\"fever\")"
   ]
  },
  {
   "cell_type": "code",
   "execution_count": 188,
   "metadata": {},
   "outputs": [
    {
     "data": {
      "text/plain": [
       "103.0"
      ]
     },
     "execution_count": 188,
     "metadata": {},
     "output_type": "execute_result"
    }
   ],
   "source": [
    "conn.incrbyfloat(\"fever\",0.5)"
   ]
  },
  {
   "cell_type": "code",
   "execution_count": 189,
   "metadata": {},
   "outputs": [
    {
     "data": {
      "text/plain": [
       "101.0"
      ]
     },
     "execution_count": 189,
     "metadata": {},
     "output_type": "execute_result"
    }
   ],
   "source": [
    "conn.incrbyfloat(\"fever\",-2.0)"
   ]
  },
  {
   "cell_type": "markdown",
   "metadata": {},
   "source": [
    "redisオブジェクトの incrbyfloat メソッドにキーと小数点数を渡すことで数値を増やしたり減らしたりすることができる  \n",
    "第二引数を省略することで1.0だけ足すことができる  \n",
    "減らすためのdecrbyfloatメソッドは存在しないので、値を減らしたい場合はマイナスをつけることでできる"
   ]
  },
  {
   "cell_type": "markdown",
   "metadata": {},
   "source": [
    "### 8.5.3.2  リスト"
   ]
  },
  {
   "cell_type": "markdown",
   "metadata": {},
   "source": [
    "Redisリストは文字列しか格納できない  \n",
    "リストは最初の挿入を行ったときに自動で作成される"
   ]
  },
  {
   "cell_type": "code",
   "execution_count": 190,
   "metadata": {},
   "outputs": [
    {
     "data": {
      "text/plain": [
       "5"
      ]
     },
     "execution_count": 190,
     "metadata": {},
     "output_type": "execute_result"
    }
   ],
   "source": [
    "conn.lpush(\"zoo\",\"bear\")"
   ]
  },
  {
   "cell_type": "code",
   "execution_count": 191,
   "metadata": {},
   "outputs": [
    {
     "data": {
      "text/plain": [
       "7"
      ]
     },
     "execution_count": 191,
     "metadata": {},
     "output_type": "execute_result"
    }
   ],
   "source": [
    "conn.lpush(\"zoo\",\"alligator\",\"duck\")"
   ]
  },
  {
   "cell_type": "markdown",
   "metadata": {},
   "source": [
    "redisオブジェクトの lpush メソッドの第一引数にリスト名、第二引数以降に挿入したい文字列を渡すことで、リストの先頭から文字列を挿入していくことができる  "
   ]
  },
  {
   "cell_type": "code",
   "execution_count": 192,
   "metadata": {},
   "outputs": [
    {
     "data": {
      "text/plain": [
       "8"
      ]
     },
     "execution_count": 192,
     "metadata": {},
     "output_type": "execute_result"
    }
   ],
   "source": [
    "conn.linsert(\"zoo\",\"before\",\"bear\",\"beaver\")"
   ]
  },
  {
   "cell_type": "code",
   "execution_count": 193,
   "metadata": {},
   "outputs": [
    {
     "data": {
      "text/plain": [
       "9"
      ]
     },
     "execution_count": 193,
     "metadata": {},
     "output_type": "execute_result"
    }
   ],
   "source": [
    "conn.linsert(\"zoo\",\"after\",\"bear\",\"cassowary\")"
   ]
  },
  {
   "cell_type": "markdown",
   "metadata": {},
   "source": [
    "redisオブジェクトの linsert メソッドの第一引数にリスト名、第二引数に\"before\"もしくは\"after\"、第三引数に挿入したい場所の基準になる文字列、第四引数に挿入したい文字列を渡すことで、場所を指定して文字列を挿入できる"
   ]
  },
  {
   "cell_type": "code",
   "execution_count": 194,
   "metadata": {},
   "outputs": [
    {
     "data": {
      "text/plain": [
       "True"
      ]
     },
     "execution_count": 194,
     "metadata": {},
     "output_type": "execute_result"
    }
   ],
   "source": [
    "conn.lset(\"zoo\",2,\"marmoset\")"
   ]
  },
  {
   "cell_type": "markdown",
   "metadata": {},
   "source": [
    "redisオブジェクトの lset メソッドの第一引数にリスト名、第二引数に挿入したい場所のインデックス値、第三引数に挿入したい文字列を渡すことで、好きなインデックス値に文字列を挿入できる"
   ]
  },
  {
   "cell_type": "code",
   "execution_count": 195,
   "metadata": {},
   "outputs": [
    {
     "data": {
      "text/plain": [
       "10"
      ]
     },
     "execution_count": 195,
     "metadata": {},
     "output_type": "execute_result"
    }
   ],
   "source": [
    "conn.rpush(\"zoo\",\"yak\")"
   ]
  },
  {
   "cell_type": "markdown",
   "metadata": {},
   "source": [
    "redisオブジェクトの rpush メソッドの第一引数にリスト名、第二引数に挿入したい文字列を渡すことで、リストの末尾に文字列を挿入できる"
   ]
  },
  {
   "cell_type": "code",
   "execution_count": 196,
   "metadata": {},
   "outputs": [
    {
     "data": {
      "text/plain": [
       "b'bear'"
      ]
     },
     "execution_count": 196,
     "metadata": {},
     "output_type": "execute_result"
    }
   ],
   "source": [
    "conn.lindex(\"zoo\",3)"
   ]
  },
  {
   "cell_type": "markdown",
   "metadata": {},
   "source": [
    "redisオブジェクトの lindex メソッドの第一引数にリスト名、第二引数にインデックス値を渡すことで、リストの指定したインデックス値にある文字列を取り出すことができる(バイト文字列)"
   ]
  },
  {
   "cell_type": "code",
   "execution_count": 197,
   "metadata": {},
   "outputs": [
    {
     "data": {
      "text/plain": [
       "[b'duck', b'alligator', b'marmoset']"
      ]
     },
     "execution_count": 197,
     "metadata": {},
     "output_type": "execute_result"
    }
   ],
   "source": [
    "conn.lrange(\"zoo\",0,2)"
   ]
  },
  {
   "cell_type": "code",
   "execution_count": 198,
   "metadata": {},
   "outputs": [
    {
     "data": {
      "text/plain": [
       "[b'duck',\n",
       " b'alligator',\n",
       " b'marmoset',\n",
       " b'bear',\n",
       " b'cassowary',\n",
       " b'alligator',\n",
       " b'marmoset',\n",
       " b'bear',\n",
       " b'cassowary',\n",
       " b'yak']"
      ]
     },
     "execution_count": 198,
     "metadata": {},
     "output_type": "execute_result"
    }
   ],
   "source": [
    "conn.lrange(\"zoo\",0,-1)"
   ]
  },
  {
   "cell_type": "markdown",
   "metadata": {},
   "source": [
    "redisオブジェクトの lrange メソッドの第一引数にリスト名、第二引数に取得したい範囲の開始インデックス値、第三引数に取得したい範囲の終了インデックス値を渡すことで、リストの指定した範囲の文字列をリストで取り出すことができる  \n",
    "開始インデックス値に0、終了インデックス値に-1を渡すことでリストの中の全ての文字列を取得できる"
   ]
  },
  {
   "cell_type": "code",
   "execution_count": 199,
   "metadata": {},
   "outputs": [
    {
     "data": {
      "text/plain": [
       "True"
      ]
     },
     "execution_count": 199,
     "metadata": {},
     "output_type": "execute_result"
    }
   ],
   "source": [
    "conn.ltrim(\"zoo\",1,4)"
   ]
  },
  {
   "cell_type": "code",
   "execution_count": 200,
   "metadata": {},
   "outputs": [
    {
     "data": {
      "text/plain": [
       "[b'alligator', b'marmoset', b'bear', b'cassowary']"
      ]
     },
     "execution_count": 200,
     "metadata": {},
     "output_type": "execute_result"
    }
   ],
   "source": [
    "conn.lrange(\"zoo\",0,-1)"
   ]
  },
  {
   "cell_type": "markdown",
   "metadata": {},
   "source": [
    "redisオブジェクトの ltrim メソッドの第一引数にリスト名、第二引数に指定したい範囲の開始インデックス値、第三引数に指定したい範囲の終了インデックス値を渡すことで、リストの指定した範囲の文字列だけを残し、残りは削除する"
   ]
  },
  {
   "cell_type": "markdown",
   "metadata": {},
   "source": [
    "### 8.5.3.3  ハッシュ"
   ]
  },
  {
   "cell_type": "markdown",
   "metadata": {},
   "source": [
    "RedisのハッシュはPythonの辞書に似ているが、文字列しか格納できない  \n",
    "そのため、一次元の構造でしか作れない"
   ]
  },
  {
   "cell_type": "code",
   "execution_count": 201,
   "metadata": {},
   "outputs": [
    {
     "data": {
      "text/plain": [
       "0"
      ]
     },
     "execution_count": 201,
     "metadata": {},
     "output_type": "execute_result"
    }
   ],
   "source": [
    "conn.hset(\"song\",\"mi\",\"a note to follow re\")"
   ]
  },
  {
   "cell_type": "markdown",
   "metadata": {},
   "source": [
    "redisオブジェクトの hset メソッドの第一引数にハッシュ名、第二引数にキー、第三引数に文字列を渡すことで、キーと文字列をハッシュに挿入できる  \n",
    "挿入に成功すると1を返す"
   ]
  },
  {
   "cell_type": "code",
   "execution_count": 202,
   "metadata": {},
   "outputs": [
    {
     "name": "stderr",
     "output_type": "stream",
     "text": [
      "C:\\Users\\kumak\\anaconda3\\lib\\site-packages\\ipykernel_launcher.py:1: DeprecationWarning: Redis.hmset() is deprecated. Use Redis.hset() instead.\n",
      "  \"\"\"Entry point for launching an IPython kernel.\n"
     ]
    },
    {
     "data": {
      "text/plain": [
       "True"
      ]
     },
     "execution_count": 202,
     "metadata": {},
     "output_type": "execute_result"
    }
   ],
   "source": [
    "conn.hmset(\"song\",{\"do\":\"a bear\",\"re\":\"about a deer\"})"
   ]
  },
  {
   "cell_type": "markdown",
   "metadata": {},
   "source": [
    "redisオブジェクトの hmset メソッドの第一引数にハッシュ名、第二引数に辞書を渡すことで、辞書のキーと文字列をハッシュに挿入できる  \n",
    "挿入に成功するとTrueを返す"
   ]
  },
  {
   "cell_type": "code",
   "execution_count": 203,
   "metadata": {},
   "outputs": [
    {
     "data": {
      "text/plain": [
       "b'a note to follow re'"
      ]
     },
     "execution_count": 203,
     "metadata": {},
     "output_type": "execute_result"
    }
   ],
   "source": [
    "conn.hget(\"song\",\"mi\")"
   ]
  },
  {
   "cell_type": "markdown",
   "metadata": {},
   "source": [
    "redisオブジェクトの hget メソッドの第一引数にハッシュ名、第二引数にキーを渡すことで、ハッシュの中のキーに対応する文字列を取得できる(バイト文字列)"
   ]
  },
  {
   "cell_type": "code",
   "execution_count": 204,
   "metadata": {},
   "outputs": [
    {
     "data": {
      "text/plain": [
       "[b'about a deer', b'a bear']"
      ]
     },
     "execution_count": 204,
     "metadata": {},
     "output_type": "execute_result"
    }
   ],
   "source": [
    "conn.hmget(\"song\",\"re\",\"do\")"
   ]
  },
  {
   "cell_type": "markdown",
   "metadata": {},
   "source": [
    "redisオブジェクトの hmget メソッドの第一引数にハッシュ名、第二引数以降にキーを渡すことで、ハッシュの中のキーに対応する文字列をリストで取得できる"
   ]
  },
  {
   "cell_type": "code",
   "execution_count": 205,
   "metadata": {},
   "outputs": [
    {
     "data": {
      "text/plain": [
       "[b'do', b're', b'mi', b'fa']"
      ]
     },
     "execution_count": 205,
     "metadata": {},
     "output_type": "execute_result"
    }
   ],
   "source": [
    "conn.hkeys(\"song\")"
   ]
  },
  {
   "cell_type": "markdown",
   "metadata": {},
   "source": [
    "redisオブジェクトの hkeys メソッドにハッシュ名を渡すことで、挿入されているキーをリストにして取得できる"
   ]
  },
  {
   "cell_type": "code",
   "execution_count": 206,
   "metadata": {},
   "outputs": [
    {
     "data": {
      "text/plain": [
       "[b'a bear',\n",
       " b'about a deer',\n",
       " b'a note to follow re',\n",
       " b'a note that rhymes with la']"
      ]
     },
     "execution_count": 206,
     "metadata": {},
     "output_type": "execute_result"
    }
   ],
   "source": [
    "conn.hvals(\"song\")"
   ]
  },
  {
   "cell_type": "markdown",
   "metadata": {},
   "source": [
    "redisオブジェクトの hvals メソッドにハッシュ名を渡すことで、挿入されている文字列をリストにして取得することができる"
   ]
  },
  {
   "cell_type": "code",
   "execution_count": 207,
   "metadata": {},
   "outputs": [
    {
     "data": {
      "text/plain": [
       "{b'do': b'a bear',\n",
       " b're': b'about a deer',\n",
       " b'mi': b'a note to follow re',\n",
       " b'fa': b'a note that rhymes with la'}"
      ]
     },
     "execution_count": 207,
     "metadata": {},
     "output_type": "execute_result"
    }
   ],
   "source": [
    "conn.hgetall(\"song\")"
   ]
  },
  {
   "cell_type": "markdown",
   "metadata": {},
   "source": [
    "redisオブジェクトの hgetall メソッドにハッシュ名を渡すことで、挿入されているキーと文字列のペアを辞書にして取得することができる"
   ]
  },
  {
   "cell_type": "code",
   "execution_count": 208,
   "metadata": {},
   "outputs": [
    {
     "data": {
      "text/plain": [
       "0"
      ]
     },
     "execution_count": 208,
     "metadata": {},
     "output_type": "execute_result"
    }
   ],
   "source": [
    "conn.hsetnx(\"song\",\"fa\",\"a note that rhymes with la\")"
   ]
  },
  {
   "cell_type": "code",
   "execution_count": 209,
   "metadata": {},
   "outputs": [
    {
     "data": {
      "text/plain": [
       "0"
      ]
     },
     "execution_count": 209,
     "metadata": {},
     "output_type": "execute_result"
    }
   ],
   "source": [
    "conn.hsetnx(\"song\",\"fa\",\"a note that rhymes with wo\")"
   ]
  },
  {
   "cell_type": "code",
   "execution_count": 210,
   "metadata": {},
   "outputs": [
    {
     "data": {
      "text/plain": [
       "b'a note that rhymes with la'"
      ]
     },
     "execution_count": 210,
     "metadata": {},
     "output_type": "execute_result"
    }
   ],
   "source": [
    "conn.hget(\"song\",\"fa\")"
   ]
  },
  {
   "cell_type": "markdown",
   "metadata": {},
   "source": [
    "redisオブジェクトの hsetnx メソッドの第一引数にハッシュ名、第二引数に挿入したいキー、第三引数にキーが存在しなかった場合に挿入したい文字列を渡すことで、キーが存在しない場合に第三引数の文字列をペアとして挿入し、キーが存在した場合は変更しない  \n",
    "挿入した場合は1、挿入しなかった場合は0を返す"
   ]
  },
  {
   "cell_type": "code",
   "execution_count": 211,
   "metadata": {},
   "outputs": [
    {
     "data": {
      "text/plain": [
       "4"
      ]
     },
     "execution_count": 211,
     "metadata": {},
     "output_type": "execute_result"
    }
   ],
   "source": [
    "conn.hlen(\"song\")"
   ]
  },
  {
   "cell_type": "markdown",
   "metadata": {},
   "source": [
    "redisオブジェクトの hlen メソッドの第一引数にハッシュ名を渡すことで、ハッシュの中にあるペア数を取得できる"
   ]
  },
  {
   "cell_type": "markdown",
   "metadata": {},
   "source": [
    "### 8.5.3.4  集合"
   ]
  },
  {
   "cell_type": "markdown",
   "metadata": {},
   "source": [
    "Redisの集合はPythonのセット集合とよく似ている"
   ]
  },
  {
   "cell_type": "code",
   "execution_count": 212,
   "metadata": {},
   "outputs": [
    {
     "data": {
      "text/plain": [
       "1"
      ]
     },
     "execution_count": 212,
     "metadata": {},
     "output_type": "execute_result"
    }
   ],
   "source": [
    "conn.sadd(\"animal\",\"duck\",\"goat\",\"turkey\")"
   ]
  },
  {
   "cell_type": "markdown",
   "metadata": {},
   "source": [
    "redisオブジェクトの sadd メソッドの第二引数に集合名、第二引数以降に挿入したい文字列を渡すことで、複数の文字列を同時に挿入できる"
   ]
  },
  {
   "cell_type": "code",
   "execution_count": 213,
   "metadata": {},
   "outputs": [
    {
     "data": {
      "text/plain": [
       "3"
      ]
     },
     "execution_count": 213,
     "metadata": {},
     "output_type": "execute_result"
    }
   ],
   "source": [
    "conn.scard(\"animal\")"
   ]
  },
  {
   "cell_type": "markdown",
   "metadata": {},
   "source": [
    "redisオブジェクトの scard メソッドに集合名を渡すことで、集合の中の文字列の数を取得することができる"
   ]
  },
  {
   "cell_type": "code",
   "execution_count": 214,
   "metadata": {},
   "outputs": [
    {
     "data": {
      "text/plain": [
       "{b'duck', b'goat', b'turkey'}"
      ]
     },
     "execution_count": 214,
     "metadata": {},
     "output_type": "execute_result"
    }
   ],
   "source": [
    "conn.smembers(\"animal\")"
   ]
  },
  {
   "cell_type": "markdown",
   "metadata": {},
   "source": [
    "redisオブジェクトの smembers メソッドに集合名を渡すことで、集合の中の文字列をセット集合ですべて取得することができる"
   ]
  },
  {
   "cell_type": "code",
   "execution_count": 215,
   "metadata": {},
   "outputs": [
    {
     "data": {
      "text/plain": [
       "1"
      ]
     },
     "execution_count": 215,
     "metadata": {},
     "output_type": "execute_result"
    }
   ],
   "source": [
    "conn.srem(\"animal\",\"turkey\")"
   ]
  },
  {
   "cell_type": "markdown",
   "metadata": {},
   "source": [
    "redisオブジェクトの srem メソッドの第一引数に集合名、第二引数に削除する文字列を渡すことで、集合から文字列を削除できる"
   ]
  },
  {
   "cell_type": "code",
   "execution_count": 216,
   "metadata": {},
   "outputs": [
    {
     "data": {
      "text/plain": [
       "0"
      ]
     },
     "execution_count": 216,
     "metadata": {},
     "output_type": "execute_result"
    }
   ],
   "source": [
    "conn.sadd(\"another_animal\",\"tiger\",\"wolf\",\"duck\")"
   ]
  },
  {
   "cell_type": "code",
   "execution_count": 217,
   "metadata": {},
   "outputs": [
    {
     "data": {
      "text/plain": [
       "{b'duck'}"
      ]
     },
     "execution_count": 217,
     "metadata": {},
     "output_type": "execute_result"
    }
   ],
   "source": [
    "conn.sinter(\"animal\",\"another_animal\")"
   ]
  },
  {
   "cell_type": "markdown",
   "metadata": {},
   "source": [
    "redisオブジェクトの sinter メソッドに2つの集合名を渡すことで、積集合(共通要素)を取得できる"
   ]
  },
  {
   "cell_type": "code",
   "execution_count": 218,
   "metadata": {},
   "outputs": [
    {
     "data": {
      "text/plain": [
       "1"
      ]
     },
     "execution_count": 218,
     "metadata": {},
     "output_type": "execute_result"
    }
   ],
   "source": [
    "conn.sinterstore(\"sinter_animal\",\"animal\",\"another_animal\")"
   ]
  },
  {
   "cell_type": "code",
   "execution_count": 219,
   "metadata": {},
   "outputs": [
    {
     "data": {
      "text/plain": [
       "{b'duck'}"
      ]
     },
     "execution_count": 219,
     "metadata": {},
     "output_type": "execute_result"
    }
   ],
   "source": [
    "conn.smembers(\"sinter_animal\")"
   ]
  },
  {
   "cell_type": "markdown",
   "metadata": {},
   "source": [
    "redisオブジェクトの sinterstore メソッドの第一引数に作成したい集合名、第二引数と第三引数に積集合を求めたい集合名を2つ渡すことで、第一引数に渡した集合名を作成し、積集合の文字列が挿入される"
   ]
  },
  {
   "cell_type": "code",
   "execution_count": 220,
   "metadata": {},
   "outputs": [
    {
     "data": {
      "text/plain": [
       "{b'duck', b'goat'}"
      ]
     },
     "execution_count": 220,
     "metadata": {},
     "output_type": "execute_result"
    }
   ],
   "source": [
    "conn.sunion(\"animal\",\"anothe_animal\")"
   ]
  },
  {
   "cell_type": "markdown",
   "metadata": {},
   "source": [
    "redisオブジェクトの sunion メソッドに2つの集合名を渡すことで、和集合(両方の全ての要素)を取得できる"
   ]
  },
  {
   "cell_type": "code",
   "execution_count": 221,
   "metadata": {},
   "outputs": [
    {
     "data": {
      "text/plain": [
       "4"
      ]
     },
     "execution_count": 221,
     "metadata": {},
     "output_type": "execute_result"
    }
   ],
   "source": [
    "conn.sunionstore(\"sunion_animal\",\"animal\",\"another_animal\")"
   ]
  },
  {
   "cell_type": "code",
   "execution_count": 222,
   "metadata": {},
   "outputs": [
    {
     "data": {
      "text/plain": [
       "{b'duck', b'goat', b'tiger', b'wolf'}"
      ]
     },
     "execution_count": 222,
     "metadata": {},
     "output_type": "execute_result"
    }
   ],
   "source": [
    "conn.smembers(\"sunion_animal\")"
   ]
  },
  {
   "cell_type": "markdown",
   "metadata": {},
   "source": [
    "redisオブジェクトの sunionstore メソッドの第一引数に作成したい集合名、第二引数と第三引数に和集合を求めたい集合名を2つ渡すことで、第一引数に渡した集合名を作成し、和集合の文字列が挿入できる"
   ]
  },
  {
   "cell_type": "code",
   "execution_count": 223,
   "metadata": {},
   "outputs": [
    {
     "data": {
      "text/plain": [
       "{b'goat'}"
      ]
     },
     "execution_count": 223,
     "metadata": {},
     "output_type": "execute_result"
    }
   ],
   "source": [
    "conn.sdiff(\"animal\",\"another_animal\")"
   ]
  },
  {
   "cell_type": "markdown",
   "metadata": {},
   "source": [
    "redisオブジェクトの sdiff メソッドの第一引数と第二引数に集合名を渡すことで、差集合(第一引数に渡した集合にあって第二引数に渡した集合にない文字列)を取得できる"
   ]
  },
  {
   "cell_type": "code",
   "execution_count": 224,
   "metadata": {},
   "outputs": [
    {
     "data": {
      "text/plain": [
       "1"
      ]
     },
     "execution_count": 224,
     "metadata": {},
     "output_type": "execute_result"
    }
   ],
   "source": [
    "conn.sdiffstore(\"sdiff_animal\",\"animal\",\"another_animal\")"
   ]
  },
  {
   "cell_type": "code",
   "execution_count": 225,
   "metadata": {},
   "outputs": [
    {
     "data": {
      "text/plain": [
       "{b'goat'}"
      ]
     },
     "execution_count": 225,
     "metadata": {},
     "output_type": "execute_result"
    }
   ],
   "source": [
    "conn.smembers(\"sdiff_animal\")"
   ]
  },
  {
   "cell_type": "markdown",
   "metadata": {},
   "source": [
    "redisオブジェクトの sdiff_animal メソッドの第一引数に作成したい集合名、第二引数に差集合を求めたい集合名、第三引数に差集合を求めるための対象の集合名を渡すことで、第一引数に渡した集合名を作成し、差集合の文字列が挿入できる"
   ]
  },
  {
   "cell_type": "markdown",
   "metadata": {},
   "source": [
    "### 8.5.3.5  ソート済み集合"
   ]
  },
  {
   "cell_type": "markdown",
   "metadata": {},
   "source": [
    "ソート済み集合はzsetとも呼ばれるもので、それぞれの値がスコアと呼ばれる浮動小数点数も持っている  \n",
    "要素には値とスコアのどちらからでもアクセスでき、次のような用途がある  \n",
    "- スコアボード\n",
    "- 副インデックス\n",
    "- タイムライン(タイムスタンプをスコアとして使う)  \n",
    "\n",
    "次ではタイムスタンプをを使ってユーザーのログインを監視する"
   ]
  },
  {
   "cell_type": "code",
   "execution_count": 226,
   "metadata": {},
   "outputs": [],
   "source": [
    "import time\n",
    "now = time.time()\n",
    "logins_dict={\"smeagol\":now, \"sauron\":now+(5*60), \"bilbo\":now+(2*60*60), \"treebeard\":now+(24*60*60)}"
   ]
  },
  {
   "cell_type": "markdown",
   "metadata": {},
   "source": [
    "logins_dictのキーにログインした人の名前、値にその人がログインしたUnix時間を渡して辞書を作る"
   ]
  },
  {
   "cell_type": "code",
   "execution_count": 227,
   "metadata": {},
   "outputs": [
    {
     "data": {
      "text/plain": [
       "0"
      ]
     },
     "execution_count": 227,
     "metadata": {},
     "output_type": "execute_result"
    }
   ],
   "source": [
    "conn.zadd(\"logins\",logins_dict)"
   ]
  },
  {
   "cell_type": "markdown",
   "metadata": {},
   "source": [
    "redisオブジェクトの zadd メソッドの第一引数にソート済み集合名、第二引数に値とスコアの入った辞書を渡すことで、ソート済み集合に挿入できる"
   ]
  },
  {
   "cell_type": "code",
   "execution_count": 228,
   "metadata": {},
   "outputs": [
    {
     "data": {
      "text/plain": [
       "2"
      ]
     },
     "execution_count": 228,
     "metadata": {},
     "output_type": "execute_result"
    }
   ],
   "source": [
    "conn.zrank(\"logins\",\"bilbo\")"
   ]
  },
  {
   "cell_type": "markdown",
   "metadata": {},
   "source": [
    "redisオブジェクトの zrank メソッドの第一引数にソート済み集合名、第二引数に値を渡すことで、その値がソート済み集合のインデックス値を返してくれる"
   ]
  },
  {
   "cell_type": "code",
   "execution_count": 229,
   "metadata": {},
   "outputs": [
    {
     "data": {
      "text/plain": [
       "1601313227.8995745"
      ]
     },
     "execution_count": 229,
     "metadata": {},
     "output_type": "execute_result"
    }
   ],
   "source": [
    "conn.zscore(\"logins\",\"bilbo\")"
   ]
  },
  {
   "cell_type": "markdown",
   "metadata": {},
   "source": [
    "redisオブジェクトの zscore メソッドの第一引数にソート済み集合名、第二引数にスコアを知りたい値を渡すことで、指定した値のスコアを取得できる"
   ]
  },
  {
   "cell_type": "code",
   "execution_count": 230,
   "metadata": {},
   "outputs": [
    {
     "data": {
      "text/plain": [
       "[b'smeagol', b'sauron', b'bilbo', b'treebeard']"
      ]
     },
     "execution_count": 230,
     "metadata": {},
     "output_type": "execute_result"
    }
   ],
   "source": [
    "conn.zrange(\"logins\",0,-1)"
   ]
  },
  {
   "cell_type": "markdown",
   "metadata": {},
   "source": [
    "redisオブジェクトの zrange メソッドの第一引数にソート済み集合名、第二引数に開始インデックス値、第三引数に終了インデックス値を渡すことで、指定した範囲の値を表示できる(0と-1を渡すことで全部表示できる)"
   ]
  },
  {
   "cell_type": "code",
   "execution_count": 231,
   "metadata": {},
   "outputs": [
    {
     "data": {
      "text/plain": [
       "[(b'smeagol', 1601306027.8995745),\n",
       " (b'sauron', 1601306327.8995745),\n",
       " (b'bilbo', 1601313227.8995745),\n",
       " (b'treebeard', 1601392427.8995745)]"
      ]
     },
     "execution_count": 231,
     "metadata": {},
     "output_type": "execute_result"
    }
   ],
   "source": [
    "conn.zrange(\"logins\",0,-1,withscores=True)"
   ]
  },
  {
   "cell_type": "markdown",
   "metadata": {},
   "source": [
    "redisオブジェクトのzrangeメソッドにキーワード引数の withscores をTrueにすると、値とスコアをセットにして取得できる"
   ]
  },
  {
   "cell_type": "markdown",
   "metadata": {},
   "source": [
    "### 8.5.3.6  ビット"
   ]
  },
  {
   "cell_type": "markdown",
   "metadata": {},
   "source": [
    "ビットは大量の数値を少ないスペースで高速に処理できる"
   ]
  },
  {
   "cell_type": "markdown",
   "metadata": {},
   "source": [
    "次はユーザーがどのくらいの頻度でログインしているか、特定の日に何人がログインしたか、特定のユーザーがどれくらいの頻度でログインしているか、ということを管理するためにビットを使うとする"
   ]
  },
  {
   "cell_type": "code",
   "execution_count": 232,
   "metadata": {},
   "outputs": [],
   "source": [
    "days = [\"2013-02-25\",\"2013-02-26\",\"2013-02-27\"]\n",
    "big_spender = 1089\n",
    "tire_kicker = 40459\n",
    "late_joiner = 550212"
   ]
  },
  {
   "cell_type": "code",
   "execution_count": 233,
   "metadata": {},
   "outputs": [
    {
     "data": {
      "text/plain": [
       "1"
      ]
     },
     "execution_count": 233,
     "metadata": {},
     "output_type": "execute_result"
    }
   ],
   "source": [
    "conn.setbit(days[0],big_spender,1)\n",
    "conn.setbit(days[0],tire_kicker,1)"
   ]
  },
  {
   "cell_type": "code",
   "execution_count": 234,
   "metadata": {},
   "outputs": [
    {
     "data": {
      "text/plain": [
       "1"
      ]
     },
     "execution_count": 234,
     "metadata": {},
     "output_type": "execute_result"
    }
   ],
   "source": [
    "conn.setbit(days[1],big_spender,1)"
   ]
  },
  {
   "cell_type": "code",
   "execution_count": 235,
   "metadata": {},
   "outputs": [
    {
     "data": {
      "text/plain": [
       "1"
      ]
     },
     "execution_count": 235,
     "metadata": {},
     "output_type": "execute_result"
    }
   ],
   "source": [
    "conn.setbit(days[2],big_spender,1)\n",
    "conn.setbit(days[2],late_joiner,1)"
   ]
  },
  {
   "cell_type": "markdown",
   "metadata": {},
   "source": [
    "redisオブジェクトの setbit メソッドの第一引数にビット名(日付)、第二引数に数値(ID)、第三引数にビット値(1がログインした証)を渡すことで、ビットに数値と値を挿入できる  "
   ]
  },
  {
   "cell_type": "code",
   "execution_count": 236,
   "metadata": {},
   "outputs": [
    {
     "name": "stdout",
     "output_type": "stream",
     "text": [
      "2\n",
      "1\n",
      "2\n"
     ]
    }
   ],
   "source": [
    "for day in days:\n",
    "    print(conn.bitcount(day))"
   ]
  },
  {
   "cell_type": "markdown",
   "metadata": {},
   "source": [
    "redisメソッドの bitcount メソッドにビット名(日付)を渡すことで、挿入されているデータ数(来訪者数)を取得することができる"
   ]
  },
  {
   "cell_type": "code",
   "execution_count": 237,
   "metadata": {},
   "outputs": [
    {
     "data": {
      "text/plain": [
       "0"
      ]
     },
     "execution_count": 237,
     "metadata": {},
     "output_type": "execute_result"
    }
   ],
   "source": [
    "conn.getbit(days[1],tire_kicker)"
   ]
  },
  {
   "cell_type": "code",
   "execution_count": 238,
   "metadata": {},
   "outputs": [
    {
     "data": {
      "text/plain": [
       "1"
      ]
     },
     "execution_count": 238,
     "metadata": {},
     "output_type": "execute_result"
    }
   ],
   "source": [
    "conn.getbit(days[1],big_spender)"
   ]
  },
  {
   "cell_type": "markdown",
   "metadata": {},
   "source": [
    "redisオブジェクトの getbit メソッドの第一引数にビット名(日付)、第二引数に値(ID)を渡すことで、ビット値を取得できる  \n",
    "存在しない場合は0を返す"
   ]
  },
  {
   "cell_type": "code",
   "execution_count": 239,
   "metadata": {},
   "outputs": [
    {
     "name": "stdout",
     "output_type": "stream",
     "text": [
      "Help on method bitop in module redis.client:\n",
      "\n",
      "bitop(operation, dest, *keys) method of redis.client.Redis instance\n",
      "    Perform a bitwise operation using ``operation`` between ``keys`` and\n",
      "    store the result in ``dest``.\n",
      "\n"
     ]
    }
   ],
   "source": [
    "help(conn.bitop)"
   ]
  },
  {
   "cell_type": "code",
   "execution_count": 240,
   "metadata": {},
   "outputs": [
    {
     "data": {
      "text/plain": [
       "68777"
      ]
     },
     "execution_count": 240,
     "metadata": {},
     "output_type": "execute_result"
    }
   ],
   "source": [
    "conn.bitop(\"and\",\"everyday\",*days)"
   ]
  },
  {
   "cell_type": "markdown",
   "metadata": {},
   "source": [
    "redisオブジェクトの bitop メソッドの第一引数にオペレーション(上ではandで積集合)、第二引数に新しく作成したいビット名、調べたいビット名のセットを渡すことで、すべてに含まれている値(ID)があるか調べることができる"
   ]
  },
  {
   "cell_type": "code",
   "execution_count": 241,
   "metadata": {},
   "outputs": [
    {
     "data": {
      "text/plain": [
       "1"
      ]
     },
     "execution_count": 241,
     "metadata": {},
     "output_type": "execute_result"
    }
   ],
   "source": [
    "conn.bitcount(\"everyday\")"
   ]
  },
  {
   "cell_type": "code",
   "execution_count": 242,
   "metadata": {},
   "outputs": [
    {
     "data": {
      "text/plain": [
       "1"
      ]
     },
     "execution_count": 242,
     "metadata": {},
     "output_type": "execute_result"
    }
   ],
   "source": [
    "conn.getbit(\"everyday\",big_spender)"
   ]
  },
  {
   "cell_type": "code",
   "execution_count": 243,
   "metadata": {},
   "outputs": [
    {
     "data": {
      "text/plain": [
       "68777"
      ]
     },
     "execution_count": 243,
     "metadata": {},
     "output_type": "execute_result"
    }
   ],
   "source": [
    "conn.bitop(\"or\",\"alldays\",*days)"
   ]
  },
  {
   "cell_type": "markdown",
   "metadata": {},
   "source": [
    "redisオブジェクトのbitopメソッドの第一引数にorを渡すことで和集合を取得することができる"
   ]
  },
  {
   "cell_type": "code",
   "execution_count": 244,
   "metadata": {},
   "outputs": [
    {
     "data": {
      "text/plain": [
       "3"
      ]
     },
     "execution_count": 244,
     "metadata": {},
     "output_type": "execute_result"
    }
   ],
   "source": [
    "conn.bitcount(\"alldays\")"
   ]
  },
  {
   "cell_type": "markdown",
   "metadata": {},
   "source": [
    "### 8.5.3.7  キャッシュと有効期限"
   ]
  },
  {
   "cell_type": "markdown",
   "metadata": {},
   "source": [
    "Redisのすべてのキーには有効期限がある  \n",
    "デフォルトでは永遠になっているが、expire関数を使うことでキーの有効期限を設定できる(有効期限の値は秒単位)"
   ]
  },
  {
   "cell_type": "code",
   "execution_count": 245,
   "metadata": {},
   "outputs": [],
   "source": [
    "import time\n",
    "key = \"now you see it\""
   ]
  },
  {
   "cell_type": "code",
   "execution_count": 246,
   "metadata": {},
   "outputs": [
    {
     "data": {
      "text/plain": [
       "True"
      ]
     },
     "execution_count": 246,
     "metadata": {},
     "output_type": "execute_result"
    }
   ],
   "source": [
    "conn.set(key,\"but not for long\")"
   ]
  },
  {
   "cell_type": "code",
   "execution_count": 247,
   "metadata": {},
   "outputs": [
    {
     "data": {
      "text/plain": [
       "True"
      ]
     },
     "execution_count": 247,
     "metadata": {},
     "output_type": "execute_result"
    }
   ],
   "source": [
    "conn.expire(key,5)"
   ]
  },
  {
   "cell_type": "code",
   "execution_count": 248,
   "metadata": {},
   "outputs": [
    {
     "data": {
      "text/plain": [
       "5"
      ]
     },
     "execution_count": 248,
     "metadata": {},
     "output_type": "execute_result"
    }
   ],
   "source": [
    "conn.ttl(key)"
   ]
  },
  {
   "cell_type": "code",
   "execution_count": 249,
   "metadata": {},
   "outputs": [
    {
     "data": {
      "text/plain": [
       "b'but not for long'"
      ]
     },
     "execution_count": 249,
     "metadata": {},
     "output_type": "execute_result"
    }
   ],
   "source": [
    "conn.get(key)"
   ]
  },
  {
   "cell_type": "code",
   "execution_count": 250,
   "metadata": {},
   "outputs": [],
   "source": [
    "time.sleep(6)"
   ]
  },
  {
   "cell_type": "code",
   "execution_count": 251,
   "metadata": {},
   "outputs": [],
   "source": [
    "conn.get(key)"
   ]
  },
  {
   "cell_type": "markdown",
   "metadata": {},
   "source": [
    "上のコード急いで実行するとsleep関数の前は表示されて、あとになると表示されなくなる  \n",
    "redisオブジェクトの expire メソッドの第一引数に有効期限を設定したいキー、第二引数に秒数を渡すことで、秒数の間だけ内容を保存することができる  \n",
    "redisオブジェクトの ttl メソッドに有効期限を設定したキーを渡すことで保存される残り時間を知ることができる"
   ]
  },
  {
   "cell_type": "code",
   "execution_count": null,
   "metadata": {},
   "outputs": [],
   "source": []
  }
 ],
 "metadata": {
  "kernelspec": {
   "display_name": "Python 3",
   "language": "python",
   "name": "python3"
  },
  "language_info": {
   "codemirror_mode": {
    "name": "ipython",
    "version": 3
   },
   "file_extension": ".py",
   "mimetype": "text/x-python",
   "name": "python",
   "nbconvert_exporter": "python",
   "pygments_lexer": "ipython3",
   "version": "3.7.6"
  }
 },
 "nbformat": 4,
 "nbformat_minor": 4
}
