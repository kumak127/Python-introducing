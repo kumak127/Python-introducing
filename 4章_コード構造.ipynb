{
 "cells": [
  {
   "cell_type": "markdown",
   "metadata": {},
   "source": [
    "# 4.6  内包表記"
   ]
  },
  {
   "cell_type": "markdown",
   "metadata": {},
   "source": [
    "## 4.6.1  リスト内包表記"
   ]
  },
  {
   "cell_type": "code",
   "execution_count": 1,
   "metadata": {},
   "outputs": [
    {
     "data": {
      "text/plain": [
       "[2, 4, 6, 8, 10, 12, 14, 16, 18, 20]"
      ]
     },
     "execution_count": 1,
     "metadata": {},
     "output_type": "execute_result"
    }
   ],
   "source": [
    "num_list = [num * 2 for num in range(1,11)]\n",
    "num_list"
   ]
  },
  {
   "cell_type": "markdown",
   "metadata": {},
   "source": [
    "後置if"
   ]
  },
  {
   "cell_type": "code",
   "execution_count": 2,
   "metadata": {},
   "outputs": [
    {
     "data": {
      "text/plain": [
       "[2, 6, 10, 14, 18]"
      ]
     },
     "execution_count": 2,
     "metadata": {},
     "output_type": "execute_result"
    }
   ],
   "source": [
    "num_list = [num * 2 for num in range(1,11) if num % 2 ==1]\n",
    "num_list"
   ]
  },
  {
   "cell_type": "markdown",
   "metadata": {},
   "source": [
    "if else文"
   ]
  },
  {
   "cell_type": "code",
   "execution_count": 3,
   "metadata": {},
   "outputs": [
    {
     "data": {
      "text/plain": [
       "[2, 6, 6, 12, 10, 18, 14, 24, 18, 30]"
      ]
     },
     "execution_count": 3,
     "metadata": {},
     "output_type": "execute_result"
    }
   ],
   "source": [
    "num_list = [num * 2 if num % 2 == 1 else num * 3 for num in range(1,11)]\n",
    "num_list"
   ]
  },
  {
   "cell_type": "markdown",
   "metadata": {},
   "source": [
    "2重ループ"
   ]
  },
  {
   "cell_type": "code",
   "execution_count": 4,
   "metadata": {},
   "outputs": [
    {
     "data": {
      "text/plain": [
       "[6,\n",
       " 7,\n",
       " 8,\n",
       " 9,\n",
       " 10,\n",
       " 12,\n",
       " 14,\n",
       " 16,\n",
       " 18,\n",
       " 20,\n",
       " 18,\n",
       " 21,\n",
       " 24,\n",
       " 27,\n",
       " 30,\n",
       " 24,\n",
       " 28,\n",
       " 32,\n",
       " 36,\n",
       " 40,\n",
       " 30,\n",
       " 35,\n",
       " 40,\n",
       " 45,\n",
       " 50]"
      ]
     },
     "execution_count": 4,
     "metadata": {},
     "output_type": "execute_result"
    }
   ],
   "source": [
    "num_list = [num * num2 for num in range(1,6) for num2 in range(6,11)]\n",
    "num_list"
   ]
  },
  {
   "cell_type": "markdown",
   "metadata": {},
   "source": [
    "多重配列"
   ]
  },
  {
   "cell_type": "code",
   "execution_count": 5,
   "metadata": {},
   "outputs": [
    {
     "data": {
      "text/plain": [
       "[[1, 2, 3, 4, 5], [1, 2, 3, 4, 5], [1, 2, 3, 4, 5]]"
      ]
     },
     "execution_count": 5,
     "metadata": {},
     "output_type": "execute_result"
    }
   ],
   "source": [
    "num_list = [[num for num in range(1,6)] for i in range(3)]\n",
    "num_list"
   ]
  },
  {
   "cell_type": "markdown",
   "metadata": {},
   "source": [
    "# 4.6.2  辞書包括表記"
   ]
  },
  {
   "cell_type": "code",
   "execution_count": 6,
   "metadata": {},
   "outputs": [
    {
     "data": {
      "text/plain": [
       "{1: 6, 2: 7, 3: 8, 4: 9, 5: 10}"
      ]
     },
     "execution_count": 6,
     "metadata": {},
     "output_type": "execute_result"
    }
   ],
   "source": [
    "num_dict = {i:j for i,j in zip(range(1,6),range(6,11))}\n",
    "num_dict"
   ]
  },
  {
   "cell_type": "markdown",
   "metadata": {},
   "source": [
    "後置if"
   ]
  },
  {
   "cell_type": "code",
   "execution_count": 7,
   "metadata": {},
   "outputs": [
    {
     "data": {
      "text/plain": [
       "{1: 6, 3: 8, 5: 10}"
      ]
     },
     "execution_count": 7,
     "metadata": {},
     "output_type": "execute_result"
    }
   ],
   "source": [
    "num_dict = {i:j for i,j in zip(range(1,6),range(6,11)) if i % 2 == 1}\n",
    "num_dict"
   ]
  },
  {
   "cell_type": "markdown",
   "metadata": {},
   "source": [
    "if else文"
   ]
  },
  {
   "cell_type": "code",
   "execution_count": 8,
   "metadata": {},
   "outputs": [
    {
     "ename": "SyntaxError",
     "evalue": "invalid syntax (<ipython-input-8-0b798a67e2a9>, line 1)",
     "output_type": "error",
     "traceback": [
      "\u001b[1;36m  File \u001b[1;32m\"<ipython-input-8-0b798a67e2a9>\"\u001b[1;36m, line \u001b[1;32m1\u001b[0m\n\u001b[1;33m    num_dict = {i:i*2 if i % 2 ==1 else i:i for i in range(1,11)}\u001b[0m\n\u001b[1;37m                                         ^\u001b[0m\n\u001b[1;31mSyntaxError\u001b[0m\u001b[1;31m:\u001b[0m invalid syntax\n"
     ]
    }
   ],
   "source": [
    "num_dict = {i:i*2 if i % 2 ==1 else i:i for i in range(1,11)} \n",
    "# キーと値それぞれにif文を書き必要があるためエラーになる(下のコードが正しい)"
   ]
  },
  {
   "cell_type": "code",
   "execution_count": 10,
   "metadata": {},
   "outputs": [
    {
     "data": {
      "text/plain": [
       "{1: 2, 2: 2, 3: 6, 4: 4, 5: 10, 6: 6, 7: 14, 8: 8, 9: 18, 10: 10}"
      ]
     },
     "execution_count": 10,
     "metadata": {},
     "output_type": "execute_result"
    }
   ],
   "source": [
    "num_dict = {i:i*2 if i % 2 == 1 else i for i in range(1,11)}\n",
    "num_dict"
   ]
  },
  {
   "cell_type": "markdown",
   "metadata": {},
   "source": [
    "## 4.6.3  集合内包表記"
   ]
  },
  {
   "cell_type": "code",
   "execution_count": 11,
   "metadata": {},
   "outputs": [
    {
     "data": {
      "text/plain": [
       "{2, 4, 6, 8, 10, 12, 14, 16, 18, 20}"
      ]
     },
     "execution_count": 11,
     "metadata": {},
     "output_type": "execute_result"
    }
   ],
   "source": [
    "num_set = {num * 2 for num in range(1,11)}\n",
    "num_set"
   ]
  },
  {
   "cell_type": "markdown",
   "metadata": {},
   "source": [
    "後置if"
   ]
  },
  {
   "cell_type": "code",
   "execution_count": 12,
   "metadata": {},
   "outputs": [
    {
     "data": {
      "text/plain": [
       "{2, 6, 10, 14, 18}"
      ]
     },
     "execution_count": 12,
     "metadata": {},
     "output_type": "execute_result"
    }
   ],
   "source": [
    "num_set = {num * 2 for num in range(1,11) if num % 2 == 1}\n",
    "num_set"
   ]
  },
  {
   "cell_type": "markdown",
   "metadata": {},
   "source": [
    "if else文"
   ]
  },
  {
   "cell_type": "code",
   "execution_count": 13,
   "metadata": {},
   "outputs": [
    {
     "data": {
      "text/plain": [
       "{2, 2.5, 3.0, 3.5, 4, 4.5, 5.0, 6, 8}"
      ]
     },
     "execution_count": 13,
     "metadata": {},
     "output_type": "execute_result"
    }
   ],
   "source": [
    "num_set = {num *2 if num < 5 else num /2 for num in range(1,11)}\n",
    "num_set"
   ]
  },
  {
   "cell_type": "markdown",
   "metadata": {},
   "source": [
    "## 4.6.4  ジェネレータ内包表記"
   ]
  },
  {
   "cell_type": "code",
   "execution_count": 14,
   "metadata": {},
   "outputs": [
    {
     "data": {
      "text/plain": [
       "generator"
      ]
     },
     "execution_count": 14,
     "metadata": {},
     "output_type": "execute_result"
    }
   ],
   "source": [
    "num_gen = (num * 2 for num in range(1,11))\n",
    "type(num_gen)"
   ]
  },
  {
   "cell_type": "code",
   "execution_count": 15,
   "metadata": {},
   "outputs": [
    {
     "name": "stdout",
     "output_type": "stream",
     "text": [
      "2\n",
      "4\n",
      "6\n",
      "8\n",
      "10\n",
      "12\n",
      "14\n",
      "16\n",
      "18\n",
      "20\n"
     ]
    }
   ],
   "source": [
    "for num in num_gen:\n",
    "    print(num)"
   ]
  },
  {
   "cell_type": "code",
   "execution_count": 16,
   "metadata": {},
   "outputs": [],
   "source": [
    "for num in num_gen:\n",
    "    print(num)    # ジェネレータなのでもう一度呼ぼうとしても何も出ない"
   ]
  },
  {
   "cell_type": "markdown",
   "metadata": {},
   "source": [
    "# 4.7  関数"
   ]
  },
  {
   "cell_type": "markdown",
   "metadata": {},
   "source": [
    "## 4.7.4  * による位置関数のタプル化"
   ]
  },
  {
   "cell_type": "code",
   "execution_count": 17,
   "metadata": {},
   "outputs": [],
   "source": [
    "def info(x, y, *args):\n",
    "    return {x: y} , args"
   ]
  },
  {
   "cell_type": "code",
   "execution_count": 18,
   "metadata": {},
   "outputs": [
    {
     "data": {
      "text/plain": [
       "({1: 2}, (3, 4, 5, 6))"
      ]
     },
     "execution_count": 18,
     "metadata": {},
     "output_type": "execute_result"
    }
   ],
   "source": [
    "a,b = info(1,2,3,4,5,6)\n",
    "a,b"
   ]
  },
  {
   "cell_type": "markdown",
   "metadata": {},
   "source": [
    "## 4.7.5  ** によるキーワード引数の辞書化 "
   ]
  },
  {
   "cell_type": "code",
   "execution_count": 19,
   "metadata": {},
   "outputs": [],
   "source": [
    "def color_image(**kwargs):\n",
    "    return kwargs"
   ]
  },
  {
   "cell_type": "code",
   "execution_count": 20,
   "metadata": {},
   "outputs": [
    {
     "data": {
      "text/plain": [
       "{'red': 'tomato', 'yellow': 'lemon', 'blue': 'sea'}"
      ]
     },
     "execution_count": 20,
     "metadata": {},
     "output_type": "execute_result"
    }
   ],
   "source": [
    "a = color_image(red=\"tomato\",yellow=\"lemon\",blue=\"sea\")\n",
    "a"
   ]
  },
  {
   "cell_type": "markdown",
   "metadata": {},
   "source": [
    "## 4.7.6  docstring"
   ]
  },
  {
   "cell_type": "code",
   "execution_count": 21,
   "metadata": {},
   "outputs": [],
   "source": [
    "def return_name(name,print_only=False):\n",
    "    \"\"\"\n",
    "    第1引数に入れた名前を表示する\n",
    "    第2引数のprint_onlyがTrueならreturnせずにprintのみ行う\n",
    "    \"\"\"\n",
    "    if not print_only:\n",
    "        return name\n",
    "    else:\n",
    "        print(name)"
   ]
  },
  {
   "cell_type": "markdown",
   "metadata": {},
   "source": [
    "関数本体の先頭に関数の説明をする文字列を渡すことで、関数定義にドキュメント(docstring)をつけることができる"
   ]
  },
  {
   "cell_type": "code",
   "execution_count": 22,
   "metadata": {},
   "outputs": [
    {
     "data": {
      "text/plain": [
       "'Davis'"
      ]
     },
     "execution_count": 22,
     "metadata": {},
     "output_type": "execute_result"
    }
   ],
   "source": [
    "return_name(\"Davis\")"
   ]
  },
  {
   "cell_type": "code",
   "execution_count": 23,
   "metadata": {},
   "outputs": [
    {
     "name": "stdout",
     "output_type": "stream",
     "text": [
      "Davis\n"
     ]
    }
   ],
   "source": [
    "return_name(\"Davis\",True)"
   ]
  },
  {
   "cell_type": "code",
   "execution_count": 24,
   "metadata": {},
   "outputs": [
    {
     "name": "stdout",
     "output_type": "stream",
     "text": [
      "Help on function return_name in module __main__:\n",
      "\n",
      "return_name(name, print_only=False)\n",
      "    第1引数に入れた名前を表示する\n",
      "    第2引数のprint_onlyがTrueならreturnせずにprintのみ行う\n",
      "\n"
     ]
    }
   ],
   "source": [
    "help(return_name)"
   ]
  },
  {
   "cell_type": "markdown",
   "metadata": {},
   "source": [
    "docstringを表示するには help 関数を使うことで、引数の名前とともに整形されたdocstringを返してくれる"
   ]
  },
  {
   "cell_type": "code",
   "execution_count": 25,
   "metadata": {},
   "outputs": [
    {
     "name": "stdout",
     "output_type": "stream",
     "text": [
      "\n",
      "    第1引数に入れた名前を表示する\n",
      "    第2引数のprint_onlyがTrueならreturnせずにprintのみ行う\n",
      "    \n"
     ]
    }
   ],
   "source": [
    "print(return_name.__doc__)"
   ]
  },
  {
   "cell_type": "markdown",
   "metadata": {},
   "source": [
    "整形前の素のdocstringを見たい場合には、関数の\\__doc\\__アトリビュートを呼ぶことで表示できる"
   ]
  },
  {
   "cell_type": "markdown",
   "metadata": {},
   "source": [
    "## 4.7.8  関数内関数"
   ]
  },
  {
   "cell_type": "code",
   "execution_count": 26,
   "metadata": {},
   "outputs": [],
   "source": [
    "def outer(a, b):\n",
    "    def inner(c, d):\n",
    "        return c + d\n",
    "    return inner(a, b)"
   ]
  },
  {
   "cell_type": "code",
   "execution_count": 27,
   "metadata": {},
   "outputs": [
    {
     "data": {
      "text/plain": [
       "11"
      ]
     },
     "execution_count": 27,
     "metadata": {},
     "output_type": "execute_result"
    }
   ],
   "source": [
    "outer(4,7)"
   ]
  },
  {
   "cell_type": "markdown",
   "metadata": {},
   "source": [
    "## 4.7.9  クロージャ"
   ]
  },
  {
   "cell_type": "code",
   "execution_count": 28,
   "metadata": {},
   "outputs": [],
   "source": [
    "def outer(a, b):\n",
    "    def inner():\n",
    "        return a+b\n",
    "    return inner"
   ]
  },
  {
   "cell_type": "code",
   "execution_count": 29,
   "metadata": {},
   "outputs": [],
   "source": [
    "func1 = outer(4,7)\n",
    "func2 = outer(5,2)"
   ]
  },
  {
   "cell_type": "code",
   "execution_count": 30,
   "metadata": {},
   "outputs": [
    {
     "data": {
      "text/plain": [
       "function"
      ]
     },
     "execution_count": 30,
     "metadata": {},
     "output_type": "execute_result"
    }
   ],
   "source": [
    "type(func1)"
   ]
  },
  {
   "cell_type": "code",
   "execution_count": 31,
   "metadata": {},
   "outputs": [
    {
     "data": {
      "text/plain": [
       "<function __main__.outer.<locals>.inner()>"
      ]
     },
     "execution_count": 31,
     "metadata": {},
     "output_type": "execute_result"
    }
   ],
   "source": [
    "func1"
   ]
  },
  {
   "cell_type": "code",
   "execution_count": 32,
   "metadata": {},
   "outputs": [
    {
     "data": {
      "text/plain": [
       "11"
      ]
     },
     "execution_count": 32,
     "metadata": {},
     "output_type": "execute_result"
    }
   ],
   "source": [
    "func1()"
   ]
  },
  {
   "cell_type": "code",
   "execution_count": 33,
   "metadata": {},
   "outputs": [
    {
     "data": {
      "text/plain": [
       "7"
      ]
     },
     "execution_count": 33,
     "metadata": {},
     "output_type": "execute_result"
    }
   ],
   "source": [
    "func2()"
   ]
  },
  {
   "cell_type": "markdown",
   "metadata": {},
   "source": [
    "クロージャとはほかの関数によって動的に生成される関数で、その関数の外で作られた変数の値を覚えていたり、変えたりすることができる  \n",
    "上ではouter関数は2つの値を与えることで、中のinner関数にaとbを足した数を覚えさせている  \n",
    "そしてouter関数は足した数を覚えたinner関数オブジェクトを返している  \n",
    "関数オブジェクトなので、()をつけて呼び出すことで記憶した合計の値を返すことができる"
   ]
  },
  {
   "cell_type": "markdown",
   "metadata": {},
   "source": [
    "## 4.7.10  無名関数 ラムダ関数"
   ]
  },
  {
   "cell_type": "code",
   "execution_count": 34,
   "metadata": {},
   "outputs": [],
   "source": [
    "a = lambda tax,price: price + price * tax # returnは省略される"
   ]
  },
  {
   "cell_type": "code",
   "execution_count": 35,
   "metadata": {},
   "outputs": [
    {
     "data": {
      "text/plain": [
       "108.0"
      ]
     },
     "execution_count": 35,
     "metadata": {},
     "output_type": "execute_result"
    }
   ],
   "source": [
    "a(0.08,100)"
   ]
  },
  {
   "cell_type": "markdown",
   "metadata": {},
   "source": [
    "ラムダ式は lambda 引数:処理内容 で記載することができる  \n",
    "本来、ラムダ式を使うときは変数に代入しないことが推奨されているが、わかりやすいように変数aを用いている  "
   ]
  },
  {
   "cell_type": "code",
   "execution_count": 36,
   "metadata": {},
   "outputs": [
    {
     "data": {
      "text/plain": [
       "108.0"
      ]
     },
     "execution_count": 36,
     "metadata": {},
     "output_type": "execute_result"
    }
   ],
   "source": [
    "(lambda tax, price: price + price * tax)(0.08, 100)"
   ]
  },
  {
   "cell_type": "markdown",
   "metadata": {},
   "source": [
    "ラムダ式を()で囲んで、そのまま関数のようにして引数を渡せば関数として使うこともできる  一度きりしか使わないときに使うとよい"
   ]
  },
  {
   "cell_type": "code",
   "execution_count": 37,
   "metadata": {},
   "outputs": [
    {
     "data": {
      "text/plain": [
       "'Hello'"
      ]
     },
     "execution_count": 37,
     "metadata": {},
     "output_type": "execute_result"
    }
   ],
   "source": [
    "(lambda : \"Hello\")() # Helloを返す関数"
   ]
  },
  {
   "cell_type": "markdown",
   "metadata": {},
   "source": [
    "引数を使わない場合は、lambdaと:の間を省略することもできる"
   ]
  },
  {
   "cell_type": "code",
   "execution_count": 38,
   "metadata": {},
   "outputs": [
    {
     "data": {
      "text/plain": [
       "'奇数'"
      ]
     },
     "execution_count": 38,
     "metadata": {},
     "output_type": "execute_result"
    }
   ],
   "source": [
    "(lambda num : \"偶数\" if num % 2 == 0 else \"奇数\")(5)"
   ]
  },
  {
   "cell_type": "markdown",
   "metadata": {},
   "source": [
    "ラムダ式内でifを使う場合は上のようにすれば使うことができる  \n",
    "lambda 引数 : ifの実行内容 if文 else文 elseの実行内容"
   ]
  },
  {
   "cell_type": "markdown",
   "metadata": {},
   "source": [
    "## 4.8  ジェネレータ"
   ]
  },
  {
   "cell_type": "code",
   "execution_count": 39,
   "metadata": {},
   "outputs": [],
   "source": [
    "def my_range(start=0, end=10, step=1):\n",
    "    number = start\n",
    "    while number < end:\n",
    "        yield number\n",
    "        number += step"
   ]
  },
  {
   "cell_type": "code",
   "execution_count": 40,
   "metadata": {},
   "outputs": [],
   "source": [
    "gen = my_range()"
   ]
  },
  {
   "cell_type": "code",
   "execution_count": 41,
   "metadata": {},
   "outputs": [
    {
     "data": {
      "text/plain": [
       "<generator object my_range at 0x0000025234BFBD48>"
      ]
     },
     "execution_count": 41,
     "metadata": {},
     "output_type": "execute_result"
    }
   ],
   "source": [
    "gen"
   ]
  },
  {
   "cell_type": "code",
   "execution_count": 42,
   "metadata": {},
   "outputs": [
    {
     "data": {
      "text/plain": [
       "generator"
      ]
     },
     "execution_count": 42,
     "metadata": {},
     "output_type": "execute_result"
    }
   ],
   "source": [
    "type(gen)"
   ]
  },
  {
   "cell_type": "code",
   "execution_count": 43,
   "metadata": {},
   "outputs": [
    {
     "name": "stdout",
     "output_type": "stream",
     "text": [
      "0\n",
      "1\n",
      "2\n",
      "3\n",
      "4\n",
      "5\n",
      "6\n",
      "7\n",
      "8\n",
      "9\n"
     ]
    }
   ],
   "source": [
    "for number in gen:\n",
    "    print(number)"
   ]
  },
  {
   "cell_type": "markdown",
   "metadata": {},
   "source": [
    "ジェネレータを使えば、シーケンス全体をパソコン内のメモリに保存する必要なくシーケンスを生成することができる  \n",
    "そのためイテレータのデータソースになることが多く、巨大なデータを使うときに便利である  \n",
    "また、呼び出すたびに最後にどこにいたかを覚えておき、次に呼ばれたときに続きから返すことができる  \n",
    "ジェネレータを生成するには、ジェネレータ内包表記や、上で生成したように関数内でyield文を使ってジェネレータ関数を作ることでできる"
   ]
  },
  {
   "cell_type": "code",
   "execution_count": 44,
   "metadata": {},
   "outputs": [],
   "source": [
    "gen = (num + 1 for num in range(1,10))"
   ]
  },
  {
   "cell_type": "code",
   "execution_count": 45,
   "metadata": {},
   "outputs": [
    {
     "data": {
      "text/plain": [
       "2"
      ]
     },
     "execution_count": 45,
     "metadata": {},
     "output_type": "execute_result"
    }
   ],
   "source": [
    "next(gen)"
   ]
  },
  {
   "cell_type": "code",
   "execution_count": 46,
   "metadata": {},
   "outputs": [
    {
     "data": {
      "text/plain": [
       "3"
      ]
     },
     "execution_count": 46,
     "metadata": {},
     "output_type": "execute_result"
    }
   ],
   "source": [
    "next(gen)"
   ]
  },
  {
   "cell_type": "code",
   "execution_count": 47,
   "metadata": {},
   "outputs": [
    {
     "data": {
      "text/plain": [
       "4"
      ]
     },
     "execution_count": 47,
     "metadata": {},
     "output_type": "execute_result"
    }
   ],
   "source": [
    "gen.__next__()"
   ]
  },
  {
   "cell_type": "markdown",
   "metadata": {},
   "source": [
    "ジェネレータオブジェクトをnext関数に渡せば一つずつジェネレータの中の値を返すことができ、続きから取り出すことができる  \n",
    "\\_\\_next\\_\\_アトリビュート呼ぶことでもできる"
   ]
  },
  {
   "cell_type": "markdown",
   "metadata": {},
   "source": [
    "## 4.9  デコレータ"
   ]
  },
  {
   "cell_type": "code",
   "execution_count": 48,
   "metadata": {},
   "outputs": [],
   "source": [
    "def document(func):\n",
    "    def new_func(*args,**kwargs):\n",
    "        print(\"func_name:\", func.__name__)\n",
    "        print(\"args_value:\", args)\n",
    "        print(\"kwargs_key:\", kwargs)\n",
    "        result = func(*args, **kwargs)\n",
    "        print(\"Result: \", result)\n",
    "        return result\n",
    "    return new_func"
   ]
  },
  {
   "cell_type": "code",
   "execution_count": 49,
   "metadata": {},
   "outputs": [],
   "source": [
    "def add_int(a, b):\n",
    "    return a + b"
   ]
  },
  {
   "cell_type": "code",
   "execution_count": 50,
   "metadata": {},
   "outputs": [
    {
     "data": {
      "text/plain": [
       "8"
      ]
     },
     "execution_count": 50,
     "metadata": {},
     "output_type": "execute_result"
    }
   ],
   "source": [
    "add_int(3,5)"
   ]
  },
  {
   "cell_type": "code",
   "execution_count": 51,
   "metadata": {},
   "outputs": [],
   "source": [
    "doc = document(add_int) # 定義したdocument関数内でfuncをadd_intとして記憶させたnew_func関数オブジェクトを生成"
   ]
  },
  {
   "cell_type": "code",
   "execution_count": 52,
   "metadata": {},
   "outputs": [
    {
     "ename": "SyntaxError",
     "evalue": "invalid character in identifier (<ipython-input-52-25c44f17578e>, line 1)",
     "output_type": "error",
     "traceback": [
      "\u001b[1;36m  File \u001b[1;32m\"<ipython-input-52-25c44f17578e>\"\u001b[1;36m, line \u001b[1;32m1\u001b[0m\n\u001b[1;33m    doc(3, 5)　# new_func関数内にadd_intに渡すはずだった値を渡す\u001b[0m\n\u001b[1;37m             ^\u001b[0m\n\u001b[1;31mSyntaxError\u001b[0m\u001b[1;31m:\u001b[0m invalid character in identifier\n"
     ]
    }
   ],
   "source": [
    "doc(3, 5)　# new_func関数内にadd_intに渡すはずだった値を渡す"
   ]
  },
  {
   "cell_type": "markdown",
   "metadata": {},
   "source": [
    "上のようにすると関数に新しい変化を付け加えることができるが、これにデコレータを使うことで見やすくできる"
   ]
  },
  {
   "cell_type": "code",
   "execution_count": 53,
   "metadata": {},
   "outputs": [],
   "source": [
    "@document\n",
    "def new_add_int(a, b):\n",
    "    return a + b"
   ]
  },
  {
   "cell_type": "code",
   "execution_count": 54,
   "metadata": {},
   "outputs": [
    {
     "name": "stdout",
     "output_type": "stream",
     "text": [
      "func_name: new_add_int\n",
      "args_value: (3, 5)\n",
      "kwargs_key: {}\n",
      "Result:  8\n"
     ]
    },
    {
     "data": {
      "text/plain": [
       "8"
      ]
     },
     "execution_count": 54,
     "metadata": {},
     "output_type": "execute_result"
    }
   ],
   "source": [
    "new_add_int(3, 5)"
   ]
  },
  {
   "cell_type": "markdown",
   "metadata": {},
   "source": [
    "デコレートしたい関数の上に@マークを付けたデコレータを追加することで簡単にデコレートできる\n",
    "デコレータの生成には  \n",
    "`def <デコレータの関数名>(func):  \n",
    "    def <適当な関数名>(*args, **kwargs)\n",
    "        追加したい関数の処理\n",
    "        func(*args, **kwargs)\n",
    "        追加したい関数の処理\n",
    "    return <適当な関数名>`  \n",
    "という形式にすることでできる"
   ]
  },
  {
   "cell_type": "code",
   "execution_count": 55,
   "metadata": {},
   "outputs": [],
   "source": [
    "def square(func):\n",
    "    def new_func(*args, **kwargs):\n",
    "        result = func(*args, **kwargs)\n",
    "        return result ** 2\n",
    "    return new_func"
   ]
  },
  {
   "cell_type": "code",
   "execution_count": 56,
   "metadata": {},
   "outputs": [],
   "source": [
    "@document\n",
    "@square\n",
    "def add_square(a, b):\n",
    "    return a + b"
   ]
  },
  {
   "cell_type": "code",
   "execution_count": 57,
   "metadata": {},
   "outputs": [
    {
     "name": "stdout",
     "output_type": "stream",
     "text": [
      "func_name: new_func\n",
      "args_value: (3, 5)\n",
      "kwargs_key: {}\n",
      "Result:  64\n"
     ]
    },
    {
     "data": {
      "text/plain": [
       "64"
      ]
     },
     "execution_count": 57,
     "metadata": {},
     "output_type": "execute_result"
    }
   ],
   "source": [
    "add_square(3,5)"
   ]
  },
  {
   "cell_type": "code",
   "execution_count": 58,
   "metadata": {},
   "outputs": [],
   "source": [
    "@square\n",
    "@document\n",
    "def add_square2(a, b):\n",
    "    return a + b"
   ]
  },
  {
   "cell_type": "code",
   "execution_count": 59,
   "metadata": {},
   "outputs": [
    {
     "name": "stdout",
     "output_type": "stream",
     "text": [
      "func_name: add_square2\n",
      "args_value: (3, 5)\n",
      "kwargs_key: {}\n",
      "Result:  8\n"
     ]
    },
    {
     "data": {
      "text/plain": [
       "64"
      ]
     },
     "execution_count": 59,
     "metadata": {},
     "output_type": "execute_result"
    }
   ],
   "source": [
    "add_square2(3,5)"
   ]
  },
  {
   "cell_type": "markdown",
   "metadata": {},
   "source": [
    "デコレータは複数持つことができるが、処理の順番は下に位置するデコレータ(defに近いほうから)から処理されるので途中の結果が変わってい  "
   ]
  },
  {
   "cell_type": "markdown",
   "metadata": {},
   "source": [
    "## 4.10  名前空間とスコープ"
   ]
  },
  {
   "cell_type": "code",
   "execution_count": 60,
   "metadata": {},
   "outputs": [],
   "source": [
    "a = 3"
   ]
  },
  {
   "cell_type": "code",
   "execution_count": 61,
   "metadata": {},
   "outputs": [],
   "source": [
    "def chenge_int():\n",
    "    a = 5\n",
    "    \n",
    "    print(a, \"id=\"+ str(id(a)))"
   ]
  },
  {
   "cell_type": "code",
   "execution_count": 62,
   "metadata": {},
   "outputs": [
    {
     "name": "stdout",
     "output_type": "stream",
     "text": [
      "5 id=140716631958032\n"
     ]
    }
   ],
   "source": [
    "chenge_int()"
   ]
  },
  {
   "cell_type": "code",
   "execution_count": 63,
   "metadata": {},
   "outputs": [
    {
     "name": "stdout",
     "output_type": "stream",
     "text": [
      "3 id=140716631957968\n"
     ]
    }
   ],
   "source": [
    "print(a, \"id=\"+ str(id(a)))"
   ]
  },
  {
   "cell_type": "markdown",
   "metadata": {},
   "source": [
    "グローバルでつけた変数(グローバル変数)と、関数内でつけた変数(ローカル変数)は別のオブジェクトとして扱われる"
   ]
  },
  {
   "cell_type": "code",
   "execution_count": 64,
   "metadata": {},
   "outputs": [],
   "source": [
    "a = 3"
   ]
  },
  {
   "cell_type": "code",
   "execution_count": 65,
   "metadata": {},
   "outputs": [],
   "source": [
    "def chenge_int():\n",
    "    global a\n",
    "    a = 5\n",
    "    print(a, \"id=\"+ str(id(a)))"
   ]
  },
  {
   "cell_type": "code",
   "execution_count": 66,
   "metadata": {},
   "outputs": [
    {
     "name": "stdout",
     "output_type": "stream",
     "text": [
      "5 id=140716631958032\n"
     ]
    }
   ],
   "source": [
    "chenge_int()"
   ]
  },
  {
   "cell_type": "code",
   "execution_count": 67,
   "metadata": {},
   "outputs": [
    {
     "name": "stdout",
     "output_type": "stream",
     "text": [
      "5 id=140716631958032\n"
     ]
    }
   ],
   "source": [
    "print(a, \"id=\"+ str(id(a)))"
   ]
  },
  {
   "cell_type": "markdown",
   "metadata": {},
   "source": [
    "関数内でグローバル変数にアクセスするには、キーワードの global を使って呼び出す変数を指定しすることでできる"
   ]
  },
  {
   "cell_type": "code",
   "execution_count": 68,
   "metadata": {},
   "outputs": [],
   "source": [
    "a = 3"
   ]
  },
  {
   "cell_type": "code",
   "execution_count": 69,
   "metadata": {},
   "outputs": [
    {
     "data": {
      "text/plain": [
       "{'__name__': '__main__',\n",
       " '__doc__': 'Automatically created module for IPython interactive environment',\n",
       " '__package__': None,\n",
       " '__loader__': None,\n",
       " '__spec__': None,\n",
       " '__builtin__': <module 'builtins' (built-in)>,\n",
       " '__builtins__': <module 'builtins' (built-in)>,\n",
       " '_ih': ['',\n",
       "  'num_list = [num * 2 for num in range(1,11)]\\nnum_list',\n",
       "  'num_list = [num * 2 for num in range(1,11) if num % 2 ==1]\\nnum_list',\n",
       "  'num_list = [num * 2 if num % 2 == 1 else num * 3 for num in range(1,11)]\\nnum_list',\n",
       "  'num_list = [num * num2 for num in range(1,6) for num2 in range(6,11)]\\nnum_list',\n",
       "  'num_list = [[num for num in range(1,6)] for i in range(3)]\\nnum_list',\n",
       "  'num_dict = {i:j for i,j in zip(range(1,6),range(6,11))}\\nnum_dict',\n",
       "  'num_dict = {i:j for i,j in zip(range(1,6),range(6,11)) if i % 2 == 1}\\nnum_dict',\n",
       "  'num_dict = {i:i*2 if i % 2 ==1 else i:i for i in range(1,11)} \\n# キーと値それぞれにif文を書き必要があるためエラーになる(下のコードが正しい)',\n",
       "  'next(gen)',\n",
       "  'num_dict = {i:i*2 if i % 2 == 1 else i for i in range(1,11)}\\nnum_dict',\n",
       "  'num_set = {num * 2 for num in range(1,11)}\\nnum_set',\n",
       "  'num_set = {num * 2 for num in range(1,11) if num % 2 == 1}\\nnum_set',\n",
       "  'num_set = {num *2 if num < 5 else num /2 for num in range(1,11)}\\nnum_set',\n",
       "  'num_gen = (num * 2 for num in range(1,11))\\ntype(num_gen)',\n",
       "  'for num in num_gen:\\n    print(num)',\n",
       "  'for num in num_gen:\\n    print(num)    # ジェネレータなのでもう一度呼ぼうとしても何も出ない',\n",
       "  'def info(x, y, *args):\\n    return {x: y} , args',\n",
       "  'a,b = info(1,2,3,4,5,6)\\na,b',\n",
       "  'def color_image(**kwargs):\\n    return kwargs',\n",
       "  'a = color_image(red=\"tomato\",yellow=\"lemon\",blue=\"sea\")\\na',\n",
       "  'def return_name(name,print_only=False):\\n    \"\"\"\\n    第1引数に入れた名前を表示する\\n    第2引数のprint_onlyがTrueならreturnせずにprintのみ行う\\n    \"\"\"\\n    if not print_only:\\n        return name\\n    else:\\n        print(name)',\n",
       "  'return_name(\"Davis\")',\n",
       "  'return_name(\"Davis\",True)',\n",
       "  'help(return_name)',\n",
       "  'print(return_name.__doc__)',\n",
       "  'def outer(a, b):\\n    def inner(c, d):\\n        return c + d\\n    return inner(a, b)',\n",
       "  'outer(4,7)',\n",
       "  'def outer(a, b):\\n    def inner():\\n        return a+b\\n    return inner',\n",
       "  'func1 = outer(4,7)\\nfunc2 = outer(5,2)',\n",
       "  'type(func1)',\n",
       "  'func1',\n",
       "  'func1()',\n",
       "  'func2()',\n",
       "  'a = lambda tax,price: price + price * tax # returnは省略される',\n",
       "  'a(0.08,100)',\n",
       "  '(lambda tax, price: price + price * tax)(0.08, 100)',\n",
       "  '(lambda : \"Hello\")() # Helloを返す関数',\n",
       "  '(lambda num : \"偶数\" if num % 2 == 0 else \"奇数\")(5)',\n",
       "  'def my_range(start=0, end=10, step=1):\\n    number = start\\n    while number < end:\\n        yield number\\n        number += step',\n",
       "  'gen = my_range()',\n",
       "  'gen',\n",
       "  'type(gen)',\n",
       "  'for number in gen:\\n    print(number)',\n",
       "  'gen = (num + 1 for num in range(1,10))',\n",
       "  'next(gen)',\n",
       "  'next(gen)',\n",
       "  'gen.__next__()',\n",
       "  'def document(func):\\n    def new_func(*args,**kwargs):\\n        print(\"func_name:\", func.__name__)\\n        print(\"args_value:\", args)\\n        print(\"kwargs_key:\", kwargs)\\n        result = func(*args, **kwargs)\\n        print(\"Result: \", result)\\n        return result\\n    return new_func',\n",
       "  'def add_int(a, b):\\n    return a + b',\n",
       "  'add_int(3,5)',\n",
       "  'doc = document(add_int) # 定義したdocument関数内でfuncをadd_intとして記憶させたnew_func関数オブジェクトを生成',\n",
       "  'doc(3, 5)\\u3000# new_func関数内にadd_intに渡すはずだった値を渡す',\n",
       "  '@document\\ndef new_add_int(a, b):\\n    return a + b',\n",
       "  'new_add_int(3, 5)',\n",
       "  'def square(func):\\n    def new_func(*args, **kwargs):\\n        result = func(*args, **kwargs)\\n        return result ** 2\\n    return new_func',\n",
       "  '@document\\n@square\\ndef add_square(a, b):\\n    return a + b',\n",
       "  'add_square(3,5)',\n",
       "  '@square\\n@document\\ndef add_square2(a, b):\\n    return a + b',\n",
       "  'add_square2(3,5)',\n",
       "  'a = 3',\n",
       "  'def chenge_int():\\n    a = 5\\n    \\n    print(a, \"id=\"+ str(id(a)))',\n",
       "  'chenge_int()',\n",
       "  'print(a, \"id=\"+ str(id(a)))',\n",
       "  'a = 3',\n",
       "  'def chenge_int():\\n    global a\\n    a = 5\\n    print(a, \"id=\"+ str(id(a)))',\n",
       "  'chenge_int()',\n",
       "  'print(a, \"id=\"+ str(id(a)))',\n",
       "  'a = 3',\n",
       "  'globals()'],\n",
       " '_oh': {1: [2, 4, 6, 8, 10, 12, 14, 16, 18, 20],\n",
       "  2: [2, 6, 10, 14, 18],\n",
       "  3: [2, 6, 6, 12, 10, 18, 14, 24, 18, 30],\n",
       "  4: [6,\n",
       "   7,\n",
       "   8,\n",
       "   9,\n",
       "   10,\n",
       "   12,\n",
       "   14,\n",
       "   16,\n",
       "   18,\n",
       "   20,\n",
       "   18,\n",
       "   21,\n",
       "   24,\n",
       "   27,\n",
       "   30,\n",
       "   24,\n",
       "   28,\n",
       "   32,\n",
       "   36,\n",
       "   40,\n",
       "   30,\n",
       "   35,\n",
       "   40,\n",
       "   45,\n",
       "   50],\n",
       "  5: [[1, 2, 3, 4, 5], [1, 2, 3, 4, 5], [1, 2, 3, 4, 5]],\n",
       "  6: {1: 6, 2: 7, 3: 8, 4: 9, 5: 10},\n",
       "  7: {1: 6, 3: 8, 5: 10},\n",
       "  10: {1: 2, 2: 2, 3: 6, 4: 4, 5: 10, 6: 6, 7: 14, 8: 8, 9: 18, 10: 10},\n",
       "  11: {2, 4, 6, 8, 10, 12, 14, 16, 18, 20},\n",
       "  12: {2, 6, 10, 14, 18},\n",
       "  13: {2, 2.5, 3.0, 3.5, 4, 4.5, 5.0, 6, 8},\n",
       "  14: generator,\n",
       "  18: ({1: 2}, (3, 4, 5, 6)),\n",
       "  20: {'red': 'tomato', 'yellow': 'lemon', 'blue': 'sea'},\n",
       "  22: 'Davis',\n",
       "  27: 11,\n",
       "  30: function,\n",
       "  31: <function __main__.outer.<locals>.inner()>,\n",
       "  32: 11,\n",
       "  33: 7,\n",
       "  35: 108.0,\n",
       "  36: 108.0,\n",
       "  37: 'Hello',\n",
       "  38: '奇数',\n",
       "  41: <generator object my_range at 0x0000025234BFBD48>,\n",
       "  42: generator,\n",
       "  45: 2,\n",
       "  46: 3,\n",
       "  47: 4,\n",
       "  50: 8,\n",
       "  54: 8,\n",
       "  57: 64,\n",
       "  59: 64},\n",
       " '_dh': ['C:\\\\Users\\\\kumak\\\\提出用\\\\入門Python3'],\n",
       " 'In': ['',\n",
       "  'num_list = [num * 2 for num in range(1,11)]\\nnum_list',\n",
       "  'num_list = [num * 2 for num in range(1,11) if num % 2 ==1]\\nnum_list',\n",
       "  'num_list = [num * 2 if num % 2 == 1 else num * 3 for num in range(1,11)]\\nnum_list',\n",
       "  'num_list = [num * num2 for num in range(1,6) for num2 in range(6,11)]\\nnum_list',\n",
       "  'num_list = [[num for num in range(1,6)] for i in range(3)]\\nnum_list',\n",
       "  'num_dict = {i:j for i,j in zip(range(1,6),range(6,11))}\\nnum_dict',\n",
       "  'num_dict = {i:j for i,j in zip(range(1,6),range(6,11)) if i % 2 == 1}\\nnum_dict',\n",
       "  'num_dict = {i:i*2 if i % 2 ==1 else i:i for i in range(1,11)} \\n# キーと値それぞれにif文を書き必要があるためエラーになる(下のコードが正しい)',\n",
       "  'next(gen)',\n",
       "  'num_dict = {i:i*2 if i % 2 == 1 else i for i in range(1,11)}\\nnum_dict',\n",
       "  'num_set = {num * 2 for num in range(1,11)}\\nnum_set',\n",
       "  'num_set = {num * 2 for num in range(1,11) if num % 2 == 1}\\nnum_set',\n",
       "  'num_set = {num *2 if num < 5 else num /2 for num in range(1,11)}\\nnum_set',\n",
       "  'num_gen = (num * 2 for num in range(1,11))\\ntype(num_gen)',\n",
       "  'for num in num_gen:\\n    print(num)',\n",
       "  'for num in num_gen:\\n    print(num)    # ジェネレータなのでもう一度呼ぼうとしても何も出ない',\n",
       "  'def info(x, y, *args):\\n    return {x: y} , args',\n",
       "  'a,b = info(1,2,3,4,5,6)\\na,b',\n",
       "  'def color_image(**kwargs):\\n    return kwargs',\n",
       "  'a = color_image(red=\"tomato\",yellow=\"lemon\",blue=\"sea\")\\na',\n",
       "  'def return_name(name,print_only=False):\\n    \"\"\"\\n    第1引数に入れた名前を表示する\\n    第2引数のprint_onlyがTrueならreturnせずにprintのみ行う\\n    \"\"\"\\n    if not print_only:\\n        return name\\n    else:\\n        print(name)',\n",
       "  'return_name(\"Davis\")',\n",
       "  'return_name(\"Davis\",True)',\n",
       "  'help(return_name)',\n",
       "  'print(return_name.__doc__)',\n",
       "  'def outer(a, b):\\n    def inner(c, d):\\n        return c + d\\n    return inner(a, b)',\n",
       "  'outer(4,7)',\n",
       "  'def outer(a, b):\\n    def inner():\\n        return a+b\\n    return inner',\n",
       "  'func1 = outer(4,7)\\nfunc2 = outer(5,2)',\n",
       "  'type(func1)',\n",
       "  'func1',\n",
       "  'func1()',\n",
       "  'func2()',\n",
       "  'a = lambda tax,price: price + price * tax # returnは省略される',\n",
       "  'a(0.08,100)',\n",
       "  '(lambda tax, price: price + price * tax)(0.08, 100)',\n",
       "  '(lambda : \"Hello\")() # Helloを返す関数',\n",
       "  '(lambda num : \"偶数\" if num % 2 == 0 else \"奇数\")(5)',\n",
       "  'def my_range(start=0, end=10, step=1):\\n    number = start\\n    while number < end:\\n        yield number\\n        number += step',\n",
       "  'gen = my_range()',\n",
       "  'gen',\n",
       "  'type(gen)',\n",
       "  'for number in gen:\\n    print(number)',\n",
       "  'gen = (num + 1 for num in range(1,10))',\n",
       "  'next(gen)',\n",
       "  'next(gen)',\n",
       "  'gen.__next__()',\n",
       "  'def document(func):\\n    def new_func(*args,**kwargs):\\n        print(\"func_name:\", func.__name__)\\n        print(\"args_value:\", args)\\n        print(\"kwargs_key:\", kwargs)\\n        result = func(*args, **kwargs)\\n        print(\"Result: \", result)\\n        return result\\n    return new_func',\n",
       "  'def add_int(a, b):\\n    return a + b',\n",
       "  'add_int(3,5)',\n",
       "  'doc = document(add_int) # 定義したdocument関数内でfuncをadd_intとして記憶させたnew_func関数オブジェクトを生成',\n",
       "  'doc(3, 5)\\u3000# new_func関数内にadd_intに渡すはずだった値を渡す',\n",
       "  '@document\\ndef new_add_int(a, b):\\n    return a + b',\n",
       "  'new_add_int(3, 5)',\n",
       "  'def square(func):\\n    def new_func(*args, **kwargs):\\n        result = func(*args, **kwargs)\\n        return result ** 2\\n    return new_func',\n",
       "  '@document\\n@square\\ndef add_square(a, b):\\n    return a + b',\n",
       "  'add_square(3,5)',\n",
       "  '@square\\n@document\\ndef add_square2(a, b):\\n    return a + b',\n",
       "  'add_square2(3,5)',\n",
       "  'a = 3',\n",
       "  'def chenge_int():\\n    a = 5\\n    \\n    print(a, \"id=\"+ str(id(a)))',\n",
       "  'chenge_int()',\n",
       "  'print(a, \"id=\"+ str(id(a)))',\n",
       "  'a = 3',\n",
       "  'def chenge_int():\\n    global a\\n    a = 5\\n    print(a, \"id=\"+ str(id(a)))',\n",
       "  'chenge_int()',\n",
       "  'print(a, \"id=\"+ str(id(a)))',\n",
       "  'a = 3',\n",
       "  'globals()'],\n",
       " 'Out': {1: [2, 4, 6, 8, 10, 12, 14, 16, 18, 20],\n",
       "  2: [2, 6, 10, 14, 18],\n",
       "  3: [2, 6, 6, 12, 10, 18, 14, 24, 18, 30],\n",
       "  4: [6,\n",
       "   7,\n",
       "   8,\n",
       "   9,\n",
       "   10,\n",
       "   12,\n",
       "   14,\n",
       "   16,\n",
       "   18,\n",
       "   20,\n",
       "   18,\n",
       "   21,\n",
       "   24,\n",
       "   27,\n",
       "   30,\n",
       "   24,\n",
       "   28,\n",
       "   32,\n",
       "   36,\n",
       "   40,\n",
       "   30,\n",
       "   35,\n",
       "   40,\n",
       "   45,\n",
       "   50],\n",
       "  5: [[1, 2, 3, 4, 5], [1, 2, 3, 4, 5], [1, 2, 3, 4, 5]],\n",
       "  6: {1: 6, 2: 7, 3: 8, 4: 9, 5: 10},\n",
       "  7: {1: 6, 3: 8, 5: 10},\n",
       "  10: {1: 2, 2: 2, 3: 6, 4: 4, 5: 10, 6: 6, 7: 14, 8: 8, 9: 18, 10: 10},\n",
       "  11: {2, 4, 6, 8, 10, 12, 14, 16, 18, 20},\n",
       "  12: {2, 6, 10, 14, 18},\n",
       "  13: {2, 2.5, 3.0, 3.5, 4, 4.5, 5.0, 6, 8},\n",
       "  14: generator,\n",
       "  18: ({1: 2}, (3, 4, 5, 6)),\n",
       "  20: {'red': 'tomato', 'yellow': 'lemon', 'blue': 'sea'},\n",
       "  22: 'Davis',\n",
       "  27: 11,\n",
       "  30: function,\n",
       "  31: <function __main__.outer.<locals>.inner()>,\n",
       "  32: 11,\n",
       "  33: 7,\n",
       "  35: 108.0,\n",
       "  36: 108.0,\n",
       "  37: 'Hello',\n",
       "  38: '奇数',\n",
       "  41: <generator object my_range at 0x0000025234BFBD48>,\n",
       "  42: generator,\n",
       "  45: 2,\n",
       "  46: 3,\n",
       "  47: 4,\n",
       "  50: 8,\n",
       "  54: 8,\n",
       "  57: 64,\n",
       "  59: 64},\n",
       " 'get_ipython': <bound method InteractiveShell.get_ipython of <ipykernel.zmqshell.ZMQInteractiveShell object at 0x0000025234B4D8C8>>,\n",
       " 'exit': <IPython.core.autocall.ZMQExitAutocall at 0x25234bb8688>,\n",
       " 'quit': <IPython.core.autocall.ZMQExitAutocall at 0x25234bb8688>,\n",
       " '_': 64,\n",
       " '__': 64,\n",
       " '___': 8,\n",
       " '_i': 'a = 3',\n",
       " '_ii': 'print(a, \"id=\"+ str(id(a)))',\n",
       " '_iii': 'chenge_int()',\n",
       " '_i1': 'num_list = [num * 2 for num in range(1,11)]\\nnum_list',\n",
       " 'num_list': [[1, 2, 3, 4, 5], [1, 2, 3, 4, 5], [1, 2, 3, 4, 5]],\n",
       " '_1': [2, 4, 6, 8, 10, 12, 14, 16, 18, 20],\n",
       " '_i2': 'num_list = [num * 2 for num in range(1,11) if num % 2 ==1]\\nnum_list',\n",
       " '_2': [2, 6, 10, 14, 18],\n",
       " '_i3': 'num_list = [num * 2 if num % 2 == 1 else num * 3 for num in range(1,11)]\\nnum_list',\n",
       " '_3': [2, 6, 6, 12, 10, 18, 14, 24, 18, 30],\n",
       " '_i4': 'num_list = [num * num2 for num in range(1,6) for num2 in range(6,11)]\\nnum_list',\n",
       " '_4': [6,\n",
       "  7,\n",
       "  8,\n",
       "  9,\n",
       "  10,\n",
       "  12,\n",
       "  14,\n",
       "  16,\n",
       "  18,\n",
       "  20,\n",
       "  18,\n",
       "  21,\n",
       "  24,\n",
       "  27,\n",
       "  30,\n",
       "  24,\n",
       "  28,\n",
       "  32,\n",
       "  36,\n",
       "  40,\n",
       "  30,\n",
       "  35,\n",
       "  40,\n",
       "  45,\n",
       "  50],\n",
       " '_i5': 'num_list = [[num for num in range(1,6)] for i in range(3)]\\nnum_list',\n",
       " '_5': [[1, 2, 3, 4, 5], [1, 2, 3, 4, 5], [1, 2, 3, 4, 5]],\n",
       " '_i6': 'num_dict = {i:j for i,j in zip(range(1,6),range(6,11))}\\nnum_dict',\n",
       " 'num_dict': {1: 2, 2: 2, 3: 6, 4: 4, 5: 10, 6: 6, 7: 14, 8: 8, 9: 18, 10: 10},\n",
       " '_6': {1: 6, 2: 7, 3: 8, 4: 9, 5: 10},\n",
       " '_i7': 'num_dict = {i:j for i,j in zip(range(1,6),range(6,11)) if i % 2 == 1}\\nnum_dict',\n",
       " '_7': {1: 6, 3: 8, 5: 10},\n",
       " '_i8': 'num_dict = {i:i*2 if i % 2 ==1 else i:i for i in range(1,11)} \\n# キーと値それぞれにif文を書き必要があるためエラーになる(下のコードが正しい)',\n",
       " '_i9': 'next(gen)',\n",
       " '_i10': 'num_dict = {i:i*2 if i % 2 == 1 else i for i in range(1,11)}\\nnum_dict',\n",
       " '_10': {1: 2, 2: 2, 3: 6, 4: 4, 5: 10, 6: 6, 7: 14, 8: 8, 9: 18, 10: 10},\n",
       " '_i11': 'num_set = {num * 2 for num in range(1,11)}\\nnum_set',\n",
       " 'num_set': {2, 2.5, 3.0, 3.5, 4, 4.5, 5.0, 6, 8},\n",
       " '_11': {2, 4, 6, 8, 10, 12, 14, 16, 18, 20},\n",
       " '_i12': 'num_set = {num * 2 for num in range(1,11) if num % 2 == 1}\\nnum_set',\n",
       " '_12': {2, 6, 10, 14, 18},\n",
       " '_i13': 'num_set = {num *2 if num < 5 else num /2 for num in range(1,11)}\\nnum_set',\n",
       " '_13': {2, 2.5, 3.0, 3.5, 4, 4.5, 5.0, 6, 8},\n",
       " '_i14': 'num_gen = (num * 2 for num in range(1,11))\\ntype(num_gen)',\n",
       " 'num_gen': <generator object <genexpr> at 0x0000025234BFB648>,\n",
       " '_14': generator,\n",
       " '_i15': 'for num in num_gen:\\n    print(num)',\n",
       " 'num': 20,\n",
       " '_i16': 'for num in num_gen:\\n    print(num)    # ジェネレータなのでもう一度呼ぼうとしても何も出ない',\n",
       " '_i17': 'def info(x, y, *args):\\n    return {x: y} , args',\n",
       " 'info': <function __main__.info(x, y, *args)>,\n",
       " '_i18': 'a,b = info(1,2,3,4,5,6)\\na,b',\n",
       " 'a': 3,\n",
       " 'b': (3, 4, 5, 6),\n",
       " '_18': ({1: 2}, (3, 4, 5, 6)),\n",
       " '_i19': 'def color_image(**kwargs):\\n    return kwargs',\n",
       " 'color_image': <function __main__.color_image(**kwargs)>,\n",
       " '_i20': 'a = color_image(red=\"tomato\",yellow=\"lemon\",blue=\"sea\")\\na',\n",
       " '_20': {'red': 'tomato', 'yellow': 'lemon', 'blue': 'sea'},\n",
       " '_i21': 'def return_name(name,print_only=False):\\n    \"\"\"\\n    第1引数に入れた名前を表示する\\n    第2引数のprint_onlyがTrueならreturnせずにprintのみ行う\\n    \"\"\"\\n    if not print_only:\\n        return name\\n    else:\\n        print(name)',\n",
       " 'return_name': <function __main__.return_name(name, print_only=False)>,\n",
       " '_i22': 'return_name(\"Davis\")',\n",
       " '_22': 'Davis',\n",
       " '_i23': 'return_name(\"Davis\",True)',\n",
       " '_i24': 'help(return_name)',\n",
       " '_i25': 'print(return_name.__doc__)',\n",
       " '_i26': 'def outer(a, b):\\n    def inner(c, d):\\n        return c + d\\n    return inner(a, b)',\n",
       " 'outer': <function __main__.outer(a, b)>,\n",
       " '_i27': 'outer(4,7)',\n",
       " '_27': 11,\n",
       " '_i28': 'def outer(a, b):\\n    def inner():\\n        return a+b\\n    return inner',\n",
       " '_i29': 'func1 = outer(4,7)\\nfunc2 = outer(5,2)',\n",
       " 'func1': <function __main__.outer.<locals>.inner()>,\n",
       " 'func2': <function __main__.outer.<locals>.inner()>,\n",
       " '_i30': 'type(func1)',\n",
       " '_30': function,\n",
       " '_i31': 'func1',\n",
       " '_31': <function __main__.outer.<locals>.inner()>,\n",
       " '_i32': 'func1()',\n",
       " '_32': 11,\n",
       " '_i33': 'func2()',\n",
       " '_33': 7,\n",
       " '_i34': 'a = lambda tax,price: price + price * tax # returnは省略される',\n",
       " '_i35': 'a(0.08,100)',\n",
       " '_35': 108.0,\n",
       " '_i36': '(lambda tax, price: price + price * tax)(0.08, 100)',\n",
       " '_36': 108.0,\n",
       " '_i37': '(lambda : \"Hello\")() # Helloを返す関数',\n",
       " '_37': 'Hello',\n",
       " '_i38': '(lambda num : \"偶数\" if num % 2 == 0 else \"奇数\")(5)',\n",
       " '_38': '奇数',\n",
       " '_i39': 'def my_range(start=0, end=10, step=1):\\n    number = start\\n    while number < end:\\n        yield number\\n        number += step',\n",
       " 'my_range': <function __main__.my_range(start=0, end=10, step=1)>,\n",
       " '_i40': 'gen = my_range()',\n",
       " 'gen': <generator object <genexpr> at 0x0000025234BFBF48>,\n",
       " '_i41': 'gen',\n",
       " '_41': <generator object my_range at 0x0000025234BFBD48>,\n",
       " '_i42': 'type(gen)',\n",
       " '_42': generator,\n",
       " '_i43': 'for number in gen:\\n    print(number)',\n",
       " 'number': 9,\n",
       " '_i44': 'gen = (num + 1 for num in range(1,10))',\n",
       " '_i45': 'next(gen)',\n",
       " '_45': 2,\n",
       " '_i46': 'next(gen)',\n",
       " '_46': 3,\n",
       " '_i47': 'gen.__next__()',\n",
       " '_47': 4,\n",
       " '_i48': 'def document(func):\\n    def new_func(*args,**kwargs):\\n        print(\"func_name:\", func.__name__)\\n        print(\"args_value:\", args)\\n        print(\"kwargs_key:\", kwargs)\\n        result = func(*args, **kwargs)\\n        print(\"Result: \", result)\\n        return result\\n    return new_func',\n",
       " 'document': <function __main__.document(func)>,\n",
       " '_i49': 'def add_int(a, b):\\n    return a + b',\n",
       " 'add_int': <function __main__.add_int(a, b)>,\n",
       " '_i50': 'add_int(3,5)',\n",
       " '_50': 8,\n",
       " '_i51': 'doc = document(add_int) # 定義したdocument関数内でfuncをadd_intとして記憶させたnew_func関数オブジェクトを生成',\n",
       " 'doc': <function __main__.document.<locals>.new_func(*args, **kwargs)>,\n",
       " '_i52': 'doc(3, 5)\\u3000# new_func関数内にadd_intに渡すはずだった値を渡す',\n",
       " '_i53': '@document\\ndef new_add_int(a, b):\\n    return a + b',\n",
       " 'new_add_int': <function __main__.document.<locals>.new_func(*args, **kwargs)>,\n",
       " '_i54': 'new_add_int(3, 5)',\n",
       " '_54': 8,\n",
       " '_i55': 'def square(func):\\n    def new_func(*args, **kwargs):\\n        result = func(*args, **kwargs)\\n        return result ** 2\\n    return new_func',\n",
       " 'square': <function __main__.square(func)>,\n",
       " '_i56': '@document\\n@square\\ndef add_square(a, b):\\n    return a + b',\n",
       " 'add_square': <function __main__.document.<locals>.new_func(*args, **kwargs)>,\n",
       " '_i57': 'add_square(3,5)',\n",
       " '_57': 64,\n",
       " '_i58': '@square\\n@document\\ndef add_square2(a, b):\\n    return a + b',\n",
       " 'add_square2': <function __main__.square.<locals>.new_func(*args, **kwargs)>,\n",
       " '_i59': 'add_square2(3,5)',\n",
       " '_59': 64,\n",
       " '_i60': 'a = 3',\n",
       " '_i61': 'def chenge_int():\\n    a = 5\\n    \\n    print(a, \"id=\"+ str(id(a)))',\n",
       " 'chenge_int': <function __main__.chenge_int()>,\n",
       " '_i62': 'chenge_int()',\n",
       " '_i63': 'print(a, \"id=\"+ str(id(a)))',\n",
       " '_i64': 'a = 3',\n",
       " '_i65': 'def chenge_int():\\n    global a\\n    a = 5\\n    print(a, \"id=\"+ str(id(a)))',\n",
       " '_i66': 'chenge_int()',\n",
       " '_i67': 'print(a, \"id=\"+ str(id(a)))',\n",
       " '_i68': 'a = 3',\n",
       " '_i69': 'globals()'}"
      ]
     },
     "execution_count": 69,
     "metadata": {},
     "output_type": "execute_result"
    }
   ],
   "source": [
    "globals()"
   ]
  },
  {
   "cell_type": "markdown",
   "metadata": {},
   "source": [
    "関数の global を使うことで現在のグローバル変数の内容を示す辞書を返してくれる"
   ]
  },
  {
   "cell_type": "code",
   "execution_count": 70,
   "metadata": {},
   "outputs": [],
   "source": [
    "def a_5():\n",
    "    a = 5\n",
    "    print(locals())"
   ]
  },
  {
   "cell_type": "code",
   "execution_count": 71,
   "metadata": {},
   "outputs": [
    {
     "name": "stdout",
     "output_type": "stream",
     "text": [
      "{'a': 5}\n"
     ]
    }
   ],
   "source": [
    "a_5()"
   ]
  },
  {
   "cell_type": "markdown",
   "metadata": {},
   "source": [
    "関数の locals を関数内で使うことでローカル変数の内容を示す辞書を返してくれる"
   ]
  },
  {
   "cell_type": "markdown",
   "metadata": {},
   "source": [
    "## 4.10.1  名前の中の\\_と\\_\\_"
   ]
  },
  {
   "cell_type": "code",
   "execution_count": 72,
   "metadata": {},
   "outputs": [],
   "source": [
    "def amazing():\n",
    "    \"\"\"これはメインプログラムでしか起動しない関数\n",
    "    他の場所で起動してもなにもでないよ\"\"\"\n",
    "    if __name__ == \"__main__\":\n",
    "        print(\"この関数の名前: \" + str(amazing.__name__))\n",
    "        print(\"docstring: \" + str(amazing.__doc__))"
   ]
  },
  {
   "cell_type": "code",
   "execution_count": 73,
   "metadata": {},
   "outputs": [
    {
     "name": "stdout",
     "output_type": "stream",
     "text": [
      "この関数の名前: amazing\n",
      "docstring: これはメインプログラムでしか起動しない関数\n",
      "    他の場所で起動してもなにもでないよ\n"
     ]
    }
   ],
   "source": [
    "amazing()"
   ]
  },
  {
   "cell_type": "code",
   "execution_count": 74,
   "metadata": {},
   "outputs": [
    {
     "data": {
      "text/plain": [
       "'__main__'"
      ]
     },
     "execution_count": 74,
     "metadata": {},
     "output_type": "execute_result"
    }
   ],
   "source": [
    "__name__"
   ]
  },
  {
   "cell_type": "code",
   "execution_count": 75,
   "metadata": {},
   "outputs": [
    {
     "data": {
      "text/plain": [
       "['__annotations__',\n",
       " '__call__',\n",
       " '__class__',\n",
       " '__closure__',\n",
       " '__code__',\n",
       " '__defaults__',\n",
       " '__delattr__',\n",
       " '__dict__',\n",
       " '__dir__',\n",
       " '__doc__',\n",
       " '__eq__',\n",
       " '__format__',\n",
       " '__ge__',\n",
       " '__get__',\n",
       " '__getattribute__',\n",
       " '__globals__',\n",
       " '__gt__',\n",
       " '__hash__',\n",
       " '__init__',\n",
       " '__init_subclass__',\n",
       " '__kwdefaults__',\n",
       " '__le__',\n",
       " '__lt__',\n",
       " '__module__',\n",
       " '__name__',\n",
       " '__ne__',\n",
       " '__new__',\n",
       " '__qualname__',\n",
       " '__reduce__',\n",
       " '__reduce_ex__',\n",
       " '__repr__',\n",
       " '__setattr__',\n",
       " '__sizeof__',\n",
       " '__str__',\n",
       " '__subclasshook__']"
      ]
     },
     "execution_count": 75,
     "metadata": {},
     "output_type": "execute_result"
    }
   ],
   "source": [
    "dir(amazing)"
   ]
  },
  {
   "cell_type": "markdown",
   "metadata": {},
   "source": [
    "先頭と末尾が2つのアンダースコアで囲まれているのはpythonが使う変素であって、自身で作ってはならない\n",
    "\n",
    "上からもわかるように2つのアンダースコアで囲まれた変数はたくさんあり、必要な情報が入っている\n",
    "\n",
    "関数の名前は 関数.\\_\\_name\\_\\_ の中に、docstringは 関数.\\_\\_doc\\_\\_ の中に入っている  \n",
    "また、メインプログラムには \\_\\_name\\_\\_ の変数が最初から与えられており、\"\\_\\_main\\_\\_\"という名前が付けられている"
   ]
  },
  {
   "cell_type": "markdown",
   "metadata": {},
   "source": [
    "## 4.11  エラー処理とtry,except"
   ]
  },
  {
   "cell_type": "code",
   "execution_count": 76,
   "metadata": {},
   "outputs": [],
   "source": [
    "num_list=[num for num in range(10)]"
   ]
  },
  {
   "cell_type": "code",
   "execution_count": 78,
   "metadata": {},
   "outputs": [
    {
     "name": "stdout",
     "output_type": "stream",
     "text": [
      "Ptition [q to quit]? : 1\n",
      "1\n",
      "\n",
      "Ptition [q to quit]? : 0\n",
      "0\n",
      "\n",
      "Ptition [q to quit]? : 2\n",
      "2\n",
      "\n",
      "Ptition [q to quit]? : 3\n",
      "3\n",
      "\n",
      "Ptition [q to quit]? : 2\n",
      "2\n",
      "\n",
      "Ptition [q to quit]? : two\n",
      "Something else broke \n",
      "invalid literal for int() with base 10: 'two'\n",
      "\n",
      "Ptition [q to quit]? : q\n"
     ]
    }
   ],
   "source": [
    "while True:\n",
    "    index = input(\"Ptition [q to quit]? : \")\n",
    "    if index == \"q\":\n",
    "        break\n",
    "    try:\n",
    "        index = int(index)\n",
    "        print(num_list[index],end=\"\\n\\n\")\n",
    "    except IndexError as IE:\n",
    "        print(f\"Bad index {index}\\n{IE}\",end=\"\\n\\n\")\n",
    "    except Exception as other:\n",
    "        print(f\"Something else broke \\n{other}\",end=\"\\n\\n\")"
   ]
  },
  {
   "cell_type": "markdown",
   "metadata": {},
   "source": [
    "`try:\n",
    "    <エラーが起こりえる処理>\n",
    " except <例外エラー名(以下省略可)> as <エラーの詳細文を入れたい変数名>:\n",
    "    <例外エラーが起きた時の処理>`"
   ]
  },
  {
   "cell_type": "markdown",
   "metadata": {},
   "source": [
    "## 4.12  独自例外の作成"
   ]
  },
  {
   "cell_type": "code",
   "execution_count": 79,
   "metadata": {},
   "outputs": [],
   "source": [
    "class UppercaseException(Exception):\n",
    "    pass"
   ]
  },
  {
   "cell_type": "code",
   "execution_count": 80,
   "metadata": {},
   "outputs": [],
   "source": [
    "words = [\"ant\", \"BEE\", \"butterfly\"]"
   ]
  },
  {
   "cell_type": "code",
   "execution_count": 81,
   "metadata": {},
   "outputs": [
    {
     "ename": "UppercaseException",
     "evalue": "BEE",
     "output_type": "error",
     "traceback": [
      "\u001b[1;31m---------------------------------------------------------------------------\u001b[0m",
      "\u001b[1;31mUppercaseException\u001b[0m                        Traceback (most recent call last)",
      "\u001b[1;32m<ipython-input-81-75fd7259d9f7>\u001b[0m in \u001b[0;36m<module>\u001b[1;34m\u001b[0m\n\u001b[0;32m      1\u001b[0m \u001b[1;32mfor\u001b[0m \u001b[0mword\u001b[0m \u001b[1;32min\u001b[0m \u001b[0mwords\u001b[0m\u001b[1;33m:\u001b[0m\u001b[1;33m\u001b[0m\u001b[1;33m\u001b[0m\u001b[0m\n\u001b[0;32m      2\u001b[0m     \u001b[1;32mif\u001b[0m \u001b[0mword\u001b[0m\u001b[1;33m.\u001b[0m\u001b[0misupper\u001b[0m\u001b[1;33m(\u001b[0m\u001b[1;33m)\u001b[0m\u001b[1;33m:\u001b[0m\u001b[1;33m\u001b[0m\u001b[1;33m\u001b[0m\u001b[0m\n\u001b[1;32m----> 3\u001b[1;33m         \u001b[1;32mraise\u001b[0m \u001b[0mUppercaseException\u001b[0m\u001b[1;33m(\u001b[0m\u001b[0mword\u001b[0m\u001b[1;33m)\u001b[0m\u001b[1;33m\u001b[0m\u001b[1;33m\u001b[0m\u001b[0m\n\u001b[0m",
      "\u001b[1;31mUppercaseException\u001b[0m: BEE"
     ]
    }
   ],
   "source": [
    "for word in words:\n",
    "    if word.isupper():\n",
    "        raise UppercaseException(word)"
   ]
  },
  {
   "cell_type": "markdown",
   "metadata": {},
   "source": [
    "例外はすべてExceptionクラスの子クラスで、クラスを定義する際に親クラスのExceptionクラスを継承することで独自の例外を起こすことができる\n",
    "\n",
    "上では新しくUppercaseExceptionというExceptionクラスをそのまま引き継いだクラスを生成し、for文の中ですべて大文字の英単語が出てきたら  \n",
    "raise文を使ってUppercaseExceptionという例外を起こすようにしている"
   ]
  },
  {
   "cell_type": "code",
   "execution_count": null,
   "metadata": {},
   "outputs": [],
   "source": []
  }
 ],
 "metadata": {
  "kernelspec": {
   "display_name": "Python 3",
   "language": "python",
   "name": "python3"
  },
  "language_info": {
   "codemirror_mode": {
    "name": "ipython",
    "version": 3
   },
   "file_extension": ".py",
   "mimetype": "text/x-python",
   "name": "python",
   "nbconvert_exporter": "python",
   "pygments_lexer": "ipython3",
   "version": "3.7.6"
  }
 },
 "nbformat": 4,
 "nbformat_minor": 4
}
