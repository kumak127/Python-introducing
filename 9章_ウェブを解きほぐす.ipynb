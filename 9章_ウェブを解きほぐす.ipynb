{
 "cells": [
  {
   "cell_type": "markdown",
   "metadata": {},
   "source": [
    "- HTTP(Hypertext Transfer Protocol)  \n",
    "    要求と応答を交換するウェブクライアントとウェブサーバーのための仕様  \n",
    "- HTML(Hypertext Markup Language)  \n",
    "    応答のプレゼンテーションの書式  \n",
    "- URL(Uniform Resource Locator)  \n",
    "    サーバーとサーバー上のリソースを位置に表現する方法"
   ]
  },
  {
   "cell_type": "markdown",
   "metadata": {},
   "source": [
    "ウェブはクライアントサーバーシステムになっている  \n",
    "クライアントはサーバーに要求を送り(リクエスト)を送り、TCP/IP接続を開設し、HTTPを介してURLその他の情報を送り、応答(レスポンス)を受け取る  \n",
    "\n",
    "最もよく知られたウェブクライアントはウェブブラウザで、様々な方法で要求を送ることができる  \n",
    "アドレスバーにURLを入力したり、ウェブページのリンクを手動でクリックしで送る場合もある  \n",
    "返されてくるデータはHTMLドキュメント、JavaScriptファイル、CSSファイル、イメージなどのウェブサイトの表示に使われるものが多いが、実際には表示用のデータに限らず、どのようなデータでも送ることができる"
   ]
  },
  {
   "cell_type": "markdown",
   "metadata": {},
   "source": [
    "# 9.1  ウェブクライアント"
   ]
  },
  {
   "cell_type": "markdown",
   "metadata": {},
   "source": [
    "## 9.1.2  Pythonの標準ウェブライブラリ"
   ]
  },
  {
   "cell_type": "code",
   "execution_count": 1,
   "metadata": {},
   "outputs": [],
   "source": [
    "import urllib.request as ur"
   ]
  },
  {
   "cell_type": "code",
   "execution_count": 2,
   "metadata": {},
   "outputs": [],
   "source": [
    "url = \"http://raw.githubusercontent.com/koki0702/introducing-python/master/dummy_api/fortune_cookie_random1.txt\""
   ]
  },
  {
   "cell_type": "code",
   "execution_count": 3,
   "metadata": {},
   "outputs": [],
   "source": [
    "conn = ur.urlopen(url)"
   ]
  },
  {
   "cell_type": "code",
   "execution_count": 4,
   "metadata": {},
   "outputs": [
    {
     "name": "stdout",
     "output_type": "stream",
     "text": [
      "<http.client.HTTPResponse object at 0x0000021FA2315F88>\n"
     ]
    }
   ],
   "source": [
    "print(conn)"
   ]
  },
  {
   "cell_type": "markdown",
   "metadata": {},
   "source": [
    "標準ライブラリの urllib.request をインポートする  \n",
    "requestの urlopen 関数に実際のURLを渡すことで、リモートサーバーへのTCP/IP接続を開設、HTTPResponse オブジェクトを返す"
   ]
  },
  {
   "cell_type": "code",
   "execution_count": 5,
   "metadata": {},
   "outputs": [],
   "source": [
    "data = conn.read()"
   ]
  },
  {
   "cell_type": "code",
   "execution_count": 6,
   "metadata": {},
   "outputs": [
    {
     "name": "stdout",
     "output_type": "stream",
     "text": [
      "b'You will be surprised by a loud noise.\\\\r\\\\n\\\\n[codehappy] http://iheartquotes.com/fortune/show/20447\\n'\n"
     ]
    }
   ],
   "source": [
    "print(data)"
   ]
  },
  {
   "cell_type": "markdown",
   "metadata": {},
   "source": [
    "HTTPResponseオブジェクトの read メソッドを使うことで、ウェブページからのデータを受け取ることができる"
   ]
  },
  {
   "cell_type": "code",
   "execution_count": 7,
   "metadata": {},
   "outputs": [
    {
     "data": {
      "text/plain": [
       "200"
      ]
     },
     "execution_count": 7,
     "metadata": {},
     "output_type": "execute_result"
    }
   ],
   "source": [
    "conn.status"
   ]
  },
  {
   "cell_type": "markdown",
   "metadata": {},
   "source": [
    "HTTPResponseオブジェクトの status アトリービューとにはHTTPステータスコードが入っている接続状況が入っている  \n",
    "- 1xx(情報)  \n",
    "    サーバーは要求を受け取ったが、クライアントに対して知らせるべき追加情報がある  \n",
    "- 2xx(成功)  \n",
    "    要求は正しく機能している。200以外の成功コードには使い情報が含まれている  \n",
    "- 3xx(リダイレクト)  \n",
    "    リソースが移動しているので、応答はクライアントに対して新しいURLを返す  \n",
    "- 4xx(クライアントエラー)  \n",
    "    クライアントサイドに問題がある。404(見つからない)などが有名  \n",
    "- 5xx(サーバーエラー)  \n",
    "    500は汎用のエラーコードで、502(不正なゲートウェイ)はウェブサーバーとバックエンドアプリケーションサーバーの間の接続に問題があるときに返される"
   ]
  },
  {
   "cell_type": "code",
   "execution_count": 8,
   "metadata": {},
   "outputs": [
    {
     "name": "stdout",
     "output_type": "stream",
     "text": [
      "text/plain; charset=utf-8\n"
     ]
    }
   ],
   "source": [
    "print(conn.getheader(\"Content-Type\"))"
   ]
  },
  {
   "cell_type": "markdown",
   "metadata": {},
   "source": [
    "ウェブサーバーは好みの形式でデータを送り返すことができる  \n",
    "データ形式は、HTTP応答ヘッダーのContent-Typeで指定されている  \n",
    "HTTPResponseオブジェクトの getheader メソッドにヘッダー名を入れることで指定されている内容を取得できる  \n",
    "text/plainはMIMEタイプ(ファイルの種類を示す情報)で、ただのテキストということになる"
   ]
  },
  {
   "cell_type": "code",
   "execution_count": 9,
   "metadata": {},
   "outputs": [
    {
     "name": "stdout",
     "output_type": "stream",
     "text": [
      "Connection                     close\n",
      "Content-Length                 99\n",
      "Content-Type                   text/plain; charset=utf-8\n",
      "Cache-Control                  max-age=300\n",
      "Content-Security-Policy        default-src 'none'; style-src 'unsafe-inline'; sandbox\n",
      "ETag                           \"b5376c69f703fe889df5526e797b01c8d647f5713bf7eb55ffdafb9be242efbe\"\n",
      "Strict-Transport-Security      max-age=31536000\n",
      "X-Content-Type-Options         nosniff\n",
      "X-Frame-Options                deny\n",
      "X-XSS-Protection               1; mode=block\n",
      "Via                            1.1 varnish (Varnish/6.0)\n",
      "X-GitHub-Request-Id            670C:4803:2C914E:2FF48C:5F729247\n",
      "Accept-Ranges                  bytes\n",
      "Date                           Tue, 29 Sep 2020 02:09:00 GMT\n",
      "Via                            1.1 varnish\n",
      "X-Served-By                    cache-tyo19924-TYO\n",
      "X-Cache                        MISS, MISS\n",
      "X-Cache-Hits                   0, 0\n",
      "X-Timer                        S1601345341.642737,VS0,VE291\n",
      "Vary                           Authorization,Accept-Encoding, Accept-Encoding\n",
      "Access-Control-Allow-Origin    *\n",
      "X-Fastly-Request-ID            6076c96738b432908e272835cb521839c9c4dd03\n",
      "Expires                        Tue, 29 Sep 2020 02:14:00 GMT\n",
      "Source-Age                     0\n"
     ]
    }
   ],
   "source": [
    "for key, value in conn.getheaders():\n",
    "    print(key.ljust(30), value)"
   ]
  },
  {
   "cell_type": "markdown",
   "metadata": {},
   "source": [
    "HTTPResponseの getheaders メソッドを使うことですべてのHTTP応答ヘッダーを構文解析し、辞書にして返してくれる"
   ]
  },
  {
   "cell_type": "markdown",
   "metadata": {},
   "source": [
    "## 9.1.3  標準ライブラリを越えて"
   ]
  },
  {
   "cell_type": "code",
   "execution_count": 10,
   "metadata": {},
   "outputs": [],
   "source": [
    "import requests"
   ]
  },
  {
   "cell_type": "code",
   "execution_count": 11,
   "metadata": {},
   "outputs": [],
   "source": [
    "url = 'http://raw.githubusercontent.com/koki0702/introducing-python/master/dummy_api/fortune_cookie_random2.txt'"
   ]
  },
  {
   "cell_type": "code",
   "execution_count": 12,
   "metadata": {},
   "outputs": [],
   "source": [
    "resp = requests.get(url)"
   ]
  },
  {
   "cell_type": "code",
   "execution_count": 13,
   "metadata": {},
   "outputs": [
    {
     "data": {
      "text/plain": [
       "<Response [200]>"
      ]
     },
     "execution_count": 13,
     "metadata": {},
     "output_type": "execute_result"
    }
   ],
   "source": [
    "resp"
   ]
  },
  {
   "cell_type": "code",
   "execution_count": 14,
   "metadata": {},
   "outputs": [
    {
     "name": "stdout",
     "output_type": "stream",
     "text": [
      "I know that there are people who do not love their fellow man, and I people like that!\n",
      "    -- Tom Lehrer, Satirist and Professor\n",
      "    [codehappy] http://iheartquotes.com/fortune/show/21465\n",
      "\n"
     ]
    }
   ],
   "source": [
    "print(resp.text)"
   ]
  },
  {
   "cell_type": "code",
   "execution_count": 15,
   "metadata": {},
   "outputs": [
    {
     "data": {
      "text/plain": [
       "{'Connection': 'keep-alive', 'Content-Length': '165', 'Content-Type': 'text/plain; charset=utf-8', 'Cache-Control': 'max-age=300', 'Content-Security-Policy': \"default-src 'none'; style-src 'unsafe-inline'; sandbox\", 'ETag': 'W/\"32125d7518ed78392fd5cebe024ddbe33a46d6771675c19f29f0d9aed08e90ce\"', 'Strict-Transport-Security': 'max-age=31536000', 'X-Content-Type-Options': 'nosniff', 'X-Frame-Options': 'deny', 'X-XSS-Protection': '1; mode=block', 'Via': '1.1 varnish (Varnish/6.0), 1.1 varnish', 'Content-Encoding': 'gzip', 'X-GitHub-Request-Id': 'EDDC:168A:B4070:CC3AD:5F729248', 'Accept-Ranges': 'bytes', 'Date': 'Tue, 29 Sep 2020 02:09:19 GMT', 'X-Served-By': 'cache-tyo19931-TYO', 'X-Cache': 'MISS, MISS', 'X-Cache-Hits': '0, 0', 'X-Timer': 'S1601345359.795568,VS0,VE273', 'Vary': 'Authorization,Accept-Encoding, Accept-Encoding', 'Access-Control-Allow-Origin': '*', 'X-Fastly-Request-ID': 'eb9aca0d0a7420cc0616308146732139d8348afd', 'Expires': 'Tue, 29 Sep 2020 02:14:19 GMT', 'Source-Age': '0'}"
      ]
     },
     "execution_count": 15,
     "metadata": {},
     "output_type": "execute_result"
    }
   ],
   "source": [
    "resp.headers"
   ]
  },
  {
   "cell_type": "markdown",
   "metadata": {},
   "source": [
    "外部ライブラリの requests モジュールはurllib.requestよりも簡単に使うことができる  \n",
    "まずrequestsモジュールをインポートし、requestsのget関数にURLを渡して Responseオブジェクトを作る  \n",
    "Responseオブジェクトの text を使うことでテキストを、headers を使うことでHTTPヘッダーを取得できる"
   ]
  },
  {
   "cell_type": "markdown",
   "metadata": {},
   "source": [
    "# 9.2  ウェブサーバー"
   ]
  },
  {
   "cell_type": "markdown",
   "metadata": {},
   "source": [
    "ウェブフレームワークとはウェブサイトを作成するための機能を提供するもので、ルーティング(URLを解析してサーバー関数呼び出しを行う)、テンプレート(動的に情報を組み込めるHTMLファイル)、デバッグなどが含まれている  \n",
    "Pythonベースのウェブフレームワークは多数ある"
   ]
  },
  {
   "cell_type": "markdown",
   "metadata": {},
   "source": [
    "## 9.2.1  Pythonによるもっとも単純なウェブサーバー"
   ]
  },
  {
   "cell_type": "markdown",
   "metadata": {},
   "source": [
    "`$ python -m http.server`\n",
    "\n",
    "と、pythonでhttp.serverを呼び出すことで、Pythonによる飾りっ気のないHTTPサーバーが実行される  \n",
    "問題がなければ初期ステータスメッセージが表示される\n",
    "\n",
    "`Serving HTTP on :: port 8000 (http://[::]:8000/) ...`\n",
    "\n",
    ":: の部分は任意のTCPアドレスという意味で、ウェブクライアントはサーバーがどのようなアドレスでもアクセスできる  \n",
    "この状態だとカレントディレクトリからの相対パスでファイルを要求すればファイルが返されるようになっている  \n",
    "\n",
    "`http://localhost:8000`\n",
    "\n",
    "とウェブブラウザで入力すると、カレントディレクトリのファイル一覧が返される  \n",
    "そしてサーバーは次のようなアクセスログ行を表示する  \n",
    "\n",
    "`::1 - - [02/Jul/2020 13:22:05] \"GET / HTTP/1.1\" 200 -`  \n",
    "\n",
    "上の行は次のように解釈できる  \n",
    "- ::1  \n",
    "    クライアントのIPアドレス\n",
    "- ひとつ目の-  \n",
    "    リモートユーザー名(分かった場合)  \n",
    "- ふたつ目の-  \n",
    "    ログインユーザー名(必須とされている場合)\n",
    "- [02/Jul/2020 13:22:05]  \n",
    "    アクセス日時  \n",
    "- \"GET / HTTP/1.1\"  \n",
    "    ウェブサーバーに送られたコマンド  \n",
    "    ・ GET : HTTPメソッド  \n",
    "    ・ / : 要求されたリソース(ルートディレクトリ)  \n",
    "    ・ HTTP/1.1 : HTTPのバージョン  \n",
    "- 200  \n",
    "    ウェブサーバーが返してきたHTTPステータスコード\n",
    "    \n",
    "ファイルをクリック、もしくはhttp://localhost:8000/pydata/catlogo.pngと打ち込むことで  \n",
    "ファイルの画像が返されたり、アクセスログが残されたりする\n",
    "\n",
    "`::1 - - [02/Jul/2020 13:38:51] \"GET /pydata/catlogo.png HTTP/1.1\" 200 -`\n",
    "\n",
    "デフォルトのポート番号は8000だが\n",
    "\n",
    "`$ python -m http.server 9999`\n",
    "\n",
    "とすると、ポート番号を変更することができる  \n",
    "\n",
    "`Serving HTTP on :: port 9999 (http://[::]:9999/) ...`"
   ]
  },
  {
   "cell_type": "markdown",
   "metadata": {},
   "source": [
    "## 9.2.2  WSGI"
   ]
  },
  {
   "cell_type": "markdown",
   "metadata": {},
   "source": [
    "ウェブの初期の時代にクライアントがウェブサーバーに外部プログラムを実行させ、その結果を受け取れるようにするCGI(Common Gateway Interface)というものが作られた  \n",
    "CGIはクライアントから送られてきた入力引数を受け取り、サーバーを介して外部プログラムに渡すこともできた  \n",
    "しかし、それらのプログラムは個々のクライアントアクセスごとに新たに起動されていて、ごく小さなプログラムでも起動にはかなりの時間がかかりスケーラビリティ(システムの規模に応じて柔軟に対応できる度合いのこと)がなかった"
   ]
  },
  {
   "cell_type": "markdown",
   "metadata": {},
   "source": [
    "起動時の遅れを防ぐために、ウェブサーバーには言語インタープリタ(人間に分かりやすい高水準プログラミング言語（高級言語）で書かれたコンピュータプログラムを、コンピュータが解釈・実行できる形式に変換しながら同時に少しずつ実行していくソフトウェア)が組み込まれるようになった  \n",
    "Apacheは、mod_phpモジュール内でPHP、mod_perlモジュール内でPerl、mod_python内でPythonを実行するようになった"
   ]
  },
  {
   "cell_type": "markdown",
   "metadata": {},
   "source": [
    "Pythonウェブ開発は、Pythonアプリケーションとウェブサーバーの間の普遍的なAPIであるWSGI(Web Server Gateway Interface)が定義されてから飛躍的に発展した  \n",
    "ここで取り上げるPythonウェブフレームワーク、ウェブサーバーはどれもWSGIを使っている"
   ]
  },
  {
   "cell_type": "markdown",
   "metadata": {},
   "source": [
    "## 9.2.3  フレームワーク"
   ]
  },
  {
   "cell_type": "markdown",
   "metadata": {},
   "source": [
    "HTTPとWSGIの細部はウェブサーバーが処理するが、実際にサイトのためのPythonコードを書くときはウェブフレームワークを使う  \n",
    "ウェブフレームワークは、少なくともクライアントからの要求とサーバーの応答を処理する  \n",
    "さらに以下の機能の一部または全部を提供することもある  \n",
    "- ルーティング : URLを解析し、対応するサーバーファイルかサーバーのPythonコードを見つける\n",
    "- テンプレート : サーバーサイドのデータをHTMLページに流し込む\n",
    "- 認証と権限付与 : ユーザー名、パスワード、パーミッション(許可)を処理する\n",
    "- セッション : ユーザーがウェブサイトに来ている間、一時的なデータストレージを維持管理する"
   ]
  },
  {
   "cell_type": "markdown",
   "metadata": {},
   "source": [
    "## 9.2.4  Bottle"
   ]
  },
  {
   "cell_type": "markdown",
   "metadata": {},
   "source": [
    "BottleはひとつのPythonファイルだけから作られているので非常に試しやすく、デプロイも簡単"
   ]
  },
  {
   "cell_type": "code",
   "execution_count": 1,
   "metadata": {},
   "outputs": [
    {
     "name": "stderr",
     "output_type": "stream",
     "text": [
      "Bottle v0.12.18 server starting up (using WSGIRefServer())...\n",
      "Listening on http://localhost:9999/\n",
      "Hit Ctrl-C to quit.\n",
      "\n",
      "127.0.0.1 - - [29/Sep/2020 11:14:56] \"GET / HTTP/1.1\" 200 37\n"
     ]
    }
   ],
   "source": [
    "# python - pyworks\\bottle1.py\n",
    "from bottle import route, run\n",
    "\n",
    "@route(\"/\")\n",
    "def home():\n",
    "    return \"It isn't fancy, but it's my home page\"\n",
    "\n",
    "run(host=\"localhost\", port=9999)"
   ]
  },
  {
   "cell_type": "markdown",
   "metadata": {},
   "source": [
    "上のコードを bottle.py として保存する  \n",
    "まず bottle モジュールから route と run 関数をインポートする  \n",
    "route はデコレータとして使うことでURLと直後の関数を対応付けることができ、上では\"/\"(ホームページ)をhome関数が処理するようにしている  \n",
    "run関数はbottleに組み込まれているPythonによるテストウェブサーバーを実行する  \n",
    "bottleプログラムを使うときに必ず必要ではないが、テスト起動する際に役立つ  \n",
    "上ではhostとport番号を指定している  \n",
    "そして `$ python bottle.py` とファイルの場所に移動して実行すると上のようなものが返される  \n",
    "http://localhost:9999 をウェブ上で入力することで return 文のところを表示してくれる"
   ]
  },
  {
   "cell_type": "markdown",
   "metadata": {},
   "source": [
    "\\# index.html  \n",
    "My <b>new</b> and <i>improved</i> home page!!!"
   ]
  },
  {
   "cell_type": "code",
   "execution_count": null,
   "metadata": {},
   "outputs": [
    {
     "name": "stderr",
     "output_type": "stream",
     "text": [
      "Bottle v0.12.18 server starting up (using WSGIRefServer())...\n",
      "Listening on http://localhost:9999/\n",
      "Hit Ctrl-C to quit.\n",
      "\n"
     ]
    }
   ],
   "source": [
    "# python3 - pyworks\\bottle2.py\n",
    "from bottle import route, run, static_file\n",
    "\n",
    "@route(\"/\")\n",
    "def main():\n",
    "    return static_file(\"index.html\", root=r\".\\pyworks\")\n",
    "\n",
    "run(host=\"localhost\", port=9999)"
   ]
  },
  {
   "cell_type": "markdown",
   "metadata": {},
   "source": [
    "上のhtmlコードをindex.htmlとして、Pythonのコードをbottle2.pyとして保存したとする  \n",
    "今度は関数内を書き換えて新しくインポートした static_file 関数を使っている  \n",
    "static_fileにファイル名を渡すことで、rootの場所にあるindex.htmlファイルを要求することができる"
   ]
  },
  {
   "cell_type": "code",
   "execution_count": 4,
   "metadata": {},
   "outputs": [
    {
     "name": "stderr",
     "output_type": "stream",
     "text": [
      "Bottle v0.12.18 server starting up (using WSGIRefServer())...\n",
      "Listening on http://localhost:9999/\n",
      "Hit Ctrl-C to quit.\n",
      "\n"
     ]
    }
   ],
   "source": [
    "# python3 - pyworks\\bottle2.py\n",
    "from bottle import route, run, static_file\n",
    "\n",
    "@route(\"/\")\n",
    "def home():\n",
    "    return static_file(\"index.html\",root=r\".\\pyworks\")\n",
    "\n",
    "@route(\"/echo/<thing>\")\n",
    "def echo(thing):\n",
    "    return f\"Say hello to my little friend : {thing}!\"\n",
    "\n",
    "run(host=\"localhost\", port=9999)"
   ]
  },
  {
   "cell_type": "markdown",
   "metadata": {},
   "source": [
    "上のPythonコードをbottle3.pyとして保存したとする  \n",
    "新しい関数としてechoを追加しているが、URLを介して文字列の引数を取得し、その文字列を利用してウェブページを作成することをしている  \n",
    "まずデコレータのrouteに \"/echo/<thing\\>\" を渡すことでURLの/echo/の後に文字列が続いた場合にこの関数が呼ばれるようになる  \n",
    "<thing\\>のように<>で囲んだ部分に入った文字列は引数として関数に渡すという意味になる  \n",
    "作成した関数に渡された引数を上ではテキストとして表示している  \n",
    "試しにbottle3.pyを実行後に http://localhost:9999/echo/Kuma をウェブ上に入力すると`Say hello to my little friend : Kuma!`と表示される"
   ]
  },
  {
   "cell_type": "code",
   "execution_count": 2,
   "metadata": {},
   "outputs": [],
   "source": [
    "import requests"
   ]
  },
  {
   "cell_type": "code",
   "execution_count": 6,
   "metadata": {},
   "outputs": [],
   "source": [
    "resp = requests.get(\"http://localhost:9999/echo/Kumagae\")"
   ]
  },
  {
   "cell_type": "code",
   "execution_count": 7,
   "metadata": {},
   "outputs": [
    {
     "data": {
      "text/plain": [
       "'\\n    <!DOCTYPE HTML PUBLIC \"-//IETF//DTD HTML 2.0//EN\">\\n    <html>\\n        <head>\\n            <title>Error: 404 Not Found</title>\\n            <style type=\"text/css\">\\n              html {background-color: #eee; font-family: sans;}\\n              body {background-color: #fff; border: 1px solid #ddd;\\n                    padding: 15px; margin: 15px;}\\n              pre {background-color: #eee; border: 1px solid #ddd; padding: 5px;}\\n            </style>\\n        </head>\\n        <body>\\n            <h1>Error: 404 Not Found</h1>\\n            <p>Sorry, the requested URL <tt>&#039;http://localhost:9999/echo/Kumagae&#039;</tt>\\n               caused an error:</p>\\n            <pre>Not found: &#039;/echo/Kumagae&#039;</pre>\\n        </body>\\n    </html>\\n'"
      ]
     },
     "execution_count": 7,
     "metadata": {},
     "output_type": "execute_result"
    }
   ],
   "source": [
    "resp.text"
   ]
  },
  {
   "cell_type": "markdown",
   "metadata": {},
   "source": [
    "requestsモジュールと組み合わせることでbottle3.pyが起動中の間は、作成されたURLを使って文章を取り出すこともできる"
   ]
  },
  {
   "cell_type": "markdown",
   "metadata": {},
   "source": [
    "bottleには上で説明してきた以上の機能があり、特にrun関数を使ったときに debug をTrueにするとHTTPエラーが起きた時にデバックページを移動で作成してくれたり、reloader をTrueにするとPythonコードを変更したときに自動でウェブページを再ロードしてくれたりする"
   ]
  },
  {
   "cell_type": "markdown",
   "metadata": {},
   "source": [
    "## 9.2.5  Flask"
   ]
  },
  {
   "cell_type": "markdown",
   "metadata": {},
   "source": [
    "FlaskはBottleと同じくらい簡単に使えるが、Facebook認証やデータベース統合など、本格的なウェブ開発で役に立つ様々な拡張を備えている  \n",
    "以降のFlaskの説明はpyworks内にflaskディレクトリを作成して説明する"
   ]
  },
  {
   "cell_type": "code",
   "execution_count": 8,
   "metadata": {},
   "outputs": [
    {
     "name": "stdout",
     "output_type": "stream",
     "text": [
      " * Serving Flask app \"__main__\" (lazy loading)\n",
      " * Environment: production\n",
      "   WARNING: This is a development server. Do not use it in a production deployment.\n",
      "   Use a production WSGI server instead.\n",
      " * Debug mode: off\n"
     ]
    },
    {
     "name": "stderr",
     "output_type": "stream",
     "text": [
      " * Running on http://127.0.0.1:9999/ (Press CTRL+C to quit)\n"
     ]
    }
   ],
   "source": [
    "# python3 - pyworks\\flask\\flask1.py\n",
    "from flask import Flask\n",
    "\n",
    "app = Flask(__name__, static_folder=r\".pyworks\\flask\", static_url_path=\"\")\n",
    "\n",
    "@app.route(\"/\")\n",
    "def home():\n",
    "    return app.send_static_file(\"index.html\")\n",
    "\n",
    "@app.route(\"/echo/<thing>\")\n",
    "def echo(thing):\n",
    "    return thing\n",
    "\n",
    "app.run(port=9999)"
   ]
  },
  {
   "cell_type": "markdown",
   "metadata": {},
   "source": [
    "Flaskの静的ファイル(HTMLファイルで作った普通のホームページのこと)のデフォルトホームディレクトリはstaticで、そのディレクトリのファイルに対するURLも/staticで始まってしまう  \n",
    "そのため、static_folder でホームディレクトリをindex.htmlのあるpyworksディレクトに移動、URLのプレフィックス(接頭語,127.0.0.1の部分)も空文字列にして、/というURLがindex.htmlファイルとマッピングされるようにしている\n",
    "\n",
    "run関数の中でdebugをTrueにするとデバッグが有効になると同時に再ロードも有効になる(bottleでは別々扱いだった)"
   ]
  },
  {
   "cell_type": "code",
   "execution_count": 9,
   "metadata": {},
   "outputs": [
    {
     "data": {
      "text/plain": [
       "<Flask '__main__'>"
      ]
     },
     "execution_count": 9,
     "metadata": {},
     "output_type": "execute_result"
    }
   ],
   "source": [
    "app"
   ]
  },
  {
   "cell_type": "markdown",
   "metadata": {},
   "source": [
    "Flask関数に渡した__name__はFlaskオブジェクトにつく名前で上では__name__にすることで__main__という名前を付けている  \n",
    "このFlaskオブジェクトをつかって、関数のデコレータ(@Flask_obj.route)、起動(Flask_obj.run)を行っている"
   ]
  },
  {
   "cell_type": "markdown",
   "metadata": {},
   "source": [
    "カレントディレクトリにtemplatesディレクトリを作成する"
   ]
  },
  {
   "cell_type": "markdown",
   "metadata": {},
   "source": [
    "templatesフォルダ内に次のようなflask2.htmlを作成したとする  \n",
    "`<html\\>\n",
    " <head\\>\n",
    " <title\\>Flask2 Example</title\\>\n",
    " </head\\>\n",
    " <body\\>\n",
    " Say hello to my little friend: {{thing}}\n",
    " </body\\>\n",
    " </html\\>`"
   ]
  },
  {
   "cell_type": "code",
   "execution_count": null,
   "metadata": {},
   "outputs": [],
   "source": [
    "# python3 - flask2.py\n",
    "from flask import Flask, render_template\n",
    "\n",
    "app = Flask(__name__, static_folder=r\".\\flask\",template_folder=r\".\\flask\\templates\")\n",
    "\n",
    "@app.route(\"/\")\n",
    "def home():\n",
    "    return app.send_static_file_(\"index.html\")\n",
    "\n",
    "@app.route(\"/echo/<thing>\")\n",
    "def echo(thing):\n",
    "    return render_template(\"flask2.html\", thing=thing)\n",
    "\n",
    "app.run(port=9999)"
   ]
  },
  {
   "cell_type": "markdown",
   "metadata": {},
   "source": [
    "templatesフォルダのHTMLファイルを読み込み、{{thing}}にユーザーがURLに入れた文字列が入るようにする  \n",
    "そのためにはtemplatesフォルダの外に上のコードを書くことでできる  \n",
    "Flaskをインポートするときに同時に render_template 関数をインポートする  \n",
    "Flaskオブジェクトを作成するときに template_folder を指定して、templates ディレクトリのある位置を指定している(カレントディレクトリにtemplatesフォルダがある場合は指定する必要はない)  \n",
    "@Flask_obj.routeの<thing\\>に入っている文字列を次の関数echoに渡す  \n",
    "echo関数のreturn文に render_template 関数を呼び、templatesフォルダ内のHTMLファイル名を渡し、HTMLファイル内の{{thing}}部分にecho関数に渡せれたthingを当てはめるために thing=thing (左がHTML内のthing、右が関数内のthing)とすることで、HTML内の{{thing}}にURLの文字列が渡されることになる"
   ]
  },
  {
   "cell_type": "markdown",
   "metadata": {},
   "source": [
    "flask2.pyのファイルがある場所をカレントディレクトリとして、  \n",
    "`$ python flask2.py`  \n",
    "を起動して、http://127.0.0.1:9999/echo/kuma とすると、`Say hello to my little friend: kuma` と表示される"
   ]
  },
  {
   "cell_type": "markdown",
   "metadata": {},
   "source": [
    "URLに2つ以上の引数を渡してウェブページに表示する方法はいくつかある"
   ]
  },
  {
   "cell_type": "markdown",
   "metadata": {},
   "source": [
    "まずtemplatesディレクトリにflask3.htmlという名前で下のコードを追加する  \n",
    "`<html\\>\n",
    " <head\\>\n",
    " <title\\>Flask Example</title\\>\n",
    " </head\\>\n",
    " <body\\>\n",
    " Say hello to my little frind: {{thing}}.\n",
    " Alas, it just destroyed {{place}}!\n",
    " </body\\>\n",
    " </html\\>`  \n",
    "このthingとplaceに文字列を追加するようにしたい"
   ]
  },
  {
   "cell_type": "markdown",
   "metadata": {},
   "source": [
    "次の方法は単純なURL自体を拡張する方法になる"
   ]
  },
  {
   "cell_type": "code",
   "execution_count": null,
   "metadata": {},
   "outputs": [],
   "source": [
    "# python3 - flask3a.py\n",
    "from flask import Flask, render_template\n",
    "\n",
    "app = Flask(__name__, static_folder=r\".\\flask\", template_folder=r\".\\flask\\templates\")\n",
    "\n",
    "@app.route(\"/\")\n",
    "def home():\n",
    "    return app.send_static_file(\"index.html\")\n",
    "\n",
    "@app.route(\"/echo/<thing>/<place>\")\n",
    "def echo(thing, place):\n",
    "    return render_template(\"flask3.html\", thing=thing, place=place)\n",
    "\n",
    "app.run(port=9999)"
   ]
  },
  {
   "cell_type": "markdown",
   "metadata": {},
   "source": [
    "上のように@Flask_obj.routeに/<thing\\><place\\>のように複数の文字列を引数をして受け取るようにすればできる  \n",
    "その時は render_templateに渡す引数はHTMLファイル名と渡したい文字列の数だけの定義を渡す必要がある  \n",
    "flask3a.pyを起動した後に http://127.0.0.1:9999/echo/kuma/Tokyo とURLを入力すれば  \n",
    "`Say hello to my little frind: kuma. Alas, it just destroyed Tokyo!`と表示される"
   ]
  },
  {
   "cell_type": "markdown",
   "metadata": {},
   "source": [
    "引数はflaskの request.args.get 関数を渡すことでもできる  "
   ]
  },
  {
   "cell_type": "code",
   "execution_count": null,
   "metadata": {},
   "outputs": [],
   "source": [
    "# python3 - flask3b.py\n",
    "from flask import Flask, render_template, request\n",
    "\n",
    "app = Flask(__name__, static_folder=r\".\\flask\", template_folder=r\".\\flask\\templates\")\n",
    "\n",
    "@app.route(\"/\")\n",
    "def home():\n",
    "    return app.send_static_file(\"index.html\")\n",
    "\n",
    "@app.route(\"/echo/\")\n",
    "def echo():\n",
    "    thing = request.args.get(\"thing\")\n",
    "    place = request.args.get(\"place\")\n",
    "    return render_template(\"flask3.html\", thing=thing, place=place)\n",
    "\n",
    "app.run(port=9999)"
   ]
  },
  {
   "cell_type": "markdown",
   "metadata": {},
   "source": [
    "get関数を使うには request をflaskからインポートする必要がある  \n",
    "@Flask_obj.routeに渡す引数には上のように他のURLと区別できるだけのURLを渡すだけでよく、thingやplaceなどを指定する必要がなくなる  \n",
    "そのため関数にも引数を渡す必要がなくなる  \n",
    "関数内でそれぞれ入れたい文字列を定義するが、そのために request.args.get 関数を使い、URL内で指定したい文字列を渡す  \n",
    "それを変数で受け取り、いつも通りreturn文の中で render_template にHTMLファイルと文字列の定義をすることでできる  \n",
    "flask3b.pyを起動した後に http://127.0.0.1:9999/echo/?thing=kuma&place=Tokyo とURLを入力することができる  \n",
    "URLで `?キーワード引数1=文字列1&キーワード引数2=文字列2&...`という風に、？のあとにキーワード引数を＝でつないで＆で定義する部分を分ければ複数の文字列をそれぞれのキーワードに渡すことができる"
   ]
  },
  {
   "cell_type": "code",
   "execution_count": null,
   "metadata": {},
   "outputs": [],
   "source": [
    "# python3 - flask3c.py\n",
    "from flask import Flask, render_template, request\n",
    "\n",
    "app = Flask(__name__, static_folder=r\".\\flask\", template_folder=r\".\\flask\\templates\")\n",
    "\n",
    "@app.route(\"/\")\n",
    "def home():\n",
    "    return app.send_static_file(\"index.html\")\n",
    "\n",
    "@app.route(\"/echo/\")\n",
    "def echo():\n",
    "    kwargs = {}\n",
    "    kwargs[\"thing\"] = request.args.get(\"thing\")\n",
    "    kwargs[\"place\"] = request.args.get(\"place\")\n",
    "    return render_template(\"flask3.html\", **kwargs)\n",
    "\n",
    "app.run(port=9999)"
   ]
  },
  {
   "cell_type": "markdown",
   "metadata": {},
   "source": [
    "上のように request.args.get で取得した文字列をキーワード引数をキーとした辞書に格納し、render_template に \\*\\*辞書名という形にすることで、キーワード引数の定義をまとめてしてもらうこともできる  \n",
    "基本的なことは上のflask3b.pyとあまり変わらない"
   ]
  },
  {
   "cell_type": "markdown",
   "metadata": {},
   "source": [
    "## 9.2.6  Python以外のウェブサーバー"
   ]
  },
  {
   "cell_type": "markdown",
   "metadata": {},
   "source": [
    "今まで使ってきたウェブサーバーは単純なものだった  \n",
    "本番システムではもっと高速なウェブサーバーのもとでPythonを実行をしなければならない  \n",
    "選択肢は主に次の2つになる  \n",
    "- mod-wsgiモジュール付きのapache\n",
    "- uWSGIアプリケーション付きのnginx  \n",
    "\n",
    "apacheはおそらくもっとも広く使われている  \n",
    "nginxは安定していてメモリ使用量が少ない"
   ]
  },
  {
   "cell_type": "markdown",
   "metadata": {},
   "source": [
    "### 9.2.6.1  Apache"
   ]
  },
  {
   "cell_type": "markdown",
   "metadata": {},
   "source": [
    "apacheウェブサーバーでもっとも優れているWSGIモジュールは mod_wsgi だ  \n",
    "mod_wsgiモジュールは、PythonコードをApacheプロセスの中で実行することも、Apacheと通信する別プロセスで実行することもできる"
   ]
  },
  {
   "cell_type": "markdown",
   "metadata": {},
   "source": [
    "### 9.2.6.2  nginx"
   ]
  },
  {
   "cell_type": "markdown",
   "metadata": {},
   "source": [
    "nginxウェブサーバーは、組み込みPythonモジュールを持っていないが、uWSGIなどの個別のWSGIサーバーと通信することができる  \n",
    "この組み合わせ非常に高速で、きめ細かく設定できるPythonウェブ開発プラットフォームになっている"
   ]
  },
  {
   "cell_type": "markdown",
   "metadata": {},
   "source": [
    "## 9.2.7  その他のフレームワーク"
   ]
  },
  {
   "cell_type": "markdown",
   "metadata": {},
   "source": [
    "- django\n",
    "- web2py\n",
    "- pyramid\n",
    "- turbogears\n",
    "- wheezy.web"
   ]
  },
  {
   "cell_type": "markdown",
   "metadata": {},
   "source": [
    "### 9.2.7.1  その他のPythonウェブサーバー"
   ]
  },
  {
   "cell_type": "markdown",
   "metadata": {},
   "source": [
    "次に示すのは、apacheやnginxのように動作をするPythonベースの独立したWSGIサーバーで、同時に送られてきた要求を処理するために、複数のプロセス、スレッドを使う\n",
    "- uwsgi\n",
    "- cherrypy\n",
    "- pylons  \n",
    "\n",
    "次に示すのは、使うプロセスが一つでも、ひとつの要求のためにブロックされないようにしてあるイベントベースサーバーである\n",
    "- tornado\n",
    "- gevent\n",
    "- gunicorn"
   ]
  },
  {
   "cell_type": "markdown",
   "metadata": {},
   "source": [
    "# 9.3  ウェブサービスとオートメーション"
   ]
  },
  {
   "cell_type": "markdown",
   "metadata": {},
   "source": [
    "## 9.3.1  webbrowserモジュール"
   ]
  },
  {
   "cell_type": "code",
   "execution_count": 10,
   "metadata": {},
   "outputs": [],
   "source": [
    "import antigravity"
   ]
  },
  {
   "cell_type": "markdown",
   "metadata": {},
   "source": [
    "実際に使うことはないが antigravity をインポートすると秘密裏に webbrowser モジュールが呼び出され https://xkcd.com/353/ のページを表示することができる"
   ]
  },
  {
   "cell_type": "code",
   "execution_count": 11,
   "metadata": {},
   "outputs": [],
   "source": [
    "import webbrowser"
   ]
  },
  {
   "cell_type": "code",
   "execution_count": 12,
   "metadata": {},
   "outputs": [],
   "source": [
    "url = \"http://www.python.org/\""
   ]
  },
  {
   "cell_type": "code",
   "execution_count": 13,
   "metadata": {},
   "outputs": [
    {
     "data": {
      "text/plain": [
       "True"
      ]
     },
     "execution_count": 13,
     "metadata": {},
     "output_type": "execute_result"
    }
   ],
   "source": [
    "webbrowser.open(url)"
   ]
  },
  {
   "cell_type": "markdown",
   "metadata": {},
   "source": [
    "webbrowser モジュールの open 関数にURLを渡すとそのブラウザを開いてくれる"
   ]
  },
  {
   "cell_type": "code",
   "execution_count": 14,
   "metadata": {},
   "outputs": [
    {
     "data": {
      "text/plain": [
       "True"
      ]
     },
     "execution_count": 14,
     "metadata": {},
     "output_type": "execute_result"
    }
   ],
   "source": [
    "webbrowser.open_new(url)"
   ]
  },
  {
   "cell_type": "markdown",
   "metadata": {},
   "source": [
    "webbrowser モジュールの open_new 関数にURLを渡すと新しいウィンドウに表示してくれる"
   ]
  },
  {
   "cell_type": "code",
   "execution_count": 15,
   "metadata": {},
   "outputs": [
    {
     "data": {
      "text/plain": [
       "True"
      ]
     },
     "execution_count": 15,
     "metadata": {},
     "output_type": "execute_result"
    }
   ],
   "source": [
    "webbrowser.open_new_tab(url)"
   ]
  },
  {
   "cell_type": "markdown",
   "metadata": {},
   "source": [
    "ブラウザがタブをサポートしている場合、webbrowser モジュールの open_new_tab 関数にURLを渡すと新しいタブに表示してくれる"
   ]
  },
  {
   "cell_type": "markdown",
   "metadata": {},
   "source": [
    "## 9.3.2  Web API と REST"
   ]
  },
  {
   "cell_type": "markdown",
   "metadata": {},
   "source": [
    "データはウェブページ内以外では手に入らないことが多い  \n",
    "データにアクセスしたければ、ウェブページを介してページにアクセスしてそれを読まなければならない  \n",
    "しかし製作者がサイトに変更を加えると、データの位置やスタイルが以前と変わってしまう場合がある  \n",
    "\n",
    "ウェブページを公開するのではなく、Web API(アプリケーション・プログラミング・インターフェース)を介してデータを提供することもできる  \n",
    "クライアントは、URLに対して要求を送り、ステータスとデータが格納された応答を手に入れるという形でデータにアクセスする  \n",
    "得られるデータはHTMLページではなく、プログラムが操作しやすいJSON、XMLなどの形式で返される"
   ]
  },
  {
   "cell_type": "markdown",
   "metadata": {},
   "source": [
    "REST(Representational State Transfer)はパラメータを指定して特定のURLにHTTPでアクセスすると、XMLやJSONなどで記述されたメッセージが送られてくるようなシステム、および、そのような呼び出し規約（「RESTful API」と呼ばれる）のことを指す  \n",
    "多くの製品がRESTインターフェース、RESTfulインターフェースをサポートすると称されている  \n",
    "RESTfulサービスはHTTPの動詞を決まった方法で使う  \n",
    "HTTP動詞には次のものがある  \n",
    "- HEAD : リソースデータについての情報ではなく、リソースについての情報を取得する\n",
    "- GET : サーバーからリソースのデータを取得する疑問符？の後に一連の要求が続いているようなURLはGET要求になっていることが多い\n",
    "- POST : サーバーのデータを更新する\n",
    "- PUT : 新しいリソースを作る\n",
    "- DELETE : 削除する\n",
    "\n",
    "RESTfulクライアントは、HTTP要求ヘッダーを使ってサーバーに一つ以上のContent-Typeを要求できる  \n",
    "たとえば、RESTインターフェースをもつ複雑なサービスは、JSON文字列による出力を選ぶことができる"
   ]
  },
  {
   "cell_type": "markdown",
   "metadata": {},
   "source": [
    "## 9.3.3  JSON"
   ]
  },
  {
   "cell_type": "markdown",
   "metadata": {},
   "source": [
    "JSONはウェブクライアントとサーバーのデータ交換に特に適している"
   ]
  },
  {
   "cell_type": "markdown",
   "metadata": {},
   "source": [
    "## 9.3.4  クロールとスクレイピング"
   ]
  },
  {
   "cell_type": "markdown",
   "metadata": {},
   "source": [
    "ウェブを自動的にフェッチ(自動的にデータを取ってくること)していくれるプログラムをクローラーとかスパイダーと呼ぶ  \n",
    "これらを使ってリモートウェブサーバーからコンテンツを取り出し、スクレイパー(データを探し出すもの)でコンテンツを解析することをスクレイピングと呼ぶ  \n",
    "クロールとスレイピングを同時に行いたいなら Scrapy を使うとよい"
   ]
  },
  {
   "cell_type": "markdown",
   "metadata": {},
   "source": [
    "## 9.3.5  BeautifulSoupによるHTMLのスクレイピング"
   ]
  },
  {
   "cell_type": "markdown",
   "metadata": {},
   "source": [
    "ウェブサイトからHTMLデータをすでに取り出してあり、そこからデータを抽出したいならBeautifulSoupが役に立つ"
   ]
  },
  {
   "cell_type": "code",
   "execution_count": null,
   "metadata": {},
   "outputs": [],
   "source": [
    "# python3 - links.py\n",
    "def get_link(url):\n",
    "    import requests\n",
    "    from bs4 import BeautifulSoup as soup\n",
    "    result = requests.get(url)\n",
    "    page = result.text\n",
    "    doc = soup(page)\n",
    "    links = [element.get(\"href\") for element in doc.find_all(\"a\")]\n",
    "    return links\n",
    "\n",
    "if __name__ == \"__main__\":\n",
    "    import sys\n",
    "    for url in sys.argv[1:]:\n",
    "        print(\"links in\", url)\n",
    "        for num, link in enumerate(get_links(url), start=1):\n",
    "            print(num, link)\n",
    "        print()"
   ]
  },
  {
   "cell_type": "markdown",
   "metadata": {},
   "source": [
    "上のコードを links.py という名前で保存し、`$ python links.py http://boingboing.net` とコマンドプロンプトで起動すると  \n",
    "`Links in http://boingboing.net  \n",
    " 1 https://boingboing.net  \n",
    " 2 https://boingboing.net/sub  \n",
    " 3 https://boingboing.net/search  \n",
    " 4 https://store.boingboing.net  \n",
    " 5 javascript:void(0)  \n",
    " 6 https://boingboing.net/blog  \n",
    " 7 https://bbs.boingboing.net  \n",
    " 8 https://bbs.boingboing.net/faq  \n",
    " 9 https://store.boingboing.net`  \n",
    "と、検索するリンクとほかのページに飛ぶリンク先のURL部分を取り出してくれる"
   ]
  },
  {
   "cell_type": "markdown",
   "metadata": {},
   "source": [
    "HTMLを解析するためには be4 モジュールの BeautifulSoup 関数をつかうことでできる(上ではsoupとしてインポート)  \n",
    "そのBeautifulSoup関数にHTMLのデータを渡すことでBeautifulSoupオブジェクトが作成され解析ができるようになる  \n",
    "今回はHTMLのデータを取得するために requests モジュールを使っている  \n",
    "BeautifulSoupオブジェクトの find_all メソッドを使って<a\\>の部分をすべて探し出し、返ってきたElementオブジェクトをさらに get メソッドを使ってaタグの中のhref属性の値を取得して、リストにまとめて返すようになっている  \n",
    "if文の中では上で取得したリストを一つずつ取り出し番号を付けて出力している"
   ]
  },
  {
   "cell_type": "code",
   "execution_count": null,
   "metadata": {},
   "outputs": [],
   "source": []
  }
 ],
 "metadata": {
  "kernelspec": {
   "display_name": "Python 3",
   "language": "python",
   "name": "python3"
  },
  "language_info": {
   "codemirror_mode": {
    "name": "ipython",
    "version": 3
   },
   "file_extension": ".py",
   "mimetype": "text/x-python",
   "name": "python",
   "nbconvert_exporter": "python",
   "pygments_lexer": "ipython3",
   "version": "3.7.6"
  }
 },
 "nbformat": 4,
 "nbformat_minor": 4
}
