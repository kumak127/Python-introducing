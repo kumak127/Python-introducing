{
 "cells": [
  {
   "cell_type": "markdown",
   "metadata": {},
   "source": [
    "# 10.1  ファイル"
   ]
  },
  {
   "cell_type": "markdown",
   "metadata": {},
   "source": [
    "## 10.1.1  openによる作成"
   ]
  },
  {
   "cell_type": "code",
   "execution_count": 1,
   "metadata": {},
   "outputs": [],
   "source": [
    "with open(r\".\\pydata\\oops.txt\",\"w\") as f:\n",
    "    print(\"Oops, I created a file.\", file=f)"
   ]
  },
  {
   "cell_type": "markdown",
   "metadata": {},
   "source": [
    "上で作成したファイルを用いて以降は説明をしていく"
   ]
  },
  {
   "cell_type": "markdown",
   "metadata": {},
   "source": [
    "## 10.1.2  existsによるファイルが存在するかのチェック"
   ]
  },
  {
   "cell_type": "code",
   "execution_count": 2,
   "metadata": {},
   "outputs": [
    {
     "data": {
      "text/plain": [
       "True"
      ]
     },
     "execution_count": 2,
     "metadata": {},
     "output_type": "execute_result"
    }
   ],
   "source": [
    "import os\n",
    "os.path.exists(r\".\\pydata\\oops.txt\")"
   ]
  },
  {
   "cell_type": "code",
   "execution_count": 4,
   "metadata": {},
   "outputs": [
    {
     "data": {
      "text/plain": [
       "True"
      ]
     },
     "execution_count": 4,
     "metadata": {},
     "output_type": "execute_result"
    }
   ],
   "source": [
    "os.path.exists(\"pydata\\oops.txt\")"
   ]
  },
  {
   "cell_type": "code",
   "execution_count": 5,
   "metadata": {},
   "outputs": [
    {
     "data": {
      "text/plain": [
       "False"
      ]
     },
     "execution_count": 5,
     "metadata": {},
     "output_type": "execute_result"
    }
   ],
   "source": [
    "os.path.exists(\"noexists.txt\")"
   ]
  },
  {
   "cell_type": "markdown",
   "metadata": {},
   "source": [
    "osモジュールの path.exists 関数を使うことで検索したいファイルがあるかどうかを、相対パスか絶対パスを渡すことで判断できる"
   ]
  },
  {
   "cell_type": "markdown",
   "metadata": {},
   "source": [
    "## 10.1.3  isfileによるファイルタイプのチェック"
   ]
  },
  {
   "cell_type": "code",
   "execution_count": 6,
   "metadata": {},
   "outputs": [
    {
     "data": {
      "text/plain": [
       "True"
      ]
     },
     "execution_count": 6,
     "metadata": {},
     "output_type": "execute_result"
    }
   ],
   "source": [
    "os.path.isfile(\".\\pydata\\oops.txt\")"
   ]
  },
  {
   "cell_type": "code",
   "execution_count": 7,
   "metadata": {},
   "outputs": [
    {
     "data": {
      "text/plain": [
       "False"
      ]
     },
     "execution_count": 7,
     "metadata": {},
     "output_type": "execute_result"
    }
   ],
   "source": [
    "os.path.isdir(\".\\pydata\\oops.txt\")"
   ]
  },
  {
   "cell_type": "markdown",
   "metadata": {},
   "source": [
    "os.pathの ishile 関数を使えばそれがファイルかどうかを、isdir を使えばそれがディレクトリかどうかを判断してくれる"
   ]
  },
  {
   "cell_type": "code",
   "execution_count": 8,
   "metadata": {},
   "outputs": [
    {
     "data": {
      "text/plain": [
       "False"
      ]
     },
     "execution_count": 8,
     "metadata": {},
     "output_type": "execute_result"
    }
   ],
   "source": [
    "os.path.isabs(r\".\\pydata\\oops.txt\")"
   ]
  },
  {
   "cell_type": "code",
   "execution_count": 12,
   "metadata": {},
   "outputs": [
    {
     "data": {
      "text/plain": [
       "True"
      ]
     },
     "execution_count": 12,
     "metadata": {},
     "output_type": "execute_result"
    }
   ],
   "source": [
    "os.path.isabs(\"\\pydata\\oops.txt\")"
   ]
  },
  {
   "cell_type": "markdown",
   "metadata": {},
   "source": [
    "os.pathの isabs 関数を使えばそれが絶対パスかどうかを調べ、絶対パスならTrueを返す"
   ]
  },
  {
   "cell_type": "markdown",
   "metadata": {},
   "source": [
    "## 10.1.4  shutilによるcopyとmove"
   ]
  },
  {
   "cell_type": "code",
   "execution_count": 14,
   "metadata": {},
   "outputs": [],
   "source": [
    "import shutil"
   ]
  },
  {
   "cell_type": "code",
   "execution_count": 15,
   "metadata": {},
   "outputs": [
    {
     "data": {
      "text/plain": [
       "'.\\\\pydata\\\\ohno.txt'"
      ]
     },
     "execution_count": 15,
     "metadata": {},
     "output_type": "execute_result"
    }
   ],
   "source": [
    "shutil.copy(\".\\pydata\\oops.txt\",\".\\pydata\\ohno.txt\")"
   ]
  },
  {
   "cell_type": "code",
   "execution_count": 16,
   "metadata": {},
   "outputs": [
    {
     "data": {
      "text/plain": [
       "'.\\\\pydata\\\\ohno2.txt'"
      ]
     },
     "execution_count": 16,
     "metadata": {},
     "output_type": "execute_result"
    }
   ],
   "source": [
    "shutil.move(\".\\pydata\\ohno.txt\",\".\\pydata\\ohno2.txt\")"
   ]
  },
  {
   "cell_type": "markdown",
   "metadata": {},
   "source": [
    "shutilモジュールの copy 関数に、コピー元のファイルとコピー先のファイルを指定することでファイルをファイル名を変えながら複製することができる  \n",
    "shutilモジュールの move 関数に、移動元のファイルと移動先のファイルを指定することでファイル名を変更しながらファイルの場所を変えることができる"
   ]
  },
  {
   "cell_type": "markdown",
   "metadata": {},
   "source": [
    "## 10.1.5  renameによるファイル名の変換"
   ]
  },
  {
   "cell_type": "code",
   "execution_count": 17,
   "metadata": {},
   "outputs": [],
   "source": [
    "import os"
   ]
  },
  {
   "cell_type": "code",
   "execution_count": 18,
   "metadata": {},
   "outputs": [],
   "source": [
    "os.rename(\".\\pydata\\ohno2.txt\",\".\\pydata\\ohwell.txt\")"
   ]
  },
  {
   "cell_type": "markdown",
   "metadata": {},
   "source": [
    "osモジュールの rename 関数に、変更前のファイル名と変更後のファイル名を渡すことでファイル名の変更ができる"
   ]
  },
  {
   "cell_type": "markdown",
   "metadata": {},
   "source": [
    "## 10.1.6  link,symlinkによるリンク作成"
   ]
  },
  {
   "cell_type": "code",
   "execution_count": 19,
   "metadata": {},
   "outputs": [],
   "source": [
    "os.link(\".\\pydata\\oops.txt\",\".\\pydata\\yikes.txt\")"
   ]
  },
  {
   "cell_type": "code",
   "execution_count": 22,
   "metadata": {},
   "outputs": [],
   "source": [
    "# os.symlink(\".\\pydata\\oops.txt\",\".\\pydata\\jeepers.txt\")\n",
    "# シンボリックリンクができるのは管理者のみで、一般ユーザーでは許可されていない"
   ]
  },
  {
   "cell_type": "markdown",
   "metadata": {},
   "source": [
    "https://kokufu.blogspot.com/2018/03/symbolic-link-privilege-not-held.html　権限の許可の仕方はこのページを参照"
   ]
  },
  {
   "cell_type": "markdown",
   "metadata": {},
   "source": [
    "ファイルの保存されている場所が一か所でも複数のファイル名を持つことができる(リンクと呼ばれる)  \n",
    "低水準のハードリンクでは、元のファイルを複数の名前でデータを共有することができ、元のファイルが削除されてもアクセスできるが異なるファイルシステムやディレクトリにはアクセスできない  \n",
    "シンボリックリンクではWindowsのショートカットのようなもので、元のファイルにアクセスすることができるファイルになり、元のファイルが削除・移動されるとアクセスできなくなる、また異なるファイルシステムやディレクトリでもアクセスできる"
   ]
  },
  {
   "cell_type": "markdown",
   "metadata": {},
   "source": [
    "Windowsではシンボリックリンクを行うには管理者の許可をする必要があるため設定を変更しないと実行できない"
   ]
  },
  {
   "cell_type": "markdown",
   "metadata": {},
   "source": [
    "## 10.1.7  chmodによるパーミッション(許可)の変更"
   ]
  },
  {
   "cell_type": "code",
   "execution_count": 23,
   "metadata": {},
   "outputs": [],
   "source": [
    "os.chmod(\".\\pydata\\oops.txt\", 0o400)"
   ]
  },
  {
   "cell_type": "code",
   "execution_count": 24,
   "metadata": {},
   "outputs": [
    {
     "ename": "PermissionError",
     "evalue": "[Errno 13] Permission denied: '.\\\\pydata\\\\oops.txt'",
     "output_type": "error",
     "traceback": [
      "\u001b[1;31m---------------------------------------------------------------------------\u001b[0m",
      "\u001b[1;31mPermissionError\u001b[0m                           Traceback (most recent call last)",
      "\u001b[1;32m<ipython-input-24-6ee0282ea77d>\u001b[0m in \u001b[0;36m<module>\u001b[1;34m\u001b[0m\n\u001b[1;32m----> 1\u001b[1;33m \u001b[1;32mwith\u001b[0m \u001b[0mopen\u001b[0m\u001b[1;33m(\u001b[0m\u001b[1;34m\".\\pydata\\oops.txt\"\u001b[0m\u001b[1;33m,\u001b[0m \u001b[1;34m\"a\"\u001b[0m\u001b[1;33m)\u001b[0m \u001b[1;32mas\u001b[0m \u001b[0mf\u001b[0m\u001b[1;33m:\u001b[0m\u001b[1;33m\u001b[0m\u001b[1;33m\u001b[0m\u001b[0m\n\u001b[0m\u001b[0;32m      2\u001b[0m     \u001b[0mf\u001b[0m\u001b[1;33m.\u001b[0m\u001b[0mwrite\u001b[0m\u001b[1;33m(\u001b[0m\u001b[1;34m\"I can't!\"\u001b[0m\u001b[1;33m)\u001b[0m\u001b[1;33m\u001b[0m\u001b[1;33m\u001b[0m\u001b[0m\n",
      "\u001b[1;31mPermissionError\u001b[0m: [Errno 13] Permission denied: '.\\\\pydata\\\\oops.txt'"
     ]
    }
   ],
   "source": [
    "with open(\".\\pydata\\oops.txt\", \"a\") as f:\n",
    "    f.write(\"I can't!\")"
   ]
  },
  {
   "cell_type": "code",
   "execution_count": 25,
   "metadata": {},
   "outputs": [
    {
     "data": {
      "text/plain": [
       "True"
      ]
     },
     "execution_count": 25,
     "metadata": {},
     "output_type": "execute_result"
    }
   ],
   "source": [
    "import stat\n",
    "stat.S_IRUSR == 0o400"
   ]
  },
  {
   "cell_type": "markdown",
   "metadata": {},
   "source": [
    "osモジュールの chmod 関数を使うことでファイルのパーミッションを変更することができ、第二引数に渡す8進値によってオーナーかオーナのグループかそれ以外の人か、読み出し、書き込み、実行のパーミッションを決めることができる  \n",
    "上ではオーナーの読み出しのみを許可するようにしている\n",
    "\n",
    "8進値に対応する内容は stat モジュールで決められていて、8進値を渡さずにstat.S_IRUSRを渡すことでも同じことができる"
   ]
  },
  {
   "cell_type": "markdown",
   "metadata": {},
   "source": [
    "## 10.1.9  abspathによるパス名の取得"
   ]
  },
  {
   "cell_type": "code",
   "execution_count": 26,
   "metadata": {},
   "outputs": [
    {
     "data": {
      "text/plain": [
       "'C:\\\\Users\\\\kumak\\\\提出用\\\\入門Python3\\\\pydata\\\\oops.txt'"
      ]
     },
     "execution_count": 26,
     "metadata": {},
     "output_type": "execute_result"
    }
   ],
   "source": [
    "os.path.abspath(\".\\pydata\\oops.txt\")"
   ]
  },
  {
   "cell_type": "markdown",
   "metadata": {},
   "source": [
    "os.pathの abspath 関数に相対パスを渡すと、対応する絶対パスを返してくれる"
   ]
  },
  {
   "cell_type": "markdown",
   "metadata": {},
   "source": [
    "## 10.1.10  realpathによるシンボリックリンクパス名の取得"
   ]
  },
  {
   "cell_type": "code",
   "execution_count": 27,
   "metadata": {},
   "outputs": [
    {
     "data": {
      "text/plain": [
       "'C:\\\\Users\\\\kumak\\\\提出用\\\\入門Python3\\\\pydata\\\\jeepers.txt'"
      ]
     },
     "execution_count": 27,
     "metadata": {},
     "output_type": "execute_result"
    }
   ],
   "source": [
    "os.path.realpath(\".\\pydata\\jeepers.txt\")"
   ]
  },
  {
   "cell_type": "markdown",
   "metadata": {},
   "source": [
    "windowsでは非対応だが、realpath関数にシンボリックリンクをされたファイルを渡すことで、元のファイルのパスを取得することができる"
   ]
  },
  {
   "cell_type": "markdown",
   "metadata": {},
   "source": [
    "## 10.1.11  removeによるファイルの削除"
   ]
  },
  {
   "cell_type": "code",
   "execution_count": 28,
   "metadata": {},
   "outputs": [],
   "source": [
    "os.remove(\".\\pydata\\ohwell.txt\")"
   ]
  },
  {
   "cell_type": "markdown",
   "metadata": {},
   "source": [
    "osモジュールの remove 関数にファイル名を渡すことでファイルを削除することができる"
   ]
  },
  {
   "cell_type": "markdown",
   "metadata": {},
   "source": [
    "# 10.2  ディレクトリ"
   ]
  },
  {
   "cell_type": "markdown",
   "metadata": {},
   "source": [
    "## 10.2.1  mkdirによる作成"
   ]
  },
  {
   "cell_type": "code",
   "execution_count": 29,
   "metadata": {},
   "outputs": [],
   "source": [
    "os.mkdir(\".\\pydata\\poem\")"
   ]
  },
  {
   "cell_type": "markdown",
   "metadata": {},
   "source": [
    "osモジュールの mkdir 関数を使うことでディレクトリを作成できる"
   ]
  },
  {
   "cell_type": "markdown",
   "metadata": {},
   "source": [
    "## 10.2.2  rmdirによる削除"
   ]
  },
  {
   "cell_type": "code",
   "execution_count": 30,
   "metadata": {},
   "outputs": [],
   "source": [
    "os.rmdir(\".\\pydata\\poem\")"
   ]
  },
  {
   "cell_type": "markdown",
   "metadata": {},
   "source": [
    "osモジュールの rmdir 関数に空のディレクトリを渡すことで削除することができる"
   ]
  },
  {
   "cell_type": "markdown",
   "metadata": {},
   "source": [
    "## 10.2.3  listdirによる内容リストの作成"
   ]
  },
  {
   "cell_type": "code",
   "execution_count": 31,
   "metadata": {},
   "outputs": [],
   "source": [
    "os.makedirs(\".\\pydata\\poem\\mcintyre\")"
   ]
  },
  {
   "cell_type": "code",
   "execution_count": 32,
   "metadata": {},
   "outputs": [
    {
     "data": {
      "text/plain": [
       "['mcintyre']"
      ]
     },
     "execution_count": 32,
     "metadata": {},
     "output_type": "execute_result"
    }
   ],
   "source": [
    "os.listdir(\".\\pydata\\poem\")"
   ]
  },
  {
   "cell_type": "code",
   "execution_count": 33,
   "metadata": {},
   "outputs": [],
   "source": [
    "with open(r\".\\pydata\\poem\\mcintyre\\the_good_man.txt\",\"w\") as f:\n",
    "    f.write(\"\"\"\n",
    "    Cheerful and happy was his mood,\n",
    "    He to the poor was kind and good,\n",
    "    And he oft' times did find them food,\n",
    "    Also supplies of coal and wood,\n",
    "    He never spake a word was rude,\n",
    "    And cheer'd those did o'er sorrows brood,\n",
    "    He passed away not understood,\n",
    "    Because no poet in his lays\n",
    "    Had penned a sonnet in his praise,\n",
    "    'Tis sad, but such is world's ways.\n",
    "    \"\"\")"
   ]
  },
  {
   "cell_type": "code",
   "execution_count": 34,
   "metadata": {},
   "outputs": [
    {
     "data": {
      "text/plain": [
       "['the_good_man.txt']"
      ]
     },
     "execution_count": 34,
     "metadata": {},
     "output_type": "execute_result"
    }
   ],
   "source": [
    "os.listdir(\".\\pydata\\poem\\mcintyre\")"
   ]
  },
  {
   "cell_type": "markdown",
   "metadata": {},
   "source": [
    "osモジュールの listdir 関数にディレクトリのパスを渡すと、中に入っているファイルやディレクトリのリストを返してくれる"
   ]
  },
  {
   "cell_type": "markdown",
   "metadata": {},
   "source": [
    "## 10.2.4  chdirによるカレントディレクトリの変更"
   ]
  },
  {
   "cell_type": "code",
   "execution_count": 35,
   "metadata": {},
   "outputs": [],
   "source": [
    "os.chdir(\".\\pydata\\poem\")"
   ]
  },
  {
   "cell_type": "code",
   "execution_count": 36,
   "metadata": {},
   "outputs": [
    {
     "data": {
      "text/plain": [
       "'C:\\\\Users\\\\kumak\\\\提出用\\\\入門Python3\\\\pydata\\\\poem'"
      ]
     },
     "execution_count": 36,
     "metadata": {},
     "output_type": "execute_result"
    }
   ],
   "source": [
    "os.getcwd()"
   ]
  },
  {
   "cell_type": "markdown",
   "metadata": {},
   "source": [
    "osモジュールの chdir 関数にディレクトリのパスを渡すことでカレントディレクトリを変更することができる"
   ]
  },
  {
   "cell_type": "markdown",
   "metadata": {},
   "source": [
    "## 10.2.5  globによるパターンにマッチするファイルのリストの作成"
   ]
  },
  {
   "cell_type": "markdown",
   "metadata": {},
   "source": [
    "grob モジュールはUnixシェルの規則を使ってパターンにあうファイルを検索する  \n",
    "正規表現のようなしっかりとした正規表現の構文を使うわけではない  \n",
    "基本的な規則は以下の通り  \n",
    "- \\*はすべてのものにマッチする(正規表現でいう.\\*)\n",
    "- ?は任意の一文字にマッチする\n",
    "- [ abc ]はa、b、cのどれかにマッチする\n",
    "- [ !abc ]はa、b、c以外の文字にマッチする"
   ]
  },
  {
   "cell_type": "code",
   "execution_count": 37,
   "metadata": {},
   "outputs": [],
   "source": [
    "import glob"
   ]
  },
  {
   "cell_type": "code",
   "execution_count": 38,
   "metadata": {},
   "outputs": [
    {
     "data": {
      "text/plain": [
       "['mcintyre']"
      ]
     },
     "execution_count": 38,
     "metadata": {},
     "output_type": "execute_result"
    }
   ],
   "source": [
    "glob.glob(\"m*\") # mで始まるファイル"
   ]
  },
  {
   "cell_type": "code",
   "execution_count": 39,
   "metadata": {},
   "outputs": [
    {
     "data": {
      "text/plain": [
       "[]"
      ]
     },
     "execution_count": 39,
     "metadata": {},
     "output_type": "execute_result"
    }
   ],
   "source": [
    "glob.glob(\"??\") # 2文字のファイル"
   ]
  },
  {
   "cell_type": "code",
   "execution_count": 40,
   "metadata": {},
   "outputs": [
    {
     "data": {
      "text/plain": [
       "['mcintyre']"
      ]
     },
     "execution_count": 40,
     "metadata": {},
     "output_type": "execute_result"
    }
   ],
   "source": [
    "glob.glob(\"m??????e\") # mで始まりeで終わる8文字のファイル"
   ]
  },
  {
   "cell_type": "code",
   "execution_count": 41,
   "metadata": {},
   "outputs": [
    {
     "data": {
      "text/plain": [
       "['mcintyre']"
      ]
     },
     "execution_count": 41,
     "metadata": {},
     "output_type": "execute_result"
    }
   ],
   "source": [
    "glob.glob(\"[klm]*e\") # k,l,mのどれかで始まりeで終わるファイル"
   ]
  },
  {
   "cell_type": "markdown",
   "metadata": {},
   "source": [
    "# 10.3  プログラムとプロセス"
   ]
  },
  {
   "cell_type": "code",
   "execution_count": 42,
   "metadata": {},
   "outputs": [],
   "source": [
    "import os"
   ]
  },
  {
   "cell_type": "code",
   "execution_count": 43,
   "metadata": {},
   "outputs": [
    {
     "data": {
      "text/plain": [
       "18516"
      ]
     },
     "execution_count": 43,
     "metadata": {},
     "output_type": "execute_result"
    }
   ],
   "source": [
    "os.getpid()"
   ]
  },
  {
   "cell_type": "code",
   "execution_count": 44,
   "metadata": {},
   "outputs": [
    {
     "data": {
      "text/plain": [
       "'C:\\\\Users\\\\kumak\\\\提出用\\\\入門Python3\\\\pydata\\\\poem'"
      ]
     },
     "execution_count": 44,
     "metadata": {},
     "output_type": "execute_result"
    }
   ],
   "source": [
    "os.getcwd()"
   ]
  },
  {
   "cell_type": "markdown",
   "metadata": {},
   "source": [
    "個別のプログラムを実行すると、OSはプロセスをひとつ作る  \n",
    "プロセスはシステムリソース(CPU、メモリ、ディスクスペース)とOSのカーネル(動作中のプログラムの実行状態を管理したり、ハードウェア資源を管理してアプリケーションソフトがハードウェアの機能を利用する手段を提供したりする)のデータ構造(ファイル、ネットワーク接続、利用統計など)を使う  \n",
    "プロセスはほかのプロセスから切り離されていて他のプロセスが何をしているのかを覗いたり、他のプロセスの作業を邪魔したりすることはできない  \n",
    "プロセスの状態はタスクマネージャーをで見ることができる  \n",
    "プログラムからもプロセスデータにアクセスできる  \n",
    "osモジュールの getpid 関数を使えば、実行されているPythonインタープリタのプロセスIDを取得できる  \n",
    "他にもgetcwdでカレントディレクトリも取得できる"
   ]
  },
  {
   "cell_type": "markdown",
   "metadata": {},
   "source": [
    "## 10.3.1  subprocessによるプロセスの作成"
   ]
  },
  {
   "cell_type": "markdown",
   "metadata": {},
   "source": [
    "subprocessモジュールはPythonから他の既存プログラムを起動・終了することができる  \n",
    "単にシェルでほかのプログラムを起動させて、出力された結果のみを知りたい場合は "
   ]
  },
  {
   "cell_type": "code",
   "execution_count": 45,
   "metadata": {},
   "outputs": [],
   "source": [
    "import subprocess"
   ]
  },
  {
   "cell_type": "code",
   "execution_count": 46,
   "metadata": {},
   "outputs": [
    {
     "data": {
      "text/plain": [
       "'現在の日付: 2020/09/29 \\n新しい日付を入力してください: (年-月-日) '"
      ]
     },
     "execution_count": 46,
     "metadata": {},
     "output_type": "execute_result"
    }
   ],
   "source": [
    "subprocess.getoutput(\"date\")"
   ]
  },
  {
   "cell_type": "markdown",
   "metadata": {},
   "source": [
    "単にシェルでほかのプログラムを起動させて、出力された結果のみを知りたい場合は getoutput 関数を使って実行したい文字列を渡すだけでよい  \n",
    "check_output 関数にリストを渡すことで引数として渡すこともできる"
   ]
  },
  {
   "cell_type": "code",
   "execution_count": 47,
   "metadata": {},
   "outputs": [
    {
     "data": {
      "text/plain": [
       "(1, '現在の日付: 2020/09/29 \\n新しい日付を入力してください: (年-月-日) ')"
      ]
     },
     "execution_count": 47,
     "metadata": {},
     "output_type": "execute_result"
    }
   ],
   "source": [
    "subprocess.getstatusoutput(\"date\")"
   ]
  },
  {
   "cell_type": "markdown",
   "metadata": {},
   "source": [
    "getstatusoutput 関数を使うことでシステムの終了ステータスと結果が入ったリストを返してくれる  \n",
    "ただ終了ステータスのみを知りたい場合はcall関数を使うことでもできる"
   ]
  },
  {
   "cell_type": "markdown",
   "metadata": {},
   "source": [
    "## 10.3.2  multiprocessingによるプロセスの作成"
   ]
  },
  {
   "cell_type": "code",
   "execution_count": 48,
   "metadata": {},
   "outputs": [
    {
     "name": "stdout",
     "output_type": "stream",
     "text": [
      "Process 11628 says: I'm the main program\n"
     ]
    }
   ],
   "source": [
    "# python3 - pyworks\\mp.py \n",
    "import multiprocessing, os\n",
    "\n",
    "def do_this(what):\n",
    "    whaomi(what)\n",
    "\n",
    "def whaomi(what):\n",
    "    print(f\"Process {os.getpid()} says: {what}\")\n",
    "\n",
    "if __name__ == \"__main__\":\n",
    "    whaomi(\"I'm the main program\")\n",
    "    for n in range(4):\n",
    "        p = multiprocessing.Process(target=do_this, args=(f\"I'm function {n}\",))\n",
    "        p.start()"
   ]
  },
  {
   "cell_type": "markdown",
   "metadata": {},
   "source": [
    "上のmp.pyをコマンドプロンプトで実行すると、  \n",
    "`Process 3812 says: I'm the main program\n",
    " Process 8724 says: I'm function 0\n",
    " Process 8312 says: I'm function 1\n",
    " Process 6924 says: I'm function 3\n",
    " Process 9908 says: I'm function 2`  \n",
    "と返ってくる"
   ]
  },
  {
   "cell_type": "markdown",
   "metadata": {},
   "source": [
    "multiprocessing モジュールの Process 関数に引数に、実行したい関数(キーワード引数target)とその関数に渡したい引数(キーワード引数args)を渡すことで、別のプロセスとして起動させるための Process オブジェクトを作成することができる  \n",
    "Processオブジェクトの start メソッドを呼ぶことで、実際に別のプロセスとして実行できる  \n",
    "本来は大量のウェブページのダウンロードなどを複数のプロセスに分けて実行し、時間短縮をさせるためなどに使われる"
   ]
  },
  {
   "cell_type": "markdown",
   "metadata": {},
   "source": [
    "## 10.3.3  terminateによるプロセスの強制終了"
   ]
  },
  {
   "cell_type": "code",
   "execution_count": 52,
   "metadata": {},
   "outputs": [
    {
     "name": "stdout",
     "output_type": "stream",
     "text": [
      "i'm main, in process 11628\n"
     ]
    }
   ],
   "source": [
    "# python3 - pyworks\\mp2.py\n",
    "import multiprocessing, time, os\n",
    "\n",
    "def whoami(name):\n",
    "    print(f\"i'm {name}, in process {os.getpid()}\")\n",
    "    \n",
    "def loopy(name):\n",
    "    whoami(name)\n",
    "    start = 1\n",
    "    stop= 100\n",
    "    for num in range(start, stop):\n",
    "        print(f\"\\tNumber {num} of {stop}. Honk!\")\n",
    "        time.sleep(1)\n",
    "\n",
    "if __name__ == \"__main__\":\n",
    "    whoami(\"main\")\n",
    "    p = multiprocessing.Process(target=loopy, args=(\"loopy\",))\n",
    "    p.start()\n",
    "    time.sleep(5)\n",
    "    p.terminate()"
   ]
  },
  {
   "cell_type": "markdown",
   "metadata": {},
   "source": [
    "上のmp2.pyをコマンドプロンプトで実行すると  \n",
    "`i'm main, in process 3792\n",
    " i'm loopy, in process 9564\n",
    "        Number 1 of 100. Honk!\n",
    "        Number 2 of 100. Honk!\n",
    "        Number 3 of 100. Honk!\n",
    "        Number 4 of 100. Honk!\n",
    "        Number 5 of 100. Honk!`  \n",
    "と返っていくる"
   ]
  },
  {
   "cell_type": "markdown",
   "metadata": {},
   "source": [
    "Processオブジェクトの terminate メソッドを呼ぶことで別のプロセスで実行している処理を強制終了することができる  \n",
    "上で言うと少なくとも100秒はかかる処理の途中でも5秒後に強制終了させて終わらせていることができる"
   ]
  },
  {
   "cell_type": "markdown",
   "metadata": {},
   "source": [
    "# 10.4  カレンダーとクロック"
   ]
  },
  {
   "cell_type": "markdown",
   "metadata": {},
   "source": [
    "知っているところは省略"
   ]
  },
  {
   "cell_type": "markdown",
   "metadata": {},
   "source": [
    "## 10.4.1  datetimeモジュール"
   ]
  },
  {
   "cell_type": "code",
   "execution_count": 48,
   "metadata": {},
   "outputs": [],
   "source": [
    "from datetime import date"
   ]
  },
  {
   "cell_type": "code",
   "execution_count": 49,
   "metadata": {},
   "outputs": [],
   "source": [
    "today = date.today()"
   ]
  },
  {
   "cell_type": "code",
   "execution_count": 50,
   "metadata": {},
   "outputs": [
    {
     "data": {
      "text/plain": [
       "'2020-09-29'"
      ]
     },
     "execution_count": 50,
     "metadata": {},
     "output_type": "execute_result"
    }
   ],
   "source": [
    "today.isoformat()"
   ]
  },
  {
   "cell_type": "code",
   "execution_count": 51,
   "metadata": {},
   "outputs": [],
   "source": [
    "from datetime import datetime"
   ]
  },
  {
   "cell_type": "code",
   "execution_count": 52,
   "metadata": {},
   "outputs": [],
   "source": [
    "now = datetime.now()"
   ]
  },
  {
   "cell_type": "code",
   "execution_count": 53,
   "metadata": {},
   "outputs": [
    {
     "data": {
      "text/plain": [
       "'2020-09-29T13:04:44.674788'"
      ]
     },
     "execution_count": 53,
     "metadata": {},
     "output_type": "execute_result"
    }
   ],
   "source": [
    "now.isoformat()"
   ]
  },
  {
   "cell_type": "markdown",
   "metadata": {},
   "source": [
    "isoformat メソッドで日時表現の国際基準であるISO 8601で表示できる"
   ]
  },
  {
   "cell_type": "code",
   "execution_count": 54,
   "metadata": {},
   "outputs": [],
   "source": [
    "from datetime import time"
   ]
  },
  {
   "cell_type": "code",
   "execution_count": 55,
   "metadata": {},
   "outputs": [],
   "source": [
    "now_time = time(21,41)"
   ]
  },
  {
   "cell_type": "code",
   "execution_count": 56,
   "metadata": {},
   "outputs": [
    {
     "data": {
      "text/plain": [
       "datetime.time(21, 41)"
      ]
     },
     "execution_count": 56,
     "metadata": {},
     "output_type": "execute_result"
    }
   ],
   "source": [
    "now_time"
   ]
  },
  {
   "cell_type": "code",
   "execution_count": 57,
   "metadata": {},
   "outputs": [],
   "source": [
    "now = datetime.combine(today, now_time)"
   ]
  },
  {
   "cell_type": "code",
   "execution_count": 58,
   "metadata": {},
   "outputs": [
    {
     "data": {
      "text/plain": [
       "datetime.datetime(2020, 9, 29, 21, 41)"
      ]
     },
     "execution_count": 58,
     "metadata": {},
     "output_type": "execute_result"
    }
   ],
   "source": [
    "now"
   ]
  },
  {
   "cell_type": "markdown",
   "metadata": {},
   "source": [
    "datetime.datetimeモジュールの combine 関数にdateオブジェクトとtimeオブジェクトを渡すことでdatetimeオブジェクトを作成することができる"
   ]
  },
  {
   "cell_type": "markdown",
   "metadata": {},
   "source": [
    "## 10.4.2  timeモジュール"
   ]
  },
  {
   "cell_type": "code",
   "execution_count": 59,
   "metadata": {},
   "outputs": [],
   "source": [
    "import time"
   ]
  },
  {
   "cell_type": "code",
   "execution_count": 60,
   "metadata": {},
   "outputs": [
    {
     "data": {
      "text/plain": [
       "1601352303.0799527"
      ]
     },
     "execution_count": 60,
     "metadata": {},
     "output_type": "execute_result"
    }
   ],
   "source": [
    "now = time.time()\n",
    "now # エポック秒"
   ]
  },
  {
   "cell_type": "code",
   "execution_count": 61,
   "metadata": {},
   "outputs": [
    {
     "data": {
      "text/plain": [
       "'Tue Sep 29 13:05:03 2020'"
      ]
     },
     "execution_count": 61,
     "metadata": {},
     "output_type": "execute_result"
    }
   ],
   "source": [
    "time.ctime(now)"
   ]
  },
  {
   "cell_type": "markdown",
   "metadata": {},
   "source": [
    "timeモジュールの ctime 関数にエポック秒を渡すことで時刻に変換して返してくれる"
   ]
  },
  {
   "cell_type": "code",
   "execution_count": 62,
   "metadata": {},
   "outputs": [
    {
     "data": {
      "text/plain": [
       "time.struct_time(tm_year=2020, tm_mon=9, tm_mday=29, tm_hour=13, tm_min=5, tm_sec=3, tm_wday=1, tm_yday=273, tm_isdst=0)"
      ]
     },
     "execution_count": 62,
     "metadata": {},
     "output_type": "execute_result"
    }
   ],
   "source": [
    "time.localtime(now)"
   ]
  },
  {
   "cell_type": "code",
   "execution_count": 63,
   "metadata": {},
   "outputs": [
    {
     "data": {
      "text/plain": [
       "time.struct_time(tm_year=2020, tm_mon=9, tm_mday=29, tm_hour=4, tm_min=5, tm_sec=3, tm_wday=1, tm_yday=273, tm_isdst=0)"
      ]
     },
     "execution_count": 63,
     "metadata": {},
     "output_type": "execute_result"
    }
   ],
   "source": [
    "time.gmtime(now)"
   ]
  },
  {
   "cell_type": "markdown",
   "metadata": {},
   "source": [
    "timeモジュールの localtime 関数にエポック秒を渡すと地域環境の時間で見やすい形(struct_timeオブジェクト)にして返してくれる  \n",
    "また、gmtime 関数にエポック秒を渡すことでUTC(世界標準時)の見やすい形(struct_timeオブジェクト)にしてくれる  \n",
    "2つとも引数を渡さなければ現在の時間を返してくれる"
   ]
  },
  {
   "cell_type": "code",
   "execution_count": 64,
   "metadata": {},
   "outputs": [],
   "source": [
    "now = time.localtime()"
   ]
  },
  {
   "cell_type": "code",
   "execution_count": 65,
   "metadata": {},
   "outputs": [
    {
     "data": {
      "text/plain": [
       "time.struct_time(tm_year=2020, tm_mon=9, tm_mday=29, tm_hour=13, tm_min=5, tm_sec=5, tm_wday=1, tm_yday=273, tm_isdst=0)"
      ]
     },
     "execution_count": 65,
     "metadata": {},
     "output_type": "execute_result"
    }
   ],
   "source": [
    "now"
   ]
  },
  {
   "cell_type": "code",
   "execution_count": 66,
   "metadata": {},
   "outputs": [
    {
     "data": {
      "text/plain": [
       "1601352305.0"
      ]
     },
     "execution_count": 66,
     "metadata": {},
     "output_type": "execute_result"
    }
   ],
   "source": [
    "time.mktime(now)"
   ]
  },
  {
   "cell_type": "markdown",
   "metadata": {},
   "source": [
    "timeモジュールの mktime 関数にstruct_timeオブジェクトを渡すと、エポック秒にして返してくれる"
   ]
  },
  {
   "cell_type": "markdown",
   "metadata": {},
   "source": [
    "## 10.4.3  日時の読み書き"
   ]
  },
  {
   "cell_type": "code",
   "execution_count": 67,
   "metadata": {},
   "outputs": [],
   "source": [
    "import time"
   ]
  },
  {
   "cell_type": "code",
   "execution_count": 68,
   "metadata": {},
   "outputs": [],
   "source": [
    "fmt = \"It's a %A, %B %d, %Y, local time %I:%M:%S%p\""
   ]
  },
  {
   "cell_type": "code",
   "execution_count": 69,
   "metadata": {},
   "outputs": [],
   "source": [
    "t = time.localtime()"
   ]
  },
  {
   "cell_type": "code",
   "execution_count": 70,
   "metadata": {},
   "outputs": [
    {
     "data": {
      "text/plain": [
       "\"It's a Tuesday, September 29, 2020, local time 01:05:17PM\""
      ]
     },
     "execution_count": 70,
     "metadata": {},
     "output_type": "execute_result"
    }
   ],
   "source": [
    "time.strftime(fmt,t)"
   ]
  },
  {
   "cell_type": "code",
   "execution_count": 71,
   "metadata": {},
   "outputs": [],
   "source": [
    "import datetime"
   ]
  },
  {
   "cell_type": "code",
   "execution_count": 72,
   "metadata": {},
   "outputs": [],
   "source": [
    "t = datetime.datetime.now()"
   ]
  },
  {
   "cell_type": "code",
   "execution_count": 73,
   "metadata": {},
   "outputs": [
    {
     "data": {
      "text/plain": [
       "\"It's a Tuesday, September 29, 2020, local time 01:05:18PM\""
      ]
     },
     "execution_count": 73,
     "metadata": {},
     "output_type": "execute_result"
    }
   ],
   "source": [
    "t.strftime(fmt)"
   ]
  },
  {
   "cell_type": "markdown",
   "metadata": {},
   "source": [
    "日時データは strftime を使うことで時間のデータを好きな形の文字列に変換できる  \n",
    "strftimeはtimeモジュールの関数、datetimeモジュールのメソッドとして使うことができる  \n",
    "必要なのはstrftimeのフォーマット(書式指定子)織り交ぜた文字列で、timeモジュールのstrftime関数の第一引数にフォーマット文字列、第二引数にstruct_timeオブジェクトを渡すことでできる  \n",
    "datetimeモジュールの場合は、datetime系のオブジェクトのstrftimeメソッドにフォーマット文字列を渡すことができる  \n",
    "\n",
    "|書式指定子|意味|範囲|\n",
    "|:-|:-|:-|\n",
    "|%Y|年|1900-|\n",
    "|%m|月|01-12|\n",
    "|%B|月名|January...|\n",
    "|%b|月略称|Jan...|\n",
    "|%d|日|01-31|\n",
    "|%A|曜日|Sunday...|\n",
    "|%a|曜日略称|Sun...|\n",
    "|%H|時間(24時)|00-23|\n",
    "|%I|時間(12時)|01-12|\n",
    "|%M|分|00-59|\n",
    "|%S|秒|00-59|"
   ]
  },
  {
   "cell_type": "code",
   "execution_count": 74,
   "metadata": {},
   "outputs": [],
   "source": [
    "fmt = \"%Y-%m-%d\""
   ]
  },
  {
   "cell_type": "code",
   "execution_count": 75,
   "metadata": {},
   "outputs": [
    {
     "data": {
      "text/plain": [
       "time.struct_time(tm_year=2020, tm_mon=7, tm_mday=6, tm_hour=0, tm_min=0, tm_sec=0, tm_wday=0, tm_yday=188, tm_isdst=-1)"
      ]
     },
     "execution_count": 75,
     "metadata": {},
     "output_type": "execute_result"
    }
   ],
   "source": [
    "time.strptime(\"2020-7-6\",fmt)"
   ]
  },
  {
   "cell_type": "code",
   "execution_count": 76,
   "metadata": {},
   "outputs": [
    {
     "data": {
      "text/plain": [
       "datetime.datetime(2020, 7, 6, 0, 0)"
      ]
     },
     "execution_count": 76,
     "metadata": {},
     "output_type": "execute_result"
    }
   ],
   "source": [
    "datetime.datetime.strptime(\"2020-7-6\",fmt)"
   ]
  },
  {
   "cell_type": "markdown",
   "metadata": {},
   "source": [
    "timeモジュールのstrptime関数に時間のデータが入った文字列と、時間のデータが入った文字列と対応するフォーマット文字列を渡すことでできる  \n",
    "datetime.datetimeのstrptime関数で同じようにすることでdatetimeオブジェクトを作成できる"
   ]
  },
  {
   "cell_type": "code",
   "execution_count": 77,
   "metadata": {},
   "outputs": [],
   "source": [
    "import locale\n",
    "from datetime import datetime"
   ]
  },
  {
   "cell_type": "code",
   "execution_count": 78,
   "metadata": {},
   "outputs": [],
   "source": [
    "today = datetime.today()"
   ]
  },
  {
   "cell_type": "code",
   "execution_count": 79,
   "metadata": {},
   "outputs": [
    {
     "name": "stdout",
     "output_type": "stream",
     "text": [
      "asteartea,iraila,29\n",
      "mardi,septembre,29\n",
      "Dienstag,September,29\n",
      "martes,septiembre,29\n",
      "þriðjudagur,september,29\n"
     ]
    }
   ],
   "source": [
    "for lang_country in [\"eu_us\",\"fr_fr\",\"de_de\",\"es_es\",\"is_is\"]:\n",
    "    locale.setlocale(locale.LC_TIME, lang_country)\n",
    "    print(today.strftime(\"%A,%B,%d\"))"
   ]
  },
  {
   "cell_type": "markdown",
   "metadata": {},
   "source": [
    "地域による時間表記の仕方が異なり、設定によって変わっている  \n",
    "月や曜日の表記を他の国や地域に変えるには locale モジュールの setlocale 関数に、日時の表記を国や地域を変えたいことを示すための locale.LC_TIME を第一引数に渡し、第二引数に言語と国の略称を表した文字列を渡すことでできる"
   ]
  },
  {
   "cell_type": "code",
   "execution_count": 80,
   "metadata": {},
   "outputs": [],
   "source": [
    "names = locale.locale_alias.keys()"
   ]
  },
  {
   "cell_type": "code",
   "execution_count": 81,
   "metadata": {},
   "outputs": [
    {
     "data": {
      "text/plain": [
       "dict_keys(['a3', 'a3_az', 'a3_az.koic', 'aa_dj', 'aa_er', 'aa_et', 'af', 'af_za', 'agr_pe', 'ak_gh', 'am', 'am_et', 'american', 'an_es', 'anp_in', 'ar', 'ar_aa', 'ar_ae', 'ar_bh', 'ar_dz', 'ar_eg', 'ar_in', 'ar_iq', 'ar_jo', 'ar_kw', 'ar_lb', 'ar_ly', 'ar_ma', 'ar_om', 'ar_qa', 'ar_sa', 'ar_sd', 'ar_ss', 'ar_sy', 'ar_tn', 'ar_ye', 'arabic', 'as', 'as_in', 'ast_es', 'ayc_pe', 'az', 'az_az', 'az_az.iso88599e', 'az_ir', 'be', 'be@latin', 'be_bg.utf8', 'be_by', 'be_by@latin', 'bem_zm', 'ber_dz', 'ber_ma', 'bg', 'bg_bg', 'bhb_in.utf8', 'bho_in', 'bho_np', 'bi_vu', 'bn_bd', 'bn_in', 'bo_cn', 'bo_in', 'bokmal', 'bokmål', 'br', 'br_fr', 'brx_in', 'bs', 'bs_ba', 'bulgarian', 'byn_er', 'c', 'c-french', 'c.ascii', 'c.en', 'c.iso88591', 'c.utf8', 'c_c', 'c_c.c', 'ca', 'ca_ad', 'ca_es', 'ca_es@valencia', 'ca_fr', 'ca_it', 'catalan', 'ce_ru', 'cextend', 'chinese-s', 'chinese-t', 'chr_us', 'ckb_iq', 'cmn_tw', 'crh_ua', 'croatian', 'cs', 'cs_cs', 'cs_cz', 'csb_pl', 'cv_ru', 'cy', 'cy_gb', 'cz', 'cz_cz', 'czech', 'da', 'da_dk', 'danish', 'dansk', 'de', 'de_at', 'de_be', 'de_ch', 'de_de', 'de_it', 'de_li.utf8', 'de_lu', 'deutsch', 'doi_in', 'dutch', 'dutch.iso88591', 'dv_mv', 'dz_bt', 'ee', 'ee_ee', 'eesti', 'el', 'el_cy', 'el_gr', 'el_gr@euro', 'en', 'en_ag', 'en_au', 'en_be', 'en_bw', 'en_ca', 'en_dk', 'en_dl.utf8', 'en_gb', 'en_hk', 'en_ie', 'en_il', 'en_in', 'en_ng', 'en_nz', 'en_ph', 'en_sc.utf8', 'en_sg', 'en_uk', 'en_us', 'en_us@euro@euro', 'en_za', 'en_zm', 'en_zw', 'en_zw.utf8', 'eng_gb', 'english', 'english.iso88591', 'english_uk', 'english_united-states', 'english_united-states.437', 'english_us', 'eo', 'eo.utf8', 'eo_eo', 'eo_us.utf8', 'eo_xx', 'es', 'es_ar', 'es_bo', 'es_cl', 'es_co', 'es_cr', 'es_cu', 'es_do', 'es_ec', 'es_es', 'es_gt', 'es_hn', 'es_mx', 'es_ni', 'es_pa', 'es_pe', 'es_pr', 'es_py', 'es_sv', 'es_us', 'es_uy', 'es_ve', 'estonian', 'et', 'et_ee', 'eu', 'eu_es', 'eu_fr', 'fa', 'fa_ir', 'fa_ir.isiri3342', 'ff_sn', 'fi', 'fi_fi', 'fil_ph', 'finnish', 'fo', 'fo_fo', 'fr', 'fr_be', 'fr_ca', 'fr_ch', 'fr_fr', 'fr_lu', 'français', 'fre_fr', 'french', 'french.iso88591', 'french_france', 'fur_it', 'fy_de', 'fy_nl', 'ga', 'ga_ie', 'galego', 'galician', 'gd', 'gd_gb', 'ger_de', 'german', 'german.iso88591', 'german_germany', 'gez_er', 'gez_et', 'gl', 'gl_es', 'greek', 'gu_in', 'gv', 'gv_gb', 'ha_ng', 'hak_tw', 'he', 'he_il', 'hebrew', 'hi', 'hi_in', 'hi_in.isciidev', 'hif_fj', 'hne', 'hne_in', 'hr', 'hr_hr', 'hrvatski', 'hsb_de', 'ht_ht', 'hu', 'hu_hu', 'hungarian', 'hy_am', 'hy_am.armscii8', 'ia', 'ia_fr', 'icelandic', 'id', 'id_id', 'ig_ng', 'ik_ca', 'in', 'in_id', 'is', 'is_is', 'iso-8859-1', 'iso-8859-15', 'iso8859-1', 'iso8859-15', 'iso_8859_1', 'iso_8859_15', 'it', 'it_ch', 'it_it', 'italian', 'iu', 'iu_ca', 'iu_ca.nunacom8', 'iw', 'iw_il', 'iw_il.utf8', 'ja', 'ja_jp', 'ja_jp.euc', 'ja_jp.mscode', 'ja_jp.pck', 'japan', 'japanese', 'japanese-euc', 'japanese.euc', 'jp_jp', 'ka', 'ka_ge', 'ka_ge.georgianacademy', 'ka_ge.georgianps', 'ka_ge.georgianrs', 'kab_dz', 'kk_kz', 'kl', 'kl_gl', 'km_kh', 'kn', 'kn_in', 'ko', 'ko_kr', 'ko_kr.euc', 'kok_in', 'korean', 'korean.euc', 'ks', 'ks_in', 'ks_in@devanagari.utf8', 'ku_tr', 'kw', 'kw_gb', 'ky', 'ky_kg', 'lb_lu', 'lg_ug', 'li_be', 'li_nl', 'lij_it', 'lithuanian', 'ln_cd', 'lo', 'lo_la', 'lo_la.cp1133', 'lo_la.ibmcp1133', 'lo_la.mulelao1', 'lt', 'lt_lt', 'lv', 'lv_lv', 'lzh_tw', 'mag_in', 'mai', 'mai_in', 'mai_np', 'mfe_mu', 'mg_mg', 'mhr_ru', 'mi', 'mi_nz', 'miq_ni', 'mjw_in', 'mk', 'mk_mk', 'ml', 'ml_in', 'mn_mn', 'mni_in', 'mr', 'mr_in', 'ms', 'ms_my', 'mt', 'mt_mt', 'my_mm', 'nan_tw', 'nb', 'nb_no', 'nds_de', 'nds_nl', 'ne_np', 'nhn_mx', 'niu_nu', 'niu_nz', 'nl', 'nl_aw', 'nl_be', 'nl_nl', 'nn', 'nn_no', 'no', 'no@nynorsk', 'no_no', 'no_no.iso88591@bokmal', 'no_no.iso88591@nynorsk', 'norwegian', 'nr', 'nr_za', 'nso', 'nso_za', 'ny', 'ny_no', 'nynorsk', 'oc', 'oc_fr', 'om_et', 'om_ke', 'or', 'or_in', 'os_ru', 'pa', 'pa_in', 'pa_pk', 'pap_an', 'pap_aw', 'pap_cw', 'pd', 'pd_de', 'pd_us', 'ph', 'ph_ph', 'pl', 'pl_pl', 'polish', 'portuguese', 'portuguese_brazil', 'posix', 'posix-utf2', 'pp', 'pp_an', 'ps_af', 'pt', 'pt_br', 'pt_pt', 'quz_pe', 'raj_in', 'ro', 'ro_ro', 'romanian', 'ru', 'ru_ru', 'ru_ua', 'rumanian', 'russian', 'rw', 'rw_rw', 'sa_in', 'sat_in', 'sc_it', 'sd', 'sd_in', 'sd_in@devanagari.utf8', 'sd_pk', 'se_no', 'serbocroatian', 'sgs_lt', 'sh', 'sh_ba.iso88592@bosnia', 'sh_hr', 'sh_hr.iso88592', 'sh_sp', 'sh_yu', 'shn_mm', 'shs_ca', 'si', 'si_lk', 'sid_et', 'sinhala', 'sk', 'sk_sk', 'sl', 'sl_cs', 'sl_si', 'slovak', 'slovene', 'slovenian', 'sm_ws', 'so_dj', 'so_et', 'so_ke', 'so_so', 'sp', 'sp_yu', 'spanish', 'spanish_spain', 'sq', 'sq_al', 'sq_mk', 'sr', 'sr@cyrillic', 'sr@latn', 'sr_cs', 'sr_cs.iso88592@latn', 'sr_cs@latn', 'sr_me', 'sr_rs', 'sr_rs@latn', 'sr_sp', 'sr_yu', 'sr_yu.cp1251@cyrillic', 'sr_yu.iso88592', 'sr_yu.iso88595', 'sr_yu.iso88595@cyrillic', 'sr_yu.microsoftcp1251@cyrillic', 'sr_yu.utf8', 'sr_yu.utf8@cyrillic', 'sr_yu@cyrillic', 'ss', 'ss_za', 'st', 'st_za', 'sv', 'sv_fi', 'sv_se', 'sw_ke', 'sw_tz', 'swedish', 'szl_pl', 'ta', 'ta_in', 'ta_in.tscii', 'ta_in.tscii0', 'ta_lk', 'tcy_in.utf8', 'te', 'te_in', 'tg', 'tg_tj', 'th', 'th_th', 'th_th.tactis', 'th_th.tis620', 'thai', 'the_np', 'ti_er', 'ti_et', 'tig_er', 'tk_tm', 'tl', 'tl_ph', 'tn', 'tn_za', 'to_to', 'tpi_pg', 'tr', 'tr_cy', 'tr_tr', 'ts', 'ts_za', 'tt', 'tt_ru', 'tt_ru.tatarcyr', 'tt_ru@iqtelif', 'turkish', 'ug_cn', 'uk', 'uk_ua', 'univ', 'universal', 'universal.utf8@ucs4', 'unm_us', 'ur', 'ur_in', 'ur_pk', 'uz', 'uz_uz', 'uz_uz@cyrillic', 've', 've_za', 'vi', 'vi_vn', 'vi_vn.tcvn', 'vi_vn.tcvn5712', 'vi_vn.viscii', 'vi_vn.viscii111', 'wa', 'wa_be', 'wae_ch', 'wal_et', 'wo_sn', 'xh', 'xh_za', 'yi', 'yi_us', 'yo_ng', 'yue_hk', 'yuw_pg', 'zh', 'zh_cn', 'zh_cn.big5', 'zh_cn.euc', 'zh_hk', 'zh_hk.big5hk', 'zh_sg', 'zh_sg.gbk', 'zh_tw', 'zh_tw.euc', 'zh_tw.euctw', 'zu', 'zu_za'])"
      ]
     },
     "execution_count": 81,
     "metadata": {},
     "output_type": "execute_result"
    }
   ],
   "source": [
    "names"
   ]
  },
  {
   "cell_type": "code",
   "execution_count": 82,
   "metadata": {},
   "outputs": [
    {
     "data": {
      "text/plain": [
       "588"
      ]
     },
     "execution_count": 82,
     "metadata": {},
     "output_type": "execute_result"
    }
   ],
   "source": [
    "len(names)"
   ]
  },
  {
   "cell_type": "code",
   "execution_count": 83,
   "metadata": {},
   "outputs": [
    {
     "data": {
      "text/plain": [
       "['a3_az',\n",
       " 'aa_dj',\n",
       " 'aa_er',\n",
       " 'aa_et',\n",
       " 'af_za',\n",
       " 'ak_gh',\n",
       " 'am_et',\n",
       " 'an_es',\n",
       " 'ar_aa',\n",
       " 'ar_ae',\n",
       " 'ar_bh',\n",
       " 'ar_dz',\n",
       " 'ar_eg',\n",
       " 'ar_in',\n",
       " 'ar_iq',\n",
       " 'ar_jo',\n",
       " 'ar_kw',\n",
       " 'ar_lb',\n",
       " 'ar_ly',\n",
       " 'ar_ma',\n",
       " 'ar_om',\n",
       " 'ar_qa',\n",
       " 'ar_sa',\n",
       " 'ar_sd',\n",
       " 'ar_ss',\n",
       " 'ar_sy',\n",
       " 'ar_tn',\n",
       " 'ar_ye',\n",
       " 'as_in',\n",
       " 'az_az',\n",
       " 'az_ir',\n",
       " 'be_by',\n",
       " 'bg_bg',\n",
       " 'bi_vu',\n",
       " 'bn_bd',\n",
       " 'bn_in',\n",
       " 'bo_cn',\n",
       " 'bo_in',\n",
       " 'br_fr',\n",
       " 'bs_ba',\n",
       " 'ca_ad',\n",
       " 'ca_es',\n",
       " 'ca_fr',\n",
       " 'ca_it',\n",
       " 'ce_ru',\n",
       " 'cs_cs',\n",
       " 'cs_cz',\n",
       " 'cv_ru',\n",
       " 'cy_gb',\n",
       " 'cz_cz',\n",
       " 'da_dk',\n",
       " 'de_at',\n",
       " 'de_be',\n",
       " 'de_ch',\n",
       " 'de_de',\n",
       " 'de_it',\n",
       " 'de_lu',\n",
       " 'dv_mv',\n",
       " 'dz_bt',\n",
       " 'ee_ee',\n",
       " 'el_cy',\n",
       " 'el_gr',\n",
       " 'en_ag',\n",
       " 'en_au',\n",
       " 'en_be',\n",
       " 'en_bw',\n",
       " 'en_ca',\n",
       " 'en_dk',\n",
       " 'en_gb',\n",
       " 'en_hk',\n",
       " 'en_ie',\n",
       " 'en_il',\n",
       " 'en_in',\n",
       " 'en_ng',\n",
       " 'en_nz',\n",
       " 'en_ph',\n",
       " 'en_sg',\n",
       " 'en_uk',\n",
       " 'en_us',\n",
       " 'en_za',\n",
       " 'en_zm',\n",
       " 'en_zw',\n",
       " 'eo_eo',\n",
       " 'eo_xx',\n",
       " 'es_ar',\n",
       " 'es_bo',\n",
       " 'es_cl',\n",
       " 'es_co',\n",
       " 'es_cr',\n",
       " 'es_cu',\n",
       " 'es_do',\n",
       " 'es_ec',\n",
       " 'es_es',\n",
       " 'es_gt',\n",
       " 'es_hn',\n",
       " 'es_mx',\n",
       " 'es_ni',\n",
       " 'es_pa',\n",
       " 'es_pe',\n",
       " 'es_pr',\n",
       " 'es_py',\n",
       " 'es_sv',\n",
       " 'es_us',\n",
       " 'es_uy',\n",
       " 'es_ve',\n",
       " 'et_ee',\n",
       " 'eu_es',\n",
       " 'eu_fr',\n",
       " 'fa_ir',\n",
       " 'ff_sn',\n",
       " 'fi_fi',\n",
       " 'fo_fo',\n",
       " 'fr_be',\n",
       " 'fr_ca',\n",
       " 'fr_ch',\n",
       " 'fr_fr',\n",
       " 'fr_lu',\n",
       " 'fy_de',\n",
       " 'fy_nl',\n",
       " 'ga_ie',\n",
       " 'gd_gb',\n",
       " 'gl_es',\n",
       " 'gu_in',\n",
       " 'gv_gb',\n",
       " 'ha_ng',\n",
       " 'he_il',\n",
       " 'hi_in',\n",
       " 'hr_hr',\n",
       " 'ht_ht',\n",
       " 'hu_hu',\n",
       " 'hy_am',\n",
       " 'ia_fr',\n",
       " 'id_id',\n",
       " 'ig_ng',\n",
       " 'ik_ca',\n",
       " 'in_id',\n",
       " 'is_is',\n",
       " 'it_ch',\n",
       " 'it_it',\n",
       " 'iu_ca',\n",
       " 'iw_il',\n",
       " 'ja_jp',\n",
       " 'jp_jp',\n",
       " 'ka_ge',\n",
       " 'kk_kz',\n",
       " 'kl_gl',\n",
       " 'km_kh',\n",
       " 'kn_in',\n",
       " 'ko_kr',\n",
       " 'ks_in',\n",
       " 'ku_tr',\n",
       " 'kw_gb',\n",
       " 'ky_kg',\n",
       " 'lb_lu',\n",
       " 'lg_ug',\n",
       " 'li_be',\n",
       " 'li_nl',\n",
       " 'ln_cd',\n",
       " 'lo_la',\n",
       " 'lt_lt',\n",
       " 'lv_lv',\n",
       " 'mg_mg',\n",
       " 'mi_nz',\n",
       " 'mk_mk',\n",
       " 'ml_in',\n",
       " 'mn_mn',\n",
       " 'mr_in',\n",
       " 'ms_my',\n",
       " 'mt_mt',\n",
       " 'my_mm',\n",
       " 'nb_no',\n",
       " 'ne_np',\n",
       " 'nl_aw',\n",
       " 'nl_be',\n",
       " 'nl_nl',\n",
       " 'nn_no',\n",
       " 'no_no',\n",
       " 'nr_za',\n",
       " 'ny_no',\n",
       " 'oc_fr',\n",
       " 'om_et',\n",
       " 'om_ke',\n",
       " 'or_in',\n",
       " 'os_ru',\n",
       " 'pa_in',\n",
       " 'pa_pk',\n",
       " 'pd_de',\n",
       " 'pd_us',\n",
       " 'ph_ph',\n",
       " 'pl_pl',\n",
       " 'pp_an',\n",
       " 'ps_af',\n",
       " 'pt_br',\n",
       " 'pt_pt',\n",
       " 'ro_ro',\n",
       " 'ru_ru',\n",
       " 'ru_ua',\n",
       " 'rw_rw',\n",
       " 'sa_in',\n",
       " 'sc_it',\n",
       " 'sd_in',\n",
       " 'sd_pk',\n",
       " 'se_no',\n",
       " 'sh_hr',\n",
       " 'sh_sp',\n",
       " 'sh_yu',\n",
       " 'si_lk',\n",
       " 'sk_sk',\n",
       " 'sl_cs',\n",
       " 'sl_si',\n",
       " 'sm_ws',\n",
       " 'so_dj',\n",
       " 'so_et',\n",
       " 'so_ke',\n",
       " 'so_so',\n",
       " 'sp_yu',\n",
       " 'sq_al',\n",
       " 'sq_mk',\n",
       " 'sr_cs',\n",
       " 'sr_me',\n",
       " 'sr_rs',\n",
       " 'sr_sp',\n",
       " 'sr_yu',\n",
       " 'ss_za',\n",
       " 'st_za',\n",
       " 'sv_fi',\n",
       " 'sv_se',\n",
       " 'sw_ke',\n",
       " 'sw_tz',\n",
       " 'ta_in',\n",
       " 'ta_lk',\n",
       " 'te_in',\n",
       " 'tg_tj',\n",
       " 'th_th',\n",
       " 'ti_er',\n",
       " 'ti_et',\n",
       " 'tk_tm',\n",
       " 'tl_ph',\n",
       " 'tn_za',\n",
       " 'to_to',\n",
       " 'tr_cy',\n",
       " 'tr_tr',\n",
       " 'ts_za',\n",
       " 'tt_ru',\n",
       " 'ug_cn',\n",
       " 'uk_ua',\n",
       " 'ur_in',\n",
       " 'ur_pk',\n",
       " 'uz_uz',\n",
       " 've_za',\n",
       " 'vi_vn',\n",
       " 'wa_be',\n",
       " 'wo_sn',\n",
       " 'xh_za',\n",
       " 'yi_us',\n",
       " 'yo_ng',\n",
       " 'zh_cn',\n",
       " 'zh_hk',\n",
       " 'zh_sg',\n",
       " 'zh_tw',\n",
       " 'zu_za']"
      ]
     },
     "execution_count": 83,
     "metadata": {},
     "output_type": "execute_result"
    }
   ],
   "source": [
    "cor_names = [name for name in names if (len(name) == 5) and (name[2] == \"_\")]\n",
    "cor_names"
   ]
  },
  {
   "cell_type": "code",
   "execution_count": 84,
   "metadata": {},
   "outputs": [
    {
     "data": {
      "text/plain": [
       "261"
      ]
     },
     "execution_count": 84,
     "metadata": {},
     "output_type": "execute_result"
    }
   ],
   "source": [
    "len(cor_names)"
   ]
  },
  {
   "cell_type": "code",
   "execution_count": 85,
   "metadata": {},
   "outputs": [
    {
     "data": {
      "text/plain": [
       "['ja_jp']"
      ]
     },
     "execution_count": 85,
     "metadata": {},
     "output_type": "execute_result"
    }
   ],
   "source": [
    "[name for name in cor_names if name.startswith(\"ja\")]"
   ]
  },
  {
   "cell_type": "markdown",
   "metadata": {},
   "source": [
    "言語と国の略称を表した文字列は locale の locale_alias.keys 関数を使うことですべての文字列をリストとして取り出すことができる  \n",
    "set_lacaleの第二引数で渡せる文字列を探すために、aa-aaのような5文字で真ん中に-が入っている文字列に絞っている  \n",
    "絞った後に、文字列がjaで始まる文字列を探すことで日本語の時間表記をするために入れるべき文字列を取得できる"
   ]
  },
  {
   "cell_type": "markdown",
   "metadata": {},
   "source": [
    "## 10.4.4  代替モジュール"
   ]
  },
  {
   "cell_type": "markdown",
   "metadata": {},
   "source": [
    "- arrow : 多数の日時関数を単純なAPIで結び付けている\n",
    "- dateutil : このモジュールはほぼすべての日時の形式を解析し、相対的な日時をきちんと処理してくれる\n",
    "- iso8601 : 標準ライブラリで手薄なISO8601形式を十分にサポートする\n",
    "- fleming : 時間帯関連の関数を多数提供している"
   ]
  },
  {
   "cell_type": "code",
   "execution_count": null,
   "metadata": {},
   "outputs": [],
   "source": []
  }
 ],
 "metadata": {
  "kernelspec": {
   "display_name": "Python 3",
   "language": "python",
   "name": "python3"
  },
  "language_info": {
   "codemirror_mode": {
    "name": "ipython",
    "version": 3
   },
   "file_extension": ".py",
   "mimetype": "text/x-python",
   "name": "python",
   "nbconvert_exporter": "python",
   "pygments_lexer": "ipython3",
   "version": "3.7.6"
  }
 },
 "nbformat": 4,
 "nbformat_minor": 4
}
