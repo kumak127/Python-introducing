{
 "cells": [
  {
   "cell_type": "markdown",
   "metadata": {},
   "source": [
    "# 11.1  並行処理"
   ]
  },
  {
   "cell_type": "markdown",
   "metadata": {},
   "source": [
    "## 11.1.1  キュー"
   ]
  },
  {
   "cell_type": "markdown",
   "metadata": {},
   "source": [
    "キューはFIFO(先入れ先出し)と呼ばれる  \n",
    "ひとつの仕事を一人が担当していけば、一人ですべての仕事を担当するよりも早く終わる  \n",
    "たとえそれが同期的(行列のように順番に続いていく場合)でも非同期的(タスクが独立してバラバラにある場合)でも早く終わることは変わらない"
   ]
  },
  {
   "cell_type": "markdown",
   "metadata": {},
   "source": [
    "## 11.1.2  プロセス"
   ]
  },
  {
   "cell_type": "markdown",
   "metadata": {},
   "source": [
    "キューの実装方法はたくさんあり、1台のマシンを使う場合、標準ライブラリのmultiprocessingモジュールのQueue関数を使う方法がある"
   ]
  },
  {
   "cell_type": "code",
   "execution_count": null,
   "metadata": {},
   "outputs": [
    {
     "name": "stdout",
     "output_type": "stream",
     "text": [
      "Washing salad dish\n",
      "Washing bread dish\n",
      "Washing entree dish\n",
      "Washing dessert dish\n"
     ]
    }
   ],
   "source": [
    "# python3 - pyworks\\dishes.py\n",
    "import multiprocessing as mp\n",
    "\n",
    "def washer(dishes, output):\n",
    "    for dish in dishes:\n",
    "        print(f\"Washing {dish} dish\")\n",
    "        output.put(dish)\n",
    "        \n",
    "def dryer(input):\n",
    "    while True:\n",
    "        dish = input.get()\n",
    "        print(f\"Drying {dish} dish\")\n",
    "        input.task_done()\n",
    "        \n",
    "if __name__ == \"__main__\":\n",
    "    dish_queue = mp.JoinableQueue()\n",
    "    dryer_proc = mp.Process(target=dryer, args=(dish_queue,))\n",
    "    dryer_proc.daemon = True \n",
    "    dryer_proc.start()\n",
    "\n",
    "    dishes = [\"salad\",\"bread\",\"entree\",\"dessert\"]\n",
    "    washer(dishes, dish_queue)\n",
    "    dish_queue.join()"
   ]
  },
  {
   "cell_type": "markdown",
   "metadata": {},
   "source": [
    "上のコードをdishes.pyとしてコマンドプロンプトで `$ python dishes.py`と実行すると  \n",
    "`Washing salad dish\n",
    " Washing bread dish\n",
    " Washing entree dish\n",
    " Washing dessert dish\n",
    " Drying salad dish\n",
    " Drying bread dish\n",
    " Drying entree dish\n",
    " Drying dessert dish`  \n",
    "と返ってくる"
   ]
  },
  {
   "cell_type": "markdown",
   "metadata": {},
   "source": [
    "multiprocessモジュールの JoinableQueue 関数は、Queue 関数の子クラスでtask_doneメソッドやjoinメソッドが追加されたクラスになる  \n",
    "JoinableQueue関数を使って Queue オブジェクトを作成  \n",
    "Process 関数に引数のtargetにdryer関数、argsにQueueオブジェクト(のちのwasher関数のoutput.putから返される値が入る)を渡して、Processオブジェクトを作成  \n",
    "ProcessオブジェクトのdaemonアトリビュートをTrueにしているがWindowsではどちらでもよい(Trueにすることでプロセスが終了するとき、そのプロセスはその子プロセスであるデーモンプロセスすべてを終了させようとする)  \n",
    "Processオブジェクトをstartして処理を始めているが、すぐには開始せず、ほかのプロセスが終了するのを待つ  \n",
    " \n",
    "washer関数にQueueオブジェクトを渡して、washer関数内の処理でQueueオブジェクトのputメソッドを使って値をQueueオブジェクト内に保存する  \n",
    "すべての処理が完了したら、Queueオブジェクトのjoin関数がProcessオブジェクトの処理の処理を始めるように伝え、Processオブジェクトのdryer関数の処理が始まる  \n",
    "dryer関数にはQueueオブジェクトが渡されていて、get関数を使うことで値を先入先出に従って取り出していく  \n",
    "Queueオブジェクトのtask_doneメソッドで以前に渡された要素の処理が完了したことを示していて、すべてを取り出したら処理を終了し、whileループから抜け出す"
   ]
  },
  {
   "cell_type": "markdown",
   "metadata": {},
   "source": [
    "## 11.1.3  スレッド"
   ]
  },
  {
   "cell_type": "markdown",
   "metadata": {},
   "source": [
    "スレッドはプロセス内で実行され、プロセス内のすべてのものにアクセスできる"
   ]
  },
  {
   "cell_type": "code",
   "execution_count": 3,
   "metadata": {},
   "outputs": [
    {
     "name": "stdout",
     "output_type": "stream",
     "text": [
      "Thread <_MainThread(MainThread, started 8728)> says: I'm the main program\n",
      "Thread <Thread(Thread-12, started 14548)> says: I'm function 0\n",
      "Thread <Thread(Thread-13, started 5700)> says: I'm function 1\n",
      "Thread <Thread(Thread-14, started 16816)> says: I'm function 2\n",
      "Thread <Thread(Thread-15, started 20632)> says: I'm function 3\n",
      "Thread <_MainThread(MainThread, started 11596)> says: I'm the main program\n",
      "Thread <Thread(Thread-1, started 13532)> says: I'm function 0\n",
      "Thread <Thread(Thread-2, started 15188)> says: I'm function 1\n",
      "Thread <Thread(Thread-3, started 16596)> says: I'm function 2\n",
      "Thread <Thread(Thread-4, started 17356)> says: I'm function 3\n"
     ]
    }
   ],
   "source": [
    "# python3 - pyworks\\threads.py\n",
    "import threading\n",
    "\n",
    "def do_this(what):\n",
    "    whoami(what)\n",
    "    \n",
    "def whoami(what):\n",
    "    print(f\"Thread {threading.current_thread()} says: {what}\")\n",
    "    \n",
    "if __name__ == \"__main__\":\n",
    "    whoami(\"I'm the main program\")\n",
    "    for n in range(4):\n",
    "        p = threading.Thread(target=do_this, args=(f\"I'm function {n}\",))\n",
    "        p.start()\n",
    "! python pyworks\\threads.py"
   ]
  },
  {
   "cell_type": "markdown",
   "metadata": {},
   "source": [
    "threadingモジュールのTread関数を呼んでキーワード引数のtargetに関数、argsに引数を渡すことでThreadオブジェクトを作成できる  \n",
    "Threadオブジェクトのstartメソッドを呼ぶことで複数スレッドを使って処理できる"
   ]
  },
  {
   "cell_type": "code",
   "execution_count": 4,
   "metadata": {},
   "outputs": [
    {
     "name": "stdout",
     "output_type": "stream",
     "text": [
      "Washing salad\n",
      "Washing bread\n",
      "Dring salad\n",
      "Washing entree\n",
      "Dring bread\n",
      "Washing desert\n",
      "Dring entree\n",
      "Dring desert\n"
     ]
    }
   ],
   "source": [
    "# python3 - pyworks\\thread_dishes.py\n",
    "import threading, queue, time\n",
    "\n",
    "def washer(dishes, dish_queue):\n",
    "    for dish in dishes:\n",
    "        time.sleep(5)\n",
    "        print(\"Washing\", dish)\n",
    "        dish_queue.put(dish)\n",
    "        \n",
    "def dryer(dish_queue):\n",
    "    while True:\n",
    "        dish = dish_queue.get()\n",
    "        time.sleep(8)\n",
    "        print(\"Dring\", dish)\n",
    "        dish_queue.task_done()\n",
    "        \n",
    "dish_queue = queue.Queue()\n",
    "for n in range(2):\n",
    "    dryer_thread = threading.Thread(target=dryer, args=(dish_queue,))\n",
    "    dryer_thread.start()\n",
    "    \n",
    "dishes = [\"salad\", \"bread\", \"entree\", \"desert\"]\n",
    "washer(dishes, dish_queue)\n",
    "dish_queue.join()"
   ]
  },
  {
   "cell_type": "markdown",
   "metadata": {},
   "source": [
    "threadingモジュールとqueueモジュールを使うことでmultiprocessingモジュールを使わないでも同じような処理ができる  \n",
    "\n",
    "しかし、threadingモジュールには terminate 関数がないため、問題が起きた時に強制終了する方法がないという違いがある"
   ]
  },
  {
   "cell_type": "markdown",
   "metadata": {},
   "source": [
    "## 11.1.4  グリーンスレッドとgevent"
   ]
  },
  {
   "cell_type": "markdown",
   "metadata": {},
   "source": [
    "別スレッドや別プロセスで実行する以外にイベント駆動型プログラミング(コンピュータプログラムが起動すると共にイベントを待機し、発生したイベントに従って受動的に処理を行うプログラミングパラダイムのこと)を使う方法がある  \n",
    "イベント駆動プログラムは、中央でイベントループを実行し、仕事を少しずつ外部に分け与えてループを繰り返す  \n",
    "gevent ライブラリはイベント駆動で、通常の命令型のコードを書くと、geventがオブジェクトをコルーチン(プログラミングの構造の一種で、サブルーチンがエントリーからリターンまでを一つの処理単位とするのに対し、コルーチンはいったん処理を中断した後、続きから処理を再開できる)に変換する  \n",
    "geventは多くのPython標準オブジェクトを書き換え、geventのメカニズムを使うようにさせるが、一部のデータベースドライバのようにCで書かれたPython拡張コードは操作できない"
   ]
  },
  {
   "cell_type": "code",
   "execution_count": 5,
   "metadata": {},
   "outputs": [
    {
     "name": "stdout",
     "output_type": "stream",
     "text": [
      "66.6.44.4\n",
      "104.27.172.75\n",
      "None\n"
     ]
    }
   ],
   "source": [
    "import gevent\n",
    "from gevent import socket\n",
    "hosts = [\"www.crappytaxidermy.com\", \"www.walterpottertaxidermy.com\", \"www.antique-taxidermy.com\"]\n",
    "jobs = [gevent.spawn(gevent.socket.gethostbyname, host) for host in hosts]\n",
    "gevent.joinall(jobs, timeout=5)\n",
    "for job in jobs:\n",
    "    print(job.value)"
   ]
  },
  {
   "cell_type": "code",
   "execution_count": 6,
   "metadata": {},
   "outputs": [
    {
     "data": {
      "text/plain": [
       "'66.6.44.4'"
      ]
     },
     "execution_count": 6,
     "metadata": {},
     "output_type": "execute_result"
    }
   ],
   "source": [
    "gevent.socket.gethostbyname(\"www.crappytaxidermy.com\")"
   ]
  },
  {
   "cell_type": "markdown",
   "metadata": {},
   "source": [
    "geventライブラリの socket モジュールの gethostbyname 関数は渡されたドメイン名に対応するIPアドレスを返す  \n",
    "普通の socket モジュールにも gethostbyname 関数はあるが同期的なので世界中のネームサーバーとをつかまえて解決しようと競うために時間がかかるが、geventライブラリのsocketモジュールのgethostbynameは非同期的なので複数のサイトを独立してバラバラに解決することができるの早く処理が終わる  \n",
    "geventの spawn 関数は渡された関数を実行するためのグリーンスレッド(オペレーティングシステムではなく仮想マシン (VM) によってスケジュールされるスレッド)を作成する  \n",
    "グリーンスレッドは通常のスレッドとは違い、ブロック処理(他のスレッドがその資源にアクセスできないようする処理で，排他処理や排他制御ともいう)をしない  \n",
    "通常のスレッドをブロックしてしまうことが起きてもgeventはほかのグリーンスレッドのどれかに制御を切り替える  \n",
    "geventの joinall 関数は派生させた処理が処理されるのを待つ  "
   ]
  },
  {
   "cell_type": "markdown",
   "metadata": {},
   "source": [
    "geventのsocketモジュールではなく、モンキーパッチング関数を使う方法もあり、標準モジュールのsocketなどをグリーンスレッドを使うように書き換えることができる  \n",
    "長いコードの最後のほうまでgeventを適用したいときに便利"
   ]
  },
  {
   "cell_type": "code",
   "execution_count": 7,
   "metadata": {},
   "outputs": [],
   "source": [
    "from gevent import monkey\n",
    "monkey.patch_socket()"
   ]
  },
  {
   "cell_type": "markdown",
   "metadata": {},
   "source": [
    "プログラムの冒頭に上のコードを呼び出すことでできる  \n",
    "geventライブラリの monkey モジュールの patch_socket 関数を呼ぶことで全ての箇所にgeventのsocketが挿入される"
   ]
  },
  {
   "cell_type": "code",
   "execution_count": 8,
   "metadata": {},
   "outputs": [
    {
     "data": {
      "text/plain": [
       "True"
      ]
     },
     "execution_count": 8,
     "metadata": {},
     "output_type": "execute_result"
    },
    {
     "name": "stderr",
     "output_type": "stream",
     "text": [
      "C:\\Users\\kumak\\anaconda3\\lib\\site-packages\\gevent\\hub.py:154: UserWarning: libuv only supports millisecond timer resolution; all times less will be set to 1 ms\n",
      "  with loop.timer(seconds, ref=ref) as t:\n"
     ]
    }
   ],
   "source": [
    "from gevent import monkey\n",
    "monkey.patch_all()"
   ]
  },
  {
   "cell_type": "markdown",
   "metadata": {},
   "source": [
    "上のようにmonkeyモジュールの patch_all 関数を呼ぶとさらに多くの標準ライブラリがモンキーパッチングされる  "
   ]
  },
  {
   "cell_type": "code",
   "execution_count": 9,
   "metadata": {},
   "outputs": [
    {
     "name": "stdout",
     "output_type": "stream",
     "text": [
      "66.6.44.4\n",
      "104.27.172.75\n",
      "172.217.161.228\n",
      "The history saving thread hit an unexpected error (This operation would block forever\n",
      "\tHub: <Hub '' at 0x2841fac9b88 default pending=0 ref=0 thread_ident=0x58c8>\n",
      "\tHandles:\n",
      "[HandleState(handle=<cdata 'struct uv_handle_s *' 0x000002841F68CA78>, type=b'check', watcher=<loop at 0x28420ee8888 default pending=0 ref=0>, ref=0, active=1, closing=0),\n",
      " HandleState(handle=<cdata 'struct uv_handle_s *' 0x000002841D1E2518>, type=b'timer', watcher=<loop at 0x28420ee8888 default pending=0 ref=0>, ref=0, active=1, closing=0),\n",
      " HandleState(handle=<cdata 'struct uv_handle_s *' 0x000002841F68E288>, type=b'prepare', watcher=<loop at 0x28420ee8888 default pending=0 ref=0>, ref=0, active=1, closing=0),\n",
      " HandleState(handle=<cdata 'struct uv_handle_s *' 0x000002841F68D628>, type=b'check', watcher=<loop at 0x28420ee8888 default pending=0 ref=0>, ref=1, active=0, closing=0)]).History will not be written to the database.\n"
     ]
    }
   ],
   "source": [
    "import gevent, socket\n",
    "from gevent import monkey; monkey.patch_all()\n",
    "\n",
    "hosts = [\"www.crappytaxidermy.com\", \"www.walterpottertaxidermy.com\", \"www.google.com\"]\n",
    "jobs = [gevent.spawn(socket.gethostbyname, host) for host in hosts]\n",
    "gevent.joinall(jobs, timeout=5)\n",
    "for job in jobs:\n",
    "    print(job.value)"
   ]
  },
  {
   "cell_type": "markdown",
   "metadata": {},
   "source": [
    "上のようにmonkeyモジュールのpatc_all関数を呼ぶことで、標準のsocketモジュールでもグリーンスレッドを呼び素早く処理することができる"
   ]
  },
  {
   "cell_type": "markdown",
   "metadata": {},
   "source": [
    "## 11.1.5  twisted"
   ]
  },
  {
   "cell_type": "markdown",
   "metadata": {},
   "source": [
    "twistedは非同期のイベント駆動型ネットワークフレームワークで、データ受信や接続切断といったイベントに関数を結びつけると、イベントが発生したときに関数が呼び出される(コールバック：コンピュータプログラム中で、ある関数などを呼び出す際に別の関数などを途中で実行するよう指定する手法のこと)"
   ]
  },
  {
   "cell_type": "markdown",
   "metadata": {},
   "source": [
    "http://bit.ly/twisted-ex にサンプルコードがいくつかあるのでダウンロードしてみるとよい"
   ]
  },
  {
   "cell_type": "markdown",
   "metadata": {},
   "source": [
    "## 11.1.6  asyncio"
   ]
  },
  {
   "cell_type": "markdown",
   "metadata": {},
   "source": [
    "現在、asyncioはtwisted,geventなどの非同期メソッドと互換性のある共通イベントループを提供している  \n",
    "目標はクリーンで標準的なパフォーマンスに優れた非同期的APIを提供することなので、今後注目"
   ]
  },
  {
   "cell_type": "markdown",
   "metadata": {},
   "source": [
    "## 11.1.7  Redis"
   ]
  },
  {
   "cell_type": "markdown",
   "metadata": {},
   "source": [
    "1台のマシンでもネットワークでも実行できるキューに対する別のアプローチがRedisを使うことでできる  \n",
    "つまり、シングルマシンからマルチマシンによる並行処理への橋渡しができる"
   ]
  },
  {
   "cell_type": "code",
   "execution_count": null,
   "metadata": {},
   "outputs": [
    {
     "name": "stdout",
     "output_type": "stream",
     "text": [
      "Washer is starting\n",
      "Washed salad\n",
      "Washed bread\n",
      "Washed entree\n",
      "Washed desert\n",
      "Washer is done\n"
     ]
    },
    {
     "name": "stderr",
     "output_type": "stream",
     "text": [
      "Traceback (most recent call last):\n",
      "  File \"src/gevent/_abstract_linkable.py\", line 134, in gevent.__abstract_linkable.AbstractLinkable._notify_links\n",
      "greenlet.error: cannot switch to a different thread\n",
      "2020-09-29T04:19:39Z (<built-in method switch of greenlet.greenlet object at 0x000002841F993468>, <gevent._event.Event object at 0x000002842109BE28>) failed with error\n",
      "\n"
     ]
    }
   ],
   "source": [
    "# python3 - pyworks\\redis_washer.py\n",
    "import redis\n",
    "conn = redis.Redis()\n",
    "print(\"Washer is starting\")\n",
    "deishes = [\"salad\",\"bread\",\"entree\",\"dessert\"]\n",
    "for dish in dishes:\n",
    "    msg = dish.encode(\"utf-8\")\n",
    "    conn.rpush(\"dishes\", msg)\n",
    "    print(\"Washed\", dish)\n",
    "conn.rpush(\"dishes\",\"quit\")\n",
    "print(\"Washer is done\")"
   ]
  },
  {
   "cell_type": "code",
   "execution_count": 15,
   "metadata": {},
   "outputs": [
    {
     "name": "stdout",
     "output_type": "stream",
     "text": [
      "Dryer is starting\n",
      "Dried salad\n",
      "Dried bread\n",
      "Dried entree\n",
      "Dried desert\n",
      "Dishes are dried\n"
     ]
    }
   ],
   "source": [
    "# python3 - pyworks\\redis_dryer.py\n",
    "import redis\n",
    "conn = redis.Redis()\n",
    "print(\"Dryer is starting\")\n",
    "while True:\n",
    "    msg = conn.blpop(\"dishes\")\n",
    "    if not msg:\n",
    "        break\n",
    "    val = msg[1].decode(\"utf-8\")\n",
    "    if val == \"quit\":\n",
    "        break\n",
    "    print(\"Dried\", val)\n",
    "print(\"Dishes are dried\")"
   ]
  },
  {
   "cell_type": "markdown",
   "metadata": {},
   "source": [
    "コマンドプロンプトを起動して上のredis_dryer.pyを実行した後に、ほかのコマンドプロンプトを起動してredis_washer.pyを実行すると、待機していたredis_dryer.pyのほうも同時に処理が始まる"
   ]
  },
  {
   "cell_type": "markdown",
   "metadata": {},
   "source": [
    "redis_washer.pyのコード内容としては、まず処理の開始をprintで合図、リストを作成、forループ内でmsg変数にリストの内容を保存、Redisのリストにdishesという名前を付けて文字列を右から追加していき、どの文字列の処理が終わったかをprintで伝える、すべてのループが終わったらdishesリストにquitという文字列を追加、printですべての処理が終わったことを伝える"
   ]
  },
  {
   "cell_type": "markdown",
   "metadata": {},
   "source": [
    "redis_dryer.pyのコード内容としては、処理の開始されたことをprintで伝える、whileループでRedisのdishesというリスト名の左から値を取り出し変数msgに代入しリストから削除する、もしまだredis_dryer.pyが起動していない場合はblpopでリスト名が見つかるまで待機される、もし変数msgから何も返されなくなったらリストが空になった証拠なのでループから抜け出す、blpopを使って返されるのはリスト名と消したバイト文字列のタプルなのでmsg[ 1 ]でバイト文字列のみを指定して文字列にデコードしてval変数に代入する、もし変数valがquitならループから抜け出す、valの処理が終了したことを表示、全ての処理が終了したことを表示"
   ]
  },
  {
   "cell_type": "code",
   "execution_count": 16,
   "metadata": {},
   "outputs": [],
   "source": [
    "# python3 - pyworks\\redis_dryer2.py\n",
    "def dryer():\n",
    "    import redis, os, time\n",
    "    conn = redis.Redis()\n",
    "    pid = os.getpid()\n",
    "    timeout = 20\n",
    "    print(f\"Dryer process {pid} is starting\")\n",
    "    while True:\n",
    "        msg = conn.blpop(\"dishes\", timeout)\n",
    "        if not msg:\n",
    "            break\n",
    "        val = msg[1].decode(\"utf-8\")\n",
    "        if val == \"quit\":\n",
    "            break\n",
    "        print(f\"{pid}: dried {val}\")\n",
    "        time.sleep(0.1)\n",
    "    print(f\"Dryer process {pid} is done\")\n",
    "    \n",
    "import multiprocessing\n",
    "DRYER=3\n",
    "for num in range(DRYER):\n",
    "    p = multiprocessing.Process(target=dryer)\n",
    "    p.start()"
   ]
  },
  {
   "cell_type": "markdown",
   "metadata": {},
   "source": [
    "redis_dryer.pyの代わりに上のredis_dryer2.pyを起動してみると、複数のスレッドを使って処理をすることができる  \n",
    "DRYERの値を3にしてあるのでforループを3回繰り返しスレッドも3作られ作成したdryer関数を3つのスレッドで処理される  \n",
    "試しに実行してみると  \n",
    "`Dryer process 20368 is starting\n",
    " Dryer process 3368 is starting\n",
    " Dryer process 15008 is starting\n",
    " 20368: dried salad\n",
    " 3368: dried bread\n",
    " 15008: dried entree\n",
    " Dryer process 20368 is done\n",
    " 15008: dried dessert\n",
    " Dryer process 3368 is done\n",
    " Dryer process 15008 is done`  \n",
    "とdryerのプロトコルでは表示される  \n",
    "プロセスがまず3つ起動し、データがRedisのdishesリストに追加されるたびに別々のスレッドが処理してくれる  \n",
    "しかし、実際にquitの文字列を受けっとって終了できるのは一つのスレッドのみなので、blpopメソッドの第二引数(キーワード引数はtimeout)に秒数を渡すことで、渡された秒数後にNoneを返すようにしている  \n",
    "上ではtimeoutは20に設定されているので20秒後にbreak文に向かうことができ、処理を終了させることができる"
   ]
  },
  {
   "cell_type": "markdown",
   "metadata": {},
   "source": [
    "## 11.1.8  キューを越えて"
   ]
  },
  {
   "cell_type": "markdown",
   "metadata": {},
   "source": [
    "動く部品が多くなると混乱が生じる可能性が高くなる  \n",
    "そういった問題に対処するためのテクニックがいくつかある  \n",
    "- ファイア・アンド・フォーゲット  \n",
    "仕事を渡したら、たとえ渡し先がなかったとしても無視して続ける行動のこと\n",
    "- 要求/応答  \n",
    "要求のひとつひつを確認してから渡す\n",
    "- バックプレッシャまたはスロットリング  \n",
    "下流の処理が追い付かなくなったときに、処理の早いところにペースを落とすよう指示する"
   ]
  },
  {
   "cell_type": "markdown",
   "metadata": {},
   "source": [
    "実際のシステムではワーカーが需要についていけてるかに注意する必要がある  \n",
    "新しいタスクは保留リストに追加、なんらかのワーカープロセスがメッセージをポップして作業中リストに追加、処理が終了したら作業中リストから取り除いて完了済みリストに追加する  \n",
    "こうすればどのタスクがエラーを起こしたか、時間がかかりすぎているかがわかる  \n",
    "Pythonベースのキューパッケージの中にはこのような管理レベルを追加したものがある  \n",
    "- celery  \n",
    "multiprocessing、geventなどを使って同期的でも非同期的でもタスク分散できる\n",
    "- thoonk  \n",
    "Redisを基礎としていてジョブキューとパブサブを提供している\n",
    "- rq  \n",
    "ジョブキューのためのPythonライブラリで、Redisを基礎としている\n",
    "- Queues  \n",
    "このサイトはPythonベースのものやその他のものを含めてのキューイングソフトウェアについての議論の場になっている"
   ]
  },
  {
   "cell_type": "markdown",
   "metadata": {},
   "source": [
    "# 11.2  ネットワーク"
   ]
  },
  {
   "cell_type": "markdown",
   "metadata": {},
   "source": [
    "以降ではネットワーキング、すなわち空間的に広がった分散コンピューティングを扱う"
   ]
  },
  {
   "cell_type": "markdown",
   "metadata": {},
   "source": [
    "## 11.2.1  パターン"
   ]
  },
  {
   "cell_type": "markdown",
   "metadata": {},
   "source": [
    "ネットワークアプリケーションは、いくつかの基本パターンから作ることができる  \n",
    "もっとも一般的なパターンは、要求/応答(クライアント/サーバー)というものになる  \n",
    "このパターンは同期的で、クライアントはサーバーが応答を返してくれるまで待つ  \n",
    "例えばウェブブラウザもクライアントであり、ウェブサーバーに対してHTTP要求をを送ることでサーバーは応答を返してくれる  \n",
    "\n",
    "プロセスプール内の態勢が整ったワーカーにデータを送るプッシュ(ファンアウト)もよく見られるパターンである  \n",
    "例えばロードバランサーの先にあるウェブサーバーがそれにあたる  \n",
    "\n",
    "プッシュの逆はプル(ファンイン)で、一つ以上のソースからデータを受け付ける  \n",
    "例えば複数のプロセスからテキストのメッセージを受け取り、単一のログファイルに書き込むロガーがそれにあたる  \n",
    "\n",
    "パブリッシュ/サブスクライブ(パブサブ)という、ラジオやテレビの放送とよく似たパターンがある  \n",
    "このパターンでは、パブリッシャがデータを送り出す  \n",
    "単純なパブサブシステムでは、すべてのサブスクライバがコピーを受け取る  \n",
    "プッシュパターンとは異なり、複数のサブスクライバが同じデータを受け取る可能性がある"
   ]
  },
  {
   "cell_type": "markdown",
   "metadata": {},
   "source": [
    "## 11.2.2  パブリッシュ/サブスクライブモデル"
   ]
  },
  {
   "cell_type": "markdown",
   "metadata": {},
   "source": [
    "パブリッシュ/サブスクライブはキューではなくブロードキャスト(放送という意味の英単語で、通信・ネットワークの分野ではネットワークに参加するすべての機器に同時に信号やデータを送信すること)だ  \n",
    "一つ以上のプロセスがメッセージをパブリッシュ(発行)する  \n",
    "個々のサブスクライバ(購読者)プロセスは、どのようなタイプのメッセージを受け取りたいかを指定する  \n",
    "指定されたタイプに合致するメッセージのコピーが個々のサブスクライバに送られる  \n",
    "つまり、メッセージは一度処理されるかもしれないかもしれないし、複数回処理されるかもしれないし、全く処理されない可能性もある"
   ]
  },
  {
   "cell_type": "markdown",
   "metadata": {},
   "source": [
    "### 11.2.2.1  Redis"
   ]
  },
  {
   "cell_type": "markdown",
   "metadata": {},
   "source": [
    "Redisを使うことで、手っ取り早くパブサブシステムを作れる  \n",
    "パブリッシャはトピック値を持つメッセージを送る  \n",
    "サブスクライバはどのトピックを受信したいかを指定する"
   ]
  },
  {
   "cell_type": "code",
   "execution_count": null,
   "metadata": {},
   "outputs": [],
   "source": [
    "# python3 - pyworks\\redis_pub.py\n",
    "import redis, random\n",
    "conn = redis.Redis()\n",
    "cats = [\"siamese\", \"persian\", \"maine coon\", \"norwegian forest\"]\n",
    "hats = [\"stovepipe\", \"bowler\", \"tam-o-shanter\", \"fedora\"]\n",
    "for msg in range(10):\n",
    "    cat = random.choice(cats)\n",
    "    hat = random.choice(hats)\n",
    "    print(f\"Publish: {cat} wears a {hat}\")\n",
    "    conn.publish(cat,hat)"
   ]
  },
  {
   "cell_type": "code",
   "execution_count": null,
   "metadata": {},
   "outputs": [],
   "source": [
    "# python3 - pyworks\\redis_sub.py\n",
    "import redis\n",
    "conn = redis.Redis()\n",
    "topics = [\"main coon\", \"persian\"]\n",
    "sub = conn.pubsub()\n",
    "sub.subscribe(topics)\n",
    "for msg in sub.listen():\n",
    "    if msg[\"type\"] == \"message\":\n",
    "        cat = msg[\"channel\"]\n",
    "        hat = msg[\"data\"]\n",
    "        print(f\"Subscribe: {cat} wears a {hat}\")"
   ]
  },
  {
   "cell_type": "markdown",
   "metadata": {},
   "source": [
    "コマンドプロンプトでredis_sub.pyを起動し待機させる、もう一つのコマンドプロンプトでredis_pub.pyを起動する  \n",
    "するとredis_pubのほうでは10通りのメッセージが表示され、redis_subのほうではmain coonとpersianのメッセージのみが表示される  \n",
    "\n",
    "redis_pub.pyのほうの内容としては、redisオブジェクトのpublish関数にchannnelとmessage(data)の2つを渡すことでパブリッシャ(発行)の機能を行う  \n",
    "\n",
    "redis_sub.pyのほうの内容としては、まずredisオブジェクトのpubsub関数を呼んでpubsubオブジェクトを作成している  \n",
    "pubsubオブジェクトの subscribe メソッドに取得したいchannelのリストを渡して設定している(上ではmain coonとpersian)  \n",
    "pubsubオブジェクトの listen メソッドでchannelを取得するまで待機して、取得したらtype、pettern、channel、dataがキーの辞書になって返ってくる  \n",
    "辞書の中のtypeの値がmessageの時は内容を受信したときで、channelの値にchannel名、dataの値にmessage(data)が入っている"
   ]
  },
  {
   "cell_type": "markdown",
   "metadata": {},
   "source": [
    "### 11.2.2.2  ZeroMQ"
   ]
  },
  {
   "cell_type": "markdown",
   "metadata": {},
   "source": [
    "ZeroMQは中央のサーバーという存在がないので、個々のパブリッシャがすべてのサブスクライバに書き込みをする  "
   ]
  },
  {
   "cell_type": "code",
   "execution_count": null,
   "metadata": {},
   "outputs": [],
   "source": [
    "# python3 - pyworks\\zmq_pub.py\n",
    "import zmq, random, time\n",
    "host = \"*\"\n",
    "port = 6789\n",
    "ctx = zmq.Context()\n",
    "pub = ctx.socket(zmq.PUB)\n",
    "pub.bind(f\"tcp://{host}:{port}\")\n",
    "cats = [\"siamese\", \"persian\", \"maine coon\", \"norwegian forest\"]\n",
    "hats = [\"stovepipe\", \"bowler\", \"tam-o-shanter\", \"fedora\"]\n",
    "time.sleep(1)\n",
    "for msg in range(10):\n",
    "    cat = random.choice(cats)\n",
    "    cat_bytes = cat.encode(\"utf-8\")\n",
    "    hat = random.choice(hats)\n",
    "    hat_bytes = hat.encode(\"utf-8\")\n",
    "    print(f\"Publish: {cat} wears a {hat}\")\n",
    "    pub.send_multipart([cat_bytes, hat_bytes])"
   ]
  },
  {
   "cell_type": "code",
   "execution_count": null,
   "metadata": {},
   "outputs": [],
   "source": [
    "# pytohn3 - pyworks\\zmq_sub.py\n",
    "import zmq\n",
    "host = \"127.0.0.1\"\n",
    "port = 6789\n",
    "ctx = zmq.Context()\n",
    "sub = ctx.socket(zmq.SUB)\n",
    "sub.connect(f\"tcp://{host}:{port}\")\n",
    "topics = [\"maine coon\", \"persian\"]\n",
    "for topic in topics:\n",
    "    sub.setsockopt(zmq.SUBSCRIBE, topic.encode(\"utf-8\"))\n",
    "while True:\n",
    "    cat_bytes, hat_bytes = sub.recv_multipart()\n",
    "    cat = cat_bytes.decode(\"utf-8\")\n",
    "    hat = hat_bytes.decode(\"utf-8\")\n",
    "    print(f\"Subscribe: {cat} weras a {hat}\")"
   ]
  },
  {
   "cell_type": "markdown",
   "metadata": {},
   "source": [
    "コマンドプロンプトでzmq_sub.pyを実行後、別のコマンドプロンプトでzmq_pub.pyを実行すると、\n",
    "zmq_pub.pyでは  \n",
    "`Publish: persian wears a bowler\n",
    " Publish: maine coon wears a tam-o-shanter\n",
    " Publish: persian wears a stovepipe\n",
    " Publish: maine coon wears a stovepipe\n",
    " Publish: norwegian forest wears a bowler\n",
    " Publish: norwegian forest wears a stovepipe\n",
    " Publish: maine coon wears a fedora\n",
    " Publish: persian wears a tam-o-shanter\n",
    " Publish: persian wears a fedora\n",
    " Publish: siamese wears a fedora`  \n",
    "のように表示され、待機中だったzmq_sub.pyでは  \n",
    "`Subscribe: persian wears a bowler\n",
    " Subscribe: maine coon wears a tam-o-shanter\n",
    " Subscribe: persian wears a stovepipe\n",
    " Subscribe: maine coon wears a stovepipe\n",
    " Subscribe: maine coon wears a fedora\n",
    " Subscribe: persian wears a tam-o-shanter\n",
    " Subscribe: persian wears a fedora`  \n",
    " と表示される"
   ]
  },
  {
   "cell_type": "markdown",
   "metadata": {},
   "source": [
    "zmq_pub.pyの内容は、zmqモジュールの Context 関数を呼び出してcontextオブジェクトを作成  \n",
    "contextオブジェクトの socket メソッドにsocket_type(zmq.PUB==1)を渡してsocketオブジェクト(pubモード)を作成  \n",
    "socketオブジェクトの bind メソッドにTCPのIPアドレスを渡すことで、そのアドレスと結びつける  \n",
    "socketオブジェクトの send_multipart メソッドにサブスクライバ(recv_multipart)に送りたいトピックを渡す\n",
    "\n",
    "zmq_sub.pyの内容は、zmqモジュールの Context 関数を呼び出してcontextオブジェクトを作成  \n",
    "contextオブジェクトの socket メソッドにsocket_type(zmq.SUB==2)を渡してsocketオブジェクト(subモード)を作成  \n",
    "socketオブジェクトの connect メソッドにTCPのIPアドレスを渡して、そのアドレスと接続する  \n",
    "socketオブジェクトの setsockopt メソッドにオプション(zmq.SUBSCRIBE==6)と設定したい文字列を渡して、取得したい情報を設定  \n",
    "whileループの中でsocketオブジェクトの recv_multipart メソッドを呼ぶことでパブリッシャ(send_multipart)から送られてきた文字列をリストとして取得することができる"
   ]
  },
  {
   "cell_type": "markdown",
   "metadata": {},
   "source": [
    "### 11.2.2.3  その他のパブサブツール "
   ]
  },
  {
   "cell_type": "markdown",
   "metadata": {},
   "source": [
    "- RabbitMQ\n",
    "有名なメッセージングシステムで、pikaというPython APIがある"
   ]
  },
  {
   "cell_type": "markdown",
   "metadata": {},
   "source": [
    "## 11.2.3  TCP/IP"
   ]
  },
  {
   "cell_type": "markdown",
   "metadata": {},
   "source": [
    "インターネットは、接続の開設、データの交換、接続の切断、タイムアウトの処理などをどのようにすべきを決めた規則を基礎としている  \n",
    "これらをプロトコルと呼ばれ、レイヤ(階層)に分けられている  \n",
    "レイヤ化されているのは、イノベーション(新しい技術の発明)を促し、同じことをする別の方法を作れるようにするため  \n",
    "プロトコルに従って上下のレイヤとのやり取りを行う限り、どんなことでもできる  \n",
    "\n",
    "もっとも下のレイヤは電気信号などを規定している  \n",
    "上位レイヤは下位レイヤを基礎として作られている  \n",
    "中間にはIP(Internet Protocol)レイヤがあり、ネットワーク内での位置のアドレッシングの方法とデータのパケット(チャンク)の流し方を規定している  \n",
    "IPのすぐ上のレイヤには、位置間でバイトを移動する方法を記述する以下の2つのプロトコルがある  \n",
    "- UDP(User Datagram Protocol)  \n",
    "短いデータの交換に使われる。データグラムはハガキに書かれたコメントのように単発で送られる小さなメッセージのこと\n",
    "- TCP(Transmission Control Protocol)  \n",
    "このプロトコルは、UDPよりも寿命の長い接続のために使われる。バイトのストリーム(データの送受信や処理を連続的に行うこと)を送り、重複なく順番にデータが届くことを保証する\n",
    "\n",
    "UDPメッセージには受信確認がないので、相手先に届いたかどうかがわからない  \n",
    "TCPは、送信側と受信側の間で密かにつながっており、確実な接続を保証する  \n",
    "インターネットで操作するほとんどのもの(ウェブやデータベースサーバーなど)はIPプロトコルの上で実行されるTCPプロトコルを基礎としている  \n",
    "TCP/IPはこれを簡潔に言ったものである"
   ]
  },
  {
   "cell_type": "markdown",
   "metadata": {},
   "source": [
    "## 11.2.4  ソケット"
   ]
  },
  {
   "cell_type": "markdown",
   "metadata": {},
   "source": [
    "ネットワークプログラミングの最下層は、C言語とUnixオペレーティングシステムから借用してソケットを使うことになる  \n",
    "ソケットレベルのコーディングは面倒だが、ネットワーキングエラーが起きた時にソケットについてのメッセージが現れることがある  "
   ]
  },
  {
   "cell_type": "markdown",
   "metadata": {},
   "source": [
    "クライアントサーバーの非常に単純なやり取りを書いてみる  \n",
    "クライアントは、サーバーにUDPデータグラムで文字列を送る  \n",
    "サーバーは文字列を格納するデータパケットを送る  \n",
    "サーバーは特定のアドレスの特定のポートでリスン(データの受信待ち)をしなければならない  \n",
    "クライアントはメッセージを送ったり、応答を受け取ったりするためにはアドレスとポートの値を知っていなければならない  "
   ]
  },
  {
   "cell_type": "markdown",
   "metadata": {},
   "source": [
    "次のクライアントとサーバーのコードでは、アドレスは(address, port)のタプルで、addressは文字列であり、名前(\"localhost\")でもIPアドレス(127.0.0.1)でもよい"
   ]
  },
  {
   "cell_type": "markdown",
   "metadata": {},
   "source": [
    "例として、まず片方のプロセスからもう片方のプロセスに小さなデータを送り、小さな返事を送り返そう  \n",
    "第1のプログラムがサーバーで第2のプログラムがクライアントになる  \n",
    "どちらのプログラムでも時刻を表示してからソケットを開く  \n",
    "サーバーは自分のソケットに対する接続をリスンし、クライアントは自分のソケットに書き込みをする  \n",
    "すると、クライアントのソケットはサーバーにメッセージを送る"
   ]
  },
  {
   "cell_type": "code",
   "execution_count": null,
   "metadata": {},
   "outputs": [],
   "source": [
    "# python3 - pyworks\\udp_server.py\n",
    "import socket\n",
    "from datetime import datetime\n",
    "server_address = (\"localhost\", 6789)\n",
    "max_size = 4096\n",
    "print(\"Starting the server at\", datetime.now())\n",
    "print(\"Waiting for a client to call\")\n",
    "server = socket.socket(socket.AF_INET, socket.SOCK_DGRAM)\n",
    "server.bind(server_address)\n",
    "data, client = server.recvfrom(max_size)\n",
    "print(f\"At {datetime.now()} {client} said {data}\")\n",
    "server.sendto(b\"Are you talking to me?\", client)\n",
    "server.close()"
   ]
  },
  {
   "cell_type": "code",
   "execution_count": null,
   "metadata": {},
   "outputs": [],
   "source": [
    "# python3 - pyworks\\udp_client.py\n",
    "import socket\n",
    "from datetime import datetime\n",
    "server_address = (\"localhost\", 6789)\n",
    "max_size = 4096\n",
    "print(\"Starting the client at\", datetime.now())\n",
    "client = socket.socket(socket.AF_INET, socket.SOCK_DGRAM)\n",
    "client.sendto(b\"Hey!\", server_address)\n",
    "data, server = client.recvfrom(max_size)\n",
    "print(f\"At {datetime.now()} {server} said {data}\")\n",
    "client.close()"
   ]
  },
  {
   "cell_type": "markdown",
   "metadata": {},
   "source": [
    "まず上のudp_server.pyを起動すると  \n",
    "`Starting the server as 2020-07-14 00:12:59.557508\n",
    " Waiting for a client to call`  \n",
    "とリスン(受信待ち)状態に入る  \n",
    "次にudp_client.pyを起動すると  \n",
    "`Starting the client at 2020-07-14 00:13:22.652083\n",
    " At 2020-07-14 00:13:22.667723 ('127.0.0.1', 6789) said b'Are you talking to me?'`  \n",
    "とデータ(メッセージ)を送った後に相手からの返信を受信し、表示している  \n",
    "udp_server.pyのほうも、追加で  \n",
    "`At 2020-07-14 00:13:22.667723 ('127.0.0.1', 53717) said b'Hey!'`  \n",
    "とデータ(メッセージ)を受信した後にclient側に返信を行っている  "
   ]
  },
  {
   "cell_type": "markdown",
   "metadata": {},
   "source": [
    "udp_server.pyの内容は、  \n",
    "socketモジュールの socket 関数にfamilyとtypeを渡してsocketオブジェクトを作成している  \n",
    "familyに渡してるsocket.AF_INET(==2)はインターネット(IP)ソケットを作るという意味で、  \n",
    "typeに渡してるsocket.SOCK_DGRAM(==2)はデータグラムを送受信するという意味で、要するにUDPを使うということになる  \n",
    "socketオブジェクトの bind メソッドにアドレスとポート番号のタプルを渡して、そのアドレスに届いたデータを受け取るためにリスン状態に入る  \n",
    "データを受け取ると次に進み  \n",
    "socketオブジェクトの recvfrom メソッドにデータの最大受信サイズを示す整数を渡すことで、受信したデータと相手のアドレスが入ったタプルを返す  \n",
    "socketオブジェクトの sendto メソッドに送りたいデータと相手のアドレスとポート番号のタプルを渡すことで、データを相手のアドレスに送る  \n",
    "最後にsocketオブジェクトの close メソッドで切断"
   ]
  },
  {
   "cell_type": "markdown",
   "metadata": {},
   "source": [
    "udp_client.pyの内容は、\n",
    "udp_serverの順番を変えただけで、  \n",
    "socketオブジェクトの sendto メソッドを使って先にデータを送信した後に、  \n",
    "socketオブジェクトの recvfrom メソッドを使ってデータを受信して、closeで終了している"
   ]
  },
  {
   "cell_type": "markdown",
   "metadata": {},
   "source": [
    "クライアントはサーバーのアドレスとポート番号を知っていなければいけないが、自分自身のポート番号は自動的に割り当てられる(上の場合は53717)"
   ]
  },
  {
   "cell_type": "markdown",
   "metadata": {},
   "source": [
    "UDPはひとつのチャンクでデータを送るため、データサイズによっては到達できなかったり、順番がバラバラで送られたりする  \n",
    "高速で軽かったり、事前の経路確保のやり取りなどを必要としない(コネクションレス)だが、信頼性に欠ける  \n",
    "そこでTCPの出番となる"
   ]
  },
  {
   "cell_type": "markdown",
   "metadata": {},
   "source": [
    "TCPは、ウェブなどのUDPよりも寿命の長い接続などで使われる  \n",
    "TCPは、送信側が送った順序でデータを送り届け、データに問題があれば再送を試みる"
   ]
  },
  {
   "cell_type": "code",
   "execution_count": null,
   "metadata": {},
   "outputs": [],
   "source": [
    "# python3 - pyworks\\tcp_client.py\n",
    "import socket\n",
    "from datetime import datetime\n",
    "address = (\"localhost\", 6789)\n",
    "max_size = 1000\n",
    "print(\"Starting the client at\", datetime.now())\n",
    "client = socket.socket(socket.AF_INET, socket.SOCK_STREAM)\n",
    "client.connect(address)\n",
    "client.sendall(b\"Hey!\")\n",
    "data = client.recv(max_size)\n",
    "print(f\"At {datetime.now()} someone replied {data}\")\n",
    "client.close()"
   ]
  },
  {
   "cell_type": "code",
   "execution_count": null,
   "metadata": {},
   "outputs": [],
   "source": [
    "# python3 - pyworks\\tcp_server.py\n",
    "import socket\n",
    "from datetime import datetime\n",
    "address = (\"localhost\", 6789)\n",
    "max_size = 1000\n",
    "print(\"Starting the server at\", datetime.now())\n",
    "print(\"Waiting for a client to call\")\n",
    "server = socket.socket(socket.AF_INET, socket.SOCK_STREAM)\n",
    "server.bind(address)\n",
    "server.listen(5)\n",
    "client, addr = server.acccept()\n",
    "data = client.recv(max_size)\n",
    "print(f\"At {datetime.now()} {client} said {data}\")\n",
    "client.sendall(b\"Are you talking to me?\")\n",
    "client.close()\n",
    "server.close()"
   ]
  },
  {
   "cell_type": "markdown",
   "metadata": {},
   "source": [
    "まずtcp_server.pyを起動すると  \n",
    "`Starting the server at 2020-07-14 11:35:46.995028\n",
    " Waiting for a client to call`  \n",
    "と表示されリスン状態に入る  \n",
    "次にtcp_client.pyを起動すると  \n",
    "`Starting the client at 2020-07-14 11:35:50.340154\n",
    " At 2020-07-14 11:35:50.350046 someone replied b'Are you talking to me?'`  \n",
    "と表示され、tcp_server.pyのほうも  \n",
    "`At 2020-07-14 11:35:50.350046 <socket.socket fd=568, family=AddressFamily.AF_INET, type=SocketKind.SOCK_STREAM, proto=0, \n",
    " laddr=('127.0.0.1', 6789), raddr=('127.0.0.1', 50758)> said b'Hey!'`  \n",
    "と追加される"
   ]
  },
  {
   "cell_type": "markdown",
   "metadata": {},
   "source": [
    "tcp_client.pyがUDPの時と違うところは、  \n",
    "socketオブジェクトを作るときの socket メソッドにsocket.SOCK_STREAMを渡して、ストリーミングプロトコルであるTCPを使うことを知らせている  \n",
    "socketオブジェクトの connect メソッドにアドレスを渡してストリームの接続をしている  \n",
    "connect メソッドですでにアドレス先との接続は完了しているので、socketオブジェクトの sendto メソッドを使って送り先を指定する必要がなく、  \n",
    "代わりにsocketオブジェクトの sendall メソッドを使って送りたいデータのみを渡している  \n",
    "データを受け取るときもsocketオブジェクトの recv メソッドを使って受け取って、相手のアドレスは受け取らないようにしている"
   ]
  },
  {
   "cell_type": "markdown",
   "metadata": {},
   "source": [
    "tcp_server.pyがUDPの時と違うところは、  \n",
    "socketオブジェクトの socket メソッドにsocket.SOCK_STREAMを渡していること  \n",
    "socketオブジェクトの listen メソッドに整数を渡して、5個のクライアント接続がたまったら新しい接続を拒否するように設定している  \n",
    "socketオブジェクトの accept メソッドは、最初のデータが届いたときにデータの情報(相手のsocketオブジェクト)とアドレスを取り出すことができる  \n",
    "相手のsocketオブジェクトを使って recv メソッドを呼び出し、データを受け取り、データの送信もしている  \n",
    "socketオブジェクトを2つとも閉じる"
   ]
  },
  {
   "cell_type": "markdown",
   "metadata": {},
   "source": [
    "ソケットレベルで対処しなければならない問題の一部を挙げる  \n",
    "- UDPはメッセージを送るが、サイズが限られており、デスティネーション(相手)に届く保証がない  \n",
    "- TCPはメッセージではなくバイトストリームを送る。毎回の呼び出しで何バイト送受信することになるかはわからない  \n",
    "- TCPで大きなメッセージを交換するときには、セグメント(細分化された一部)からメッセージ全体を再構築するための新たな情報が必要になる  \n",
    "固定メッセージサイズ(バイト)、メッセージ全体のサイズ、なんらかの区切り文字といったものを決める必要がある  \n",
    "- メッセージはバイトでありUnicode文字列ではないので、Pythonのbytes型を使わなければならない"
   ]
  },
  {
   "cell_type": "markdown",
   "metadata": {},
   "source": [
    "## 11.2.5  ZeroMQ"
   ]
  },
  {
   "cell_type": "markdown",
   "metadata": {},
   "source": [
    "ZeroMQは強化版ソケットと呼ばれることがあり、ZeroMQソケットは普通のソケットがしてくれないこともしてくれる  \n",
    "- メッセージ全体の交換  \n",
    "- 接続の再試行  \n",
    "- 送信側と受信側のタイミングが合わないときにデータを守るためのデータのバッファリング(処理速度や転送速度の差を補ったり、送受信データを一時的に保存しておくこと)"
   ]
  },
  {
   "cell_type": "markdown",
   "metadata": {},
   "source": [
    "ZeroMQはソケットタイプの組み合わせによってさまざまなものを作ることができる  \n",
    "以下はソケットタイプの一覧になる  \n",
    "- REQ(同期要求)\n",
    "- REP(同期応答)\n",
    "- DEALER(非同期要求)\n",
    "- ROUTERS(非同期応答)\n",
    "- PUB(パブリッシュ)\n",
    "- SUB(サブスクライブ)\n",
    "- PUSH(プッシュ)\n",
    "- PULL(プル)"
   ]
  },
  {
   "cell_type": "markdown",
   "metadata": {},
   "source": [
    "もっとも簡単なパターンは要求/応答のペアで、同期的なので片方のソケットが要求を発行すると、反対側が応答する"
   ]
  },
  {
   "cell_type": "code",
   "execution_count": null,
   "metadata": {},
   "outputs": [],
   "source": [
    "# python3 - pyworks\\zmq_server.py\n",
    "import zmq\n",
    "host = \"127.0.0.1\"\n",
    "port = 6789\n",
    "context = zmq.Context()\n",
    "server = context.socket(zmq.REP)\n",
    "server.bind(f\"tcp://{host}:{port}\")\n",
    "while True:\n",
    "    request_str = server.recv().decode(\"utf-8\")\n",
    "    print(f\"That voice in my head says: {request_str}\")\n",
    "    reply_bytes = f\"Stop saying: {request_str}\".encode(\"utf-8\")\n",
    "    server.send(reply_bytes)"
   ]
  },
  {
   "cell_type": "code",
   "execution_count": null,
   "metadata": {},
   "outputs": [],
   "source": [
    "# python3 - pyworks\\zmq_client.py\n",
    "import zmq\n",
    "host = \"127.0.0.1\"\n",
    "port = 6789\n",
    "context = zmq.Context()\n",
    "client = context.socket(zmq.REQ)\n",
    "client.connect(f\"tcp://{host}:{port}\")\n",
    "for num in range(1,6):\n",
    "    request_str = \"message {num}\"\n",
    "    request_bytes = request_str.encode(\"utf-8\")\n",
    "    client.send(request_bytes)\n",
    "    reply_str = client.recv().decode(\"utf-8\")\n",
    "    print(f\"Sent {request_str}, received {reply_str}\")"
   ]
  },
  {
   "cell_type": "markdown",
   "metadata": {},
   "source": [
    "zmq_server.pyを起動した後にzmq_client.pyを起動すると  \n",
    "zmq_server,pyは  \n",
    "`That voice in my head says: message 1\n",
    " That voice in my head says: message 2\n",
    " That voice in my head says: message 3\n",
    " That voice in my head says: message 4\n",
    " That voice in my head says: message 5`  \n",
    "を表示し、zmq_client.pyは  \n",
    "`Send message 1, received Stop saying: message 1\n",
    " Send message 2, received Stop saying: message 2\n",
    " Send message 3, received Stop saying: message 3\n",
    " Send message 4, received Stop saying: message 4\n",
    " Send message 5, received Stop saying: message 5`  \n",
    "を表示する"
   ]
  },
  {
   "cell_type": "markdown",
   "metadata": {},
   "source": [
    "zmq_server.pyの内容は、  \n",
    "zmqモジュールの Context メソッドを呼び出しContextオブジェクトを作成している  \n",
    "Contextオブジェクトの socket メソッドにタイプを示すためのzmq.REP(同期応答)を渡して、socketオブジェクト(REP)を作成している  \n",
    "socketオブジェクトの bind メソッドに特定のIPアドレスとポートを渡して、そのIPアドレスとポートでリスンするようにしている  \n",
    "whileループの中で、socketオブジェクトの recv メソッドを使って内容を受信する  \n",
    "その内容に応じて、socketオブジェクトの send メソッドにバイト文字列を渡して送信している"
   ]
  },
  {
   "cell_type": "markdown",
   "metadata": {},
   "source": [
    "zmq_client.pyの内容は、  \n",
    "zmqモジュールの Context メソッドを呼び出しContextオブジェクトを作成している  \n",
    "Contextオブジェクトの socket メソッドにタイプを示すためのzmq.REQ(同期要求)を渡して、socketオブジェクト(REQ)を作成している  \n",
    "client側ではsocketオブジェクトのbindではなく、connect メソッドを使ってIPアドレスとポートに接続する  \n",
    "あとは同じで、socketオブジェクトの send で送り、recv で受け取っている"
   ]
  },
  {
   "cell_type": "markdown",
   "metadata": {},
   "source": [
    "上のコードだと単純な文字列を使っているのでエンコードとデコードをすれば十分だったが、ほかのデータ型も含む場合は、MessagePackのようなライブラリを使うとよい  \n",
    "サーバーは一度にひとつずつ同期的に要求を処理していくが、処理中に届いたほかの要求をなくしたりせず、ZeroMQは指定された上限まではメッセージをバッファリングする  \n",
    "ZeroMQのMはMessageで、QはQueue、Zeroはブローカー(仲介者)不要という意味になる"
   ]
  },
  {
   "cell_type": "markdown",
   "metadata": {},
   "source": [
    "ZeroMQは中央のブローカーを使うことを強制しないが、必要ならブローカーを作ることができる  \n",
    "例えば、複数のREQソケットがひとつのROUTERに接続し、ROUTERは個々の要求をDEALERに渡す  \n",
    "DEALERは自分に接続されているREPソケットとやり取りをする  \n",
    "これは、ウェブサーバーファームの手前のプロキシサーバーとやり取りしている一連のブラウザという形とよく似ていて、複数のクライアントサーバーを必要なだけ追加できる  "
   ]
  },
  {
   "cell_type": "markdown",
   "metadata": {},
   "source": [
    "ベンチレーターと呼ばれるネットワーキングパターンでは、PUSHソケットを使って非同期のタスクを分散し、PULLソケットを使って結果を集める"
   ]
  },
  {
   "cell_type": "markdown",
   "metadata": {},
   "source": [
    "ZeroMQは、ソケット作成時にソケットの接続タイプを変更するだけでスケールアップとスケールダウンの両方を実現できる  \n",
    "- tcpは、ひとつ以上のマシンのプロセス間の通信  \n",
    "- ipcは、同じマシンのプロセス間の通信  \n",
    "- inprocは、同じプロセスのスレッド間の通信"
   ]
  },
  {
   "cell_type": "markdown",
   "metadata": {},
   "source": [
    "## 11.2.7  インターネットサービス"
   ]
  },
  {
   "cell_type": "markdown",
   "metadata": {},
   "source": [
    "Pythonには、守備範囲の広いネットワーキングツールセットが備わっている  \n",
    "以下の節では最もよく使われているインターネットサービスの一部の自動化の方法を見ていく"
   ]
  },
  {
   "cell_type": "markdown",
   "metadata": {},
   "source": [
    "### 11.2.7.1  DNS"
   ]
  },
  {
   "cell_type": "markdown",
   "metadata": {},
   "source": [
    "コンピュータは、85.2.101.94のような数値によるIPアドレスを持っているが、人間は数値よりも名前のほうが覚えやすい  \n",
    "DNS(Domain Name System)は、分散データベースを使ってIPアドレスと名前を相互変換するインターネットサービスで、極めて重要になる  \n",
    "DNS関数の一部は低水準のsocketモジュールに含まれている  "
   ]
  },
  {
   "cell_type": "code",
   "execution_count": 22,
   "metadata": {},
   "outputs": [],
   "source": [
    "import socket"
   ]
  },
  {
   "cell_type": "code",
   "execution_count": 23,
   "metadata": {},
   "outputs": [
    {
     "data": {
      "text/plain": [
       "'66.6.44.4'"
      ]
     },
     "execution_count": 23,
     "metadata": {},
     "output_type": "execute_result"
    }
   ],
   "source": [
    "socket.gethostbyname(\"www.crappytaxidermy.com\")"
   ]
  },
  {
   "cell_type": "code",
   "execution_count": 24,
   "metadata": {},
   "outputs": [
    {
     "data": {
      "text/plain": [
       "('crappytaxidermy.com', ['www.crappytaxidermy.com'], ['66.6.44.4'])"
      ]
     },
     "execution_count": 24,
     "metadata": {},
     "output_type": "execute_result"
    }
   ],
   "source": [
    "socket.gethostbyname_ex(\"www.crappytaxidermy.com\")"
   ]
  },
  {
   "cell_type": "markdown",
   "metadata": {},
   "source": [
    "socketモジュールの gethostbyname 関数にドメイン名を渡すことで、対応するIPアドレスを返してくれる  \n",
    "拡張版の gethostbyname_ex 関数はドメイン名を渡すことで、引数の名前と代替名のリスト、IPアドレスのリストを返す"
   ]
  },
  {
   "cell_type": "code",
   "execution_count": 25,
   "metadata": {},
   "outputs": [
    {
     "data": {
      "text/plain": [
       "[(<AddressFamily.AF_INET: 2>, 0, 0, '', ('66.6.44.4', 80))]"
      ]
     },
     "execution_count": 25,
     "metadata": {},
     "output_type": "execute_result"
    }
   ],
   "source": [
    "socket.getaddrinfo(\"www.crappytaxidermy.com\", 80)"
   ]
  },
  {
   "cell_type": "markdown",
   "metadata": {},
   "source": [
    "socketモジュールの getaddrinfo 関数にドメイン名とポート番号を渡すことで、IPアドレスだけでなく、そこに接続するソケットを作るために必要な情報も返してくれる  \n",
    "ポート番号の80は\"http\"と同じで、80の代わりに\"http\"を渡すことで同じ結果を得ることができる"
   ]
  },
  {
   "cell_type": "code",
   "execution_count": 26,
   "metadata": {},
   "outputs": [
    {
     "data": {
      "text/plain": [
       "[(<AddressFamily.AF_INET: 2>,\n",
       "  <SocketKind.SOCK_STREAM: 1>,\n",
       "  0,\n",
       "  '',\n",
       "  ('66.6.44.4', 80))]"
      ]
     },
     "execution_count": 26,
     "metadata": {},
     "output_type": "execute_result"
    }
   ],
   "source": [
    "socket.getaddrinfo(\"www.crappytaxidermy.com\", 80, socket.AF_INET, socket.SOCK_STREAM)"
   ]
  },
  {
   "cell_type": "markdown",
   "metadata": {},
   "source": [
    "上のようにキーワード引数のfamilyとtypeを指定して渡すこともできる"
   ]
  },
  {
   "cell_type": "code",
   "execution_count": 27,
   "metadata": {},
   "outputs": [
    {
     "data": {
      "text/plain": [
       "80"
      ]
     },
     "execution_count": 27,
     "metadata": {},
     "output_type": "execute_result"
    }
   ],
   "source": [
    "socket.getservbyname(\"http\")"
   ]
  },
  {
   "cell_type": "code",
   "execution_count": 28,
   "metadata": {},
   "outputs": [
    {
     "name": "stderr",
     "output_type": "stream",
     "text": [
      "Traceback (most recent call last):\n",
      "  File \"src/gevent/_abstract_linkable.py\", line 134, in gevent.__abstract_linkable.AbstractLinkable._notify_links\n",
      "greenlet.error: cannot switch to a different thread\n",
      "2020-09-29T04:50:10Z (<built-in method switch of greenlet.greenlet object at 0x000002841F993468>, <gevent._event.Event object at 0x00000284229B7528>) failed with error\n",
      "\n"
     ]
    },
    {
     "data": {
      "text/plain": [
       "'http'"
      ]
     },
     "execution_count": 28,
     "metadata": {},
     "output_type": "execute_result"
    }
   ],
   "source": [
    "socket.getservbyport(80)"
   ]
  },
  {
   "cell_type": "markdown",
   "metadata": {},
   "source": [
    "一部のTCP、UDP、ポート番号はIANAによってサービス名と対応付けられている  \n",
    "socketモジュールの getservbyname 関数にサービス名を渡すことで対応するポート番号を返してくれる  \n",
    "逆に getservbyport 関数にポート番号を渡すことで対応するサービス名を返してくれる"
   ]
  },
  {
   "cell_type": "markdown",
   "metadata": {},
   "source": [
    "### 11.2.7.2  Pythonの電子メールモジュール"
   ]
  },
  {
   "cell_type": "markdown",
   "metadata": {},
   "source": [
    "標準ライブラリには以下のような電子メールモジュールが含まれている  \n",
    "- smtplib  \n",
    "SMTP(Simple Mail Transfer Protocol)で電子メールメッセージを送信する  \n",
    "- email  \n",
    "電子メールメッセージを作成、構文解析をする  \n",
    "- poplib  \n",
    "POP3(Post Office Protocol 3)で電子メールメッセージを読み出す  \n",
    "- imaplib  \n",
    "IMAP(Internet Message Access Protocol)で電子メールメッセージを読み出す"
   ]
  },
  {
   "cell_type": "markdown",
   "metadata": {},
   "source": [
    "### 11.2.7.3  その他のプロトコル"
   ]
  },
  {
   "cell_type": "markdown",
   "metadata": {},
   "source": [
    "標準の ftplib モジュールを使えば、FTP(File Transfer Protocol)を使ってバイトをプッシュできる"
   ]
  },
  {
   "cell_type": "markdown",
   "metadata": {},
   "source": [
    "## 11.2.8  ウェブサービスとAPI"
   ]
  },
  {
   "cell_type": "markdown",
   "metadata": {},
   "source": [
    "情報プロバイダは、必ずウェブサイトを持っているが、それは人間相手に見やすくしたもので、オートメーション(自動的に作業を行う仕組み)のためのものではない  \n",
    "データがウェブサイトの形でしか公開されていなければ、データにアクセスして構造化したいユーザーはスクレイバーを作り、ページの書式が変わるたびに書き直さなければいけなくなる  \n",
    "それに対し、ウェブサイトがデータにアクセスするためのAPIを提供していれば、クライアントプログラムが直接データにアクセスできる  \n",
    "APIはウェブページほど頻繁に更新されないので、クライアントが書き直しをする回数も減る  "
   ]
  },
  {
   "cell_type": "markdown",
   "metadata": {},
   "source": [
    "もっとも簡単なAPIは、ウェブインターフェースでありながら、JSONやXMLなどの構造化された形式でデータを提供してくれる  \n",
    "そのようなAPIは必要最低限のものかもしれないし、本格的なRESTful APIかもしれないが、いずれにしてもバイト列の代わりに別の取り出し口を提供してくれる  "
   ]
  },
  {
   "cell_type": "markdown",
   "metadata": {},
   "source": [
    "APIはTwitter、Facebook、LinkedInなどの有名なSNSサイトをマイニング(大量のデータを解析して、有用な情報を抽出すること)したいときに役立つ  \n",
    "これらのサイトはすべて自由に使えるAPIを提供しているが、どれもユーザー登録して接続時に使うキーを手に入れる必要がある  \n",
    "サイトは、キーによって誰がデータにアクセスしているかを知ることができたり、サーバーに対する要求トラフィックを制限するための手段としても使える"
   ]
  },
  {
   "cell_type": "markdown",
   "metadata": {},
   "source": [
    "## 11.2.9  リモート処理"
   ]
  },
  {
   "cell_type": "markdown",
   "metadata": {},
   "source": [
    "Pythonの表現のおかげでローカルマシンと同じようにほかのマシンのコードを呼び出すこともできる  \n",
    "高度な設定の下では、1台のマシンのスペースを使い切ってしまったときに、ほかのマシンにまでスペースを広げることができる  \n",
    "マシンのネットワークを相手にすれば、もっと多くのプロセス、スレッドにアクセスできる"
   ]
  },
  {
   "cell_type": "markdown",
   "metadata": {},
   "source": [
    "### 11.2.9.1  RPC"
   ]
  },
  {
   "cell_type": "markdown",
   "metadata": {},
   "source": [
    "RPC(Remote Procedure Calls)は、ネットワークを越えてリモートマシンで実行される  \n",
    "URLや要求本体にエンコードされた引数を使ってRESTful APIを呼び出すのではなく、ローカルマシンのRCP関数を呼び出しすのである  \n",
    "RPCクライアントで水面下で行われていることは以下のようなことになる  \n",
    "1. RPC関数は関数への引数をバイト列に変換する(マーシャリング、シリアライズ、直列化、エンコードなどと呼ばれる)\n",
    "2. エンコードされたバイト列をリモートマシンに送る  \n",
    "リモートマシンでは以下のようなことが行われている  \n",
    "1. エンコードされた要求バイトを受信する  \n",
    "2. バイト列を受信し終えたら、RCPクライアントはバイト列をデコードして元のデータ構造を復元する  \n",
    "3. ローカル関数を見つけて、デコードされたデータを渡して呼び出す  \n",
    "4. 関数の実行結果をエンコードする  \n",
    "5. エンコードされたバイトを呼び出し元に送り返す  \n",
    "最後に呼び出しを送ったマシンがバイト列をデコードして値を返す"
   ]
  },
  {
   "cell_type": "markdown",
   "metadata": {},
   "source": [
    "RPCは人気の高いテクニックで、さまざまな方法で実装されている  \n",
    "サーバー側では、サーバープログラムを起動し、サーバーとなんらかのバイトトランスポート、エンコード/デコードメソッドをつなぎ、サービス関数を定義し、RPCが稼働中というサインを点灯する  \n",
    "クライアントはサーバーに接続し、RPCを介して関数のどれかを呼び出す  "
   ]
  },
  {
   "cell_type": "markdown",
   "metadata": {},
   "source": [
    "標準ライブラリには、XMLを交換形式とするRPCの実装が一つあり、 xmlrpc を使うことでできる  \n",
    "サーバー側で関数を定義して登録すると、クライアントはまるでインポートされたもののようにその関数を呼び出すことができる"
   ]
  },
  {
   "cell_type": "code",
   "execution_count": null,
   "metadata": {},
   "outputs": [],
   "source": [
    "# python3 - pyworks\\xmlrpc_server.py\n",
    "from xmlrpc.server import SimpleXMLRPCServer\n",
    "def double(num):\n",
    "    return num * 2\n",
    "server = SimpleXMLRPCServer((\"localhost\", 6789))\n",
    "server.register_function(double, \"double\")\n",
    "server.serve_forever()"
   ]
  },
  {
   "cell_type": "code",
   "execution_count": null,
   "metadata": {},
   "outputs": [],
   "source": [
    "# python3 - pyworks\\xmlrpc_client.py\n",
    "from xmlrpc.client import ServerProxy\n",
    "proxy = ServerProxy(\"http://localhost:6789/\")\n",
    "num = 7\n",
    "result = proxy.double(num)\n",
    "print(f\"Double {num} is {result}\")"
   ]
  },
  {
   "cell_type": "markdown",
   "metadata": {},
   "source": [
    "xmlrpc_server.pyを実行した後にxmlrpc_client.pyを実行すると  \n",
    "xmlrpc_client.pyは  \n",
    "`Double 7 is 14`  \n",
    "と表示され、xmlrpc_serverは  \n",
    "`127.0.0.1 - - [15/Jul/2020 15:35:46] \"POST / HTTP/1.1\" 200 -`  \n",
    "と表示される"
   ]
  },
  {
   "cell_type": "markdown",
   "metadata": {},
   "source": [
    "xmlrpc_server側の内容は  \n",
    "xmlrpc.server モジュールの SimpleXMLRPCServer 関数をインポートし  \n",
    "SimpleXMLRPCServer関数にアドレス名とポート番号のタプルを渡してサーバーと接続し server オブジェクトを取得する  \n",
    "serverオブジェクトの register_function メソッドに関数オブジェクトと、名前を渡すことで関数をサーバーに渡す  \n",
    "serverオブジェクトの serve_forever を呼ぶことでサーバを接続し続ける"
   ]
  },
  {
   "cell_type": "markdown",
   "metadata": {},
   "source": [
    "xmlrpc_client.pyの内容は  \n",
    "xmlrpc.client モジュールの ServerProxy 関数をインポートし  \n",
    "ServerProxy関数にIPアドレスを渡してサーバーと接続し proxy オブジェクトを作成する  \n",
    "proxyオブジェクトの関数として、serverにあげた関数名を呼ぶことができ、結果の値を取得できる"
   ]
  },
  {
   "cell_type": "markdown",
   "metadata": {},
   "source": [
    "よく使われるトランスポートの手段はHTTPとZroMQで、よく使われるエンコーディングはXML、JSON、プロトコルバッファ、メッセージパックなどになる  \n",
    "メッセージパック自身が用意しているPython RPC実装もある  \n",
    "pip install msgpack-rpc-python でインストールできる"
   ]
  },
  {
   "cell_type": "markdown",
   "metadata": {},
   "source": [
    "### 11.2.9.2  fabric"
   ]
  },
  {
   "cell_type": "markdown",
   "metadata": {},
   "source": [
    "fabricパッケージは、リモート、ローカルコマンドを実行し、ファイルをアップロード、ダウンロードするために使われ、特権ユーザーのもとで使われる  \n",
    "fabricパッケージは、リモートマシンでプログラムを実行するためにSSH(ネットワークを介して別のコンピュータにログインして操作するためのソフトウェアの一つ)を使う  \n",
    "関数はfabricファイルにPython言語で書き、それをローカル、リモートのどちらで実行するかを指示する  \n",
    "fabricプログラムを実行するときに、どのリモートマシンを使って関数を呼び出すか支持をする"
   ]
  },
  {
   "cell_type": "markdown",
   "metadata": {},
   "source": [
    "現在、通常のfabricはPython3に対応していないので pip install fabric3 をインストールする"
   ]
  },
  {
   "cell_type": "code",
   "execution_count": 2,
   "metadata": {},
   "outputs": [],
   "source": [
    "# python3 - pyworks\\fab1.py\n",
    "def iso():\n",
    "    from datetime import date\n",
    "    print(date.today().isoformat())"
   ]
  },
  {
   "cell_type": "markdown",
   "metadata": {},
   "source": [
    "コマンドプロトコルで `$ fab -f fab1.py -H localhost iso` を実行すると  \n",
    "`[localhost] Executing task 'iso'\n",
    " 2020-07-15\n",
    " Done.`  \n",
    "と表示される"
   ]
  },
  {
   "cell_type": "markdown",
   "metadata": {},
   "source": [
    "`fab`でfabricの実行、`-f fab1.py`のオプション部分でデフォルトのfabfile.pyではなくfab1.pyファイルを呼び出すように指示、`-H localhost`のオプション部分でローカルマシンで実行するように指示、`iso`でファイル内の実行するべき関数を教えている"
   ]
  },
  {
   "cell_type": "markdown",
   "metadata": {},
   "source": [
    "ローカル、リモートマシンで外部プログラムを実行するには、SSHサーバーが実行されていなければならない  \n",
    "windowsでは組み込みSSHサポートはないので http://bit.ly/putty-ssh をインストールするとよい"
   ]
  },
  {
   "cell_type": "code",
   "execution_count": 3,
   "metadata": {},
   "outputs": [],
   "source": [
    "# python3 - pyworks\\fab2.py\n",
    "from fabric.api import local\n",
    "def iso():\n",
    "    local(\"date\")"
   ]
  },
  {
   "cell_type": "markdown",
   "metadata": {},
   "source": [
    "`$ fab -f fab2.py -H localhost iso`で実行すると  \n",
    "`[localhost] Executing task 'iso'\n",
    "[localhost] local: date\n",
    "現在の日付: 2020/07/15\n",
    "新しい日付を入力してください: (年-月-日)\n",
    "Done.`  \n",
    "と表示される"
   ]
  },
  {
   "cell_type": "markdown",
   "metadata": {},
   "source": [
    "上のように fabric.api モジュールの local 関数を関数定義内で使い文字列を渡すことで、ローカルで文字列を実行することができる  "
   ]
  },
  {
   "cell_type": "markdown",
   "metadata": {},
   "source": [
    "### 11.2.9.3  Salt"
   ]
  },
  {
   "cell_type": "markdown",
   "metadata": {},
   "source": [
    "Saltは、リモート実行を実現するための方法としてスタートしたが、現在では本格的なシステム管理プラットフォームに成長している  \n",
    "SSHではなくZeroMQを使うことによって、数千台のサーバーにスケールアップにすることができる"
   ]
  },
  {
   "cell_type": "markdown",
   "metadata": {},
   "source": [
    "## 11.2.10  ビックデータとMapReduce"
   ]
  },
  {
   "cell_type": "markdown",
   "metadata": {},
   "source": [
    "Googleなどのインターネット企業は、成長して大企業になる過程で、従来のコンピューティングソリューションにはスケーラビリティがないことに気づいた  \n",
    "数十台のマシンで動作するソフトウェイでも、数千台のマシン上で実行すると手に負えなくなる"
   ]
  },
  {
   "cell_type": "markdown",
   "metadata": {},
   "source": [
    "データベースやファイルを格納するハードディスクは、ディスクヘッドの機械的な移動を必要とするシークがあまりにも多い(音楽レコードのようなもの)  \n",
    "しかし、ディスクの連続した領域をストリーミング(通信ネットワークを介して動画や音声などを受信して再生する際に、データを受信しながら同時に再生を行う方式)すればはるかに高速に動作する"
   ]
  },
  {
   "cell_type": "markdown",
   "metadata": {},
   "source": [
    "デベロッパーたちは、独立したマシンを使うよりも、ネットワーク化された多数のマシンにデータを分散させて分析したほうが高速だということに気づいていた  \n",
    "MapReduceはそのようなもののひとつで、多くのマシンに計算をばらまき、結果を集める"
   ]
  },
  {
   "cell_type": "markdown",
   "metadata": {},
   "source": [
    "Googleが結果を論文として公開すると、YahooもJavaベースのHadoopというオープンソースパッケージを公開した  \n",
    "ビッグデータという言葉はこのようなところで使われる  \n",
    "ディスク、メモリ、CPU時間、あるいはそれらすべてよりも大きいデータということだ  \n",
    "Hadoopは、多数のマシンにデータをコピーし、MapReduceプログラムで処理して、各ステップで結果をディスクに保存する  \n",
    "このパッチ処理は遅くなる危険性がある  \n",
    "それに対し、Hadoopストリーミングという方法では、各ステップごとにディスク書き込みをせずにプログラム郡にデータをストリーミングしていく  \n",
    "Hadoopストリーミングプログラムは、Pythonを含む任意の言語で書くことができる  "
   ]
  },
  {
   "cell_type": "markdown",
   "metadata": {},
   "source": [
    "音楽のストリーミングで知られているSpotifyは、Hadoopストリーミング用に開発したPythonコンポーネント、Luigiをオープンソース化した  \n",
    "Sparkというライバルは、Hadoopよりも10倍から100倍高速に実行されるように設計されている  \n",
    "Sparkは、Hadoopデータソースと、フォーマットをすべて読み出し、処理することができ、また、Pythonなどの言語を対象とするAPIが含まれている  \n",
    "もう一つのライバルシステム、DiscoはMapReduce処理にPython、通信にErlangを使っているが、pipではインストールできない"
   ]
  },
  {
   "cell_type": "markdown",
   "metadata": {},
   "source": [
    "## 11.2.11  クラウドでの処理"
   ]
  },
  {
   "cell_type": "markdown",
   "metadata": {},
   "source": [
    "分散システムを構築しなくても、クラウドサーバーを借りることができる  \n",
    "このモデルを採用すると、メンテナンスは他人の問題になり、自分のサービスなどの世界に見せたいものに集中できる  \n",
    "ウェブ経由で利用できるダッシュボードとAPIを使えば、必要な設定を持つサーバーを素早く簡単に立ち上げることができる  \n",
    "クラウドは弾力的で、状態を監視しなんらかの指標が限界値を越えたらアラームを受けることができる  \n",
    "以下ではクラウドを操作する人気の高い方法を見ていく"
   ]
  },
  {
   "cell_type": "markdown",
   "metadata": {},
   "source": [
    "### 11.2.11.1  Google"
   ]
  },
  {
   "cell_type": "markdown",
   "metadata": {},
   "source": [
    "Googleは社内でかなりPythonを使っており、App Engineのサイトに行き、Choose a LanguageでPythonボックスをクリックすると、Cloud PlaygroundにPythonコードを入力して結果を見ることができる  \n",
    "そのあとすぐには、Python SDKをダウンロードするためのリンクと説明がある  \n",
    "このSDKを使うと自分のハードウェア上でGoogleのクラウドAPIを呼び出すコードを開発できる  \n",
    "そのあとでは、アプリケーションをAppEngineにデプロイする方法が説明されている  \n",
    "Googleのメインクラウドページに行くと以下のようなGoogleクラウドサービスの説明を見ることができる  \n",
    "- App Engine  \n",
    "flask、django、などのPythonツールも含まれる高水準プラットフォーム  \n",
    "- Compute Engine  \n",
    "大規模な分散コンピューティングタスクのために仮想マシンクラスタを作る  \n",
    "- Cloud Storage  \n",
    "オブジェクトのストレージ  \n",
    "- Cloud Datastore  \n",
    "大規模なNoSQLデータベース  \n",
    "- Cloud SQL  \n",
    "大規模なSQLデータベース  \n",
    "- Cloud Endpoints  \n",
    "アプリケーションへのRESTfulによるアクセス  \n",
    "- BigQuery  \n",
    "Hadoop風のビッグデータ"
   ]
  },
  {
   "cell_type": "markdown",
   "metadata": {},
   "source": [
    "### 11.2.11.2  Amazon"
   ]
  },
  {
   "cell_type": "markdown",
   "metadata": {},
   "source": [
    "Amazonは、さまざまなソリューションを借用したり作りだしたりして、市場を支配しているAWS(Amazon Web Services)を作った  \n",
    "もっとも重要なサービスは以下のようなものだ  \n",
    "- Elastic Beanstalk  \n",
    "高水準アプリケーションプラットフォーム  \n",
    "- EC2(Elastic Computer)  \n",
    "分散コンピューティング  \n",
    "- S3(Simple Storage Service)  \n",
    "オブジェクトのストレージ  \n",
    "- RDS  \n",
    "リレーショナルデータベース(MySQL,PostgreSQL,Oracle,MSSQL)  \n",
    "- DynamoDB  \n",
    "NoSQLデータベース  \n",
    "- Redshift  \n",
    "データウェアハウス  \n",
    "- EMR  \n",
    "Hadoop"
   ]
  },
  {
   "cell_type": "markdown",
   "metadata": {},
   "source": [
    "### 11.2.11.3  OpenStack"
   ]
  },
  {
   "cell_type": "markdown",
   "metadata": {},
   "source": [
    "OpenStackは、公開、非公開、ハイブリッドクラウドを作るために自由に使えるオープンソースプラットフォームで、6か月ごとに新リリースがある  \n",
    "OpenStackは、CERN、PayPalを含む多くの企業、組織で本番用に使われている  \n",
    "OpenStackのメインAPIはRESTfulで、プログラムインタフェースを提供するPythonモジュールとシェルオートメーションのためのコマンドラインPythonプログラムがある  \n",
    "現在の標準サービスの一部を以下に載せる  \n",
    "- Keystone  \n",
    "認証、権限付与、サービスディスカバリなどの機能を提供するアイデンティティサービス  \n",
    "- Nova  \n",
    "ネットワーク化されたサーバーに作業を分散させる計算サービス  \n",
    "- Swift  \n",
    "AmazonのS3のようなオブジェクトストレージ  \n",
    "- Glance  \n",
    "中間水準のイメージストレージサービス  \n",
    "- Cinder  \n",
    "低水準のブロックストレージサービス  \n",
    "- Horizon  \n",
    "すべてのサービスを対象とするウェブベースのダッシュボード  \n",
    "- Neutron  \n",
    "ネットワーク管理サービス  \n",
    "- Heat  \n",
    "オーケストレーション(マルチクラウド)サービス  \n",
    "- Ceilometer  \n",
    "遠隔測定(メトリクス管理、モニタリング、検針)サービス"
   ]
  },
  {
   "cell_type": "code",
   "execution_count": null,
   "metadata": {},
   "outputs": [],
   "source": []
  }
 ],
 "metadata": {
  "kernelspec": {
   "display_name": "Python 3",
   "language": "python",
   "name": "python3"
  },
  "language_info": {
   "codemirror_mode": {
    "name": "ipython",
    "version": 3
   },
   "file_extension": ".py",
   "mimetype": "text/x-python",
   "name": "python",
   "nbconvert_exporter": "python",
   "pygments_lexer": "ipython3",
   "version": "3.7.6"
  }
 },
 "nbformat": 4,
 "nbformat_minor": 4
}
