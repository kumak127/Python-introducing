{
 "cells": [
  {
   "cell_type": "markdown",
   "metadata": {},
   "source": [
    "# 付録A  Pyアート"
   ]
  },
  {
   "cell_type": "markdown",
   "metadata": {},
   "source": [
    "## A.1  2Dグラフィックス"
   ]
  },
  {
   "cell_type": "markdown",
   "metadata": {},
   "source": [
    "### A1.1  標準ライブラリ"
   ]
  },
  {
   "cell_type": "markdown",
   "metadata": {},
   "source": [
    "グラフィックス関連の標準ライブラリは以下のものがある  \n",
    "- imghdr  \n",
    "イメージファイルのファイルタイプを検出する  \n",
    "- colorsys  \n",
    "RGB、YIQ、HSV、HLSの間で色の変換を行う  \n",
    "\n",
    "Pythonでグラフィックスを本格的に扱うならサードパーティパッケージが必要になる"
   ]
  },
  {
   "cell_type": "markdown",
   "metadata": {},
   "source": [
    "### A.1.2  PILとPillow"
   ]
  },
  {
   "cell_type": "markdown",
   "metadata": {},
   "source": [
    "PILはPythonで最も有名なイメージ処理ライブラリになる"
   ]
  },
  {
   "cell_type": "code",
   "execution_count": 2,
   "metadata": {},
   "outputs": [],
   "source": [
    "from PIL import Image"
   ]
  },
  {
   "cell_type": "code",
   "execution_count": 26,
   "metadata": {},
   "outputs": [],
   "source": [
    "img = Image.open(r\".\\pydata\\catlogo.png\")"
   ]
  },
  {
   "cell_type": "code",
   "execution_count": 4,
   "metadata": {},
   "outputs": [
    {
     "data": {
      "text/plain": [
       "'PNG'"
      ]
     },
     "execution_count": 4,
     "metadata": {},
     "output_type": "execute_result"
    }
   ],
   "source": [
    "img.format"
   ]
  },
  {
   "cell_type": "code",
   "execution_count": 5,
   "metadata": {},
   "outputs": [
    {
     "data": {
      "text/plain": [
       "(100, 95)"
      ]
     },
     "execution_count": 5,
     "metadata": {},
     "output_type": "execute_result"
    }
   ],
   "source": [
    "img.size"
   ]
  },
  {
   "cell_type": "code",
   "execution_count": 6,
   "metadata": {},
   "outputs": [
    {
     "data": {
      "text/plain": [
       "'RGBA'"
      ]
     },
     "execution_count": 6,
     "metadata": {},
     "output_type": "execute_result"
    }
   ],
   "source": [
    "img.mode"
   ]
  },
  {
   "cell_type": "markdown",
   "metadata": {},
   "source": [
    "画像を扱うならPILパッケージからImageモジュールをインポートする  \n",
    "Imageモジュールの open 関数に画像のファイル名を渡すことでImageオブジェクトを作成できる  \n",
    "Imageオブジェクトのformat(ファイル形式)、size、mode(色の表現法)アトリビュートを呼ぶことで画像の情報を知ることができる  "
   ]
  },
  {
   "cell_type": "code",
   "execution_count": 7,
   "metadata": {},
   "outputs": [],
   "source": [
    "img.show()"
   ]
  },
  {
   "cell_type": "markdown",
   "metadata": {},
   "source": [
    "Imageオブジェクトの show メソッドを呼び出すと画像を別のアプリで開くことができる"
   ]
  },
  {
   "cell_type": "code",
   "execution_count": 11,
   "metadata": {},
   "outputs": [],
   "source": [
    "half_1 = (0, 0, 50, 95)\n",
    "half_2 = (50, 0, 100, 95)"
   ]
  },
  {
   "cell_type": "code",
   "execution_count": 12,
   "metadata": {},
   "outputs": [],
   "source": [
    "half_img_1 = img.crop(half_1)\n",
    "half_img_2 = img.crop(half_2)"
   ]
  },
  {
   "cell_type": "code",
   "execution_count": 13,
   "metadata": {},
   "outputs": [],
   "source": [
    "half_img_1.show()\n",
    "half_img_2.show()"
   ]
  },
  {
   "cell_type": "code",
   "execution_count": 15,
   "metadata": {},
   "outputs": [],
   "source": [
    "half_img_1.save(r\".\\pydata\\half_cat1.png\")\n",
    "half_img_2.save(r\".\\pydata\\half_cat2.png\")"
   ]
  },
  {
   "cell_type": "markdown",
   "metadata": {},
   "source": [
    "imageオブジェクトの crop メソッドにx座標とy座標の範囲をタプルにして渡すことで、画像を切り取ってImageオブジェクトを新たに作成してくれる  \n",
    "Imageオブジェクトの save メソッドにファイル名を渡すことで保存することができる"
   ]
  },
  {
   "cell_type": "code",
   "execution_count": 16,
   "metadata": {},
   "outputs": [],
   "source": [
    "heart_img = Image.open(r\".\\pydata\\heart.jpg\")"
   ]
  },
  {
   "cell_type": "code",
   "execution_count": 17,
   "metadata": {},
   "outputs": [
    {
     "data": {
      "text/plain": [
       "(1500, 1500)"
      ]
     },
     "execution_count": 17,
     "metadata": {},
     "output_type": "execute_result"
    }
   ],
   "source": [
    "heart_img.size"
   ]
  },
  {
   "cell_type": "code",
   "execution_count": 18,
   "metadata": {},
   "outputs": [],
   "source": [
    "heart_resize_img = heart_img.resize((30, 30))"
   ]
  },
  {
   "cell_type": "code",
   "execution_count": 19,
   "metadata": {},
   "outputs": [
    {
     "data": {
      "text/plain": [
       "(30, 30)"
      ]
     },
     "execution_count": 19,
     "metadata": {},
     "output_type": "execute_result"
    }
   ],
   "source": [
    "heart_resize_img.size"
   ]
  },
  {
   "cell_type": "code",
   "execution_count": 27,
   "metadata": {},
   "outputs": [],
   "source": [
    "img.paste(heart_resize_img, (20, 10))"
   ]
  },
  {
   "cell_type": "code",
   "execution_count": 28,
   "metadata": {},
   "outputs": [],
   "source": [
    "img.show()"
   ]
  },
  {
   "cell_type": "markdown",
   "metadata": {},
   "source": [
    "Imageオブジェクトの resize メソッドで画像のサイズを変更することができる  \n",
    "Imageオブジェクトの paste メソッドに、貼り付ける画像のImageオブジェクトとxyの座標のタプルを渡すことで、画像に別の画像を貼り付けることができる "
   ]
  },
  {
   "cell_type": "markdown",
   "metadata": {},
   "source": [
    "### A.1.3  ImageMagick"
   ]
  },
  {
   "cell_type": "markdown",
   "metadata": {},
   "source": [
    "ImgageMagickは、2Dビットマップイメージを変換、修正、表示するプログラムを集めたものになる  \n",
    "`$ pip install wand`でインストールして、更に https://imagemagick.org/script/download.php#windows でImageMagickをインストールする必要がある"
   ]
  },
  {
   "cell_type": "code",
   "execution_count": 29,
   "metadata": {},
   "outputs": [],
   "source": [
    "from wand.image import Image\n",
    "from wand.display import display"
   ]
  },
  {
   "cell_type": "code",
   "execution_count": 33,
   "metadata": {},
   "outputs": [],
   "source": [
    "img = Image(filename=r\".\\pydata\\catlogo.png\")"
   ]
  },
  {
   "cell_type": "code",
   "execution_count": 34,
   "metadata": {},
   "outputs": [
    {
     "data": {
      "text/plain": [
       "(100, 95)"
      ]
     },
     "execution_count": 34,
     "metadata": {},
     "output_type": "execute_result"
    }
   ],
   "source": [
    "img.size"
   ]
  },
  {
   "cell_type": "code",
   "execution_count": 35,
   "metadata": {},
   "outputs": [
    {
     "data": {
      "text/plain": [
       "'PNG'"
      ]
     },
     "execution_count": 35,
     "metadata": {},
     "output_type": "execute_result"
    }
   ],
   "source": [
    "img.format"
   ]
  },
  {
   "cell_type": "code",
   "execution_count": 36,
   "metadata": {},
   "outputs": [],
   "source": [
    "display(img)"
   ]
  },
  {
   "cell_type": "markdown",
   "metadata": {},
   "source": [
    "wandパッケージの image モジュールの Image 関数のキーワード引数filenameにファイル名を渡すことでImageオブジェクトを作成できて、PILの時と同じようにに扱うことができる  \n",
    "wandパッケージの display モジュールの display 関数にImageオブジェクトを渡すことでImageMagickアプリで画像を開いてくれる"
   ]
  },
  {
   "cell_type": "markdown",
   "metadata": {},
   "source": [
    "PILもImageMagickも、回転、テキストや直線の描画、イメージタイプの変更などのいろいろな機能がある"
   ]
  },
  {
   "cell_type": "markdown",
   "metadata": {},
   "source": [
    "## A.2  GUI(グラフィカル・ユーザー・インタフェース)"
   ]
  },
  {
   "cell_type": "markdown",
   "metadata": {},
   "source": [
    "GUIを扱えるPython標準ライブラリは Tkinter がある  \n",
    "すべてのプラットフォームで動作し、ネイティブな感じのウィンドウとウィジェットを作ることができる"
   ]
  },
  {
   "cell_type": "code",
   "execution_count": 37,
   "metadata": {},
   "outputs": [],
   "source": [
    "import tkinter\n",
    "from PIL import Image, ImageTk"
   ]
  },
  {
   "cell_type": "code",
   "execution_count": 38,
   "metadata": {},
   "outputs": [],
   "source": [
    "main = tkinter.Tk()"
   ]
  },
  {
   "cell_type": "code",
   "execution_count": 39,
   "metadata": {},
   "outputs": [],
   "source": [
    "img = Image.open(r\".\\pydata\\catlogo.png\")"
   ]
  },
  {
   "cell_type": "code",
   "execution_count": 40,
   "metadata": {},
   "outputs": [],
   "source": [
    "tkimg = ImageTk.PhotoImage(img)"
   ]
  },
  {
   "cell_type": "code",
   "execution_count": 41,
   "metadata": {},
   "outputs": [],
   "source": [
    "tkinter.Label(main, image=tkimg).pack()"
   ]
  },
  {
   "cell_type": "code",
   "execution_count": 42,
   "metadata": {},
   "outputs": [],
   "source": [
    "main.mainloop()"
   ]
  },
  {
   "cell_type": "markdown",
   "metadata": {},
   "source": [
    "上のコードは画像をウィンドウに表示するごく簡単なプログラムになる  \n",
    "まず tkinter モジュールと PIL パッケージの Image モジュールと ImageTk モジュールをインポートする  \n",
    "tkinterモジュールの Tk 関数を呼び出して、tkinter オブジェクトを作成する  \n",
    "ImageTkモジュールの PhotoImage 関数にImageオブジェクトを渡して ImageTk オブジェクトを作成する  \n",
    "tkiterモジュールの Label 関数に、tkinterオブジェクトとキーワード引数のimageにImageTkオブジェクトを渡して、labelオブジェクトを作成する  \n",
    "そのlabelオブジェクトの pack メソッドを呼び出し、labelオブジェクトの内容をtkinterオブジェクトに入れる  \n",
    "tkinterオブジェクトの mainloop メソッドを呼び出して、ウィンドウを表示"
   ]
  },
  {
   "cell_type": "markdown",
   "metadata": {},
   "source": [
    "外部ライブラリのGUIとしては以下のものがある  \n",
    "- Qt  \n",
    "Qtはプロ用のGUI、アプリケーションツールキットで、Google Earth、Maya、Skypeなどのアプリケーション構築に使われてきた  \n",
    "Pythonで使えるQtライブラリとしては、Pyside(無料)、PyQt(GPLか商用ライセンス)がある  \n",
    "- GTK+  \n",
    "GTK+はQtのライバルで、GIMP、LinuxのGnomeデスクトップなどのアプリケーションの開発に使われている  \n",
    "PythonバインディングはPyGTKで、コードはPyGTKサイトでダウンロードできる  \n",
    "- WxPython  \n",
    "WxWidgetsへのPythonバインディングで、機能が豊かなうえ、無料でダウンロードできる  \n",
    "- Kivy  \n",
    "Kivyは、デスクトップ、モバイルの様々なプラットフォームに対応したマルチメディアユーザーインタフェースを作れる無料のライブラリになる  \n",
    "マルチタッチサポートも含まれている  \n",
    "- ウェブ  \n",
    "Qtなどのフレームワークはネイティブコンポーネントを使うが、ウェブを使うものもある  \n",
    "ウェブはユニバーサルなGUIであり、グラフィックス(SVG)、テキスト(HTML)にマルチメディア(HTML5)も持っている  \n",
    "Pythonで書かれたWebベースGUIツールとしては、RCTK、Muntjacなどがある  \n",
    "フロントエンド、バックエンドツールを自由に組み合わせてウェブアプリケーションを作れる"
   ]
  },
  {
   "cell_type": "markdown",
   "metadata": {},
   "source": [
    "## A.3  3Dグラフィックスとアニメーション"
   ]
  },
  {
   "cell_type": "markdown",
   "metadata": {},
   "source": [
    "Pythonで3D、アニメーション、マルチメディア、ゲームを試してみたいなら、Panda3Dを使うとよい"
   ]
  },
  {
   "cell_type": "markdown",
   "metadata": {},
   "source": [
    "コマンドプロンプトで`$ cd Panda3D\\samples\\ball-in-maze`でカレントディレクトリを移動し、`$ python main.py`を実行すると簡単な3Dゲームをすることができる"
   ]
  },
  {
   "cell_type": "code",
   "execution_count": 43,
   "metadata": {},
   "outputs": [
    {
     "ename": "SystemExit",
     "evalue": "",
     "output_type": "error",
     "traceback": [
      "An exception has occurred, use %tb to see the full traceback.\n",
      "\u001b[1;31mSystemExit\u001b[0m\n"
     ]
    },
    {
     "name": "stderr",
     "output_type": "stream",
     "text": [
      "C:\\Users\\kumak\\anaconda3\\lib\\site-packages\\IPython\\core\\interactiveshell.py:3339: UserWarning: To exit: use 'exit', 'quit', or Ctrl-D.\n",
      "  warn(\"To exit: use 'exit', 'quit', or Ctrl-D.\", stacklevel=1)\n"
     ]
    }
   ],
   "source": [
    "from direct.showbase.ShowBase import ShowBase\n",
    "\n",
    "class MyApp(ShowBase):\n",
    "    def __init__(self):\n",
    "        ShowBase.__init__(self)\n",
    "        # 環境モデルをロードする\n",
    "        self.environ = self.loader.loadModel(\"models/environment\")\n",
    "        # レンダリングのために親を変更する\n",
    "        self.environ.reparentTo(self.render)\n",
    "        # モデルに対して、スケーリングと位置変更を行う\n",
    "        self.environ.setScale(0.25,0.25,0.25)\n",
    "        self.environ.setPos(-8,42,0)\n",
    "        \n",
    "app = MyApp()\n",
    "app.run()"
   ]
  },
  {
   "cell_type": "markdown",
   "metadata": {},
   "source": [
    "上のコードを実行すると3Dグラフィックを表示できる"
   ]
  },
  {
   "cell_type": "markdown",
   "metadata": {},
   "source": [
    "以下のライブラリは、Pythonで使えるほかの3Dパッケージになる  \n",
    "- Blender  \n",
    "Blenderは、フリーの3Dアニメーション、ゲーム作成システム　　\n",
    "- Maya  \n",
    "商用の3Dアニメージョン、グラフィックスシステム  \n",
    "- Houdini  \n",
    "Houdiniは商用ソフトウェアだが、Apprenticeというフリーバージョンをダウンロードできる"
   ]
  },
  {
   "cell_type": "markdown",
   "metadata": {},
   "source": [
    "## A.4  プロット、グラフ、ビジュアライゼーション"
   ]
  },
  {
   "cell_type": "markdown",
   "metadata": {},
   "source": [
    "### A.4.1  matplotlib"
   ]
  },
  {
   "cell_type": "markdown",
   "metadata": {},
   "source": [
    "matplotlibはフリーの2Dプロットライブラリで、NumPyなどの化学アプリケーションと強い結びつきがある"
   ]
  },
  {
   "cell_type": "code",
   "execution_count": 44,
   "metadata": {},
   "outputs": [],
   "source": [
    "import matplotlib.pyplot as plot\n",
    "import matplotlib.image as image"
   ]
  },
  {
   "cell_type": "code",
   "execution_count": 45,
   "metadata": {},
   "outputs": [
    {
     "data": {
      "image/png": "[encoded data removed]",
      "text/plain": [
       "<Figure size 432x288 with 1 Axes>"
      ]
     },
     "metadata": {
      "needs_background": "light"
     },
     "output_type": "display_data"
    }
   ],
   "source": [
    "img = image.imread(r\".\\pydata\\catlogo.png\")\n",
    "plot.imshow(img)\n",
    "plot.show()"
   ]
  },
  {
   "cell_type": "markdown",
   "metadata": {},
   "source": [
    "上のコードは画像をグラフに表示するコードになる"
   ]
  },
  {
   "cell_type": "markdown",
   "metadata": {},
   "source": [
    "### A.4.2  bokeh"
   ]
  },
  {
   "cell_type": "markdown",
   "metadata": {},
   "source": [
    "bokehはPythonの強み(大規模なデータセット、使いやすさ)とJavaScriptの強み(対話性、グラフィックスのレイテンシの低さ)を組み合わせている"
   ]
  },
  {
   "cell_type": "markdown",
   "metadata": {},
   "source": [
    "## A.5  ゲーム"
   ]
  },
  {
   "cell_type": "markdown",
   "metadata": {},
   "source": [
    "Pythonゲームプラットフォームとして最も有名なのはpygameになる"
   ]
  },
  {
   "cell_type": "markdown",
   "metadata": {},
   "source": [
    "### A.6  サウンドと音楽"
   ]
  },
  {
   "cell_type": "markdown",
   "metadata": {},
   "source": [
    "標準ライブラリは、マルチメディアサービスのなかにごく初歩的なオーディオモジュールを用意している  \n",
    "音楽を作るときには以下のサードパ－ティーモージュールを使うとよい  \n",
    "- pyknon  \n",
    "- mingus\n",
    "- remix\n",
    "- sebastian\n",
    "- Piano  \n",
    "次のリストライブラリは、コレクションの整理やミュージックデータへのアクセスに役立つ  \n",
    "- Beets\n",
    "- Echonest API\n",
    "- Monstermash\n",
    "- Shiva\n",
    "- MPD Album Art Grabber"
   ]
  },
  {
   "cell_type": "markdown",
   "metadata": {},
   "source": [
    "# 付録B  ビジネス現場のPy"
   ]
  },
  {
   "cell_type": "markdown",
   "metadata": {},
   "source": [
    "ビジネスではデータベース、ウェブ、システム、ネットワークなど、すべてのテクノロジーを使う  \n",
    "ビジネスの現場で以下のものを使うことで、従来よりも早く、安価に柔軟なアプリケーションを作ることができる  \n",
    "- Pythonのような動的言語  \n",
    "- 普遍的なGUIとしてのウェブ  \n",
    "- 言語に依存しないサービスインターフェースとしてのRESTfulなAPI  \n",
    "- リレーショナルデータベースとNoSQLデータベース  \n",
    "- 「ビッグデータ」とアナリティクス  \n",
    "- デプロイと投資の節約のためのクラウド"
   ]
  },
  {
   "cell_type": "markdown",
   "metadata": {},
   "source": [
    "## B.1  Microsoft Officeスイート"
   ]
  },
  {
   "cell_type": "markdown",
   "metadata": {},
   "source": [
    "PythonにはMicrosoft Officeに関連して役に立つライブラリがある  \n",
    "以下に示すのはMicrosoft Officeドキュメントを処理するライブラリになる  \n",
    "- docx  \n",
    "Microsoft Office Word 2007の.docxファイルを作ったり、読み書きしたりすることができる  \n",
    "- python-excel  \n",
    "xlrd、xlwt、xlutilsモジュール  \n",
    "- oletools  \n",
    "Office形式のデータを抽出するライブラリ"
   ]
  },
  {
   "cell_type": "markdown",
   "metadata": {},
   "source": [
    "以下のモジュールは、Windowsアプリケーションの操作を自動化する  \n",
    "- pywin32  \n",
    "多くの\n",
    "しかし、Python2に限定される  \n",
    "- pywinauto  \n",
    "これもWindowsアプリケーションをオートーメーションで実行する  \n",
    "Python2に制限されている  \n",
    "- swapy  \n",
    "ネイティブコントロールからpywinauto用Pythonコードを生成する  "
   ]
  },
  {
   "cell_type": "markdown",
   "metadata": {},
   "source": [
    "OpenOfficeは、オープンソースのOffice代替製品でOffice形式を読み書きできる  \n",
    "PyUNOライブラリを組み込んだPythonを使えば、OpenOfficeをプログラミングできる  "
   ]
  },
  {
   "cell_type": "markdown",
   "metadata": {},
   "source": [
    "## B.2  ビジネスタスクの遂行"
   ]
  },
  {
   "cell_type": "markdown",
   "metadata": {},
   "source": [
    "ビジネスタスク関連では、以下のモジュールに目を引かれるかもしれない  \n",
    "- fedex または UPS を介した出荷  \n",
    "- stamps.com API によるメール  \n",
    "- Python for business intelligence の議論  \n",
    "- Cubes は、OLAPウェブサーバー、データブラウザ  \n",
    "- OpenERPは、PythonとJavaScriptで書かれた大規模な商用ERPシステムで、数千のアドオンモジュールがある"
   ]
  },
  {
   "cell_type": "markdown",
   "metadata": {},
   "source": [
    "## B.3.1  抽出、変換、ロード"
   ]
  },
  {
   "cell_type": "code",
   "execution_count": 46,
   "metadata": {},
   "outputs": [],
   "source": [
    "zoo_list=\\\n",
    "[[\"animal\",\"bites\",\"stitches\",\"hush\"],\n",
    " [\"bear\",1,35,300],\n",
    " [\"marmoset\",1,2,250],\n",
    " [\"bear\",2,45,500],\n",
    " [\"elk\",1,30,100],\n",
    " [\"wease\",4,7,50],\n",
    " [\"duck\",2,0,10]]"
   ]
  },
  {
   "cell_type": "code",
   "execution_count": 47,
   "metadata": {},
   "outputs": [],
   "source": [
    "import csv\n",
    "with open(r\".\\pydata\\zoo.csv\",\"w\",newline=\"\") as f:\n",
    "    writer = csv.writer(f)\n",
    "    for zoo in zoo_list:\n",
    "        writer.writerow(zoo)"
   ]
  },
  {
   "cell_type": "code",
   "execution_count": 48,
   "metadata": {},
   "outputs": [
    {
     "name": "stdout",
     "output_type": "stream",
     "text": [
      "      bear       800\n",
      "  marmoset       250\n",
      "       elk       100\n",
      "     wease        50\n",
      "      duck        10\n"
     ]
    }
   ],
   "source": [
    "import csv\n",
    "from collections import Counter\n",
    "\n",
    "counts = Counter()\n",
    "with open(r\".\\pydata\\zoo.csv\",\"r\") as f:\n",
    "    reader = csv.reader(f)\n",
    "    for num, row in enumerate(reader):\n",
    "        if num > 0:\n",
    "            counts[row[0]] += int(row[-1])\n",
    "for animal, hush in counts.items():\n",
    "    print(f\"{str(animal).rjust(10)}{str(hush).rjust(10)}\")"
   ]
  },
  {
   "cell_type": "markdown",
   "metadata": {},
   "source": [
    "## B.3.2  その他の情報源"
   ]
  },
  {
   "cell_type": "markdown",
   "metadata": {},
   "source": [
    "外部で作られたデータが必要になることがあるデータソースとしては以下のようなものがある  \n",
    "- data.gov  \n",
    "数千のデータセットとツールへのゲートウェイ  \n",
    "APIは、Pythonデータ管理システムのCKANを基礎として作られている  \n",
    "- Opening government with Python  \n",
    "ビデオとスライド  \n",
    "- python-sunlight  \n",
    "Sumlight APIにアクセスするためのライブラリ  \n",
    "- froide  \n",
    "自由な情報リクエストのためのDjangoベースのプラットフォーム  \n",
    "- 30 places to find open data on the Web  \n",
    "便利なリンク集"
   ]
  },
  {
   "cell_type": "markdown",
   "metadata": {},
   "source": [
    "## B.4  金融界のPython"
   ]
  },
  {
   "cell_type": "markdown",
   "metadata": {},
   "source": [
    "以下のような金融界ツールがある  \n",
    "- Quantitative economics  \n",
    "計量経済学的なモデリングのためのツールで、数学、Pythonコードが多数含まれている  \n",
    "- Python for finance  \n",
    "サイト  \n",
    "- Quantopian  \n",
    "独自のPythonコードを書き、株価の履歴データに対して実行し、結果を見れる対話的ウェブサイト  \n",
    "- PyAlgoTrade  \n",
    "株式関連の戦略、モデルなどのテストに使え、ローカルコンピュータで実行する  \n",
    "- Quandl  \n",
    "数百万の金融データセットの検索  \n",
    "- Ultra-finance  \n",
    "株式関連の情報収集ライブラリ  \n",
    "- Python for Finance  \n",
    "金融モデリングのためのPythonサンプルが含まれている"
   ]
  },
  {
   "cell_type": "markdown",
   "metadata": {},
   "source": [
    "## B.5  ビジネスデータのセキュリティ"
   ]
  },
  {
   "cell_type": "markdown",
   "metadata": {},
   "source": [
    "ビジネスではセキュリティの確保が重要になる  \n",
    "以下ではPythonに関連して知っておくべきことを簡単にまとめておく  \n",
    "- Scrapy ではパケット精査するためのPythonをベースとする言語で、ネットワークに対する大きな攻撃を説明するために使われる  \n",
    "- Python Securityサイトではセキュリティ関連の議論、一部のPythonモジュールについての詳細、早見表が含まれている  \n",
    "- TJ はPythonとコンピュータのセキュリティを包括的に扱っている"
   ]
  },
  {
   "cell_type": "markdown",
   "metadata": {},
   "source": [
    "## B.6  マップ"
   ]
  },
  {
   "cell_type": "markdown",
   "metadata": {},
   "source": [
    "Pythonは地図の作成を得意としている  "
   ]
  },
  {
   "cell_type": "markdown",
   "metadata": {},
   "source": [
    "### B.6.1  ファイル形式"
   ]
  },
  {
   "cell_type": "markdown",
   "metadata": {},
   "source": [
    "マッピングの世界には、ベクトル(線)、ラスター(イメージ)、メタデータ(文字列)、それらの組み合わせなど、様々なファイル形式がある  \n",
    "シェープファイル形式というものは、複数のファイル形式から構成されており、少なくとも以下のものがある  \n",
    "- shp  \n",
    "「シェープ」(ベクトル)情報  \n",
    "- shx  \n",
    "シェープインデックス  \n",
    "- dbf  \n",
    "属性データベース"
   ]
  },
  {
   "cell_type": "markdown",
   "metadata": {},
   "source": [
    "Pythonの役に立つシェープファイルモジュールとしては以下のようなものがある  \n",
    "- pyshp は、ピュアPythonのシェープファイルライブラリである  \n",
    "- shapely は、地理上の問いに答えることができる  \n",
    "- fiona は、シェープファイルなどのベクトル形式ファイルを処理するOGRライブラリをラップする  \n",
    "- kartograph は、サーバーまたはクライアント上でシェープファイルをSVGマップにレンダリングする  \n",
    "- basemap は、matplotlibを使って2Dデータを地図上にプロットする  \n",
    "- cartopy は、matplotlibとshapelyを使って地図を描画する  "
   ]
  },
  {
   "cell_type": "markdown",
   "metadata": {},
   "source": [
    "以降で使うアンプルコードを使うために　http://www.naturalearthdata.com/downloads/110m-cultural-vectors/　からデータをダウンロードして、pydata\\mapに保存した"
   ]
  },
  {
   "cell_type": "markdown",
   "metadata": {},
   "source": [
    "### B.6.2  地図の描画"
   ]
  },
  {
   "cell_type": "markdown",
   "metadata": {},
   "source": [
    "シェープファイルを読み出すために pyshp ライブラリをインストールする"
   ]
  },
  {
   "cell_type": "code",
   "execution_count": 50,
   "metadata": {},
   "outputs": [],
   "source": [
    "def display_shapefile(name, iwidth=500, iheight=500):\n",
    "    import shapefile\n",
    "    from PIL import Image, ImageDraw\n",
    "    r = shapefile.Reader(name)\n",
    "    mleft, mbottom, mright, mtop = r.bbox\n",
    "    # 地図の単位\n",
    "    mwidth = mright - mleft\n",
    "    mheight = mtop - mbottom\n",
    "    # 地図の単位をイメージの単位にマッピング\n",
    "    hscale = iwidth / mwidth\n",
    "    vscale = iheight / mheight\n",
    "    img = Image.new(\"RGB\", (iwidth, iheight), \"white\")\n",
    "    draw = ImageDraw.Draw(img)\n",
    "    for shape in r.shapes():\n",
    "        pixels = [\n",
    "            (int(iwidth - ((mright - x) * hscale)), int((mtop - y) * vscale))\n",
    "            for x, y in shape.points]\n",
    "        if shape.shapeType == shapefile.POLYGON:\n",
    "            draw.polygon(pixels, outline=\"black\")\n",
    "        elif shape.shapeType == shapefile.POLYLINE:\n",
    "            draw.line(pixels, fill=\"black\")\n",
    "    img.show()"
   ]
  },
  {
   "cell_type": "code",
   "execution_count": 51,
   "metadata": {},
   "outputs": [],
   "source": [
    "display_shapefile(r\".\\pydata\\map\\ne_110m_admin_1_states_provinces.shp\", 700, 700)"
   ]
  },
  {
   "cell_type": "markdown",
   "metadata": {},
   "source": [
    "上のように shapefile モジュールを使うことでシェイプファイルを扱うことができる"
   ]
  },
  {
   "cell_type": "markdown",
   "metadata": {},
   "source": [
    "その他のPythonマッピングソフトウェアへのリンクをまとめておく  \n",
    "- basemap  \n",
    "matplotlibを基礎として、地図とデータのオーバーレイを書く  \n",
    "- mapnix  \n",
    "Pythonバインディングを持つC++ライブラリで、ベクトル(線)とラスター(イメージ)を結合してマップを描く  \n",
    "- tilemill  \n",
    "mapnikを基礎とするマップデザインスタジオ  \n",
    "- Vincent  \n",
    "JaveScriptビジュアライゼーションツールのVegaへの変換  \n",
    "- Python for ArcGIS  \n",
    "ESRIの商用製品、ArcGISのためのPythonリソースへのリンク  \n",
    "- Spatial analysis with python  \n",
    "チュートリアル、パッケージ、ビデオへのリンク  \n",
    "- Using geospatial data with python  \n",
    "ビデオによるプレゼンテーション  \n",
    "- So you'd like to make a map using Python  \n",
    "pandas、matplotlib、shapelyなどのPythonモジュールを使って歴史的な地域の地図を作る  \n",
    "- Python Geospatial Development  \n",
    "mapnikなどのツールを使ったサンプルが含まれている  \n",
    "- Learning Geospatial Analysis with Python  \n",
    "ファイル形式やライブラリを解説し、ジオスペーシャルアルゴリズムも取り上げている"
   ]
  },
  {
   "cell_type": "markdown",
   "metadata": {},
   "source": [
    "### B.6.3  アプリケーションとデータ"
   ]
  },
  {
   "cell_type": "markdown",
   "metadata": {},
   "source": [
    "ジオコーディングは、住所と緯度経度を相互に変換する  \n",
    "geopy、pygeocder、googlemapsなどのPythonライブラリもある  "
   ]
  },
  {
   "cell_type": "markdown",
   "metadata": {},
   "source": [
    "# 付録C  科学におけるPy"
   ]
  },
  {
   "cell_type": "markdown",
   "metadata": {},
   "source": [
    "## C.1  標準ライブラリでの数学と統計"
   ]
  },
  {
   "cell_type": "markdown",
   "metadata": {},
   "source": [
    "### C.1.1  math関数"
   ]
  },
  {
   "cell_type": "code",
   "execution_count": 52,
   "metadata": {},
   "outputs": [],
   "source": [
    "import math"
   ]
  },
  {
   "cell_type": "code",
   "execution_count": 53,
   "metadata": {},
   "outputs": [
    {
     "data": {
      "text/plain": [
       "3.141592653589793"
      ]
     },
     "execution_count": 53,
     "metadata": {},
     "output_type": "execute_result"
    }
   ],
   "source": [
    "math.pi # 円周率"
   ]
  },
  {
   "cell_type": "code",
   "execution_count": 54,
   "metadata": {},
   "outputs": [
    {
     "data": {
      "text/plain": [
       "2.718281828459045"
      ]
     },
     "execution_count": 54,
     "metadata": {},
     "output_type": "execute_result"
    }
   ],
   "source": [
    "math.e # ネイピア数"
   ]
  },
  {
   "cell_type": "code",
   "execution_count": 55,
   "metadata": {},
   "outputs": [
    {
     "data": {
      "text/plain": [
       "271.1"
      ]
     },
     "execution_count": 55,
     "metadata": {},
     "output_type": "execute_result"
    }
   ],
   "source": [
    "math.fabs(-271.1) # 絶対値"
   ]
  },
  {
   "cell_type": "code",
   "execution_count": 56,
   "metadata": {},
   "outputs": [
    {
     "data": {
      "text/plain": [
       "98"
      ]
     },
     "execution_count": 56,
     "metadata": {},
     "output_type": "execute_result"
    }
   ],
   "source": [
    "math.floor(98.6) # 引数以下の最大の数字"
   ]
  },
  {
   "cell_type": "code",
   "execution_count": 57,
   "metadata": {},
   "outputs": [
    {
     "data": {
      "text/plain": [
       "-172"
      ]
     },
     "execution_count": 57,
     "metadata": {},
     "output_type": "execute_result"
    }
   ],
   "source": [
    "math.floor(-171.1)"
   ]
  },
  {
   "cell_type": "code",
   "execution_count": 58,
   "metadata": {},
   "outputs": [
    {
     "data": {
      "text/plain": [
       "99"
      ]
     },
     "execution_count": 58,
     "metadata": {},
     "output_type": "execute_result"
    }
   ],
   "source": [
    "math.ceil(98.6) # 引数以上で最大の数字"
   ]
  },
  {
   "cell_type": "code",
   "execution_count": 59,
   "metadata": {},
   "outputs": [
    {
     "data": {
      "text/plain": [
       "-271"
      ]
     },
     "execution_count": 59,
     "metadata": {},
     "output_type": "execute_result"
    }
   ],
   "source": [
    "math.ceil(-271.1)"
   ]
  },
  {
   "cell_type": "code",
   "execution_count": 60,
   "metadata": {},
   "outputs": [
    {
     "data": {
      "text/plain": [
       "720"
      ]
     },
     "execution_count": 60,
     "metadata": {},
     "output_type": "execute_result"
    }
   ],
   "source": [
    "math.factorial(6) # 階乗　"
   ]
  },
  {
   "cell_type": "code",
   "execution_count": 61,
   "metadata": {},
   "outputs": [
    {
     "data": {
      "text/plain": [
       "1.0"
      ]
     },
     "execution_count": 61,
     "metadata": {},
     "output_type": "execute_result"
    }
   ],
   "source": [
    "math.log(math.e) # 自然関数"
   ]
  },
  {
   "cell_type": "code",
   "execution_count": 62,
   "metadata": {},
   "outputs": [
    {
     "data": {
      "text/plain": [
       "3.0"
      ]
     },
     "execution_count": 62,
     "metadata": {},
     "output_type": "execute_result"
    }
   ],
   "source": [
    "math.log(8,2) # 対数関数"
   ]
  },
  {
   "cell_type": "code",
   "execution_count": 63,
   "metadata": {},
   "outputs": [
    {
     "data": {
      "text/plain": [
       "8.0"
      ]
     },
     "execution_count": 63,
     "metadata": {},
     "output_type": "execute_result"
    }
   ],
   "source": [
    "math.pow(2,3) # 2の3乗"
   ]
  },
  {
   "cell_type": "code",
   "execution_count": 64,
   "metadata": {},
   "outputs": [
    {
     "data": {
      "text/plain": [
       "5.0"
      ]
     },
     "execution_count": 64,
     "metadata": {},
     "output_type": "execute_result"
    }
   ],
   "source": [
    "math.sqrt(25) # 平方根"
   ]
  },
  {
   "cell_type": "code",
   "execution_count": 65,
   "metadata": {},
   "outputs": [
    {
     "data": {
      "text/plain": [
       "5.0"
      ]
     },
     "execution_count": 65,
     "metadata": {},
     "output_type": "execute_result"
    }
   ],
   "source": [
    "math.hypot(3,4) # 直角三角形の斜辺の長さ"
   ]
  },
  {
   "cell_type": "code",
   "execution_count": 66,
   "metadata": {},
   "outputs": [
    {
     "data": {
      "text/plain": [
       "3.141592653589793"
      ]
     },
     "execution_count": 66,
     "metadata": {},
     "output_type": "execute_result"
    }
   ],
   "source": [
    "math.radians(180) # ラジアン"
   ]
  },
  {
   "cell_type": "code",
   "execution_count": 67,
   "metadata": {},
   "outputs": [
    {
     "data": {
      "text/plain": [
       "180.0"
      ]
     },
     "execution_count": 67,
     "metadata": {},
     "output_type": "execute_result"
    }
   ],
   "source": [
    "math.degrees(math.pi) # 角度"
   ]
  },
  {
   "cell_type": "markdown",
   "metadata": {},
   "source": [
    "### C.1.2  複素数の操作"
   ]
  },
  {
   "cell_type": "markdown",
   "metadata": {},
   "source": [
    "複素数はPythonの基本言語の中で完全にサポートされており、実数部と虚数部の記法も知られている"
   ]
  },
  {
   "cell_type": "code",
   "execution_count": 68,
   "metadata": {},
   "outputs": [
    {
     "data": {
      "text/plain": [
       "8j"
      ]
     },
     "execution_count": 68,
     "metadata": {},
     "output_type": "execute_result"
    }
   ],
   "source": [
    "8j"
   ]
  },
  {
   "cell_type": "code",
   "execution_count": 69,
   "metadata": {},
   "outputs": [
    {
     "data": {
      "text/plain": [
       "(3+2j)"
      ]
     },
     "execution_count": 69,
     "metadata": {},
     "output_type": "execute_result"
    }
   ],
   "source": [
    "3+2j"
   ]
  },
  {
   "cell_type": "markdown",
   "metadata": {},
   "source": [
    "虚数i(Pythonのij)は、-1の平方根と定義されているので以下のような計算もできる"
   ]
  },
  {
   "cell_type": "code",
   "execution_count": 70,
   "metadata": {},
   "outputs": [
    {
     "data": {
      "text/plain": [
       "(-1+0j)"
      ]
     },
     "execution_count": 70,
     "metadata": {},
     "output_type": "execute_result"
    }
   ],
   "source": [
    "1j * 1j"
   ]
  },
  {
   "cell_type": "code",
   "execution_count": 71,
   "metadata": {},
   "outputs": [
    {
     "data": {
      "text/plain": [
       "(-1+7j)"
      ]
     },
     "execution_count": 71,
     "metadata": {},
     "output_type": "execute_result"
    }
   ],
   "source": [
    "(7 + 1j) * 1j"
   ]
  },
  {
   "cell_type": "markdown",
   "metadata": {},
   "source": [
    "### C.1.3  decimalによる正確な浮動小数点計算"
   ]
  },
  {
   "cell_type": "code",
   "execution_count": 72,
   "metadata": {},
   "outputs": [
    {
     "data": {
      "text/plain": [
       "3.3333333333333335"
      ]
     },
     "execution_count": 72,
     "metadata": {},
     "output_type": "execute_result"
    }
   ],
   "source": [
    "10/3"
   ]
  },
  {
   "cell_type": "markdown",
   "metadata": {},
   "source": [
    "コンピュータの浮動小数点数は2進で計算するように設計されているので、2のべき乗で表現できない数値は正確に表現できない"
   ]
  },
  {
   "cell_type": "code",
   "execution_count": 73,
   "metadata": {},
   "outputs": [],
   "source": [
    "from decimal import Decimal"
   ]
  },
  {
   "cell_type": "code",
   "execution_count": 74,
   "metadata": {},
   "outputs": [
    {
     "data": {
      "text/plain": [
       "Decimal('21.1894')"
      ]
     },
     "execution_count": 74,
     "metadata": {},
     "output_type": "execute_result"
    }
   ],
   "source": [
    "price = Decimal(\"19.99\")\n",
    "tax = Decimal(\"0.06\")\n",
    "price + (price * tax)"
   ]
  },
  {
   "cell_type": "markdown",
   "metadata": {},
   "source": [
    "制度を維持するために文字列として渡す"
   ]
  },
  {
   "cell_type": "markdown",
   "metadata": {},
   "source": [
    "### C.1.4  fractionsによる有理数計算"
   ]
  },
  {
   "cell_type": "markdown",
   "metadata": {},
   "source": [
    "Python標準のfractionsモジュールを使えば、分数を表現できる"
   ]
  },
  {
   "cell_type": "code",
   "execution_count": 75,
   "metadata": {},
   "outputs": [],
   "source": [
    "from fractions import Fraction"
   ]
  },
  {
   "cell_type": "code",
   "execution_count": 76,
   "metadata": {},
   "outputs": [
    {
     "data": {
      "text/plain": [
       "Fraction(2, 9)"
      ]
     },
     "execution_count": 76,
     "metadata": {},
     "output_type": "execute_result"
    }
   ],
   "source": [
    "Fraction(1, 3) * Fraction(2, 3) # 3分の1かけ3分の2"
   ]
  },
  {
   "cell_type": "code",
   "execution_count": 77,
   "metadata": {},
   "outputs": [
    {
     "data": {
      "text/plain": [
       "Fraction(6004799503160661, 18014398509481984)"
      ]
     },
     "execution_count": 77,
     "metadata": {},
     "output_type": "execute_result"
    }
   ],
   "source": [
    "Fraction(1.0/3.0)"
   ]
  },
  {
   "cell_type": "code",
   "execution_count": 78,
   "metadata": {},
   "outputs": [
    {
     "data": {
      "text/plain": [
       "Fraction(3333333333333333333333333333, 10000000000000000000000000000)"
      ]
     },
     "execution_count": 78,
     "metadata": {},
     "output_type": "execute_result"
    }
   ],
   "source": [
    "Fraction(Decimal(\"1.0\") / Decimal(\"3.0\"))"
   ]
  },
  {
   "cell_type": "markdown",
   "metadata": {},
   "source": [
    "Fractionだと不正確な時があるので、Fractionの中でDecimalを使うことで正確にできる"
   ]
  },
  {
   "cell_type": "code",
   "execution_count": 79,
   "metadata": {},
   "outputs": [],
   "source": [
    "from fractions import gcd"
   ]
  },
  {
   "cell_type": "code",
   "execution_count": 80,
   "metadata": {},
   "outputs": [
    {
     "name": "stderr",
     "output_type": "stream",
     "text": [
      "C:\\Users\\kumak\\anaconda3\\lib\\site-packages\\ipykernel_launcher.py:1: DeprecationWarning: fractions.gcd() is deprecated. Use math.gcd() instead.\n",
      "  \"\"\"Entry point for launching an IPython kernel.\n"
     ]
    },
    {
     "data": {
      "text/plain": [
       "8"
      ]
     },
     "execution_count": 80,
     "metadata": {},
     "output_type": "execute_result"
    }
   ],
   "source": [
    "gcd(24, 16) # 最大公約数 math.gcdでも同じことができる"
   ]
  },
  {
   "cell_type": "markdown",
   "metadata": {},
   "source": [
    "### C.1.5  arrayによるパッキングされたシーケンス"
   ]
  },
  {
   "cell_type": "markdown",
   "metadata": {},
   "source": [
    "リストと同じ型のシーケンスを作りたい場合は、array型を使うとよい  \n",
    "リストよりもスペースを節約できながらもメソッドの多くはサポートされる  \n",
    "array(typecode, initializer)という形式で作る  \n",
    "typecodeは、intやfloatなどのデータ型を指定する  \n",
    "オプションのinitializerは初期値を指定するもので、リスト、文字列、イテラブルを指定できる"
   ]
  },
  {
   "cell_type": "markdown",
   "metadata": {},
   "source": [
    "### C.1.6  statisticsによる単純な統計"
   ]
  },
  {
   "cell_type": "markdown",
   "metadata": {},
   "source": [
    "標準モジュールのstatisticsは平均、中央列、最頻値、標準偏差、分散のなどの関数が含まれている  \n",
    "引数はさまざまな数値型のシーケンスかイテレータになる"
   ]
  },
  {
   "cell_type": "markdown",
   "metadata": {},
   "source": [
    "### C.1.7  行列の乗算"
   ]
  },
  {
   "cell_type": "markdown",
   "metadata": {},
   "source": [
    "@がデコレータだけではなく、行列の乗算の為にも使われる"
   ]
  },
  {
   "cell_type": "markdown",
   "metadata": {},
   "source": [
    "## C.2  Scientific Python"
   ]
  },
  {
   "cell_type": "markdown",
   "metadata": {},
   "source": [
    "Scientific Pythonディストリビューションの一部としてすべてのパッケージをまとめてダウンロードするといい  \n",
    "以下が主な選択肢になる  \n",
    "- Anaconda  \n",
    "フリーで幅が広く、既存のPythonシステムを壊さない  \n",
    "- Enthought  \n",
    "フリーバージョンと商用バージョンがある  \n",
    "- Python(x,y)  \n",
    "Windows専用のリリース  \n",
    "- Pyzo  \n",
    "Anacondaに踏まれているツールにほかのツールを加えたものから作られている  \n",
    "- ALGORETE  \n",
    "Anacondaを基礎としてほかのツールを追加している"
   ]
  },
  {
   "cell_type": "markdown",
   "metadata": {},
   "source": [
    "## C.3  NumPy"
   ]
  },
  {
   "cell_type": "markdown",
   "metadata": {},
   "source": [
    "NumPyは、科学者の間でPythonが人気を集めている大きな理由のひとつで、FORTRANのような科学言語と同じように高速な多次元数値配列を提供するために作られた  \n",
    "NumPy配列にはさまざまな作り方がある"
   ]
  },
  {
   "cell_type": "markdown",
   "metadata": {},
   "source": [
    "### C.3.1  arrayによる配列の作成"
   ]
  },
  {
   "cell_type": "code",
   "execution_count": 81,
   "metadata": {},
   "outputs": [],
   "source": [
    "import numpy as np"
   ]
  },
  {
   "cell_type": "code",
   "execution_count": 82,
   "metadata": {},
   "outputs": [
    {
     "data": {
      "text/plain": [
       "array([2, 4, 6, 8])"
      ]
     },
     "execution_count": 82,
     "metadata": {},
     "output_type": "execute_result"
    }
   ],
   "source": [
    "b = np.array([2,4,6,8])\n",
    "b"
   ]
  },
  {
   "cell_type": "code",
   "execution_count": 83,
   "metadata": {},
   "outputs": [
    {
     "data": {
      "text/plain": [
       "1"
      ]
     },
     "execution_count": 83,
     "metadata": {},
     "output_type": "execute_result"
    }
   ],
   "source": [
    "b.ndim # 次元数"
   ]
  },
  {
   "cell_type": "code",
   "execution_count": 84,
   "metadata": {},
   "outputs": [
    {
     "data": {
      "text/plain": [
       "4"
      ]
     },
     "execution_count": 84,
     "metadata": {},
     "output_type": "execute_result"
    }
   ],
   "source": [
    "b.size # 値の総数"
   ]
  },
  {
   "cell_type": "code",
   "execution_count": 85,
   "metadata": {},
   "outputs": [
    {
     "data": {
      "text/plain": [
       "(4,)"
      ]
     },
     "execution_count": 85,
     "metadata": {},
     "output_type": "execute_result"
    }
   ],
   "source": [
    "b.shape # 次元ごとの値の数"
   ]
  },
  {
   "cell_type": "markdown",
   "metadata": {},
   "source": [
    "### C.3.2  arangeによる配列の作成"
   ]
  },
  {
   "cell_type": "code",
   "execution_count": 86,
   "metadata": {},
   "outputs": [
    {
     "data": {
      "text/plain": [
       "array([0, 1, 2, 3, 4, 5, 6, 7, 8, 9])"
      ]
     },
     "execution_count": 86,
     "metadata": {},
     "output_type": "execute_result"
    }
   ],
   "source": [
    "a = np.arange(10)\n",
    "a"
   ]
  },
  {
   "cell_type": "code",
   "execution_count": 87,
   "metadata": {},
   "outputs": [
    {
     "data": {
      "text/plain": [
       "array([ 7,  8,  9, 10])"
      ]
     },
     "execution_count": 87,
     "metadata": {},
     "output_type": "execute_result"
    }
   ],
   "source": [
    "a = np.arange(7,11)\n",
    "a"
   ]
  },
  {
   "cell_type": "code",
   "execution_count": 88,
   "metadata": {},
   "outputs": [
    {
     "data": {
      "text/plain": [
       "array([7, 9])"
      ]
     },
     "execution_count": 88,
     "metadata": {},
     "output_type": "execute_result"
    }
   ],
   "source": [
    "a = np.arange(7,11,2)\n",
    "a"
   ]
  },
  {
   "cell_type": "code",
   "execution_count": 89,
   "metadata": {},
   "outputs": [
    {
     "data": {
      "text/plain": [
       "array([2. , 2.3, 2.6, 2.9, 3.2, 3.5, 3.8, 4.1, 4.4, 4.7, 5. , 5.3, 5.6,\n",
       "       5.9, 6.2, 6.5, 6.8, 7.1, 7.4, 7.7, 8. , 8.3, 8.6, 8.9, 9.2, 9.5,\n",
       "       9.8])"
      ]
     },
     "execution_count": 89,
     "metadata": {},
     "output_type": "execute_result"
    }
   ],
   "source": [
    "f = np.arange(2.0,9.8,0.3)\n",
    "f"
   ]
  },
  {
   "cell_type": "code",
   "execution_count": 90,
   "metadata": {},
   "outputs": [
    {
     "data": {
      "text/plain": [
       "array([10. ,  8.5,  7. ,  5.5])"
      ]
     },
     "execution_count": 90,
     "metadata": {},
     "output_type": "execute_result"
    }
   ],
   "source": [
    "g = np.arange(10,4,-1.5,dtype=np.float) # dtypeで型を指定\n",
    "g"
   ]
  },
  {
   "cell_type": "markdown",
   "metadata": {},
   "source": [
    "### C.3.3  zeros、ones、randomによる配列の作成"
   ]
  },
  {
   "cell_type": "code",
   "execution_count": 91,
   "metadata": {},
   "outputs": [
    {
     "data": {
      "text/plain": [
       "array([0., 0., 0.])"
      ]
     },
     "execution_count": 91,
     "metadata": {},
     "output_type": "execute_result"
    }
   ],
   "source": [
    "a = np.zeros((3,))\n",
    "a"
   ]
  },
  {
   "cell_type": "code",
   "execution_count": 92,
   "metadata": {},
   "outputs": [
    {
     "data": {
      "text/plain": [
       "array([[0., 0., 0., 0.],\n",
       "       [0., 0., 0., 0.]])"
      ]
     },
     "execution_count": 92,
     "metadata": {},
     "output_type": "execute_result"
    }
   ],
   "source": [
    "b = np.zeros((2,4))\n",
    "b"
   ]
  },
  {
   "cell_type": "code",
   "execution_count": 93,
   "metadata": {},
   "outputs": [
    {
     "data": {
      "text/plain": [
       "(2, 4)"
      ]
     },
     "execution_count": 93,
     "metadata": {},
     "output_type": "execute_result"
    }
   ],
   "source": [
    "b.shape"
   ]
  },
  {
   "cell_type": "code",
   "execution_count": 94,
   "metadata": {},
   "outputs": [
    {
     "data": {
      "text/plain": [
       "array([[1., 1., 1., 1., 1.],\n",
       "       [1., 1., 1., 1., 1.],\n",
       "       [1., 1., 1., 1., 1.]])"
      ]
     },
     "execution_count": 94,
     "metadata": {},
     "output_type": "execute_result"
    }
   ],
   "source": [
    "k = np.ones((3,5))\n",
    "k"
   ]
  },
  {
   "cell_type": "code",
   "execution_count": 95,
   "metadata": {},
   "outputs": [
    {
     "data": {
      "text/plain": [
       "array([[0.62596767, 0.32869476, 0.30520355, 0.00805559, 0.47156609],\n",
       "       [0.04510052, 0.6957636 , 0.50580637, 0.60441405, 0.13659115],\n",
       "       [0.9308501 , 0.80275125, 0.98365807, 0.77723515, 0.47416854]])"
      ]
     },
     "execution_count": 95,
     "metadata": {},
     "output_type": "execute_result"
    }
   ],
   "source": [
    "m = np.random.random((3,5))\n",
    "m"
   ]
  },
  {
   "cell_type": "markdown",
   "metadata": {},
   "source": [
    "### C.3.4  reshapeによる配置形状の変更"
   ]
  },
  {
   "cell_type": "code",
   "execution_count": 96,
   "metadata": {},
   "outputs": [
    {
     "data": {
      "text/plain": [
       "array([0, 1, 2, 3, 4, 5, 6, 7, 8, 9])"
      ]
     },
     "execution_count": 96,
     "metadata": {},
     "output_type": "execute_result"
    }
   ],
   "source": [
    "a = np.arange(10)\n",
    "a"
   ]
  },
  {
   "cell_type": "code",
   "execution_count": 97,
   "metadata": {},
   "outputs": [
    {
     "data": {
      "text/plain": [
       "array([[0, 1, 2, 3, 4],\n",
       "       [5, 6, 7, 8, 9]])"
      ]
     },
     "execution_count": 97,
     "metadata": {},
     "output_type": "execute_result"
    }
   ],
   "source": [
    "a = a.reshape(2,5)\n",
    "a"
   ]
  },
  {
   "cell_type": "code",
   "execution_count": 98,
   "metadata": {},
   "outputs": [
    {
     "data": {
      "text/plain": [
       "2"
      ]
     },
     "execution_count": 98,
     "metadata": {},
     "output_type": "execute_result"
    }
   ],
   "source": [
    "a.ndim"
   ]
  },
  {
   "cell_type": "code",
   "execution_count": 99,
   "metadata": {},
   "outputs": [
    {
     "data": {
      "text/plain": [
       "array([[0, 1],\n",
       "       [2, 3],\n",
       "       [4, 5],\n",
       "       [6, 7],\n",
       "       [8, 9]])"
      ]
     },
     "execution_count": 99,
     "metadata": {},
     "output_type": "execute_result"
    }
   ],
   "source": [
    "a.shape = (5,2)\n",
    "a"
   ]
  },
  {
   "cell_type": "markdown",
   "metadata": {},
   "source": [
    "### C.3.5  [ ]による要素の取得"
   ]
  },
  {
   "cell_type": "code",
   "execution_count": 100,
   "metadata": {},
   "outputs": [
    {
     "data": {
      "text/plain": [
       "7"
      ]
     },
     "execution_count": 100,
     "metadata": {},
     "output_type": "execute_result"
    }
   ],
   "source": [
    "a = np.arange(10)\n",
    "a[7]"
   ]
  },
  {
   "cell_type": "code",
   "execution_count": 101,
   "metadata": {},
   "outputs": [
    {
     "data": {
      "text/plain": [
       "9"
      ]
     },
     "execution_count": 101,
     "metadata": {},
     "output_type": "execute_result"
    }
   ],
   "source": [
    "a[-1]"
   ]
  },
  {
   "cell_type": "code",
   "execution_count": 102,
   "metadata": {},
   "outputs": [
    {
     "data": {
      "text/plain": [
       "array([[0, 1, 2, 3, 4],\n",
       "       [5, 6, 7, 8, 9]])"
      ]
     },
     "execution_count": 102,
     "metadata": {},
     "output_type": "execute_result"
    }
   ],
   "source": [
    "a.shape = (2,5)\n",
    "a"
   ]
  },
  {
   "cell_type": "code",
   "execution_count": 103,
   "metadata": {},
   "outputs": [
    {
     "data": {
      "text/plain": [
       "7"
      ]
     },
     "execution_count": 103,
     "metadata": {},
     "output_type": "execute_result"
    }
   ],
   "source": [
    "a[1,2]"
   ]
  },
  {
   "cell_type": "code",
   "execution_count": 104,
   "metadata": {},
   "outputs": [
    {
     "data": {
      "text/plain": [
       "7"
      ]
     },
     "execution_count": 104,
     "metadata": {},
     "output_type": "execute_result"
    }
   ],
   "source": [
    "a[1][2]"
   ]
  },
  {
   "cell_type": "code",
   "execution_count": 105,
   "metadata": {},
   "outputs": [
    {
     "data": {
      "text/plain": [
       "array([2, 3, 4])"
      ]
     },
     "execution_count": 105,
     "metadata": {},
     "output_type": "execute_result"
    }
   ],
   "source": [
    "a[0,2:]"
   ]
  },
  {
   "cell_type": "code",
   "execution_count": 106,
   "metadata": {},
   "outputs": [
    {
     "data": {
      "text/plain": [
       "array([5, 6, 7])"
      ]
     },
     "execution_count": 106,
     "metadata": {},
     "output_type": "execute_result"
    }
   ],
   "source": [
    "a[-1,:3]"
   ]
  },
  {
   "cell_type": "code",
   "execution_count": 107,
   "metadata": {},
   "outputs": [
    {
     "data": {
      "text/plain": [
       "array([[2, 3],\n",
       "       [7, 8]])"
      ]
     },
     "execution_count": 107,
     "metadata": {},
     "output_type": "execute_result"
    }
   ],
   "source": [
    "a[:,2:4]"
   ]
  },
  {
   "cell_type": "code",
   "execution_count": 108,
   "metadata": {},
   "outputs": [
    {
     "data": {
      "text/plain": [
       "array([[ 0,  1, 10, 10,  4],\n",
       "       [ 5,  6, 10, 10,  9]])"
      ]
     },
     "execution_count": 108,
     "metadata": {},
     "output_type": "execute_result"
    }
   ],
   "source": [
    "a[:,2:4] = 10\n",
    "a"
   ]
  },
  {
   "cell_type": "markdown",
   "metadata": {},
   "source": [
    "### C.3.6  配列の数学演算"
   ]
  },
  {
   "cell_type": "code",
   "execution_count": 109,
   "metadata": {},
   "outputs": [],
   "source": [
    "from numpy import *"
   ]
  },
  {
   "cell_type": "code",
   "execution_count": 110,
   "metadata": {},
   "outputs": [
    {
     "data": {
      "text/plain": [
       "array([0, 1, 2, 3])"
      ]
     },
     "execution_count": 110,
     "metadata": {},
     "output_type": "execute_result"
    }
   ],
   "source": [
    "a = arange(4)\n",
    "a"
   ]
  },
  {
   "cell_type": "code",
   "execution_count": 111,
   "metadata": {},
   "outputs": [
    {
     "data": {
      "text/plain": [
       "array([0, 3, 6, 9])"
      ]
     },
     "execution_count": 111,
     "metadata": {},
     "output_type": "execute_result"
    }
   ],
   "source": [
    "a *= 3\n",
    "a"
   ]
  },
  {
   "cell_type": "code",
   "execution_count": 112,
   "metadata": {},
   "outputs": [
    {
     "data": {
      "text/plain": [
       "array([[17., 17., 17., 17., 17.],\n",
       "       [17., 17., 17., 17., 17.]])"
      ]
     },
     "execution_count": 112,
     "metadata": {},
     "output_type": "execute_result"
    }
   ],
   "source": [
    "a = zeros((2,5)) + 17.0\n",
    "a"
   ]
  },
  {
   "cell_type": "markdown",
   "metadata": {},
   "source": [
    "### C.3.7  線形代数"
   ]
  },
  {
   "cell_type": "code",
   "execution_count": 113,
   "metadata": {},
   "outputs": [],
   "source": [
    "import numpy as np"
   ]
  },
  {
   "cell_type": "code",
   "execution_count": 114,
   "metadata": {},
   "outputs": [],
   "source": [
    "coefficients = np.array([[4, 5],[1, 2]])"
   ]
  },
  {
   "cell_type": "code",
   "execution_count": 115,
   "metadata": {},
   "outputs": [],
   "source": [
    "dependents = np.array([20, 13])"
   ]
  },
  {
   "cell_type": "code",
   "execution_count": 116,
   "metadata": {},
   "outputs": [
    {
     "data": {
      "text/plain": [
       "array([-8.33333333, 10.66666667])"
      ]
     },
     "execution_count": 116,
     "metadata": {},
     "output_type": "execute_result"
    }
   ],
   "source": [
    "answers = np.linalg.solve(coefficients, dependents)\n",
    "answers"
   ]
  },
  {
   "cell_type": "markdown",
   "metadata": {},
   "source": [
    "上の計算は 4x + 5y = 20 と x + 2y = 13 のxとyを求める計算になる"
   ]
  },
  {
   "cell_type": "code",
   "execution_count": 117,
   "metadata": {},
   "outputs": [
    {
     "data": {
      "text/plain": [
       "20.0"
      ]
     },
     "execution_count": 117,
     "metadata": {},
     "output_type": "execute_result"
    }
   ],
   "source": [
    "4 * answers[0] + 5 * answers[1]"
   ]
  },
  {
   "cell_type": "code",
   "execution_count": 118,
   "metadata": {},
   "outputs": [
    {
     "data": {
      "text/plain": [
       "13.0"
      ]
     },
     "execution_count": 118,
     "metadata": {},
     "output_type": "execute_result"
    }
   ],
   "source": [
    "answers[0] + 2 * answers[1]"
   ]
  },
  {
   "cell_type": "code",
   "execution_count": 119,
   "metadata": {},
   "outputs": [
    {
     "data": {
      "text/plain": [
       "array([20., 13.])"
      ]
     },
     "execution_count": 119,
     "metadata": {},
     "output_type": "execute_result"
    }
   ],
   "source": [
    "product = np.dot(coefficients, answers)\n",
    "product"
   ]
  },
  {
   "cell_type": "markdown",
   "metadata": {},
   "source": [
    "numpyのdotを使うと確かめ算を簡単にできる"
   ]
  },
  {
   "cell_type": "code",
   "execution_count": 120,
   "metadata": {},
   "outputs": [
    {
     "data": {
      "text/plain": [
       "True"
      ]
     },
     "execution_count": 120,
     "metadata": {},
     "output_type": "execute_result"
    }
   ],
   "source": [
    "np.allclose(product, dependents)"
   ]
  },
  {
   "cell_type": "markdown",
   "metadata": {},
   "source": [
    "numpyのallcloseを使えば二つの配列がほぼ等しいかがわかる"
   ]
  },
  {
   "cell_type": "markdown",
   "metadata": {},
   "source": [
    "## C.4  SciPyライブラリ"
   ]
  },
  {
   "cell_type": "markdown",
   "metadata": {},
   "source": [
    "NumPyを基礎として作られたSciPyというライブラリには、さらに多くの数学、統計関数が含まれている  \n",
    "SciPyのダウンロードパッケージには、NumPy、SciPy、Pandas、その他のライブラリが含まれている  \n",
    "次のようなタスクが含まれている  \n",
    "- 最適化\n",
    "- 統計\n",
    "- 補間\n",
    "- 線形回帰\n",
    "- 積分\n",
    "- 画像処理\n",
    "- 信号処理"
   ]
  },
  {
   "cell_type": "markdown",
   "metadata": {},
   "source": [
    "## C.5  SciKitライブラリ"
   ]
  },
  {
   "cell_type": "markdown",
   "metadata": {},
   "source": [
    "SciPyを基礎とする科学パッケージのグループで、専門分野は機械学習になる  \n",
    "モデリング、分類、クラスタリング、その他のさまざまなアルゴリズムをサポートしている"
   ]
  },
  {
   "cell_type": "markdown",
   "metadata": {},
   "source": [
    "## C.6  IPythonライブラリ"
   ]
  },
  {
   "cell_type": "markdown",
   "metadata": {},
   "source": [
    "IPythonの良い点は  \n",
    "- 改良されたインタープリタ\n",
    "- ウェブベースのノートブックにコード、グラフ、テキスト、その他を埋め込んで公開できる\n",
    "- 並列コンピューティングをサポートする"
   ]
  },
  {
   "cell_type": "markdown",
   "metadata": {},
   "source": [
    "## C.7  Pandas"
   ]
  },
  {
   "cell_type": "markdown",
   "metadata": {},
   "source": [
    "Pandasは、対話的データ分析のための新しいパッケージになる  \n",
    "Pandasは、NumPyの行列演算とスプレッドシートやリレーショナルデータベースの処理を結合し、現実の世界のデータを操作するときに特に役に立つ  \n",
    "NumPyは同じ型の多次元データセットを操作することが多い伝統的な科学計算に向いている  \n",
    "Pandasはグループ内の複数のデータ型を処理し、データベースエディタに近い"
   ]
  },
  {
   "cell_type": "markdown",
   "metadata": {},
   "source": [
    "PandasはDataFrameという基本データ構造を定義していて、これは名前と型のある列の順序だったコレクションだ  \n",
    "DataFrameは、データベースのテーブル、Pythonの名前付きタプル、Pythonのネストされた辞書に似ているところがある  \n",
    "その目的は、科学のみならず、ビジネスでも見かけることになりそうなタイプのデータ処理を単純化することだ  \n",
    "この分野で最も広く使われている対抗製品はスプレッドシートになる  \n",
    "Pandasは、現実の世界にあるきれいとは言えないデータのためのETLツールである  \n",
    "分割、結合、拡張、設定、変換、形状設定、スライシング、ファイルの読み書きをすることができる  \n",
    "NumPy、SciPy、IPythonと一体となって統計計算、モデルへのデータのはめ込み、グラフの描画、パブッリシングなどを行う"
   ]
  },
  {
   "cell_type": "markdown",
   "metadata": {},
   "source": [
    "## C.8  Pythonと科学分野"
   ]
  },
  {
   "cell_type": "markdown",
   "metadata": {},
   "source": [
    "特定分野を対象するソフトウェア、ドキュメントを以下にまとめる"
   ]
  },
  {
   "cell_type": "markdown",
   "metadata": {},
   "source": [
    "### C.8.0.1  全般"
   ]
  },
  {
   "cell_type": "markdown",
   "metadata": {},
   "source": [
    "- 科学技術分野におけるPythonを使った計算  \n",
    "- 科学者のためのPython集中コース"
   ]
  },
  {
   "cell_type": "markdown",
   "metadata": {},
   "source": [
    "### C.8.0.2  物理学"
   ]
  },
  {
   "cell_type": "markdown",
   "metadata": {},
   "source": [
    "- コンピュータ物理学"
   ]
  },
  {
   "cell_type": "markdown",
   "metadata": {},
   "source": [
    "### C.8.0.3  生物学、医学"
   ]
  },
  {
   "cell_type": "markdown",
   "metadata": {},
   "source": [
    "- 生物学者のためのPython  \n",
    "- Pythonによる神経画像"
   ]
  },
  {
   "cell_type": "markdown",
   "metadata": {},
   "source": [
    "Pytohnとデータ処理についての国際的なカンファレンスとしては、次のものがあ  \n",
    "- PyData\n",
    "- SciPy\n",
    "- EuroSciPy"
   ]
  },
  {
   "cell_type": "code",
   "execution_count": null,
   "metadata": {},
   "outputs": [],
   "source": []
  }
 ],
 "metadata": {
  "kernelspec": {
   "display_name": "Python 3",
   "language": "python",
   "name": "python3"
  },
  "language_info": {
   "codemirror_mode": {
    "name": "ipython",
    "version": 3
   },
   "file_extension": ".py",
   "mimetype": "text/x-python",
   "name": "python",
   "nbconvert_exporter": "python",
   "pygments_lexer": "ipython3",
   "version": "3.7.6"
  }
 },
 "nbformat": 4,
 "nbformat_minor": 4
}
