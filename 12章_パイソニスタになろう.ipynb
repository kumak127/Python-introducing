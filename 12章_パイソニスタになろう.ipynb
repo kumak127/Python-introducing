{
 "cells": [
  {
   "cell_type": "markdown",
   "metadata": {},
   "source": [
    "# 12.2  Pythonコードを見つけてこよう"
   ]
  },
  {
   "cell_type": "markdown",
   "metadata": {},
   "source": [
    "Pythonの標準ライブラリは、範囲が広く、内容的に深く、基本的に明確に書かれている  \n",
    "まずここで探す "
   ]
  },
  {
   "cell_type": "markdown",
   "metadata": {},
   "source": [
    "次に行く場所は、PyPI(Python Package Index)で探す  \n",
    "コンスタントPythonパッケージが集まっており、直接サーチすることもできる"
   ]
  },
  {
   "cell_type": "markdown",
   "metadata": {},
   "source": [
    "人気の高いリポジトリとしてはGitHubもある  \n",
    "他にもPopular Python recipesには短いPythonプログラムが集められている"
   ]
  },
  {
   "cell_type": "markdown",
   "metadata": {},
   "source": [
    "# 12.3  パッケージのインストール"
   ]
  },
  {
   "cell_type": "markdown",
   "metadata": {},
   "source": [
    "- 可能ならpipを使う\n",
    "- オペレーティングシステムのパッケージマネージャを使えることがある\n",
    "- ソースからインストールする"
   ]
  },
  {
   "cell_type": "markdown",
   "metadata": {},
   "source": [
    "## 12.3.1  pipの使い方"
   ]
  },
  {
   "cell_type": "markdown",
   "metadata": {},
   "source": [
    "pipの最も簡単な使い方は最新バージョンをインストールすることで`pip install モジュール名`でできる  \n",
    "インストールすると、ダウンロードしてsetup.pyを実行してディスクにファイルをインストールして、その他細かいことをしたと表示される"
   ]
  },
  {
   "cell_type": "markdown",
   "metadata": {},
   "source": [
    "pipに特定のバージョンを指定することもでき`pip install モジュール名==バージョン`できる"
   ]
  },
  {
   "cell_type": "markdown",
   "metadata": {},
   "source": [
    "最低限必要なバージョンを指定することもできる`pip install 'モジュール名>=バージョン'`  \n",
    "クォートで囲んでいる点に注意"
   ]
  },
  {
   "cell_type": "markdown",
   "metadata": {},
   "source": [
    "## 12.3.3  ソースからのインストール"
   ]
  },
  {
   "cell_type": "markdown",
   "metadata": {},
   "source": [
    "Pythonができたばかりで、作者がpipでインストールできるようにしていないということが時々ある  \n",
    "その場合パッケージを構築するには以下のようにする  \n",
    "1. コードをダウンロードする  \n",
    "2. アーカイブ化されていたり圧縮されていたりする場合は、zip、tarなどの適切なツールを使ってファイルを抽出する  \n",
    "3. setup.pyファイルが格納されているディレクトリで、python install setup.pyを実行する"
   ]
  },
  {
   "cell_type": "markdown",
   "metadata": {},
   "source": [
    "# 12.4  IDE(統合開発環境)"
   ]
  },
  {
   "cell_type": "markdown",
   "metadata": {},
   "source": [
    "IDEとは、テキストエディタ、デバッガ、ライブラリ検索などのツールを使えるようになっているGUIのこと"
   ]
  },
  {
   "cell_type": "markdown",
   "metadata": {},
   "source": [
    "## 12.4.1  IDLE"
   ]
  },
  {
   "cell_type": "markdown",
   "metadata": {},
   "source": [
    "IDLEは標準ディストリビューションに含まれている唯一のPython IDEである"
   ]
  },
  {
   "cell_type": "markdown",
   "metadata": {},
   "source": [
    "## 12.4.2  PyCharm"
   ]
  },
  {
   "cell_type": "markdown",
   "metadata": {},
   "source": [
    "PyCharmは、多機能なグラフィックIDEで、コミュニティエディションは無料で使える"
   ]
  },
  {
   "cell_type": "markdown",
   "metadata": {},
   "source": [
    "## 12.4.3  IPython"
   ]
  },
  {
   "cell_type": "markdown",
   "metadata": {},
   "source": [
    "機能豊かなIDE  \n",
    "改良された対話型インタープリタで、ウェブベースのノートブックにコード、グラフ、テキスト、その他を埋め込んで公開できる  \n",
    "anacondaによって自動的にインストールされる"
   ]
  },
  {
   "cell_type": "markdown",
   "metadata": {},
   "source": [
    "# 12.5  名前とドキュメント"
   ]
  },
  {
   "cell_type": "markdown",
   "metadata": {},
   "source": [
    "デベロッパーは自分が書いたものを忘れるもので、コードのドキュメントが役立つのはそのためだ  \n",
    "ドキュメントにはコメントと、docstringが含まれるが、変数、関数、モジュール、クラスにもわかりやすい名前をつけることも含まれる  \n",
    "以下は例で改良しなければいけない点がいくつかある"
   ]
  },
  {
   "cell_type": "code",
   "execution_count": 1,
   "metadata": {},
   "outputs": [],
   "source": [
    "def froc(f_temp):\n",
    "    \"華氏の温度<f_temp>を摂氏に変換して返す\"\n",
    "    f_boil_temp = 212.0\n",
    "    f_freeze_temp = 32.0\n",
    "    c_boil_temp = 100.0\n",
    "    c_freeze_temp = 0.0\n",
    "    f_range = f_boil_temp - f_freeze_temp\n",
    "    c_range = c_boil_temp - c_freeze_temp\n",
    "    f_c_ratio = c_range / f_range\n",
    "    c_temp = (f_temp - f_freeze_temp) * f_c_ratio + c_freeze_temp\n",
    "    return c_temp"
   ]
  },
  {
   "cell_type": "markdown",
   "metadata": {},
   "source": [
    "Pythonに定数はないが、定数と考えるべき変数に名前を付けるときは、大文字とアンダースコアを使うことを推奨している  \n",
    "定数値に基づいた計算を行っているが定数値の部分はトップレベルの関数外に移動させると、関数を呼び出したときの処理速度が上がる"
   ]
  },
  {
   "cell_type": "code",
   "execution_count": 2,
   "metadata": {},
   "outputs": [],
   "source": [
    "F_BOIL_TEMP = 212.0\n",
    "F_FREEZE_TEMP = 32.0\n",
    "C_BOIL_TEMP = 100.0\n",
    "C_FREEZE_TEMP = 0.0\n",
    "F_RANGE = F_BOIL_TEMP - F_FREEZE_TEMP\n",
    "C_RANGE = C_BOIL_TEMP - C_FREEZE_TEMP\n",
    "F_C_RATIO = C_RANGE/ F_RANGE\n",
    "\n",
    "def ftoc(f_temp):\n",
    "    \"華氏の温度<f_temp>を摂氏に変換して返す\"\n",
    "    c_temp = (f_temp - F_FREEZE_TEMP) * F_C_RATIO + C_FREEZE_TEMP\n",
    "    return c_temp"
   ]
  },
  {
   "cell_type": "markdown",
   "metadata": {},
   "source": [
    "# 12.6  コードのテスト"
   ]
  },
  {
   "cell_type": "markdown",
   "metadata": {},
   "source": [
    "Pythonプログラムのテストで最も単純なのはprint関数の追加だ  \n",
    "しかし、本番コードでprintを使うのは避けたほうが良い"
   ]
  },
  {
   "cell_type": "markdown",
   "metadata": {},
   "source": [
    "## 12.6.1  pylint, pyflakes, pep8によるチェック"
   ]
  },
  {
   "cell_type": "code",
   "execution_count": null,
   "metadata": {},
   "outputs": [],
   "source": [
    "# python3 - pyworks\\style1.py\n",
    "a = 1\n",
    "b = 2\n",
    "print(a)\n",
    "print(b)\n",
    "print(c)"
   ]
  },
  {
   "cell_type": "markdown",
   "metadata": {},
   "source": [
    "上のコードを `$ pylint style1.py` で実行すると  \n",
    "`************* Module style1  \n",
    " style1.py:8:0: C0304: Final newline missing (missing-final-newline)  \n",
    " style1.py:1:0: C0114: Missing module docstring (missing-module-docstring)  \n",
    " style1.py:4:0: C0103: Constant name \"a\" doesn't conform to UPPER_CASE naming style (invalid-name)  \n",
    " style1.py:5:0: C0103: Constant name \"b\" doesn't conform to UPPER_CASE naming style (invalid-name)  \n",
    " style1.py:8:6: E0602: Undefined variable 'c' (undefined-variable)  \n",
    " \\-------------------------------------------------------------------  \n",
    " Your code has been rated at -8.00/10 (previous run: 0.00/10, -8.00)`  \n",
    "と悪いところと、最後に10点満点のうち何点かを教えてくれる  \n",
    "Eがエラーを表す"
   ]
  },
  {
   "cell_type": "code",
   "execution_count": null,
   "metadata": {},
   "outputs": [],
   "source": [
    "# python3 - pyworks\\style2.py\n",
    "\"ここにモジュールのdocstringを書く\"\n",
    "\n",
    "def func():\n",
    "    \"ここに関数のdocstringを書く\"\n",
    "    first = 1\n",
    "    second = 2\n",
    "    third = 3\n",
    "    print(first)\n",
    "    print(second)\n",
    "    print(third)\n",
    "\n",
    "func()"
   ]
  },
  {
   "cell_type": "markdown",
   "metadata": {},
   "source": [
    "これをpylintで実行すると  \n",
    "`--------------------------------------------------------------------  \n",
    " Your code has been rated at 10.00/10 (previous run: 10.00/10, +0.00)`  \n",
    "と全て改善してあると10点で返してくれる"
   ]
  },
  {
   "cell_type": "markdown",
   "metadata": {},
   "source": [
    "`$ pep8 style3.py` で実行すると  \n",
    "`style2.py:6:1: E302 expected 2 blank lines, found 1`  \n",
    "と返ってきて  \n",
    "関数のdocstringの後ろに空行を入れたほうが良いと教えてくれる"
   ]
  },
  {
   "cell_type": "markdown",
   "metadata": {},
   "source": [
    "## 12.6.2  unittestによるテスト"
   ]
  },
  {
   "cell_type": "markdown",
   "metadata": {},
   "source": [
    "コードをソース管理システム(Git)にコミットする前に、独立のテストプログラムを書いてテストに合格することを確認する作業はよいことだ  \n",
    "早い段階で問題を見つけるためにテストは本当に役立つ  \n",
    "よく書けているPythonパッケージを見れば、必ずテスト用のコードが含まれている  "
   ]
  },
  {
   "cell_type": "markdown",
   "metadata": {},
   "source": [
    "標準ライブラリには、二つのテストパッケージが含まれている  \n",
    "unittestはその一つになる"
   ]
  },
  {
   "cell_type": "code",
   "execution_count": 10,
   "metadata": {},
   "outputs": [],
   "source": [
    "# python3 - pyworks\\cap.py\n",
    "def just_do_it(text):\n",
    "    # \"<text>に含まれるすべての単語をタイトルケースに\"\n",
    "    return text.capitalize()"
   ]
  },
  {
   "cell_type": "markdown",
   "metadata": {},
   "source": [
    "テストの基本は、特定の入力からどのような結果を求めているかを決め、テスト対象の関数に入力を与え、期待通りの結果が返されたかをチェックする  \n",
    "期待された結果はアサーションと呼ばれる  \n",
    "unittestでは、assertで始まる名前を持つメソッドで結果をチェックする"
   ]
  },
  {
   "cell_type": "code",
   "execution_count": null,
   "metadata": {},
   "outputs": [],
   "source": [
    "# python3 - pyworks\\test_cap.py\n",
    "import unittest, cap\n",
    "class TestCap(unittest.TestCase):\n",
    "    def setUp(self):\n",
    "        pass\n",
    "    def tearDown(self):\n",
    "        pass\n",
    "    def test_one_word(self):\n",
    "        text = \"duck\"\n",
    "        result = cap.just_do_it(text)\n",
    "        self.assertEqual(result, \"Duck\")\n",
    "    def test_multiple_words(self):\n",
    "        text = \"a veritable flock of ducks\"\n",
    "        result = cap.just_do_it(text)\n",
    "        self.assertEqual(result, \"A Veritable Flock Of Ducks\")\n",
    "        \n",
    "if __name__ == \"__main__\":\n",
    "    unittest.main()"
   ]
  },
  {
   "cell_type": "markdown",
   "metadata": {},
   "source": [
    "これを`$ python test_cap.py`で実行すると  \n",
    "F.  \n",
    "\\======================================================================  \n",
    "FAIL: test_multiple_words (__main__.TestCap)  \n",
    "\\----------------------------------------------------------------------  \n",
    "Traceback (most recent call last):  \n",
    "  File \"test_cap.py\", line 22, in test_multiple_words  \n",
    "    self.assertEqual(result, \"A Veritable Flock Of Ducks\")  \n",
    "AssertionError: 'A veritable flock of ducks' != 'A Veritable Flock Of Ducks'  \n",
    "\\- A veritable flock of ducks  \n",
    "?   ^         ^     ^  ^  \n",
    "\\+ A Veritable Flock Of Ducks  \n",
    "?   ^         ^     ^  ^  \n",
    "\n",
    "\n",
    "----------------------------------------------------------------------  \n",
    "Ran 2 tests in 0.001s  \n",
    "\n",
    "FAILED (failures=1)\n",
    "\n",
    "と返ってきて期待された結果と異なるところを教えてくれる"
   ]
  },
  {
   "cell_type": "markdown",
   "metadata": {},
   "source": [
    "内容としては、テスト用のクラスにunittestモジュールの TestCase クラスを継承した子クラスを作る  \n",
    "unittestのTestCaseクラスの setUp メソッドと tearDown メソッドはテストメソッドの前後でそれぞれ呼び出されるメソッドで、テストが必要とする外部リソースを確保、開放することで、この場合自己完結しているのでpassして定義をしていない  \n",
    "次にテスト用の関数を定義する  \n",
    "関数内で関数を実行し、unittest.TestCase の assertEqual 関数に実行結果と期待される値を渡すことで、チェックする内容を決めることができる  \n",
    "最後にunittestモジュールの main 関数を呼び出すことでチェックを開始できる"
   ]
  },
  {
   "cell_type": "code",
   "execution_count": 12,
   "metadata": {},
   "outputs": [],
   "source": [
    "# python3 - pyworks\\cap.py\n",
    "def just_do_it(text):\n",
    "    \"Capitalize all words in <text>\"\n",
    "    return text.title()"
   ]
  },
  {
   "cell_type": "markdown",
   "metadata": {},
   "source": [
    "cap.pyの内容を変更して修正して、もう一度`$ python test_cap.py`を実行すると  \n",
    "..  \n",
    "\\----------------------------------------------------------------------  \n",
    "Ran 2 tests in 0.001s  \n",
    "\n",
    "OK`  \n",
    "と問題が期待通りの値が得られたことがわかる"
   ]
  },
  {
   "cell_type": "markdown",
   "metadata": {},
   "source": [
    "しかし、次のメソッドをtest_cap.pyに追加してみると"
   ]
  },
  {
   "cell_type": "code",
   "execution_count": 13,
   "metadata": {},
   "outputs": [],
   "source": [
    "    def test_words_with_apostrophes(self):\n",
    "        text = \"I'm fresh out of ideas\"\n",
    "        result = cap.just_do_it(text)\n",
    "        self.assertEqual(result, \"I'm Fresh Out Of Ideas\")"
   ]
  },
  {
   "cell_type": "markdown",
   "metadata": {},
   "source": [
    "再び`$ python test_cap.py`を実行すると  \n",
    "..F  \n",
    "\\======================================================================  \n",
    "FAIL: test_words_with_apostrophes (__main__.TestCap)  \n",
    "\\----------------------------------------------------------------------  \n",
    "Traceback (most recent call last):  \n",
    "  File \"test_cap.py\", line 27, in test_words_with_apostrophes  \n",
    "    self.assertEqual(result, \"I'm Fresh Out Of Ideas\")  \n",
    "AssertionError: \"I'M Fresh Out Of Ideas\" != \"I'm Fresh Out Of Ideas\"  \n",
    "- I'M Fresh Out Of Ideas  \n",
    "?   ^  \n",
    "+ I'm Fresh Out Of Ideas  \n",
    "?   ^  \n",
    "\n",
    "\n",
    "\\----------------------------------------------------------------------\n",
    "Ran 3 tests in 0.001s  \n",
    "  \n",
    "FAILED (failures=1)  \n",
    "と表示され、期待された値と違ったことを教えてくれる"
   ]
  },
  {
   "cell_type": "code",
   "execution_count": 14,
   "metadata": {},
   "outputs": [],
   "source": [
    "# python3 - pyworks\\cap.py\n",
    "def just_do_it(text):\n",
    "    \"Capitalize all words in <text>\"\n",
    "    from string import capwords\n",
    "    return capwords(text)"
   ]
  },
  {
   "cell_type": "markdown",
   "metadata": {},
   "source": [
    "上のようにcap.pyを変更してもう一度`$ python test_cap.py`を実行すると、期待通りの値が得られたことがわかる"
   ]
  },
  {
   "cell_type": "markdown",
   "metadata": {},
   "source": [
    "unittestは、小規模ながら強力なアサーションセットを提供しており、値をチェックしたり、望んだどおりのクラスをを手に入れているかどうかを確認したり、エラーが生成されたかどうかを判定したりすることができる"
   ]
  },
  {
   "cell_type": "markdown",
   "metadata": {},
   "source": [
    "## 12.6.3  doctestによるテスト"
   ]
  },
  {
   "cell_type": "markdown",
   "metadata": {},
   "source": [
    "標準ライブラリに含まれるもう一つのテストパッケージはdoctestになる  \n",
    "このパッケージを使えば、docstringの中にテストを書き、ドキュメントとして使うこともできる"
   ]
  },
  {
   "cell_type": "code",
   "execution_count": 15,
   "metadata": {},
   "outputs": [],
   "source": [
    "# python3 - pyworks\\cap2.py\n",
    "def just_do_it(text):\n",
    "    \"\"\"\n",
    "    >>> just_do_it(\"duck\")\n",
    "    'Duck'\n",
    "    >>> just_do_it(\"a veritable flock of ducks\")\n",
    "    'A Veritable Flock Of Ducks'\n",
    "    >>> just_do_it(\"I'm fresh out of ideas\")\n",
    "    \"I'm Fresh Out Of Ideas\"\n",
    "    \"\"\"\n",
    "    from string import capwords\n",
    "    return capwords(text)\n",
    "\n",
    "if __name__ == \"__main__\":\n",
    "    import doctest\n",
    "    doctest.testmod()"
   ]
  },
  {
   "cell_type": "markdown",
   "metadata": {},
   "source": [
    "上のコードを`$ python cap2.py`と実行して、すべてのテスト結果が問題なければ何も表示されない  \n",
    "もし何が起きたかも知りたい場合は`$ python3 cap2.py -v`とすると  \n",
    "`Trying:  \n",
    "     just_do_it(\"duck\")  \n",
    " Expecting:  \n",
    "     'Duck'  \n",
    " ok  \n",
    " Trying:  \n",
    "     just_do_it(\"a veritable flock of ducks\")  \n",
    " Expecting:  \n",
    "     'A Veritable Flock Of Ducks'  \n",
    " ok  \n",
    " Trying:  \n",
    "     just_do_it(\"I'm fresh out of ideas\")  \n",
    " Expecting:  \n",
    "     \"I'm Fresh Out Of Ideas\"  \n",
    " ok  \n",
    " 1 items had no tests:  \n",
    "     __main__  \n",
    " 1 items passed all tests:  \n",
    "    3 tests in __main__.just_do_it  \n",
    " 3 tests in 2 items.  \n",
    " 3 passed and 0 failed.  \n",
    " Test passed.`  \n",
    " と実行内容も表示してくれる"
   ]
  },
  {
   "cell_type": "markdown",
   "metadata": {},
   "source": [
    "## 12.6.4  noseによるテスト"
   ]
  },
  {
   "cell_type": "markdown",
   "metadata": {},
   "source": [
    "unittestとは異なり、テストメソッドを含むクラスを作る必要はない  \n",
    "名前の中にtestが含まれている関数が実行される"
   ]
  },
  {
   "cell_type": "code",
   "execution_count": null,
   "metadata": {},
   "outputs": [],
   "source": [
    "# python3 - pyworks\\test_cap_nose.py\n",
    "import cap\n",
    "from nose.tools import eq_\n",
    "def test_one_word():\n",
    "    text = \"duck\"\n",
    "    result = cap.just_do_it(text)\n",
    "    eq_(result, \"Duck\")\n",
    "def test_multiple_words():\n",
    "    text = \"a varitable flock of ducks\"\n",
    "    result = cap.just_do_it(text)\n",
    "    eq_(result, \"A Varitable Flock Of Ducks\")\n",
    "def test_words_with_apostrophes():\n",
    "    text = \"I'm fresh out of ideas\"\n",
    "    result = cap.just_do_it(text)\n",
    "    eq_(result, \"I'm Fresh Out Of Ideas\")\n",
    "def test_words_with_quotes():\n",
    "    text = \"\\\"You're despicable,\\\" said Daffy Duck\"\n",
    "    result = cap.just_do_it(text)\n",
    "    eq_(result, \"\\\"You're Despicable,\\\" Said Daffy Duck\")"
   ]
  },
  {
   "cell_type": "markdown",
   "metadata": {},
   "source": [
    "コマンドプロンプトで `$ nosetests test_cap_nose.py`を実行すると  \n",
    "...F  \n",
    "\\======================================================================  \n",
    "FAIL: test_cap_nose.test_words_with_quotes  \n",
    "\\----------------------------------------------------------------------  \n",
    "Traceback (most recent call last):  \n",
    "  File \"C:\\Users\\kumak\\anaconda3\\lib\\site-packages\\nose\\case.py\", line 197, in runTest  \n",
    "    self.test(*self.arg)  \n",
    "  File \"C:\\Users\\kumak\\pyworks\\test_cap_nose.py\", line 25, in test_words_with_quotes  \n",
    "    eq_(result, \"\\\"You're Despicable,\\\" Said Daffy Duck\")  \n",
    "AssertionError: '\"you\\'re Despicable,\" Said Daffy Duck' != '\"You\\'re Despicable,\" Said Daffy Duck'  \n",
    "  \n",
    "\\----------------------------------------------------------------------  \n",
    "Ran 4 tests in 0.000s  \n",
    "  \n",
    "FAILED (failures=1)  \n",
    "と表示されて、ひとつの関数で期待の結果が得られなかったことがわかる  \n",
    "noseパッケージのtoolsモジュールのeq_関数に結果の値と、期待の値を入れることでチェックできる"
   ]
  },
  {
   "cell_type": "markdown",
   "metadata": {},
   "source": [
    "## 12.6.6  継続的インテグレーション"
   ]
  },
  {
   "cell_type": "markdown",
   "metadata": {},
   "source": [
    "新しいコードがチェックインされるたびに全てのコードに対してテストを実行するようにソース管理システムを自動化することができる  \n",
    "- buldbot  \n",
    "このソース管理システムは、Pythonで書かれており、ビルド、テスト、リリースを自動化する  \n",
    "- jenkins  \n",
    "Javaで書かれていて、CIツールとしてよいとされているもの  \n",
    "- travis-ci  \n",
    "GitHubをホストとするプロジェクトを自動化する"
   ]
  },
  {
   "cell_type": "markdown",
   "metadata": {},
   "source": [
    "# 12.7  Pythonコードのデバッグ"
   ]
  },
  {
   "cell_type": "markdown",
   "metadata": {},
   "source": [
    "Pythonでデバッグするときに最も単純なのは、文字列を表示してみることだ  \n",
    "表示に役立つものとしてvars関数がある  "
   ]
  },
  {
   "cell_type": "code",
   "execution_count": 1,
   "metadata": {},
   "outputs": [],
   "source": [
    "def func(*args, **kwargs):\n",
    "    print(vars())"
   ]
  },
  {
   "cell_type": "code",
   "execution_count": 2,
   "metadata": {},
   "outputs": [
    {
     "name": "stdout",
     "output_type": "stream",
     "text": [
      "{'args': (1, 2, 3), 'kwargs': {}}\n"
     ]
    }
   ],
   "source": [
    "func(1,2,3)"
   ]
  },
  {
   "cell_type": "code",
   "execution_count": 3,
   "metadata": {},
   "outputs": [
    {
     "name": "stdout",
     "output_type": "stream",
     "text": [
      "{'args': (['a', 'b', 'argh'],), 'kwargs': {}}\n"
     ]
    }
   ],
   "source": [
    "func([\"a\",\"b\",\"argh\"])"
   ]
  },
  {
   "cell_type": "code",
   "execution_count": 5,
   "metadata": {},
   "outputs": [
    {
     "name": "stdout",
     "output_type": "stream",
     "text": [
      "{'args': (), 'kwargs': {'a': 1, 'b': 2}}\n"
     ]
    }
   ],
   "source": [
    "func(a=1,b=2)"
   ]
  },
  {
   "cell_type": "markdown",
   "metadata": {},
   "source": [
    "vars関数は関数への引数を含むローカル変数の値を抽出する"
   ]
  },
  {
   "cell_type": "markdown",
   "metadata": {},
   "source": [
    "デコレータは、関数自体のコードを変更せずに関数呼び出しの前後にコードを呼び出すことができる  \n",
    "これを利用して関数呼び出し時の入出力引数の値を表示できる"
   ]
  },
  {
   "cell_type": "code",
   "execution_count": 16,
   "metadata": {},
   "outputs": [],
   "source": [
    "def dump(func):\n",
    "    \"入力引数と出力値を表示する\"\n",
    "    def wrapped(*args, **kwargs):\n",
    "        print(f\"Function name: {func.__name__}\")\n",
    "        print(f\"Input arguments: {' '.join(map(str, args))}\")\n",
    "        print(f\"Input keyword arguments: {kwargs.items()}\")\n",
    "        output = func(*args,**kwargs)\n",
    "        print(f\"Output: {output}\")\n",
    "        return output\n",
    "    return wrapped"
   ]
  },
  {
   "cell_type": "code",
   "execution_count": 19,
   "metadata": {},
   "outputs": [],
   "source": [
    "@dump\n",
    "def double(*args, **kwargs):\n",
    "    \"Double every argument\"\n",
    "    output_list = [2 * arg for arg in args]\n",
    "    output_dict = {k:2*v for k,v in kwargs.items()}\n",
    "    return output_list, output_dict"
   ]
  },
  {
   "cell_type": "code",
   "execution_count": 20,
   "metadata": {},
   "outputs": [
    {
     "name": "stdout",
     "output_type": "stream",
     "text": [
      "Function name: double\n",
      "Input arguments: 3 5\n",
      "Input keyword arguments: dict_items([('first', 100), ('next', 98.6), ('last', -40)])\n",
      "Output: ([6, 10], {'first': 200, 'next': 197.2, 'last': -80})\n"
     ]
    },
    {
     "data": {
      "text/plain": [
       "([6, 10], {'first': 200, 'next': 197.2, 'last': -80})"
      ]
     },
     "execution_count": 20,
     "metadata": {},
     "output_type": "execute_result"
    }
   ],
   "source": [
    "double(3,5,first=100,next=98.6,last=-40)"
   ]
  },
  {
   "cell_type": "markdown",
   "metadata": {},
   "source": [
    "# 12.8  pdbによるデバッグ"
   ]
  },
  {
   "cell_type": "code",
   "execution_count": 1,
   "metadata": {},
   "outputs": [],
   "source": [
    "import csv"
   ]
  },
  {
   "cell_type": "code",
   "execution_count": null,
   "metadata": {},
   "outputs": [],
   "source": [
    "city_list =[[\"France\",\"Paris\"],[\"venuzuela\",\"caracas\"],[\"LithuniA\",\"vilnius\"],[\"quit\",\"\"]]"
   ]
  },
  {
   "cell_type": "code",
   "execution_count": 4,
   "metadata": {},
   "outputs": [],
   "source": [
    "with open(r\".\\pydata\\cities1.csv\", \"w\",newline=\"\") as f:\n",
    "    writer = csv.writer(f)\n",
    "    for city in city_list:\n",
    "        writer.writerow(city)"
   ]
  },
  {
   "cell_type": "markdown",
   "metadata": {},
   "source": [
    "pdbはPython標準のデバッガで以下に使い方を説明する"
   ]
  },
  {
   "cell_type": "code",
   "execution_count": 5,
   "metadata": {},
   "outputs": [
    {
     "name": "stdout",
     "output_type": "stream",
     "text": [
      "C:\\Users\\kumak\\pydata\\cities1.csv\n",
      "Paris,France\n",
      "Caracas,Venuzuela\n",
      "Vilnius,Lithunia\n"
     ]
    }
   ],
   "source": [
    "# python3 - pyworks\\capitals.py\n",
    "def process_cities(filename):\n",
    "    with open(filename, \"r\") as file:\n",
    "        for line in file:\n",
    "            line = line.strip()\n",
    "            if \"quit\" in line.lower():\n",
    "                return\n",
    "            country, city = line.split(\",\")\n",
    "            city = city.strip()\n",
    "            country = country.strip()\n",
    "            print(city.title(), country.title(), sep=\",\")\n",
    "            \n",
    "process_cities(input())"
   ]
  },
  {
   "cell_type": "markdown",
   "metadata": {},
   "source": [
    "上のコードはCSVファイルの国名と首都を取り出し、頭文字を大文字、ほかを小文字にして、もしquitが文字列に入っていたら終了するようにしている"
   ]
  },
  {
   "cell_type": "markdown",
   "metadata": {},
   "source": [
    "上のようにすれば問題なく動作している"
   ]
  },
  {
   "cell_type": "code",
   "execution_count": 6,
   "metadata": {},
   "outputs": [],
   "source": [
    "city_list = [[\"argentina\",\"buenos aires\"],[\"bolivia\", \"la paz\"],[\"brazil\",\"brasilia\"],[\"chile\",\"santiago\"],[\"clombia\",\"Bogota\"],\n",
    "             [\"ecuador\",\"quito\"],[\"falkland islands\",\"stanley\"],[\"french guiana\",\"cayenne\"],[\"guyana\",\"georgetown\"],\n",
    "             [\"paraguay\",\"Asuncion\"],[\"peru\",\"lima\"],[\"suriname\",\"paramaribo\"],[\"uruguay\",\"montevideo\"],[\"venezuela\",\"caracas\"],[\"quit\",\"\"]]"
   ]
  },
  {
   "cell_type": "code",
   "execution_count": 8,
   "metadata": {},
   "outputs": [],
   "source": [
    "with open(r\".\\pydata\\cities2.csv\",\"w\",newline=\"\") as f:\n",
    "    writer = csv.writer(f)\n",
    "    for city in city_list:\n",
    "        writer.writerow(city)"
   ]
  },
  {
   "cell_type": "markdown",
   "metadata": {},
   "source": [
    "問題なく動作したので本番として上で作ったCSVファイルを使う"
   ]
  },
  {
   "cell_type": "code",
   "execution_count": 9,
   "metadata": {},
   "outputs": [
    {
     "name": "stdout",
     "output_type": "stream",
     "text": [
      "C:\\Users\\kumak\\pydata\\cities2.csv\n",
      "Buenos Aires,Argentina\n",
      "La Paz,Bolivia\n",
      "Brasilia,Brazil\n",
      "Santiago,Chile\n",
      "Bogota,Clombia\n"
     ]
    }
   ],
   "source": [
    "process_cities(input())"
   ]
  },
  {
   "cell_type": "markdown",
   "metadata": {},
   "source": [
    "なぜか、上の5個を出力して止まってしまった  \n",
    "これを確かめるためにpdbを使ってみる  \n",
    "`python -m pdb capitals.py\n",
    " Filename`\n",
    "とオプションで-m pdbを渡して起動してファイルを入力すると  \n",
    "`> c:\\users\\kumak\\pyworks\\capitals.py(1)<module>()  \n",
    " -> def process_cities(filename):  \n",
    " (Pdb)`  \n",
    "と対話形式のような形になる  \n",
    "c(continue、継続)のコマンドを入力すると  \n",
    "`(Pdb) c  \n",
    " Buenos Aires,Argentina  \n",
    " La Paz,Bolivia  \n",
    " Brasilia,Brazil  \n",
    " Santiago,Chile  \n",
    " Bogota,Clombia  \n",
    " The program finished and will be restarted`  \n",
    "`> c:\\users\\kumak\\pyworks\\capitals.py(1)<module>()  \n",
    " -> def process_cities(filename):`  \n",
    "とシステムが正常に、もしくはエラーが起こるまで動く  \n",
    "s(step、ステップ)と入力すると  \n",
    "`(Pdb) s`  \n",
    "`> c:\\users\\kumak\\pyworks\\capitals.py(12)<module>()  \n",
    " -> if __name__ == \"__main__\":  \n",
    " (Pdb) s`  \n",
    "`> c:\\users\\kumak\\pyworks\\capitals.py(13)<module>()  \n",
    " -> import sys  \n",
    " (Pdb) s`  \n",
    "`> c:\\users\\kumak\\pyworks\\capitals.py(14)<module>()  \n",
    " -> process_cities(sys.argv[1])  \n",
    " (Pdb) s  \n",
    " --Call--`  \n",
    "`> c:\\users\\kumak\\pyworks\\capitals.py(1)process_cities()  \n",
    " -> def process_cities(filename):  \n",
    " (Pdb) s`  \n",
    "`> c:\\users\\kumak\\pyworks\\capitals.py(2)process_cities()  \n",
    " -> with open(filename, \"r\") as file:`  \n",
    "と呼び出すたびに1行ずつ順番に実行していく  \n",
    "ちなみにn(next)を入力すると関数には入らずに関数のところはスキップする  \n",
    "lを入力すると  \n",
    "`(Pdb) l  \n",
    " 1     def process_cities(filename):  \n",
    " 2  ->     with open(filename, \"r\") as file:  \n",
    " 3             for line in file:  \n",
    " 4                 line = line.strip()  \n",
    " 5                 if \"quit\" in line.lower():  \n",
    " 6                     return  \n",
    " 7                 country, city = line.split(\",\")  \n",
    " 8                 city = city.strip()  \n",
    " 9                 country = country.strip()  \n",
    "10                 print(city.title(), country.title(), sep=\",\")`  \n",
    "プログラムの数行先を見ることができる  \n",
    "矢印は現在の位置を表す  \n",
    "bを入力するとブレークポイントを行に指定することができ、ブレークポイントの行で実行を停止させることができる  \n",
    "6行目にブレークポイントを設定するときは`b 6`と入力する  \n",
    "`(Pdb) b 6  \n",
    "Breakpoint 1 at c:\\users\\kumak\\pyworks\\capitals.py:6`  \n",
    "そして、ブレークポイントまで実行させる  \n",
    "`(Pdb) c  \n",
    "Buenos Aires,Argentina  \n",
    "La Paz,Bolivia  \n",
    "Brasilia,Brazil  \n",
    "Santiago,Chile  \n",
    "Bogota,Clombia`  \n",
    "`> c:\\users\\kumak\\pyworks\\capitals.py(6)process_cities()  \n",
    "-> return`  \n",
    "この第6行で処理が終了しているので、その時のlineの値を調べたい、そのときは`p line`と入力することでその値を調べることができる  \n",
    "`(Pdb) p line  \n",
    "'ecuador,quito'`  \n",
    "quitが入っていることで終了していることがわかる  \n",
    "この時点でまだ仕事が残っている場合はbコマンドのみを入力することですべてのブレークポイントを見ることができる  \n",
    "`(Pdb) b  \n",
    "Num Type         Disp Enb   Where  \n",
    "1   breakpoint   keep yes   at c:\\users\\kumak\\pyworks\\capitals.py:6  \n",
    "        breakpoint already hit 1 time`  \n",
    "lと行数を渡すことでその行からプログラムのコードを見ることができる  \n",
    "`(Pdb) l 1  \n",
    "  1     def process_cities(filename):  \n",
    "  2         with open(filename, \"r\") as file:  \n",
    "  3             for line in file:  \n",
    "  4                 line = line.strip()  \n",
    "  5                 if \"quit\" in line.lower():  \n",
    "  6 B->                 return  \n",
    "  7                 country, city = line.split(\",\")  \n",
    "  8                 city = city.strip()  \n",
    "  9                 country = country.strip()  \n",
    " 10                 print(city.title(), country.title(), sep=\",\")`  \n",
    "矢印が現在位置、Bがブレークポイントを表す  "
   ]
  },
  {
   "cell_type": "code",
   "execution_count": 13,
   "metadata": {},
   "outputs": [
    {
     "name": "stdout",
     "output_type": "stream",
     "text": [
      "C:\\Users\\kumak\\pydata\\cities2.csv\n",
      "Buenos Aires,Argentina\n",
      "La Paz,Bolivia\n",
      "Brasilia,Brazil\n",
      "Santiago,Chile\n",
      "Bogota,Clombia\n",
      "Quito,Ecuador\n",
      "Stanley,Falkland Islands\n",
      "Cayenne,French Guiana\n",
      "Georgetown,Guyana\n",
      "Asuncion,Paraguay\n",
      "Lima,Peru\n",
      "Paramaribo,Suriname\n",
      "Montevideo,Uruguay\n",
      "Caracas,Venezuela\n",
      ",Quit\n"
     ]
    }
   ],
   "source": [
    "# python3 - pyworks\\capitals.py\n",
    "def process_cities(filename):\n",
    "    with open(filename, \"r\") as file:\n",
    "        for line in file:\n",
    "            line = line.strip()\n",
    "            if \"quit\" == line.lower():\n",
    "                return\n",
    "            country, city = line.split(\",\")\n",
    "            city = city.strip()\n",
    "            country = country.strip()\n",
    "            print(city.title(), country.title(), sep=\",\")\n",
    "            \n",
    "process_cities(input())"
   ]
  },
  {
   "cell_type": "markdown",
   "metadata": {},
   "source": [
    "修正するとうまく動作した"
   ]
  },
  {
   "cell_type": "markdown",
   "metadata": {},
   "source": [
    "# 12.9  エラーメッセージのロギング"
   ]
  },
  {
   "cell_type": "markdown",
   "metadata": {},
   "source": [
    "ログとはメッセージを蓄積するシステムファイルのことで、タイムスタンプやプログラムを実行しているユーザーの名前など役に立つ情報が書かれていることが多い  \n",
    "ログは毎日ローテーション(名前変更)され、、圧縮されることが多い  \n",
    "そうすることにより、ログがディスクを埋め尽くして障害の原因にならないようにしている  \n",
    "プロがラムでどこかが問題を起こしたときに、適切なログファイルを見れば何が起きたかがわかる  \n",
    "ロギングのPython標準ライブラリは logging で、次のようなコンセプトから構成されている  \n",
    "- ログに保存したいメッセージ  \n",
    "- ランク付けのための優先順位レベルとそれに対応する関数  \n",
    "- モジュールとの主要な通信経路となるひとつの以上のロガーオブジェクト  \n",
    "- メッセージを端末、ファイル、データベース、その他の場所に送るハンドラ  \n",
    "- 出力を作成するフォーマッタ  \n",
    "- 入力に基づいて判断を下すフィルタ"
   ]
  },
  {
   "cell_type": "code",
   "execution_count": 4,
   "metadata": {},
   "outputs": [
    {
     "name": "stderr",
     "output_type": "stream",
     "text": [
      "WARNING:root:Did I hear thunder?\n",
      "ERROR:root:Was that lightning?\n",
      "CRITICAL:root:Stop fencing and get inside!\n"
     ]
    }
   ],
   "source": [
    "import logging\n",
    "logging.debug(\"Looks like rain\")\n",
    "logging.info(\"And hail\")\n",
    "logging.warning(\"Did I hear thunder?\")\n",
    "logging.error(\"Was that lightning?\")\n",
    "logging.critical(\"Stop fencing and get inside!\")"
   ]
  },
  {
   "cell_type": "markdown",
   "metadata": {},
   "source": [
    "上のloggingモジュールの debug info warning error critical の関数がログを出力する関数で右に行くほどログレベルが上がっていく  \n",
    "デフォルトではwarningから高いレベルのログが出力される  "
   ]
  },
  {
   "cell_type": "code",
   "execution_count": 5,
   "metadata": {},
   "outputs": [],
   "source": [
    "import logging\n",
    "logging.basicConfig(level=logging.DEBUG)\n",
    "logging.debug(\"Looks like rain\")\n",
    "logging.info(\"And hail\")"
   ]
  },
  {
   "cell_type": "markdown",
   "metadata": {},
   "source": [
    "loggingモジュールの basicConfig を使うことでいろいろと設定をできる  \n",
    "上ではキーワード引数の level にlogging.DEBUGを渡すことでdebugレベル以上(全てのレベル)を出力するようにしている  "
   ]
  },
  {
   "cell_type": "code",
   "execution_count": 6,
   "metadata": {},
   "outputs": [],
   "source": [
    "import logging\n",
    "logging.basicConfig(level=logging.DEBUG)\n",
    "logger = logging.getLogger(\"bunyan\")\n",
    "logger.debug(\"Timber\")"
   ]
  },
  {
   "cell_type": "markdown",
   "metadata": {},
   "source": [
    "ログはロガーをオブジェクトを使っても作成することができる  \n",
    "ロガーオブジェクトを使うと名前を付けることができる  \n",
    "ロガーオブジェクトは getLogger 関数に付けたい名前を渡すことでできる  "
   ]
  },
  {
   "cell_type": "code",
   "execution_count": 7,
   "metadata": {},
   "outputs": [
    {
     "name": "stderr",
     "output_type": "stream",
     "text": [
      "WARNING:bunyan:I need my axe\n"
     ]
    }
   ],
   "source": [
    "import logging\n",
    "logging.basicConfig(level=logging.DEBUG, filename=r\".\\pydata\\blue_ox.log\")\n",
    "logger = logging.getLogger(\"bunyan\")\n",
    "logger.debug(\"Where's my axe?\")\n",
    "logger.warning(\"I need my axe\")"
   ]
  },
  {
   "cell_type": "markdown",
   "metadata": {},
   "source": [
    "ハンドラを使うことでメッセージを別の場所に送ることができる  \n",
    "上では、basicConfig 関数にキーワード引数のfilenameにファイル名を渡すことでFileHandlerが作られ、ロガーが使えるようになる  \n",
    "ファイルだけではなく、メールやウェブサーバーなどにもハンドラの種類を使い分けることで送ることができる  "
   ]
  },
  {
   "cell_type": "code",
   "execution_count": 3,
   "metadata": {},
   "outputs": [
    {
     "name": "stderr",
     "output_type": "stream",
     "text": [
      "2020-07-19 00:09:14,332 ERROR 5 Where's my other plaid shirt?\n"
     ]
    }
   ],
   "source": [
    "import logging\n",
    "fmt = \"%(asctime)s %(levelname)s %(lineno)s %(message)s\"\n",
    "logging.basicConfig(level=logging.DEBUG, format=fmt)\n",
    "logger = logging.getLogger(\"bunyan\")\n",
    "logger.error(\"Where's my other plaid shirt?\")"
   ]
  },
  {
   "cell_type": "markdown",
   "metadata": {},
   "source": [
    "ログの書式は好きなように変更することができる  \n",
    "basicConfig関数でキーワード引数のformatに特定の書式を使った文字列を渡すことでできる  \n",
    "文字列の中で特殊な変数を`%(変数名)s`のような形で入れることでいろいろな情報を出力することができ  \n",
    "上の例ではasctime(ISO8601 文字列形式の日時)、levelname、lineno(行番号)、messageを出力している"
   ]
  },
  {
   "cell_type": "markdown",
   "metadata": {},
   "source": [
    "# 12.10  コードの最適化"
   ]
  },
  {
   "cell_type": "markdown",
   "metadata": {},
   "source": [
    "## 12.10.1  実行時間の計測"
   ]
  },
  {
   "cell_type": "code",
   "execution_count": 8,
   "metadata": {},
   "outputs": [],
   "source": [
    "from time import time"
   ]
  },
  {
   "cell_type": "code",
   "execution_count": 9,
   "metadata": {},
   "outputs": [
    {
     "name": "stdout",
     "output_type": "stream",
     "text": [
      "0.0\n"
     ]
    }
   ],
   "source": [
    "t1 = time()\n",
    "num = 5\n",
    "num *= 2\n",
    "print(time() - t1)"
   ]
  },
  {
   "cell_type": "markdown",
   "metadata": {},
   "source": [
    "上のようにすれば実行してから結果を出すまでにかかった時間を計測することができる"
   ]
  },
  {
   "cell_type": "code",
   "execution_count": 10,
   "metadata": {},
   "outputs": [],
   "source": [
    "from timeit import timeit"
   ]
  },
  {
   "cell_type": "code",
   "execution_count": 11,
   "metadata": {},
   "outputs": [
    {
     "name": "stdout",
     "output_type": "stream",
     "text": [
      "1.3999999737279722e-06\n"
     ]
    }
   ],
   "source": [
    "print(timeit(\"num = 5; num *= 2\", number=1))"
   ]
  },
  {
   "cell_type": "markdown",
   "metadata": {},
   "source": [
    "標準ライブラリの timeit モジュールの timeit 関数を使うことで処理にかかった時間を簡単に計算することができる  \n",
    "処理内容は第一引数に文字列をして渡さなければならない  \n",
    "キーワード引数の number に数字を渡すことで実行回数を指定することができる(デフォルトだと100万)  "
   ]
  },
  {
   "cell_type": "code",
   "execution_count": 12,
   "metadata": {},
   "outputs": [],
   "source": [
    "from timeit import repeat"
   ]
  },
  {
   "cell_type": "code",
   "execution_count": 13,
   "metadata": {},
   "outputs": [
    {
     "name": "stdout",
     "output_type": "stream",
     "text": [
      "[4.999999418942025e-07, 1.0000007932831068e-07, 1.999999312829459e-07]\n"
     ]
    }
   ],
   "source": [
    "print(repeat(\"num = 5; num *= 2\", number=1, repeat=3))"
   ]
  },
  {
   "cell_type": "markdown",
   "metadata": {},
   "source": [
    "timeitモジュールの repeat 関数を使うことで、処理の計測を複数回できるようになる  \n",
    "timeit関数と同じように、文字列の処理内容とnumber引数に実行回数を渡し、更にキーワード引数の repeat に計測の回数を渡すことで複数回まとめて計測できる(デフォルトだと5回)"
   ]
  },
  {
   "cell_type": "markdown",
   "metadata": {},
   "source": [
    "## 12.10.2  アルゴリズムとデータ構造"
   ]
  },
  {
   "cell_type": "code",
   "execution_count": 14,
   "metadata": {},
   "outputs": [],
   "source": [
    "def make_list_1():\n",
    "    result=[]\n",
    "    for value in range(1000):\n",
    "        result.append(value)\n",
    "    return result"
   ]
  },
  {
   "cell_type": "code",
   "execution_count": 15,
   "metadata": {},
   "outputs": [],
   "source": [
    "def make_list_2():\n",
    "    result = [value for value in range(1000)]\n",
    "    return result"
   ]
  },
  {
   "cell_type": "markdown",
   "metadata": {},
   "source": [
    "上の二つは同じ結果が得られる関数だが、どちらのほうが良い関数だろうか  \n",
    "良いといっても、高速に動くか、わかりやすいか、メモリ消費が少ないかなどいろいろあるが  \n",
    "今回は処理の速さを比べてみる"
   ]
  },
  {
   "cell_type": "code",
   "execution_count": 16,
   "metadata": {},
   "outputs": [
    {
     "name": "stdout",
     "output_type": "stream",
     "text": [
      "make_list_1 takes 0.06960900000012771\n",
      "make_list_2 takes 0.03129699999999502\n"
     ]
    }
   ],
   "source": [
    "print(\"make_list_1 takes\", timeit(make_list_1, number=1000))\n",
    "print(\"make_list_2 takes\", timeit(make_list_2, number=1000))"
   ]
  },
  {
   "cell_type": "markdown",
   "metadata": {},
   "source": [
    "結果を見るとリスト内包表記を使った方が2倍近く処理が速いことがわかる  \n",
    "関数を計測するときはtimeit関数に文字列ではなく、そのまま関数を渡すことでできる"
   ]
  },
  {
   "cell_type": "markdown",
   "metadata": {},
   "source": [
    "## 12.10.3  Cython、NumPy、Cエクステンション"
   ]
  },
  {
   "cell_type": "markdown",
   "metadata": {},
   "source": [
    "CythonはPythonとCのハイブリットで、Pythonにパフォーマンスに関連するアノテーション(注釈やタグのようなもの)を付けたものをコンパイルされたCコードに変換する  \n",
    "このアノテーションはごく小規模なもので、変数、関数の引数、戻り値の型の宣言などである  \n",
    "このCythonを追加することで処理はかなり高速になる  "
   ]
  },
  {
   "cell_type": "markdown",
   "metadata": {},
   "source": [
    "NumPyは数学ライブラリで、スピードを確保するためにCで書かれている"
   ]
  },
  {
   "cell_type": "markdown",
   "metadata": {},
   "source": [
    "Pythonとその標準ライブラリの多くは、スピードを確保するためにCで書かれている"
   ]
  },
  {
   "cell_type": "markdown",
   "metadata": {},
   "source": [
    "## 12.10.4  PyPy"
   ]
  },
  {
   "cell_type": "markdown",
   "metadata": {},
   "source": [
    "PyPyは新しいPythonインタープリタで、Javaに使われたトリックを応用している  \n",
    "開発者のベンチマークテストによると、CPythonよりも高速に動作する"
   ]
  },
  {
   "cell_type": "markdown",
   "metadata": {},
   "source": [
    "# 12.11  ソース管理"
   ]
  },
  {
   "cell_type": "markdown",
   "metadata": {},
   "source": [
    "数人のデベロッパーのグループで仕事をする場合にソース管理は必須になる"
   ]
  },
  {
   "cell_type": "markdown",
   "metadata": {},
   "source": [
    "## 12.11.1  Mercurial"
   ]
  },
  {
   "cell_type": "markdown",
   "metadata": {},
   "source": [
    "MercurialはPythonで書かれている  \n",
    "習得はかなり簡単で、Mercurialリポジトリからコードのダウンロード、ファイルの追加、変更のチェックイン、異なるソースからの変更のマージのための少数のサブコマンドを覚えればよい"
   ]
  },
  {
   "cell_type": "markdown",
   "metadata": {},
   "source": [
    "## 12.11.2  Git"
   ]
  },
  {
   "cell_type": "markdown",
   "metadata": {},
   "source": [
    "Gitの最大のホストはGitHubで、他にも多くのサイトがある  "
   ]
  },
  {
   "cell_type": "markdown",
   "metadata": {},
   "source": [
    "gitがインストールされているマシンで`git clone https://github.com/madscheme/introducing-python`と入力することで入門Pythonのサンプルコードをダウンロードすることができる  \n",
    "他にもGitHubのWebページで「Download ZIP」をクリックすることでもできる  "
   ]
  },
  {
   "cell_type": "code",
   "execution_count": 17,
   "metadata": {},
   "outputs": [],
   "source": [
    "import os\n",
    "os.mkdir(r\".\\pydata\\git_dir\")"
   ]
  },
  {
   "cell_type": "markdown",
   "metadata": {},
   "source": [
    "コマンドプロンプトで作成したディレクトリに移動し、`$ cd git_dir`  \n",
    "`$ git init`と入力することでローカルGitリポジトリを作ることができる  \n",
    "`Initialized empty Git repository in C:/Users/kumak/git_dir/.git/`  \n",
    "と返ってきて.gitという隠しファイルが作らていることがわかる"
   ]
  },
  {
   "cell_type": "code",
   "execution_count": null,
   "metadata": {},
   "outputs": [],
   "source": [
    "# python3 - pyworks\\test.py\n",
    "print(\"Oops\")"
   ]
  },
  {
   "cell_type": "markdown",
   "metadata": {},
   "source": [
    "作成したディレクトリに上のPythonファイルを追加する  \n",
    "`$ git add test.py`と入力することで  \n",
    "そのファイルをGitリポジトリに追加する  \n",
    "`$ git status`と入力すると、今の状態を教えてくれる  \n",
    "`On branch master`  \n",
    "  \n",
    "`No commits yet`  \n",
    "  \n",
    "`Changes to be committed:  \n",
    "   (use \"git rm --cached <file>...\" to unstage)  \n",
    "         new file:   test.py`  \n",
    "と返ってきてtest.pyはローカルリポジトリの一部にはなっているが、変更がまだコミットされていないことがわかる"
   ]
  },
  {
   "cell_type": "markdown",
   "metadata": {},
   "source": [
    "`$ git commit -m \"my first commit\"`と入力することでコミットできる  \n",
    "`[master (root-commit) 5d36a49] my first commit\n",
    " 1 file changed, 1 insertion(+)\n",
    " create mode 100644 test.py`\n",
    "-m \"メッセージ\" の部分はコミットメッセージで、そのファイルのgit変更履歴の一部になる  \n",
    "`$ git status`と今の状態を聞いてみると  \n",
    "`On branch master  \n",
    " nothing to commit, working tree clean`  \n",
    "とコミットされていないファイルがないことを教えてくれる  \n",
    "つまり、ファイルに変更を加えてもコミットしたときのファイルデータが失われなくなる"
   ]
  },
  {
   "cell_type": "code",
   "execution_count": null,
   "metadata": {},
   "outputs": [],
   "source": [
    "# python3 - pyworks\\test.py\n",
    "print(\"Ops!\")"
   ]
  },
  {
   "cell_type": "markdown",
   "metadata": {},
   "source": [
    "そしてファイルを上のように書き換えて今の状態を聞いてみる  \n",
    "`$ git status`  \n",
    "`On branch master  \n",
    " Changes not staged for commit:  \n",
    "   (use \"git add <file>...\" to update what will be committed)  \n",
    "   (use \"git restore <file>...\" to discard changes in working directory)  \n",
    "         modified:   test.py`  \n",
    "\n",
    "`no changes added to commit (use \"git add\" and/or \"git commit -a\")`  \n",
    "と返ってきて変更されたファイルがあることを教えてくれる"
   ]
  },
  {
   "cell_type": "markdown",
   "metadata": {},
   "source": [
    "`$ git diff`  \n",
    "と入力するとどの行が書き換えられているか教えてくれる  \n",
    "`diff --git a/test.py b/test.py  \n",
    " index 519c2cf..e8ee913 100644  \n",
    " --- a/test.py  \n",
    " +++ b/test.py  \n",
    " @@ -1 +1 @@  \n",
    " -print(\"Oops\")  \n",
    " \\ No newline at end of file  \n",
    " +print(\"Ops!\")  \n",
    " \\ No newline at end of file`  "
   ]
  },
  {
   "cell_type": "markdown",
   "metadata": {},
   "source": [
    "この変更をコミットするとしても、先にステージング(add)をしなければいけないことは変わらない  \n",
    "先にコミットしようとしても`$ git commit -m \"change the print string\"`  \n",
    "`On branch master  \n",
    " Changes not staged for commit:  \n",
    "   (use \"git add <file>...\" to update what will be committed)  \n",
    "   (use \"git restore <file>...\" to discard changes in working directory)  \n",
    "         modified:   test.py`  \n",
    "\n",
    "`no changes added to commit (use \"git add\" and/or \"git commit -a\")`  \n",
    "コミットするために先にステージングしなければいけないことを注意されてしまう"
   ]
  },
  {
   "cell_type": "markdown",
   "metadata": {},
   "source": [
    "`$ git add test.py`と入力してもよいし、すべての変更ファイルをステージングしたければ`$ git add .`と入力することでできる  \n",
    "`$ git commit -m \"my first change\"`  \n",
    "`[master f89282b] change the print string  \n",
    " 1 file changed, 1 insertion(+), 1 deletion(-)`  \n",
    "と変更ファイルをコミットできた  "
   ]
  },
  {
   "cell_type": "markdown",
   "metadata": {},
   "source": [
    "test.pyに今までどのような変更をしてきたかを知るには、`git log test.py`と入力することで  \n",
    "`commit f89282b38b6e4f3d57c6915473f6759c3814cbeb (HEAD -> master)  \n",
    " Author: kumak127 <kumakiyo127@gmail.com>  \n",
    " Date:   Mon Jul 20 00:11:20 2020 +0900`  \n",
    "\n",
    "`    change the print string`  \n",
    "\n",
    "`commit 5d36a4901495c61a00ce32feff2ad8ddeff51c1c  \n",
    " Author: kumak127 <kumakiyo127@gmail.com>  \n",
    " Date:   Sun Jul 19 23:53:00 2020 +0900`  \n",
    "\n",
    "`    my first commit`  \n",
    "と返ってきて変更した人や、変更した時間が返ってくる"
   ]
  },
  {
   "cell_type": "code",
   "execution_count": null,
   "metadata": {},
   "outputs": [],
   "source": []
  }
 ],
 "metadata": {
  "kernelspec": {
   "display_name": "Python 3",
   "language": "python",
   "name": "python3"
  },
  "language_info": {
   "codemirror_mode": {
    "name": "ipython",
    "version": 3
   },
   "file_extension": ".py",
   "mimetype": "text/x-python",
   "name": "python",
   "nbconvert_exporter": "python",
   "pygments_lexer": "ipython3",
   "version": "3.7.6"
  }
 },
 "nbformat": 4,
 "nbformat_minor": 4
}
